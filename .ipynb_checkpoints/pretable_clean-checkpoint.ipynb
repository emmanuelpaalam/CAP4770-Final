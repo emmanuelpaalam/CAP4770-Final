{
 "cells": [
  {
   "cell_type": "markdown",
   "id": "092ba004",
   "metadata": {},
   "source": [
    "# Pre-MySQL Cleaning Notebook\n",
    "### Author: Emmanuel Paalam\n",
    "### Date: 07/16/2025\n",
    "\n",
    "This notebook was created to perform the necessary cleanings on the dimensionally dense dataset from the Educational Longitudinal Study of 2002 (ELS:2002) prior to MySQL table creation and insertion for a CAP4770 group project.\n",
    "\n",
    "The decided use for the data by the group (author, Charles Smith, Everett Williams) was to examine the survey's recorded participant data from the baseline year of the study to its first follow up, thus lasting from 10th grade to 12th grade for participants. At this point, participants should be either graduating or have dropped out of school at some point: our goal is to assess the data collected in this two-year period and characterize dropouts and non-dropouts accordingly."
   ]
  },
  {
   "cell_type": "markdown",
   "id": "12746a63",
   "metadata": {},
   "source": [
    "## Load in CSV data\n",
    "\n",
    "Data downloadable from https://nces.ed.gov/datalab/onlinecodebook/session/codebook/d27ac790-3fdf-452d-ba74-e33e786024da.\n",
    "\n",
    "This notebook assumes that it exists in a directory in which it shares a parent directory with the data, the latter located in a neighboring child folder called *data*. Pathways should be changed as needed for alternate project implementation - all that matters is that the appropiate file is used for cleaning."
   ]
  },
  {
   "cell_type": "code",
   "execution_count": 12,
   "id": "4011cc2e",
   "metadata": {},
   "outputs": [
    {
     "name": "stderr",
     "output_type": "stream",
     "text": [
      "C:\\Users\\epaal\\AppData\\Local\\Temp\\ipykernel_4272\\2311857552.py:2: DtypeWarning: Columns (1222) have mixed types. Specify dtype option on import or set low_memory=False.\n",
      "  df = pd.read_csv('data/els_02_12_byf3pststu_v1_0.csv')\n"
     ]
    },
    {
     "data": {
      "text/plain": [
       "(16197, 4012)"
      ]
     },
     "execution_count": 12,
     "metadata": {},
     "output_type": "execute_result"
    }
   ],
   "source": [
    "import pandas as pd\n",
    "df = pd.read_csv('data/els_02_12_byf3pststu_v1_0.csv')\n",
    "df.shape"
   ]
  },
  {
   "cell_type": "code",
   "execution_count": 9,
   "id": "eed12018",
   "metadata": {},
   "outputs": [
    {
     "data": {
      "application/vnd.microsoft.datawrangler.viewer.v0+json": {
       "columns": [
        {
         "name": "index",
         "rawType": "int64",
         "type": "integer"
        },
        {
         "name": "STU_ID",
         "rawType": "int64",
         "type": "integer"
        },
        {
         "name": "SCH_ID",
         "rawType": "int64",
         "type": "integer"
        },
        {
         "name": "STRAT_ID",
         "rawType": "int64",
         "type": "integer"
        },
        {
         "name": "PSU",
         "rawType": "int64",
         "type": "integer"
        },
        {
         "name": "F1SCH_ID",
         "rawType": "int64",
         "type": "integer"
        },
        {
         "name": "F1UNIV1",
         "rawType": "int64",
         "type": "integer"
        },
        {
         "name": "F1UNIV2A",
         "rawType": "int64",
         "type": "integer"
        },
        {
         "name": "F1UNIV2B",
         "rawType": "int64",
         "type": "integer"
        },
        {
         "name": "F2UNIV1",
         "rawType": "int64",
         "type": "integer"
        },
        {
         "name": "F2UNIV_P",
         "rawType": "int64",
         "type": "integer"
        },
        {
         "name": "F3UNIV",
         "rawType": "int64",
         "type": "integer"
        },
        {
         "name": "F3UNIVG10",
         "rawType": "int64",
         "type": "integer"
        },
        {
         "name": "F3UNIVG12",
         "rawType": "int64",
         "type": "integer"
        },
        {
         "name": "G10COHRT",
         "rawType": "int64",
         "type": "integer"
        },
        {
         "name": "G12COHRT",
         "rawType": "int64",
         "type": "integer"
        },
        {
         "name": "BYSTUWT",
         "rawType": "float64",
         "type": "float"
        },
        {
         "name": "BYEXPWT",
         "rawType": "int64",
         "type": "integer"
        },
        {
         "name": "BYSEX",
         "rawType": "int64",
         "type": "integer"
        },
        {
         "name": "BYRACE_R",
         "rawType": "int64",
         "type": "integer"
        },
        {
         "name": "BYRACE",
         "rawType": "int64",
         "type": "integer"
        },
        {
         "name": "BYRACE2",
         "rawType": "int64",
         "type": "integer"
        },
        {
         "name": "BYSARACE",
         "rawType": "int64",
         "type": "integer"
        },
        {
         "name": "BYRACE_1",
         "rawType": "int64",
         "type": "integer"
        },
        {
         "name": "BYRACE_2",
         "rawType": "int64",
         "type": "integer"
        },
        {
         "name": "BYRACE_3",
         "rawType": "int64",
         "type": "integer"
        },
        {
         "name": "BYRACE_4",
         "rawType": "int64",
         "type": "integer"
        },
        {
         "name": "BYRACE_5",
         "rawType": "int64",
         "type": "integer"
        },
        {
         "name": "BYHISPAN",
         "rawType": "int64",
         "type": "integer"
        },
        {
         "name": "BYASIAN",
         "rawType": "int64",
         "type": "integer"
        },
        {
         "name": "BYSTLANG",
         "rawType": "int64",
         "type": "integer"
        },
        {
         "name": "BYHOMLNG",
         "rawType": "int64",
         "type": "integer"
        },
        {
         "name": "BYSTLNG2",
         "rawType": "int64",
         "type": "integer"
        },
        {
         "name": "BYDOB_R",
         "rawType": "int64",
         "type": "integer"
        },
        {
         "name": "BYDOB_P",
         "rawType": "int64",
         "type": "integer"
        },
        {
         "name": "BYPARACR",
         "rawType": "int64",
         "type": "integer"
        },
        {
         "name": "BYPARACE",
         "rawType": "int64",
         "type": "integer"
        },
        {
         "name": "BYPARLNG",
         "rawType": "int64",
         "type": "integer"
        },
        {
         "name": "BYPLANG",
         "rawType": "int64",
         "type": "integer"
        },
        {
         "name": "BYFCOMP",
         "rawType": "int64",
         "type": "integer"
        },
        {
         "name": "BYSIBSTR",
         "rawType": "int64",
         "type": "integer"
        },
        {
         "name": "BYSIBHOM",
         "rawType": "int64",
         "type": "integer"
        },
        {
         "name": "BYGNSTAT",
         "rawType": "int64",
         "type": "integer"
        },
        {
         "name": "BYPARED",
         "rawType": "int64",
         "type": "integer"
        },
        {
         "name": "BYMOTHED",
         "rawType": "int64",
         "type": "integer"
        },
        {
         "name": "BYFATHED",
         "rawType": "int64",
         "type": "integer"
        },
        {
         "name": "BYGPARED",
         "rawType": "int64",
         "type": "integer"
        },
        {
         "name": "BYOCCUM",
         "rawType": "int64",
         "type": "integer"
        },
        {
         "name": "BYOCCUF",
         "rawType": "int64",
         "type": "integer"
        },
        {
         "name": "BYINCOME",
         "rawType": "int64",
         "type": "integer"
        },
        {
         "name": "BYSES1",
         "rawType": "float64",
         "type": "float"
        },
        {
         "name": "BYSES1QU",
         "rawType": "int64",
         "type": "integer"
        },
        {
         "name": "BYSES2",
         "rawType": "float64",
         "type": "float"
        },
        {
         "name": "BYSES2QU",
         "rawType": "int64",
         "type": "integer"
        },
        {
         "name": "BYGRDRPT",
         "rawType": "int64",
         "type": "integer"
        },
        {
         "name": "BYLGRRPT",
         "rawType": "int64",
         "type": "integer"
        },
        {
         "name": "BYNONUSG",
         "rawType": "int64",
         "type": "integer"
        },
        {
         "name": "BYHOMLIT",
         "rawType": "int64",
         "type": "integer"
        },
        {
         "name": "BYRISKFC",
         "rawType": "int64",
         "type": "integer"
        },
        {
         "name": "BYSTEXP",
         "rawType": "int64",
         "type": "integer"
        },
        {
         "name": "BYPARASP",
         "rawType": "int64",
         "type": "integer"
        },
        {
         "name": "BYOCCHS",
         "rawType": "int64",
         "type": "integer"
        },
        {
         "name": "BYOCC30",
         "rawType": "int64",
         "type": "integer"
        },
        {
         "name": "BYSCHPRG",
         "rawType": "int64",
         "type": "integer"
        },
        {
         "name": "BYSQSTAT",
         "rawType": "int64",
         "type": "integer"
        },
        {
         "name": "BYQXDATR",
         "rawType": "int64",
         "type": "integer"
        },
        {
         "name": "BYQXDATP",
         "rawType": "int64",
         "type": "integer"
        },
        {
         "name": "BYTXSTAT",
         "rawType": "int64",
         "type": "integer"
        },
        {
         "name": "PISAMFLG",
         "rawType": "int64",
         "type": "integer"
        },
        {
         "name": "PISARFLG",
         "rawType": "int64",
         "type": "integer"
        },
        {
         "name": "BYTEQFLG",
         "rawType": "int64",
         "type": "integer"
        },
        {
         "name": "BYPQSTAT",
         "rawType": "int64",
         "type": "integer"
        },
        {
         "name": "BYTXPAFG",
         "rawType": "int64",
         "type": "integer"
        },
        {
         "name": "BYADMFLG",
         "rawType": "int64",
         "type": "integer"
        },
        {
         "name": "BYLMCFLG",
         "rawType": "int64",
         "type": "integer"
        },
        {
         "name": "BYIEPFLG",
         "rawType": "int64",
         "type": "integer"
        },
        {
         "name": "BYIEPTYP",
         "rawType": "int64",
         "type": "integer"
        },
        {
         "name": "BYACCTYP",
         "rawType": "int64",
         "type": "integer"
        },
        {
         "name": "BYTXACC",
         "rawType": "int64",
         "type": "integer"
        },
        {
         "name": "BYTXCSTD",
         "rawType": "float64",
         "type": "float"
        },
        {
         "name": "BYTXCQU",
         "rawType": "int64",
         "type": "integer"
        },
        {
         "name": "BYNELS2M",
         "rawType": "float64",
         "type": "float"
        },
        {
         "name": "BYNELS2R",
         "rawType": "float64",
         "type": "float"
        },
        {
         "name": "BYNELS0M",
         "rawType": "float64",
         "type": "float"
        },
        {
         "name": "BYPISAME",
         "rawType": "float64",
         "type": "float"
        },
        {
         "name": "BYPISARE",
         "rawType": "float64",
         "type": "float"
        },
        {
         "name": "BYTXMIRR",
         "rawType": "float64",
         "type": "float"
        },
        {
         "name": "BYTXMSTD",
         "rawType": "float64",
         "type": "float"
        },
        {
         "name": "BYTXMQU",
         "rawType": "int64",
         "type": "integer"
        },
        {
         "name": "BYTX1MPP",
         "rawType": "float64",
         "type": "float"
        },
        {
         "name": "BYTX2MPP",
         "rawType": "float64",
         "type": "float"
        },
        {
         "name": "BYTX3MPP",
         "rawType": "float64",
         "type": "float"
        },
        {
         "name": "BYTX4MPP",
         "rawType": "float64",
         "type": "float"
        },
        {
         "name": "BYTX5MPP",
         "rawType": "float64",
         "type": "float"
        },
        {
         "name": "BYTXMTH",
         "rawType": "int64",
         "type": "integer"
        },
        {
         "name": "BYTXMTI1",
         "rawType": "int64",
         "type": "integer"
        },
        {
         "name": "BYTXMTI2",
         "rawType": "int64",
         "type": "integer"
        },
        {
         "name": "BYTXMTI3",
         "rawType": "int64",
         "type": "integer"
        },
        {
         "name": "BYTXMTI4",
         "rawType": "int64",
         "type": "integer"
        },
        {
         "name": "BYTXMTI5",
         "rawType": "int64",
         "type": "integer"
        },
        {
         "name": "BYTXMTHN",
         "rawType": "int64",
         "type": "integer"
        },
        {
         "name": "BYTXRIRR",
         "rawType": "float64",
         "type": "float"
        },
        {
         "name": "BYTXRSTD",
         "rawType": "float64",
         "type": "float"
        },
        {
         "name": "BYTXRQU",
         "rawType": "int64",
         "type": "integer"
        },
        {
         "name": "BYTX1RPP",
         "rawType": "float64",
         "type": "float"
        },
        {
         "name": "BYTX2RPP",
         "rawType": "float64",
         "type": "float"
        },
        {
         "name": "BYTX3RPP",
         "rawType": "float64",
         "type": "float"
        },
        {
         "name": "BYMATHSE",
         "rawType": "float64",
         "type": "float"
        },
        {
         "name": "BYENGLSE",
         "rawType": "float64",
         "type": "float"
        },
        {
         "name": "BYCONEXP",
         "rawType": "float64",
         "type": "float"
        },
        {
         "name": "BYINSTMO",
         "rawType": "float64",
         "type": "float"
        },
        {
         "name": "BYACTCTL",
         "rawType": "float64",
         "type": "float"
        },
        {
         "name": "BYSTPREP",
         "rawType": "float64",
         "type": "float"
        },
        {
         "name": "BYWRTNGA",
         "rawType": "float64",
         "type": "float"
        },
        {
         "name": "BYTXRTH",
         "rawType": "int64",
         "type": "integer"
        },
        {
         "name": "BYTXRTI1",
         "rawType": "int64",
         "type": "integer"
        },
        {
         "name": "BYTXRTI2",
         "rawType": "int64",
         "type": "integer"
        },
        {
         "name": "BYTXRTI3",
         "rawType": "int64",
         "type": "integer"
        },
        {
         "name": "BYTXRTI4",
         "rawType": "int64",
         "type": "integer"
        },
        {
         "name": "BYTXRTI5",
         "rawType": "int64",
         "type": "integer"
        },
        {
         "name": "BYRESZIP",
         "rawType": "int64",
         "type": "integer"
        },
        {
         "name": "BYSF1R_R",
         "rawType": "int64",
         "type": "integer"
        },
        {
         "name": "BYSF1RCE",
         "rawType": "int64",
         "type": "integer"
        },
        {
         "name": "BYSF2R_R",
         "rawType": "int64",
         "type": "integer"
        },
        {
         "name": "BYSF2RCE",
         "rawType": "int64",
         "type": "integer"
        },
        {
         "name": "BYSF3R_R",
         "rawType": "int64",
         "type": "integer"
        },
        {
         "name": "BYSF3RCE",
         "rawType": "int64",
         "type": "integer"
        },
        {
         "name": "BYFRRACE",
         "rawType": "int64",
         "type": "integer"
        },
        {
         "name": "BYFRGRIM",
         "rawType": "int64",
         "type": "integer"
        },
        {
         "name": "BYBASEBL",
         "rawType": "int64",
         "type": "integer"
        },
        {
         "name": "BYSOFTBL",
         "rawType": "int64",
         "type": "integer"
        },
        {
         "name": "BYBSKTBL",
         "rawType": "int64",
         "type": "integer"
        },
        {
         "name": "BYFOOTBL",
         "rawType": "int64",
         "type": "integer"
        },
        {
         "name": "BYSOCCER",
         "rawType": "int64",
         "type": "integer"
        },
        {
         "name": "BYTEAMSP",
         "rawType": "int64",
         "type": "integer"
        },
        {
         "name": "BYSOLOSP",
         "rawType": "int64",
         "type": "integer"
        },
        {
         "name": "BYCHRDRL",
         "rawType": "int64",
         "type": "integer"
        },
        {
         "name": "BYHISPOR",
         "rawType": "int64",
         "type": "integer"
        },
        {
         "name": "BYNSPORT",
         "rawType": "int64",
         "type": "integer"
        },
        {
         "name": "BYXTRACU",
         "rawType": "int64",
         "type": "integer"
        },
        {
         "name": "BYHMWRK",
         "rawType": "int64",
         "type": "integer"
        },
        {
         "name": "BYTVVIGM",
         "rawType": "int64",
         "type": "integer"
        },
        {
         "name": "BYWORKSY",
         "rawType": "int64",
         "type": "integer"
        },
        {
         "name": "BYWRKHRS",
         "rawType": "int64",
         "type": "integer"
        },
        {
         "name": "BYERAC_R",
         "rawType": "int64",
         "type": "integer"
        },
        {
         "name": "BYERACE",
         "rawType": "int64",
         "type": "integer"
        },
        {
         "name": "BYTEHDEG",
         "rawType": "int64",
         "type": "integer"
        },
        {
         "name": "BYMRAC_R",
         "rawType": "int64",
         "type": "integer"
        },
        {
         "name": "BYMRACE",
         "rawType": "int64",
         "type": "integer"
        },
        {
         "name": "BYTMHDEG",
         "rawType": "int64",
         "type": "integer"
        },
        {
         "name": "BYTEAQUA",
         "rawType": "float64",
         "type": "float"
        },
        {
         "name": "BYTSTREL",
         "rawType": "float64",
         "type": "float"
        },
        {
         "name": "BYG10ER",
         "rawType": "int64",
         "type": "integer"
        },
        {
         "name": "BYG10EP",
         "rawType": "int64",
         "type": "integer"
        },
        {
         "name": "BYSCENP",
         "rawType": "int64",
         "type": "integer"
        },
        {
         "name": "BYSCTRL",
         "rawType": "int64",
         "type": "integer"
        },
        {
         "name": "BYURBAN",
         "rawType": "int64",
         "type": "integer"
        },
        {
         "name": "BYREGION",
         "rawType": "int64",
         "type": "integer"
        },
        {
         "name": "BYREGURB",
         "rawType": "int64",
         "type": "integer"
        },
        {
         "name": "BYREGCTL",
         "rawType": "int64",
         "type": "integer"
        },
        {
         "name": "BYSPANP",
         "rawType": "int64",
         "type": "integer"
        },
        {
         "name": "BY10FLP",
         "rawType": "int64",
         "type": "integer"
        },
        {
         "name": "BYSCSAF1",
         "rawType": "float64",
         "type": "float"
        },
        {
         "name": "BYSCSAF2",
         "rawType": "float64",
         "type": "float"
        },
        {
         "name": "BYACCLIM",
         "rawType": "float64",
         "type": "float"
        },
        {
         "name": "BYCENDIV",
         "rawType": "int64",
         "type": "integer"
        },
        {
         "name": "BYSTATE",
         "rawType": "int64",
         "type": "integer"
        },
        {
         "name": "BYCOUNTY",
         "rawType": "int64",
         "type": "integer"
        },
        {
         "name": "BYSCHZIP",
         "rawType": "int64",
         "type": "integer"
        },
        {
         "name": "BYSEXIM",
         "rawType": "int64",
         "type": "integer"
        },
        {
         "name": "BYHISPIM",
         "rawType": "int64",
         "type": "integer"
        },
        {
         "name": "BYASNIM",
         "rawType": "int64",
         "type": "integer"
        },
        {
         "name": "BYSTLNIM",
         "rawType": "int64",
         "type": "integer"
        },
        {
         "name": "BYFCMPIM",
         "rawType": "int64",
         "type": "integer"
        },
        {
         "name": "BYMOEDIM",
         "rawType": "int64",
         "type": "integer"
        },
        {
         "name": "BYFAEDIM",
         "rawType": "int64",
         "type": "integer"
        },
        {
         "name": "BYOCCMIM",
         "rawType": "int64",
         "type": "integer"
        },
        {
         "name": "BYOCCFIM",
         "rawType": "int64",
         "type": "integer"
        },
        {
         "name": "BYINCMIM",
         "rawType": "int64",
         "type": "integer"
        },
        {
         "name": "BYSTEXIM",
         "rawType": "int64",
         "type": "integer"
        },
        {
         "name": "BYPASPIM",
         "rawType": "int64",
         "type": "integer"
        },
        {
         "name": "BYSCHPIM",
         "rawType": "int64",
         "type": "integer"
        },
        {
         "name": "BYTESTIM",
         "rawType": "int64",
         "type": "integer"
        },
        {
         "name": "BYMATHIM",
         "rawType": "int64",
         "type": "integer"
        },
        {
         "name": "BYREADIM",
         "rawType": "int64",
         "type": "integer"
        },
        {
         "name": "F1QWT",
         "rawType": "float64",
         "type": "float"
        },
        {
         "name": "F1PNLWT",
         "rawType": "float64",
         "type": "float"
        },
        {
         "name": "F1EXPWT",
         "rawType": "int64",
         "type": "integer"
        },
        {
         "name": "F1XPNLWT",
         "rawType": "int64",
         "type": "integer"
        },
        {
         "name": "F1SEX",
         "rawType": "int64",
         "type": "integer"
        },
        {
         "name": "F1RACE_R",
         "rawType": "int64",
         "type": "integer"
        },
        {
         "name": "F1RACE",
         "rawType": "int64",
         "type": "integer"
        },
        {
         "name": "F1RACE2",
         "rawType": "int64",
         "type": "integer"
        },
        {
         "name": "F1SARACE",
         "rawType": "int64",
         "type": "integer"
        },
        {
         "name": "F1RACE_1",
         "rawType": "int64",
         "type": "integer"
        },
        {
         "name": "F1RACE_2",
         "rawType": "int64",
         "type": "integer"
        },
        {
         "name": "F1RACE_3",
         "rawType": "int64",
         "type": "integer"
        },
        {
         "name": "F1RACE_4",
         "rawType": "int64",
         "type": "integer"
        },
        {
         "name": "F1RACE_5",
         "rawType": "int64",
         "type": "integer"
        },
        {
         "name": "F1HISPAN",
         "rawType": "int64",
         "type": "integer"
        },
        {
         "name": "F1ASIAN",
         "rawType": "int64",
         "type": "integer"
        },
        {
         "name": "F1STLANG",
         "rawType": "int64",
         "type": "integer"
        },
        {
         "name": "F1HOMLNG",
         "rawType": "int64",
         "type": "integer"
        },
        {
         "name": "F1DOB_R",
         "rawType": "int64",
         "type": "integer"
        },
        {
         "name": "F1DOB_P",
         "rawType": "int64",
         "type": "integer"
        },
        {
         "name": "F1FCOMP",
         "rawType": "int64",
         "type": "integer"
        },
        {
         "name": "F1PARED",
         "rawType": "int64",
         "type": "integer"
        },
        {
         "name": "F1MOTHED",
         "rawType": "int64",
         "type": "integer"
        },
        {
         "name": "F1FATHED",
         "rawType": "int64",
         "type": "integer"
        },
        {
         "name": "F1OCCUM",
         "rawType": "int64",
         "type": "integer"
        },
        {
         "name": "F1OCCUF",
         "rawType": "int64",
         "type": "integer"
        },
        {
         "name": "F1SES1R",
         "rawType": "int64",
         "type": "integer"
        },
        {
         "name": "F1SES1QR",
         "rawType": "int64",
         "type": "integer"
        },
        {
         "name": "F1SES1",
         "rawType": "float64",
         "type": "float"
        },
        {
         "name": "F1SES1QU",
         "rawType": "int64",
         "type": "integer"
        },
        {
         "name": "F1SES2R",
         "rawType": "int64",
         "type": "integer"
        },
        {
         "name": "F1SES2QR",
         "rawType": "int64",
         "type": "integer"
        },
        {
         "name": "F1SES2",
         "rawType": "float64",
         "type": "float"
        },
        {
         "name": "F1SES2QU",
         "rawType": "int64",
         "type": "integer"
        },
        {
         "name": "F1STEXP",
         "rawType": "int64",
         "type": "integer"
        },
        {
         "name": "F1BYEDEX",
         "rawType": "int64",
         "type": "integer"
        },
        {
         "name": "F1OCCHS",
         "rawType": "int64",
         "type": "integer"
        },
        {
         "name": "F1OCC30",
         "rawType": "int64",
         "type": "integer"
        },
        {
         "name": "F1NRSTAT",
         "rawType": "int64",
         "type": "integer"
        },
        {
         "name": "F1QSTAT",
         "rawType": "int64",
         "type": "integer"
        },
        {
         "name": "F1TSTAT",
         "rawType": "int64",
         "type": "integer"
        },
        {
         "name": "F1PNLFLG",
         "rawType": "int64",
         "type": "integer"
        },
        {
         "name": "F1BYTFLG",
         "rawType": "int64",
         "type": "integer"
        },
        {
         "name": "F1QMODE",
         "rawType": "int64",
         "type": "integer"
        },
        {
         "name": "F1STQFLG",
         "rawType": "int64",
         "type": "integer"
        },
        {
         "name": "F1TRQFLG",
         "rawType": "int64",
         "type": "integer"
        },
        {
         "name": "F1HOQFLG",
         "rawType": "int64",
         "type": "integer"
        },
        {
         "name": "F1EGQFLG",
         "rawType": "int64",
         "type": "integer"
        },
        {
         "name": "F1DOQFLG",
         "rawType": "int64",
         "type": "integer"
        },
        {
         "name": "F1EVERDO",
         "rawType": "int64",
         "type": "integer"
        },
        {
         "name": "F1DOSTAT",
         "rawType": "int64",
         "type": "integer"
        },
        {
         "name": "F1ESSTAT",
         "rawType": "int64",
         "type": "integer"
        },
        {
         "name": "F1ACCTYP",
         "rawType": "int64",
         "type": "integer"
        },
        {
         "name": "F1TXACC",
         "rawType": "int64",
         "type": "integer"
        },
        {
         "name": "F1CTLPTN",
         "rawType": "int64",
         "type": "integer"
        },
        {
         "name": "F1ENRS03",
         "rawType": "int64",
         "type": "integer"
        },
        {
         "name": "F1ENRF03",
         "rawType": "int64",
         "type": "integer"
        },
        {
         "name": "F1ENRS04",
         "rawType": "int64",
         "type": "integer"
        },
        {
         "name": "F1SEPS03",
         "rawType": "int64",
         "type": "integer"
        },
        {
         "name": "F1SEPF03",
         "rawType": "int64",
         "type": "integer"
        },
        {
         "name": "F1SEPS04",
         "rawType": "int64",
         "type": "integer"
        },
        {
         "name": "F1ENRFIN",
         "rawType": "int64",
         "type": "integer"
        },
        {
         "name": "F1GRADE",
         "rawType": "int64",
         "type": "integer"
        },
        {
         "name": "F1TXMBIR",
         "rawType": "float64",
         "type": "float"
        },
        {
         "name": "F1TXM1IR",
         "rawType": "float64",
         "type": "float"
        },
        {
         "name": "F1TXMSTD",
         "rawType": "float64",
         "type": "float"
        },
        {
         "name": "F1TXMTH",
         "rawType": "int64",
         "type": "integer"
        },
        {
         "name": "F1TXMTI1",
         "rawType": "int64",
         "type": "integer"
        },
        {
         "name": "F1TXMTI2",
         "rawType": "int64",
         "type": "integer"
        },
        {
         "name": "F1TXMTI3",
         "rawType": "int64",
         "type": "integer"
        },
        {
         "name": "F1TXMTI4",
         "rawType": "int64",
         "type": "integer"
        },
        {
         "name": "F1TXMTI5",
         "rawType": "int64",
         "type": "integer"
        },
        {
         "name": "F1TXMQU",
         "rawType": "int64",
         "type": "integer"
        },
        {
         "name": "F1NELS2M",
         "rawType": "float64",
         "type": "float"
        },
        {
         "name": "F1TX1MPP",
         "rawType": "float64",
         "type": "float"
        },
        {
         "name": "F1TX2MPP",
         "rawType": "float64",
         "type": "float"
        },
        {
         "name": "F1TX3MPP",
         "rawType": "float64",
         "type": "float"
        },
        {
         "name": "F1TX4MPP",
         "rawType": "float64",
         "type": "float"
        },
        {
         "name": "F1TX5MPP",
         "rawType": "float64",
         "type": "float"
        },
        {
         "name": "F1BYMTGN",
         "rawType": "float64",
         "type": "float"
        },
        {
         "name": "F1TXNAEP",
         "rawType": "int64",
         "type": "integer"
        },
        {
         "name": "F1RESZIP",
         "rawType": "int64",
         "type": "integer"
        },
        {
         "name": "F1QXDATP",
         "rawType": "int64",
         "type": "integer"
        },
        {
         "name": "F1QXDATR",
         "rawType": "int64",
         "type": "integer"
        },
        {
         "name": "F1HIMATH",
         "rawType": "int64",
         "type": "integer"
        },
        {
         "name": "F1PSEPLN",
         "rawType": "int64",
         "type": "integer"
        },
        {
         "name": "F1XTRACU",
         "rawType": "int64",
         "type": "integer"
        },
        {
         "name": "F1WRKHRS",
         "rawType": "int64",
         "type": "integer"
        },
        {
         "name": "F1TVVIGM",
         "rawType": "int64",
         "type": "integer"
        },
        {
         "name": "F1COMPHR",
         "rawType": "int64",
         "type": "integer"
        },
        {
         "name": "F1COLINF",
         "rawType": "int64",
         "type": "integer"
        },
        {
         "name": "F1MATHSE",
         "rawType": "float64",
         "type": "float"
        },
        {
         "name": "F1SEXIM",
         "rawType": "int64",
         "type": "integer"
        },
        {
         "name": "F1RACEIM",
         "rawType": "int64",
         "type": "integer"
        },
        {
         "name": "F1HISPIM",
         "rawType": "int64",
         "type": "integer"
        },
        {
         "name": "F1ASNIM",
         "rawType": "int64",
         "type": "integer"
        },
        {
         "name": "F1STLNIM",
         "rawType": "int64",
         "type": "integer"
        },
        {
         "name": "F1FCMPIM",
         "rawType": "int64",
         "type": "integer"
        },
        {
         "name": "F1MOEDIM",
         "rawType": "int64",
         "type": "integer"
        },
        {
         "name": "F1FAEDIM",
         "rawType": "int64",
         "type": "integer"
        },
        {
         "name": "F1OCCMIM",
         "rawType": "int64",
         "type": "integer"
        },
        {
         "name": "F1OCCFIM",
         "rawType": "int64",
         "type": "integer"
        },
        {
         "name": "F1STEXIM",
         "rawType": "int64",
         "type": "integer"
        },
        {
         "name": "F1TESTIM",
         "rawType": "int64",
         "type": "integer"
        },
        {
         "name": "F1ENRLIM",
         "rawType": "int64",
         "type": "integer"
        },
        {
         "name": "F1GRADIM",
         "rawType": "int64",
         "type": "integer"
        },
        {
         "name": "F1RTRFLG",
         "rawType": "int64",
         "type": "integer"
        },
        {
         "name": "F1TRSCWT",
         "rawType": "float64",
         "type": "float"
        },
        {
         "name": "F1RHTUNP",
         "rawType": "int64",
         "type": "integer"
        },
        {
         "name": "F1RTR09",
         "rawType": "int64",
         "type": "integer"
        },
        {
         "name": "F1RTR10",
         "rawType": "int64",
         "type": "integer"
        },
        {
         "name": "F1RTR11",
         "rawType": "int64",
         "type": "integer"
        },
        {
         "name": "F1RTR12",
         "rawType": "int64",
         "type": "integer"
        },
        {
         "name": "F1RTROUT",
         "rawType": "int64",
         "type": "integer"
        },
        {
         "name": "F1RSCH1",
         "rawType": "int64",
         "type": "integer"
        },
        {
         "name": "F1RTRFL1",
         "rawType": "int64",
         "type": "integer"
        },
        {
         "name": "F1RS1CTR",
         "rawType": "int64",
         "type": "integer"
        },
        {
         "name": "F1RS1URB",
         "rawType": "int64",
         "type": "integer"
        },
        {
         "name": "F1RS1REG",
         "rawType": "int64",
         "type": "integer"
        },
        {
         "name": "F1RS1STA",
         "rawType": "int64",
         "type": "integer"
        },
        {
         "name": "F1RS1CLI",
         "rawType": "int64",
         "type": "integer"
        },
        {
         "name": "F1RSCH2",
         "rawType": "int64",
         "type": "integer"
        },
        {
         "name": "F1RTRFL2",
         "rawType": "int64",
         "type": "integer"
        },
        {
         "name": "F1RS2CTR",
         "rawType": "int64",
         "type": "integer"
        },
        {
         "name": "F1RS2URB",
         "rawType": "int64",
         "type": "integer"
        },
        {
         "name": "F1RS2REG",
         "rawType": "int64",
         "type": "integer"
        },
        {
         "name": "F1RS2STA",
         "rawType": "int64",
         "type": "integer"
        },
        {
         "name": "F1RS2CLI",
         "rawType": "int64",
         "type": "integer"
        },
        {
         "name": "F1RSCHL",
         "rawType": "int64",
         "type": "integer"
        },
        {
         "name": "F1RTRFLL",
         "rawType": "int64",
         "type": "integer"
        },
        {
         "name": "F1RSLCTR",
         "rawType": "int64",
         "type": "integer"
        },
        {
         "name": "F1RSLURB",
         "rawType": "int64",
         "type": "integer"
        },
        {
         "name": "F1RSLREG",
         "rawType": "int64",
         "type": "integer"
        },
        {
         "name": "F1RSLSTA",
         "rawType": "int64",
         "type": "integer"
        },
        {
         "name": "F1RSLCLI",
         "rawType": "int64",
         "type": "integer"
        },
        {
         "name": "F1RSPFLG",
         "rawType": "int64",
         "type": "integer"
        },
        {
         "name": "F1RDTLFT",
         "rawType": "int64",
         "type": "integer"
        },
        {
         "name": "F1RREASL",
         "rawType": "int64",
         "type": "integer"
        },
        {
         "name": "F1RGPA",
         "rawType": "int64",
         "type": "integer"
        },
        {
         "name": "F1RPSATM",
         "rawType": "int64",
         "type": "integer"
        },
        {
         "name": "F1RPSATV",
         "rawType": "int64",
         "type": "integer"
        },
        {
         "name": "F1RPSATW",
         "rawType": "int64",
         "type": "integer"
        },
        {
         "name": "F1RPSAMM",
         "rawType": "int64",
         "type": "integer"
        },
        {
         "name": "F1RPSAVM",
         "rawType": "int64",
         "type": "integer"
        },
        {
         "name": "F1RPSAWM",
         "rawType": "int64",
         "type": "integer"
        },
        {
         "name": "F1RPSATD",
         "rawType": "int64",
         "type": "integer"
        },
        {
         "name": "F1RHTUN",
         "rawType": "int64",
         "type": "integer"
        },
        {
         "name": "F1RHEN_C",
         "rawType": "int64",
         "type": "integer"
        },
        {
         "name": "F1RHMA_C",
         "rawType": "int64",
         "type": "integer"
        },
        {
         "name": "F1RHSC_C",
         "rawType": "int64",
         "type": "integer"
        },
        {
         "name": "F1RHSO_C",
         "rawType": "int64",
         "type": "integer"
        },
        {
         "name": "F1RHCO_C",
         "rawType": "int64",
         "type": "integer"
        },
        {
         "name": "F1RHFO_C",
         "rawType": "int64",
         "type": "integer"
        },
        {
         "name": "F1R01_C",
         "rawType": "int64",
         "type": "integer"
        },
        {
         "name": "F1R02_C",
         "rawType": "int64",
         "type": "integer"
        },
        {
         "name": "F1R03_C",
         "rawType": "int64",
         "type": "integer"
        },
        {
         "name": "F1R04_C",
         "rawType": "int64",
         "type": "integer"
        },
        {
         "name": "F1R05_C",
         "rawType": "int64",
         "type": "integer"
        },
        {
         "name": "F1R06_C",
         "rawType": "int64",
         "type": "integer"
        },
        {
         "name": "F1R07_C",
         "rawType": "int64",
         "type": "integer"
        },
        {
         "name": "F1R08_C",
         "rawType": "int64",
         "type": "integer"
        },
        {
         "name": "F1R09_C",
         "rawType": "int64",
         "type": "integer"
        },
        {
         "name": "F1R10_C",
         "rawType": "int64",
         "type": "integer"
        },
        {
         "name": "F1R11_C",
         "rawType": "int64",
         "type": "integer"
        },
        {
         "name": "F1R12_C",
         "rawType": "int64",
         "type": "integer"
        },
        {
         "name": "F1R13_C",
         "rawType": "int64",
         "type": "integer"
        },
        {
         "name": "F1R14_C",
         "rawType": "int64",
         "type": "integer"
        },
        {
         "name": "F1R15_C",
         "rawType": "int64",
         "type": "integer"
        },
        {
         "name": "F1R16_C",
         "rawType": "int64",
         "type": "integer"
        },
        {
         "name": "F1R17_C",
         "rawType": "int64",
         "type": "integer"
        },
        {
         "name": "F1R18_C",
         "rawType": "int64",
         "type": "integer"
        },
        {
         "name": "F1R19_C",
         "rawType": "int64",
         "type": "integer"
        },
        {
         "name": "F1R20_C",
         "rawType": "int64",
         "type": "integer"
        },
        {
         "name": "F1R21_C",
         "rawType": "int64",
         "type": "integer"
        },
        {
         "name": "F1R22_C",
         "rawType": "int64",
         "type": "integer"
        },
        {
         "name": "F1R23_C",
         "rawType": "int64",
         "type": "integer"
        },
        {
         "name": "F1R24_C",
         "rawType": "int64",
         "type": "integer"
        },
        {
         "name": "F1R25_C",
         "rawType": "int64",
         "type": "integer"
        },
        {
         "name": "F1R26_C",
         "rawType": "int64",
         "type": "integer"
        },
        {
         "name": "F1R27_C",
         "rawType": "int64",
         "type": "integer"
        },
        {
         "name": "F1R28_C",
         "rawType": "int64",
         "type": "integer"
        },
        {
         "name": "F1R29_C",
         "rawType": "int64",
         "type": "integer"
        },
        {
         "name": "F1R30_C",
         "rawType": "int64",
         "type": "integer"
        },
        {
         "name": "F1R31_C",
         "rawType": "int64",
         "type": "integer"
        },
        {
         "name": "F1R32_C",
         "rawType": "int64",
         "type": "integer"
        },
        {
         "name": "F1R33_C",
         "rawType": "int64",
         "type": "integer"
        },
        {
         "name": "F1R34_C",
         "rawType": "int64",
         "type": "integer"
        },
        {
         "name": "F1R35_C",
         "rawType": "int64",
         "type": "integer"
        },
        {
         "name": "F1R36_C",
         "rawType": "int64",
         "type": "integer"
        },
        {
         "name": "F1R37_C",
         "rawType": "int64",
         "type": "integer"
        },
        {
         "name": "F1R38_C",
         "rawType": "int64",
         "type": "integer"
        },
        {
         "name": "F1R39_C",
         "rawType": "int64",
         "type": "integer"
        },
        {
         "name": "F1R40_C",
         "rawType": "int64",
         "type": "integer"
        },
        {
         "name": "F1R41_C",
         "rawType": "int64",
         "type": "integer"
        },
        {
         "name": "F1R42_C",
         "rawType": "int64",
         "type": "integer"
        },
        {
         "name": "F1R43_C",
         "rawType": "int64",
         "type": "integer"
        },
        {
         "name": "F1R44_C",
         "rawType": "int64",
         "type": "integer"
        },
        {
         "name": "F1R45_C",
         "rawType": "int64",
         "type": "integer"
        },
        {
         "name": "F1R46_C",
         "rawType": "int64",
         "type": "integer"
        },
        {
         "name": "F1R47_C",
         "rawType": "int64",
         "type": "integer"
        },
        {
         "name": "F1R48_C",
         "rawType": "int64",
         "type": "integer"
        },
        {
         "name": "F1R49_C",
         "rawType": "int64",
         "type": "integer"
        },
        {
         "name": "F1R50_C",
         "rawType": "int64",
         "type": "integer"
        },
        {
         "name": "F1R51_C",
         "rawType": "int64",
         "type": "integer"
        },
        {
         "name": "F1R54_C",
         "rawType": "int64",
         "type": "integer"
        },
        {
         "name": "F1R55_C",
         "rawType": "int64",
         "type": "integer"
        },
        {
         "name": "F1R56_C",
         "rawType": "int64",
         "type": "integer"
        },
        {
         "name": "F1RHTAC",
         "rawType": "int64",
         "type": "integer"
        },
        {
         "name": "F1RHTACP",
         "rawType": "int64",
         "type": "integer"
        },
        {
         "name": "F1RMAT_C",
         "rawType": "int64",
         "type": "integer"
        },
        {
         "name": "F1RMAT_P",
         "rawType": "int64",
         "type": "integer"
        },
        {
         "name": "F1RSCI_C",
         "rawType": "int64",
         "type": "integer"
        },
        {
         "name": "F1RSCI_P",
         "rawType": "int64",
         "type": "integer"
        },
        {
         "name": "F1RENG_C",
         "rawType": "int64",
         "type": "integer"
        },
        {
         "name": "F1RENG_P",
         "rawType": "int64",
         "type": "integer"
        },
        {
         "name": "F1RSOC_C",
         "rawType": "int64",
         "type": "integer"
        },
        {
         "name": "F1RSOC_P",
         "rawType": "int64",
         "type": "integer"
        },
        {
         "name": "F1RFIN_C",
         "rawType": "int64",
         "type": "integer"
        },
        {
         "name": "F1RFIN_P",
         "rawType": "int64",
         "type": "integer"
        },
        {
         "name": "F1RNON_C",
         "rawType": "int64",
         "type": "integer"
        },
        {
         "name": "F1RNON_P",
         "rawType": "int64",
         "type": "integer"
        },
        {
         "name": "F1RHTVO",
         "rawType": "int64",
         "type": "integer"
        },
        {
         "name": "F1RHTVOP",
         "rawType": "int64",
         "type": "integer"
        },
        {
         "name": "F1RFAM_C",
         "rawType": "int64",
         "type": "integer"
        },
        {
         "name": "F1RFAM_P",
         "rawType": "int64",
         "type": "integer"
        },
        {
         "name": "F1RGLA_C",
         "rawType": "int64",
         "type": "integer"
        },
        {
         "name": "F1RGLA_P",
         "rawType": "int64",
         "type": "integer"
        },
        {
         "name": "F1RSLA_C",
         "rawType": "int64",
         "type": "integer"
        },
        {
         "name": "F1RSLA_P",
         "rawType": "int64",
         "type": "integer"
        },
        {
         "name": "F1RHTEN",
         "rawType": "int64",
         "type": "integer"
        },
        {
         "name": "F1RHTENP",
         "rawType": "int64",
         "type": "integer"
        },
        {
         "name": "F1RGEN_C",
         "rawType": "int64",
         "type": "integer"
        },
        {
         "name": "F1RGEN_P",
         "rawType": "int64",
         "type": "integer"
        },
        {
         "name": "F1RHEA_C",
         "rawType": "int64",
         "type": "integer"
        },
        {
         "name": "F1RHEA_P",
         "rawType": "int64",
         "type": "integer"
        },
        {
         "name": "F1RREL_C",
         "rawType": "int64",
         "type": "integer"
        },
        {
         "name": "F1RREL_P",
         "rawType": "int64",
         "type": "integer"
        },
        {
         "name": "F1RMIL_C",
         "rawType": "int64",
         "type": "integer"
        },
        {
         "name": "F1RHTCO",
         "rawType": "int64",
         "type": "integer"
        },
        {
         "name": "F1RHTCOP",
         "rawType": "int64",
         "type": "integer"
        },
        {
         "name": "F1RHTNC",
         "rawType": "int64",
         "type": "integer"
        },
        {
         "name": "F1RHTNCP",
         "rawType": "int64",
         "type": "integer"
        },
        {
         "name": "F1RAPCA",
         "rawType": "int64",
         "type": "integer"
        },
        {
         "name": "F1RAPCAP",
         "rawType": "int64",
         "type": "integer"
        },
        {
         "name": "F1RAPMA",
         "rawType": "int64",
         "type": "integer"
        },
        {
         "name": "F1RAPMAP",
         "rawType": "int64",
         "type": "integer"
        },
        {
         "name": "F1RAPFA",
         "rawType": "int64",
         "type": "integer"
        },
        {
         "name": "F1RAPFAP",
         "rawType": "int64",
         "type": "integer"
        },
        {
         "name": "F1RAPSC",
         "rawType": "int64",
         "type": "integer"
        },
        {
         "name": "F1RAPSCP",
         "rawType": "int64",
         "type": "integer"
        },
        {
         "name": "F1RAPEN",
         "rawType": "int64",
         "type": "integer"
        },
        {
         "name": "F1RAPENP",
         "rawType": "int64",
         "type": "integer"
        },
        {
         "name": "F1RAPSO",
         "rawType": "int64",
         "type": "integer"
        },
        {
         "name": "F1RAPSOP",
         "rawType": "int64",
         "type": "integer"
        },
        {
         "name": "F1RAPCS",
         "rawType": "int64",
         "type": "integer"
        },
        {
         "name": "F1RAPCSP",
         "rawType": "int64",
         "type": "integer"
        },
        {
         "name": "F1RAPNE",
         "rawType": "int64",
         "type": "integer"
        },
        {
         "name": "F1RAPNEP",
         "rawType": "int64",
         "type": "integer"
        },
        {
         "name": "F1RAPIB",
         "rawType": "int64",
         "type": "integer"
        },
        {
         "name": "F1RAPIBP",
         "rawType": "int64",
         "type": "integer"
        },
        {
         "name": "F1RAL1_C",
         "rawType": "int64",
         "type": "integer"
        },
        {
         "name": "F1RGEO_C",
         "rawType": "int64",
         "type": "integer"
        },
        {
         "name": "F1RAL2_C",
         "rawType": "int64",
         "type": "integer"
        },
        {
         "name": "F1RTRI_C",
         "rawType": "int64",
         "type": "integer"
        },
        {
         "name": "F1RPRE_C",
         "rawType": "int64",
         "type": "integer"
        },
        {
         "name": "F1RCAL_C",
         "rawType": "int64",
         "type": "integer"
        },
        {
         "name": "F1RMAPIP",
         "rawType": "int64",
         "type": "integer"
        },
        {
         "name": "F1REAR_C",
         "rawType": "int64",
         "type": "integer"
        },
        {
         "name": "F1RBIO_C",
         "rawType": "int64",
         "type": "integer"
        },
        {
         "name": "F1RCHE_C",
         "rawType": "int64",
         "type": "integer"
        },
        {
         "name": "F1RPHY_C",
         "rawType": "int64",
         "type": "integer"
        },
        {
         "name": "F1RSCPIP",
         "rawType": "int64",
         "type": "integer"
        },
        {
         "name": "F1RNEPIP",
         "rawType": "int64",
         "type": "integer"
        },
        {
         "name": "F1RNEHI",
         "rawType": "int64",
         "type": "integer"
        },
        {
         "name": "F1RACADC",
         "rawType": "int64",
         "type": "integer"
        },
        {
         "name": "F1ROCCUC",
         "rawType": "int64",
         "type": "integer"
        },
        {
         "name": "F1RTRCC",
         "rawType": "int64",
         "type": "integer"
        },
        {
         "name": "F1RGPP2",
         "rawType": "int64",
         "type": "integer"
        },
        {
         "name": "F1RNEWB",
         "rawType": "int64",
         "type": "integer"
        },
        {
         "name": "F1RGP9",
         "rawType": "int64",
         "type": "integer"
        },
        {
         "name": "F1RGP9P",
         "rawType": "int64",
         "type": "integer"
        },
        {
         "name": "F1RAGP9",
         "rawType": "int64",
         "type": "integer"
        },
        {
         "name": "F1RAGP9P",
         "rawType": "int64",
         "type": "integer"
        },
        {
         "name": "F1RGP10",
         "rawType": "int64",
         "type": "integer"
        },
        {
         "name": "F1RGP0P",
         "rawType": "int64",
         "type": "integer"
        },
        {
         "name": "F1RAGP10",
         "rawType": "int64",
         "type": "integer"
        },
        {
         "name": "F1RAGP0P",
         "rawType": "int64",
         "type": "integer"
        },
        {
         "name": "F1RGP11",
         "rawType": "int64",
         "type": "integer"
        },
        {
         "name": "F1RGP1P",
         "rawType": "int64",
         "type": "integer"
        },
        {
         "name": "F1RAGP11",
         "rawType": "int64",
         "type": "integer"
        },
        {
         "name": "F1RAGP1P",
         "rawType": "int64",
         "type": "integer"
        },
        {
         "name": "F1RGP12",
         "rawType": "int64",
         "type": "integer"
        },
        {
         "name": "F1RGP2P",
         "rawType": "int64",
         "type": "integer"
        },
        {
         "name": "F1RAGP12",
         "rawType": "int64",
         "type": "integer"
        },
        {
         "name": "F1RAGP2P",
         "rawType": "int64",
         "type": "integer"
        },
        {
         "name": "F1RGP",
         "rawType": "int64",
         "type": "integer"
        },
        {
         "name": "F1RGPP",
         "rawType": "int64",
         "type": "integer"
        },
        {
         "name": "F1RAGP",
         "rawType": "int64",
         "type": "integer"
        },
        {
         "name": "F1RAGPP",
         "rawType": "int64",
         "type": "integer"
        },
        {
         "name": "F1RAGPH",
         "rawType": "int64",
         "type": "integer"
        },
        {
         "name": "F1RAGPHP",
         "rawType": "int64",
         "type": "integer"
        },
        {
         "name": "F1RAGPN",
         "rawType": "int64",
         "type": "integer"
        },
        {
         "name": "F1RAGPNP",
         "rawType": "int64",
         "type": "integer"
        },
        {
         "name": "F1S51CD1",
         "rawType": "int64",
         "type": "integer"
        },
        {
         "name": "F1S51CD2",
         "rawType": "int64",
         "type": "integer"
        },
        {
         "name": "TXACTC",
         "rawType": "int64",
         "type": "integer"
        },
        {
         "name": "TXACTM",
         "rawType": "int64",
         "type": "integer"
        },
        {
         "name": "TXACTR",
         "rawType": "int64",
         "type": "integer"
        },
        {
         "name": "TXACTE",
         "rawType": "int64",
         "type": "integer"
        },
        {
         "name": "TXACTS",
         "rawType": "int64",
         "type": "integer"
        },
        {
         "name": "TXEESATC",
         "rawType": "int64",
         "type": "integer"
        },
        {
         "name": "TXEESATM",
         "rawType": "int64",
         "type": "integer"
        },
        {
         "name": "TXEEACTC",
         "rawType": "int64",
         "type": "integer"
        },
        {
         "name": "TXEEACTM",
         "rawType": "int64",
         "type": "integer"
        },
        {
         "name": "TXSATM",
         "rawType": "int64",
         "type": "integer"
        },
        {
         "name": "TXSATV",
         "rawType": "int64",
         "type": "integer"
        },
        {
         "name": "TXSATC",
         "rawType": "int64",
         "type": "integer"
        },
        {
         "name": "TXAPBIO",
         "rawType": "int64",
         "type": "integer"
        },
        {
         "name": "TXAPCHE",
         "rawType": "int64",
         "type": "integer"
        },
        {
         "name": "TXAPCGP",
         "rawType": "int64",
         "type": "integer"
        },
        {
         "name": "TXAPCSA",
         "rawType": "int64",
         "type": "integer"
        },
        {
         "name": "TXAPCSB",
         "rawType": "int64",
         "type": "integer"
        },
        {
         "name": "TXAPLIT",
         "rawType": "int64",
         "type": "integer"
        },
        {
         "name": "TXAPLAN",
         "rawType": "int64",
         "type": "integer"
        },
        {
         "name": "TXAPEUH",
         "rawType": "int64",
         "type": "integer"
        },
        {
         "name": "TXAPFLA",
         "rawType": "int64",
         "type": "integer"
        },
        {
         "name": "TXAPFLI",
         "rawType": "int64",
         "type": "integer"
        },
        {
         "name": "TXAPGER",
         "rawType": "int64",
         "type": "integer"
        },
        {
         "name": "TXAPHAR",
         "rawType": "int64",
         "type": "integer"
        },
        {
         "name": "TXAPLVE",
         "rawType": "int64",
         "type": "integer"
        },
        {
         "name": "TXAPCAA",
         "rawType": "int64",
         "type": "integer"
        },
        {
         "name": "TXAPCAB",
         "rawType": "int64",
         "type": "integer"
        },
        {
         "name": "TXAPMAC",
         "rawType": "int64",
         "type": "integer"
        },
        {
         "name": "TXAPMIC",
         "rawType": "int64",
         "type": "integer"
        },
        {
         "name": "TXAPMT",
         "rawType": "int64",
         "type": "integer"
        },
        {
         "name": "TXAPPB",
         "rawType": "int64",
         "type": "integer"
        },
        {
         "name": "TXAPPCE",
         "rawType": "int64",
         "type": "integer"
        },
        {
         "name": "TXAPPCM",
         "rawType": "int64",
         "type": "integer"
        },
        {
         "name": "TXAPPSY",
         "rawType": "int64",
         "type": "integer"
        },
        {
         "name": "TXAPSLA",
         "rawType": "int64",
         "type": "integer"
        },
        {
         "name": "TXAPSLI",
         "rawType": "int64",
         "type": "integer"
        },
        {
         "name": "TXAPSAD",
         "rawType": "int64",
         "type": "integer"
        },
        {
         "name": "TXAPUSG",
         "rawType": "int64",
         "type": "integer"
        },
        {
         "name": "TXAPUSH",
         "rawType": "int64",
         "type": "integer"
        },
        {
         "name": "TXAPENV",
         "rawType": "int64",
         "type": "integer"
        },
        {
         "name": "TXAPHUM",
         "rawType": "int64",
         "type": "integer"
        },
        {
         "name": "TXAPLAT",
         "rawType": "int64",
         "type": "integer"
        },
        {
         "name": "TXAPSTA",
         "rawType": "int64",
         "type": "integer"
        },
        {
         "name": "TXAPSA2",
         "rawType": "int64",
         "type": "integer"
        },
        {
         "name": "TXAPSA3",
         "rawType": "int64",
         "type": "integer"
        },
        {
         "name": "TXAPWOR",
         "rawType": "int64",
         "type": "integer"
        },
        {
         "name": "TXSATM1",
         "rawType": "int64",
         "type": "integer"
        },
        {
         "name": "TXSATM2",
         "rawType": "int64",
         "type": "integer"
        },
        {
         "name": "TXSATPH",
         "rawType": "int64",
         "type": "integer"
        },
        {
         "name": "TXSATCH",
         "rawType": "int64",
         "type": "integer"
        },
        {
         "name": "TXSATBY",
         "rawType": "int64",
         "type": "integer"
        },
        {
         "name": "TXSATLI",
         "rawType": "int64",
         "type": "integer"
        },
        {
         "name": "TXSATUS",
         "rawType": "int64",
         "type": "integer"
        },
        {
         "name": "TXSATFR",
         "rawType": "int64",
         "type": "integer"
        },
        {
         "name": "TXSATGE",
         "rawType": "int64",
         "type": "integer"
        },
        {
         "name": "TXSATLA",
         "rawType": "int64",
         "type": "integer"
        },
        {
         "name": "TXSATSP",
         "rawType": "int64",
         "type": "integer"
        },
        {
         "name": "TXSATMH",
         "rawType": "int64",
         "type": "integer"
        },
        {
         "name": "TXSATCL",
         "rawType": "int64",
         "type": "integer"
        },
        {
         "name": "TXSATEP",
         "rawType": "int64",
         "type": "integer"
        },
        {
         "name": "TXSATFL",
         "rawType": "int64",
         "type": "integer"
        },
        {
         "name": "TXSATGL",
         "rawType": "int64",
         "type": "integer"
        },
        {
         "name": "TXSATSL",
         "rawType": "int64",
         "type": "integer"
        },
        {
         "name": "TXSATWH",
         "rawType": "int64",
         "type": "integer"
        },
        {
         "name": "TXSATWR",
         "rawType": "int64",
         "type": "integer"
        },
        {
         "name": "F2QTSCWT",
         "rawType": "float64",
         "type": "float"
        },
        {
         "name": "F2QWT",
         "rawType": "float64",
         "type": "float"
        },
        {
         "name": "F2F1WT",
         "rawType": "float64",
         "type": "float"
        },
        {
         "name": "F2BYWT",
         "rawType": "float64",
         "type": "float"
        },
        {
         "name": "F2NRSTAT",
         "rawType": "int64",
         "type": "integer"
        },
        {
         "name": "F2QSTAT",
         "rawType": "int64",
         "type": "integer"
        },
        {
         "name": "F2QMODE",
         "rawType": "int64",
         "type": "integer"
        },
        {
         "name": "F2RTYPE",
         "rawType": "int64",
         "type": "integer"
        },
        {
         "name": "F2SEX",
         "rawType": "int64",
         "type": "integer"
        },
        {
         "name": "F2EVERDO",
         "rawType": "int64",
         "type": "integer"
        },
        {
         "name": "F2DOSTAT",
         "rawType": "int64",
         "type": "integer"
        },
        {
         "name": "F2SP04DO",
         "rawType": "int64",
         "type": "integer"
        },
        {
         "name": "F2F1GR_P",
         "rawType": "int64",
         "type": "integer"
        },
        {
         "name": "F2F1GRDE",
         "rawType": "int64",
         "type": "integer"
        },
        {
         "name": "F2HSSTAT",
         "rawType": "int64",
         "type": "integer"
        },
        {
         "name": "F2F1HSST",
         "rawType": "int64",
         "type": "integer"
        },
        {
         "name": "F2HSATTM",
         "rawType": "int64",
         "type": "integer"
        },
        {
         "name": "F2EDLEVL",
         "rawType": "int64",
         "type": "integer"
        },
        {
         "name": "F2HIGRDE",
         "rawType": "int64",
         "type": "integer"
        },
        {
         "name": "F2HSCPP2",
         "rawType": "int64",
         "type": "integer"
        },
        {
         "name": "F2HSLVP2",
         "rawType": "int64",
         "type": "integer"
        },
        {
         "name": "F2HSCPDR",
         "rawType": "int64",
         "type": "integer"
        },
        {
         "name": "F2HSCPDP",
         "rawType": "int64",
         "type": "integer"
        },
        {
         "name": "F2HSLVDR",
         "rawType": "int64",
         "type": "integer"
        },
        {
         "name": "F2HSLVDP",
         "rawType": "int64",
         "type": "integer"
        },
        {
         "name": "F2EVRGED",
         "rawType": "int64",
         "type": "integer"
        },
        {
         "name": "F2HSPLAN",
         "rawType": "int64",
         "type": "integer"
        },
        {
         "name": "F2HSPLP2",
         "rawType": "int64",
         "type": "integer"
        },
        {
         "name": "F2GEDP_P",
         "rawType": "int64",
         "type": "integer"
        },
        {
         "name": "F2HSPLDR",
         "rawType": "int64",
         "type": "integer"
        },
        {
         "name": "F2HSPLDP",
         "rawType": "int64",
         "type": "integer"
        },
        {
         "name": "F2GEDPRG",
         "rawType": "int64",
         "type": "integer"
        },
        {
         "name": "F2GEDOTH",
         "rawType": "int64",
         "type": "integer"
        },
        {
         "name": "F2GEDST",
         "rawType": "int64",
         "type": "integer"
        },
        {
         "name": "F2WYGED1",
         "rawType": "int64",
         "type": "integer"
        },
        {
         "name": "F2WYGED2",
         "rawType": "int64",
         "type": "integer"
        },
        {
         "name": "F2WYGED3",
         "rawType": "int64",
         "type": "integer"
        },
        {
         "name": "F2WYGED4",
         "rawType": "int64",
         "type": "integer"
        },
        {
         "name": "F2WYGED5",
         "rawType": "int64",
         "type": "integer"
        },
        {
         "name": "F2WYGED6",
         "rawType": "int64",
         "type": "integer"
        },
        {
         "name": "F2WYLV1",
         "rawType": "int64",
         "type": "integer"
        },
        {
         "name": "F2WYLV2",
         "rawType": "int64",
         "type": "integer"
        },
        {
         "name": "F2WYLV3",
         "rawType": "int64",
         "type": "integer"
        },
        {
         "name": "F2WYLV4",
         "rawType": "int64",
         "type": "integer"
        },
        {
         "name": "F2WYLV5",
         "rawType": "int64",
         "type": "integer"
        },
        {
         "name": "F2WYLV6",
         "rawType": "int64",
         "type": "integer"
        },
        {
         "name": "F2WYLV7",
         "rawType": "int64",
         "type": "integer"
        },
        {
         "name": "F2WYLV8",
         "rawType": "int64",
         "type": "integer"
        },
        {
         "name": "F2WYLV9",
         "rawType": "int64",
         "type": "integer"
        },
        {
         "name": "F2WYLV10",
         "rawType": "int64",
         "type": "integer"
        },
        {
         "name": "F2WYLV11",
         "rawType": "int64",
         "type": "integer"
        },
        {
         "name": "F2WYLV12",
         "rawType": "int64",
         "type": "integer"
        },
        {
         "name": "F2WYLV13",
         "rawType": "int64",
         "type": "integer"
        },
        {
         "name": "F2WYLV14",
         "rawType": "int64",
         "type": "integer"
        },
        {
         "name": "F2PSEEXM",
         "rawType": "int64",
         "type": "integer"
        },
        {
         "name": "F2EVRAPP",
         "rawType": "int64",
         "type": "integer"
        },
        {
         "name": "F2NAPP1P",
         "rawType": "int64",
         "type": "integer"
        },
        {
         "name": "F2NAPP2P",
         "rawType": "int64",
         "type": "integer"
        },
        {
         "name": "F2NACC1P",
         "rawType": "int64",
         "type": "integer"
        },
        {
         "name": "F2NACC2P",
         "rawType": "int64",
         "type": "integer"
        },
        {
         "name": "F2PCTACC",
         "rawType": "int64",
         "type": "integer"
        },
        {
         "name": "F2NAPAID",
         "rawType": "int64",
         "type": "integer"
        },
        {
         "name": "F2PCTAID",
         "rawType": "int64",
         "type": "integer"
        },
        {
         "name": "F2NATT_P",
         "rawType": "int64",
         "type": "integer"
        },
        {
         "name": "F2PSAPSL",
         "rawType": "int64",
         "type": "integer"
        },
        {
         "name": "F2NAPPLY",
         "rawType": "int64",
         "type": "integer"
        },
        {
         "name": "F2NACCPT",
         "rawType": "int64",
         "type": "integer"
        },
        {
         "name": "F2NATTND",
         "rawType": "int64",
         "type": "integer"
        },
        {
         "name": "F2PSACSL",
         "rawType": "int64",
         "type": "integer"
        },
        {
         "name": "F2EVRATT",
         "rawType": "int64",
         "type": "integer"
        },
        {
         "name": "F2PS1",
         "rawType": "int64",
         "type": "integer"
        },
        {
         "name": "F2PS1LVL",
         "rawType": "int64",
         "type": "integer"
        },
        {
         "name": "F2PS1CTR",
         "rawType": "int64",
         "type": "integer"
        },
        {
         "name": "F2PS1SEC",
         "rawType": "int64",
         "type": "integer"
        },
        {
         "name": "F2PS1SLC",
         "rawType": "int64",
         "type": "integer"
        },
        {
         "name": "F2PS1GRT",
         "rawType": "int64",
         "type": "integer"
        },
        {
         "name": "F2PS1LN",
         "rawType": "int64",
         "type": "integer"
        },
        {
         "name": "F2PS1WKS",
         "rawType": "int64",
         "type": "integer"
        },
        {
         "name": "F2PS1WVR",
         "rawType": "int64",
         "type": "integer"
        },
        {
         "name": "F2PS1AID",
         "rawType": "int64",
         "type": "integer"
        },
        {
         "name": "F2PS1NTY",
         "rawType": "int64",
         "type": "integer"
        },
        {
         "name": "F2PS1FTP",
         "rawType": "int64",
         "type": "integer"
        },
        {
         "name": "F2PS1OUT",
         "rawType": "int64",
         "type": "integer"
        },
        {
         "name": "F2PSSTRT",
         "rawType": "int64",
         "type": "integer"
        },
        {
         "name": "F2HS2P_P",
         "rawType": "int64",
         "type": "integer"
        },
        {
         "name": "F2PS1EEX",
         "rawType": "int64",
         "type": "integer"
        },
        {
         "name": "F2PS1REM",
         "rawType": "int64",
         "type": "integer"
        },
        {
         "name": "F2HS2PS1",
         "rawType": "int64",
         "type": "integer"
        },
        {
         "name": "F2PSEND",
         "rawType": "int64",
         "type": "integer"
        },
        {
         "name": "F2PSYR1",
         "rawType": "int64",
         "type": "integer"
        },
        {
         "name": "F2PSMO45",
         "rawType": "int64",
         "type": "integer"
        },
        {
         "name": "F2ENRGAP",
         "rawType": "int64",
         "type": "integer"
        },
        {
         "name": "F2PSPR_4",
         "rawType": "int64",
         "type": "integer"
        },
        {
         "name": "F2PSPRE4",
         "rawType": "int64",
         "type": "integer"
        },
        {
         "name": "F2PS0401",
         "rawType": "int64",
         "type": "integer"
        },
        {
         "name": "F2PS0402",
         "rawType": "int64",
         "type": "integer"
        },
        {
         "name": "F2PS0403",
         "rawType": "int64",
         "type": "integer"
        },
        {
         "name": "F2PS0404",
         "rawType": "int64",
         "type": "integer"
        },
        {
         "name": "F2PS0405",
         "rawType": "int64",
         "type": "integer"
        },
        {
         "name": "F2PS0406",
         "rawType": "int64",
         "type": "integer"
        },
        {
         "name": "F2PS0407",
         "rawType": "int64",
         "type": "integer"
        },
        {
         "name": "F2PS0408",
         "rawType": "int64",
         "type": "integer"
        },
        {
         "name": "F2PS0409",
         "rawType": "int64",
         "type": "integer"
        },
        {
         "name": "F2PS0410",
         "rawType": "int64",
         "type": "integer"
        },
        {
         "name": "F2PS0411",
         "rawType": "int64",
         "type": "integer"
        },
        {
         "name": "F2PS0412",
         "rawType": "int64",
         "type": "integer"
        },
        {
         "name": "F2PS0501",
         "rawType": "int64",
         "type": "integer"
        },
        {
         "name": "F2PS0502",
         "rawType": "int64",
         "type": "integer"
        },
        {
         "name": "F2PS0503",
         "rawType": "int64",
         "type": "integer"
        },
        {
         "name": "F2PS0504",
         "rawType": "int64",
         "type": "integer"
        },
        {
         "name": "F2PS0505",
         "rawType": "int64",
         "type": "integer"
        },
        {
         "name": "F2PS0506",
         "rawType": "int64",
         "type": "integer"
        },
        {
         "name": "F2PS0507",
         "rawType": "int64",
         "type": "integer"
        },
        {
         "name": "F2PS0508",
         "rawType": "int64",
         "type": "integer"
        },
        {
         "name": "F2PS0509",
         "rawType": "int64",
         "type": "integer"
        },
        {
         "name": "F2PS0510",
         "rawType": "int64",
         "type": "integer"
        },
        {
         "name": "F2PS0511",
         "rawType": "int64",
         "type": "integer"
        },
        {
         "name": "F2PS0512",
         "rawType": "int64",
         "type": "integer"
        },
        {
         "name": "F2PS0601",
         "rawType": "int64",
         "type": "integer"
        },
        {
         "name": "F2PS0602",
         "rawType": "int64",
         "type": "integer"
        },
        {
         "name": "F2PS0603",
         "rawType": "int64",
         "type": "integer"
        },
        {
         "name": "F2PS0604",
         "rawType": "int64",
         "type": "integer"
        },
        {
         "name": "F2PS0605",
         "rawType": "int64",
         "type": "integer"
        },
        {
         "name": "F2PS0606",
         "rawType": "int64",
         "type": "integer"
        },
        {
         "name": "F2PS0607",
         "rawType": "int64",
         "type": "integer"
        },
        {
         "name": "F2PS0608",
         "rawType": "int64",
         "type": "integer"
        },
        {
         "name": "F2SWITCH",
         "rawType": "int64",
         "type": "integer"
        },
        {
         "name": "F2PS2006",
         "rawType": "int64",
         "type": "integer"
        },
        {
         "name": "F2MJR2_P",
         "rawType": "int64",
         "type": "integer"
        },
        {
         "name": "F2PSEJ06",
         "rawType": "int64",
         "type": "integer"
        },
        {
         "name": "F2PTN1PS",
         "rawType": "int64",
         "type": "integer"
        },
        {
         "name": "F2PTN2PS",
         "rawType": "int64",
         "type": "integer"
        },
        {
         "name": "F2PTN3PS",
         "rawType": "int64",
         "type": "integer"
        },
        {
         "name": "F2PSPPLN",
         "rawType": "int64",
         "type": "integer"
        },
        {
         "name": "F2PSEPLN",
         "rawType": "int64",
         "type": "integer"
        },
        {
         "name": "F2MAJOR4",
         "rawType": "int64",
         "type": "integer"
        },
        {
         "name": "F2MAJOR2",
         "rawType": "int64",
         "type": "integer"
        },
        {
         "name": "F2STEXP",
         "rawType": "int64",
         "type": "integer"
        },
        {
         "name": "F2F1EDEX",
         "rawType": "int64",
         "type": "integer"
        },
        {
         "name": "F2EVRJOB",
         "rawType": "int64",
         "type": "integer"
        },
        {
         "name": "F21STO_P",
         "rawType": "int64",
         "type": "integer"
        },
        {
         "name": "F21STOCC",
         "rawType": "int64",
         "type": "integer"
        },
        {
         "name": "F2ONET16",
         "rawType": "int64",
         "type": "integer"
        },
        {
         "name": "F2ONET12",
         "rawType": "int64",
         "type": "integer"
        },
        {
         "name": "F2FSTWGE",
         "rawType": "int64",
         "type": "integer"
        },
        {
         "name": "F2OCC1Q",
         "rawType": "int64",
         "type": "integer"
        },
        {
         "name": "F2CURO_P",
         "rawType": "int64",
         "type": "integer"
        },
        {
         "name": "F2CUROCC",
         "rawType": "int64",
         "type": "integer"
        },
        {
         "name": "F2ONETC6",
         "rawType": "int64",
         "type": "integer"
        },
        {
         "name": "F2ONETC2",
         "rawType": "int64",
         "type": "integer"
        },
        {
         "name": "F2CURWGE",
         "rawType": "int64",
         "type": "integer"
        },
        {
         "name": "F2PUNE1P",
         "rawType": "int64",
         "type": "integer"
        },
        {
         "name": "F2POUTWF",
         "rawType": "int64",
         "type": "integer"
        },
        {
         "name": "F2PUNE2P",
         "rawType": "int64",
         "type": "integer"
        },
        {
         "name": "F2EMSTAB",
         "rawType": "int64",
         "type": "integer"
        },
        {
         "name": "F2EMPPTN",
         "rawType": "int64",
         "type": "integer"
        },
        {
         "name": "F2ERN5P2",
         "rawType": "int64",
         "type": "integer"
        },
        {
         "name": "F2OCC30P",
         "rawType": "int64",
         "type": "integer"
        },
        {
         "name": "F2E0401P",
         "rawType": "int64",
         "type": "integer"
        },
        {
         "name": "F2E0402P",
         "rawType": "int64",
         "type": "integer"
        },
        {
         "name": "F2E0403P",
         "rawType": "int64",
         "type": "integer"
        },
        {
         "name": "F2E0404P",
         "rawType": "int64",
         "type": "integer"
        },
        {
         "name": "F2E0405P",
         "rawType": "int64",
         "type": "integer"
        },
        {
         "name": "F2E0406P",
         "rawType": "int64",
         "type": "integer"
        },
        {
         "name": "F2E0407P",
         "rawType": "int64",
         "type": "integer"
        },
        {
         "name": "F2E0408P",
         "rawType": "int64",
         "type": "integer"
        },
        {
         "name": "F2E0409P",
         "rawType": "int64",
         "type": "integer"
        },
        {
         "name": "F2E0410P",
         "rawType": "int64",
         "type": "integer"
        },
        {
         "name": "F2E0411P",
         "rawType": "int64",
         "type": "integer"
        },
        {
         "name": "F2E0412P",
         "rawType": "int64",
         "type": "integer"
        },
        {
         "name": "F2E0501P",
         "rawType": "int64",
         "type": "integer"
        },
        {
         "name": "F2E0502P",
         "rawType": "int64",
         "type": "integer"
        },
        {
         "name": "F2E0503P",
         "rawType": "int64",
         "type": "integer"
        },
        {
         "name": "F2E0504P",
         "rawType": "int64",
         "type": "integer"
        },
        {
         "name": "F2E0505P",
         "rawType": "int64",
         "type": "integer"
        },
        {
         "name": "F2E0506P",
         "rawType": "int64",
         "type": "integer"
        },
        {
         "name": "F2E0507P",
         "rawType": "int64",
         "type": "integer"
        },
        {
         "name": "F2E0508P",
         "rawType": "int64",
         "type": "integer"
        },
        {
         "name": "F2E0509P",
         "rawType": "int64",
         "type": "integer"
        },
        {
         "name": "F2E0510P",
         "rawType": "int64",
         "type": "integer"
        },
        {
         "name": "F2E0511P",
         "rawType": "int64",
         "type": "integer"
        },
        {
         "name": "F2E0512P",
         "rawType": "int64",
         "type": "integer"
        },
        {
         "name": "F2E0601P",
         "rawType": "int64",
         "type": "integer"
        },
        {
         "name": "F2HHTO_P",
         "rawType": "int64",
         "type": "integer"
        },
        {
         "name": "F2NUNEMP",
         "rawType": "int64",
         "type": "integer"
        },
        {
         "name": "F2PUNEMP",
         "rawType": "int64",
         "type": "integer"
        },
        {
         "name": "F2ERN05R",
         "rawType": "int64",
         "type": "integer"
        },
        {
         "name": "F2ERN05P",
         "rawType": "int64",
         "type": "integer"
        },
        {
         "name": "F2OCC30",
         "rawType": "int64",
         "type": "integer"
        },
        {
         "name": "F2ONET36",
         "rawType": "int64",
         "type": "integer"
        },
        {
         "name": "F2ONET32",
         "rawType": "int64",
         "type": "integer"
        },
        {
         "name": "F2EM0206",
         "rawType": "int64",
         "type": "integer"
        },
        {
         "name": "F2EM0207",
         "rawType": "int64",
         "type": "integer"
        },
        {
         "name": "F2EM0208",
         "rawType": "int64",
         "type": "integer"
        },
        {
         "name": "F2EM0209",
         "rawType": "int64",
         "type": "integer"
        },
        {
         "name": "F2EM0210",
         "rawType": "int64",
         "type": "integer"
        },
        {
         "name": "F2EM0211",
         "rawType": "int64",
         "type": "integer"
        },
        {
         "name": "F2EM0212",
         "rawType": "int64",
         "type": "integer"
        },
        {
         "name": "F2EM0301",
         "rawType": "int64",
         "type": "integer"
        },
        {
         "name": "F2EM0302",
         "rawType": "int64",
         "type": "integer"
        },
        {
         "name": "F2EM0303",
         "rawType": "int64",
         "type": "integer"
        },
        {
         "name": "F2EM0304",
         "rawType": "int64",
         "type": "integer"
        },
        {
         "name": "F2EM0305",
         "rawType": "int64",
         "type": "integer"
        },
        {
         "name": "F2EM0306",
         "rawType": "int64",
         "type": "integer"
        },
        {
         "name": "F2EM0307",
         "rawType": "int64",
         "type": "integer"
        },
        {
         "name": "F2EM0308",
         "rawType": "int64",
         "type": "integer"
        },
        {
         "name": "F2EM0309",
         "rawType": "int64",
         "type": "integer"
        },
        {
         "name": "F2EM0310",
         "rawType": "int64",
         "type": "integer"
        },
        {
         "name": "F2EM0311",
         "rawType": "int64",
         "type": "integer"
        },
        {
         "name": "F2EM0312",
         "rawType": "int64",
         "type": "integer"
        },
        {
         "name": "F2EM0401",
         "rawType": "int64",
         "type": "integer"
        },
        {
         "name": "F2EM0402",
         "rawType": "int64",
         "type": "integer"
        },
        {
         "name": "F2EM0403",
         "rawType": "int64",
         "type": "integer"
        },
        {
         "name": "F2EM0404",
         "rawType": "int64",
         "type": "integer"
        },
        {
         "name": "F2EM0405",
         "rawType": "int64",
         "type": "integer"
        },
        {
         "name": "F2EM0406",
         "rawType": "int64",
         "type": "integer"
        },
        {
         "name": "F2EM0407",
         "rawType": "int64",
         "type": "integer"
        },
        {
         "name": "F2EM0408",
         "rawType": "int64",
         "type": "integer"
        },
        {
         "name": "F2EM0409",
         "rawType": "int64",
         "type": "integer"
        },
        {
         "name": "F2EM0410",
         "rawType": "int64",
         "type": "integer"
        },
        {
         "name": "F2EM0411",
         "rawType": "int64",
         "type": "integer"
        },
        {
         "name": "F2EM0412",
         "rawType": "int64",
         "type": "integer"
        },
        {
         "name": "F2EM0501",
         "rawType": "int64",
         "type": "integer"
        },
        {
         "name": "F2EM0502",
         "rawType": "int64",
         "type": "integer"
        },
        {
         "name": "F2EM0503",
         "rawType": "int64",
         "type": "integer"
        },
        {
         "name": "F2EM0504",
         "rawType": "int64",
         "type": "integer"
        },
        {
         "name": "F2EM0505",
         "rawType": "int64",
         "type": "integer"
        },
        {
         "name": "F2EM0506",
         "rawType": "int64",
         "type": "integer"
        },
        {
         "name": "F2EM0507",
         "rawType": "int64",
         "type": "integer"
        },
        {
         "name": "F2EM0508",
         "rawType": "int64",
         "type": "integer"
        },
        {
         "name": "F2EM0509",
         "rawType": "int64",
         "type": "integer"
        },
        {
         "name": "F2EM0510",
         "rawType": "int64",
         "type": "integer"
        },
        {
         "name": "F2EM0511",
         "rawType": "int64",
         "type": "integer"
        },
        {
         "name": "F2EM0512",
         "rawType": "int64",
         "type": "integer"
        },
        {
         "name": "F2EM0601",
         "rawType": "int64",
         "type": "integer"
        },
        {
         "name": "F2EM0602",
         "rawType": "int64",
         "type": "integer"
        },
        {
         "name": "F2EM0603",
         "rawType": "int64",
         "type": "integer"
        },
        {
         "name": "F2EM0604",
         "rawType": "int64",
         "type": "integer"
        },
        {
         "name": "F2EM0605",
         "rawType": "int64",
         "type": "integer"
        },
        {
         "name": "F2EM0606",
         "rawType": "int64",
         "type": "integer"
        },
        {
         "name": "F2EM0607",
         "rawType": "int64",
         "type": "integer"
        },
        {
         "name": "F2EM0608",
         "rawType": "int64",
         "type": "integer"
        },
        {
         "name": "F2HHTOTL",
         "rawType": "int64",
         "type": "integer"
        },
        {
         "name": "F2HHPAR",
         "rawType": "int64",
         "type": "integer"
        },
        {
         "name": "F2MARPAR",
         "rawType": "int64",
         "type": "integer"
        },
        {
         "name": "F2LIVARR",
         "rawType": "int64",
         "type": "integer"
        },
        {
         "name": "F2NLFE_P",
         "rawType": "int64",
         "type": "integer"
        },
        {
         "name": "F2NLFEVT",
         "rawType": "int64",
         "type": "integer"
        },
        {
         "name": "F2RESZIP",
         "rawType": "int64",
         "type": "integer"
        },
        {
         "name": "F2QXDATR",
         "rawType": "int64",
         "type": "integer"
        },
        {
         "name": "F2QXDATP",
         "rawType": "int64",
         "type": "integer"
        },
        {
         "name": "F2EVAPIM",
         "rawType": "int64",
         "type": "integer"
        },
        {
         "name": "F2EVATIM",
         "rawType": "int64",
         "type": "integer"
        },
        {
         "name": "F2STEXIM",
         "rawType": "int64",
         "type": "integer"
        },
        {
         "name": "F2EVRJIM",
         "rawType": "int64",
         "type": "integer"
        },
        {
         "name": "F2ERN5IM",
         "rawType": "int64",
         "type": "integer"
        },
        {
         "name": "F2MTCHAT",
         "rawType": "int64",
         "type": "integer"
        },
        {
         "name": "F2CPSTAT",
         "rawType": "int64",
         "type": "integer"
        },
        {
         "name": "F2NSSTAT",
         "rawType": "int64",
         "type": "integer"
        },
        {
         "name": "F2GESTAT",
         "rawType": "int64",
         "type": "integer"
        },
        {
         "name": "F2CPS05STAT",
         "rawType": "int64",
         "type": "integer"
        },
        {
         "name": "F2CPS06STAT",
         "rawType": "int64",
         "type": "integer"
        },
        {
         "name": "F2CPS07STAT",
         "rawType": "int64",
         "type": "integer"
        },
        {
         "name": "F2NSLDSSTAT",
         "rawType": "int64",
         "type": "integer"
        },
        {
         "name": "F2PELLCUM",
         "rawType": "int64",
         "type": "integer"
        },
        {
         "name": "F2PLUSCUM",
         "rawType": "int64",
         "type": "integer"
        },
        {
         "name": "F2PERKCUM",
         "rawType": "int64",
         "type": "integer"
        },
        {
         "name": "F2CNSOWED",
         "rawType": "int64",
         "type": "integer"
        },
        {
         "name": "F2STAFTCUM",
         "rawType": "int64",
         "type": "integer"
        },
        {
         "name": "F2STAFSCUM",
         "rawType": "int64",
         "type": "integer"
        },
        {
         "name": "F2STAFUCUM",
         "rawType": "int64",
         "type": "integer"
        },
        {
         "name": "F2SSPCUM",
         "rawType": "int64",
         "type": "integer"
        },
        {
         "name": "F2STPCUM",
         "rawType": "int64",
         "type": "integer"
        },
        {
         "name": "F2SPPCUM",
         "rawType": "int64",
         "type": "integer"
        },
        {
         "name": "F2STPOWED",
         "rawType": "int64",
         "type": "integer"
        },
        {
         "name": "F2SPPOWED",
         "rawType": "int64",
         "type": "integer"
        },
        {
         "name": "F2TOTOWED",
         "rawType": "int64",
         "type": "integer"
        },
        {
         "name": "F2PELLYRS",
         "rawType": "int64",
         "type": "integer"
        },
        {
         "name": "F2PELL0405",
         "rawType": "int64",
         "type": "integer"
        },
        {
         "name": "F2PELL0506",
         "rawType": "int64",
         "type": "integer"
        },
        {
         "name": "F2PELL0607",
         "rawType": "int64",
         "type": "integer"
        },
        {
         "name": "F2STAFYRS",
         "rawType": "int64",
         "type": "integer"
        },
        {
         "name": "F2STSB0405",
         "rawType": "int64",
         "type": "integer"
        },
        {
         "name": "F2STSB0506",
         "rawType": "int64",
         "type": "integer"
        },
        {
         "name": "F2STSB0607",
         "rawType": "int64",
         "type": "integer"
        },
        {
         "name": "F2STUN0405",
         "rawType": "int64",
         "type": "integer"
        },
        {
         "name": "F2STUN0506",
         "rawType": "int64",
         "type": "integer"
        },
        {
         "name": "F2STUN0607",
         "rawType": "int64",
         "type": "integer"
        },
        {
         "name": "F2PLUSYRS",
         "rawType": "int64",
         "type": "integer"
        },
        {
         "name": "F2PLUS0405",
         "rawType": "int64",
         "type": "integer"
        },
        {
         "name": "F2PLUS0506",
         "rawType": "int64",
         "type": "integer"
        },
        {
         "name": "F2PLUS0607",
         "rawType": "int64",
         "type": "integer"
        },
        {
         "name": "F2STFY0405",
         "rawType": "int64",
         "type": "integer"
        },
        {
         "name": "F2STFY0506",
         "rawType": "int64",
         "type": "integer"
        },
        {
         "name": "F2STFY0607",
         "rawType": "int64",
         "type": "integer"
        },
        {
         "name": "F3QWT",
         "rawType": "float64",
         "type": "float"
        },
        {
         "name": "F3BYPNLWT",
         "rawType": "float64",
         "type": "float"
        },
        {
         "name": "F3F1PNLWT",
         "rawType": "float64",
         "type": "float"
        },
        {
         "name": "F3QTSCWT",
         "rawType": "float64",
         "type": "float"
        },
        {
         "name": "F3BYTSCWT",
         "rawType": "float64",
         "type": "float"
        },
        {
         "name": "F3F1TSCWT",
         "rawType": "float64",
         "type": "float"
        },
        {
         "name": "F3NRSTAT",
         "rawType": "int64",
         "type": "integer"
        },
        {
         "name": "F3QSTAT",
         "rawType": "int64",
         "type": "integer"
        },
        {
         "name": "F3QDATE",
         "rawType": "int64",
         "type": "integer"
        },
        {
         "name": "F3HSSTAT",
         "rawType": "int64",
         "type": "integer"
        },
        {
         "name": "F3HSCPDR",
         "rawType": "int64",
         "type": "integer"
        },
        {
         "name": "F3EVERDO",
         "rawType": "int64",
         "type": "integer"
        },
        {
         "name": "F3EVRGED",
         "rawType": "int64",
         "type": "integer"
        },
        {
         "name": "F3GEDPRG",
         "rawType": "int64",
         "type": "integer"
        },
        {
         "name": "F3WYGED1",
         "rawType": "int64",
         "type": "integer"
        },
        {
         "name": "F3WYGED2",
         "rawType": "int64",
         "type": "integer"
        },
        {
         "name": "F3WYGED3",
         "rawType": "int64",
         "type": "integer"
        },
        {
         "name": "F3WYGED4",
         "rawType": "int64",
         "type": "integer"
        },
        {
         "name": "F3WYGED5",
         "rawType": "int64",
         "type": "integer"
        },
        {
         "name": "F3WYGED6",
         "rawType": "int64",
         "type": "integer"
        },
        {
         "name": "F3GEDST",
         "rawType": "int64",
         "type": "integer"
        },
        {
         "name": "F3JUNEDSTAT",
         "rawType": "int64",
         "type": "integer"
        },
        {
         "name": "F3EVRATT",
         "rawType": "int64",
         "type": "integer"
        },
        {
         "name": "F3EDSTAT",
         "rawType": "int64",
         "type": "integer"
        },
        {
         "name": "F3PS1START",
         "rawType": "int64",
         "type": "integer"
        },
        {
         "name": "F3PS1LVL",
         "rawType": "int64",
         "type": "integer"
        },
        {
         "name": "F3PS1CTR",
         "rawType": "int64",
         "type": "integer"
        },
        {
         "name": "F3PS1SEC",
         "rawType": "int64",
         "type": "integer"
        },
        {
         "name": "F3PS1SLC",
         "rawType": "int64",
         "type": "integer"
        },
        {
         "name": "F3PS1OUT",
         "rawType": "int64",
         "type": "integer"
        },
        {
         "name": "F3PS1RETAIN",
         "rawType": "int64",
         "type": "integer"
        },
        {
         "name": "F3PSTIMING",
         "rawType": "int64",
         "type": "integer"
        },
        {
         "name": "F3PSLLVL",
         "rawType": "int64",
         "type": "integer"
        },
        {
         "name": "F3PSLCTR",
         "rawType": "int64",
         "type": "integer"
        },
        {
         "name": "F3PSLSEC",
         "rawType": "int64",
         "type": "integer"
        },
        {
         "name": "F3PSLSLC",
         "rawType": "int64",
         "type": "integer"
        },
        {
         "name": "F3PSLSTART",
         "rawType": "int64",
         "type": "integer"
        },
        {
         "name": "F3PSLCRED",
         "rawType": "int64",
         "type": "integer"
        },
        {
         "name": "F3PS2BA",
         "rawType": "int64",
         "type": "integer"
        },
        {
         "name": "F3HS2PS1",
         "rawType": "int64",
         "type": "integer"
        },
        {
         "name": "F3HS2BA",
         "rawType": "int64",
         "type": "integer"
        },
        {
         "name": "F3NATTND",
         "rawType": "int64",
         "type": "integer"
        },
        {
         "name": "F3NUMPUB",
         "rawType": "int64",
         "type": "integer"
        },
        {
         "name": "F3NUMPRIFOR",
         "rawType": "int64",
         "type": "integer"
        },
        {
         "name": "F3NUMPRINOT",
         "rawType": "int64",
         "type": "integer"
        },
        {
         "name": "F3NUM4YR",
         "rawType": "int64",
         "type": "integer"
        },
        {
         "name": "F3NUM2YR",
         "rawType": "int64",
         "type": "integer"
        },
        {
         "name": "F3NUMLT2",
         "rawType": "int64",
         "type": "integer"
        },
        {
         "name": "F3NUMMOD4",
         "rawType": "int64",
         "type": "integer"
        },
        {
         "name": "F3NUMINCL4",
         "rawType": "int64",
         "type": "integer"
        },
        {
         "name": "F3NUMHI4",
         "rawType": "int64",
         "type": "integer"
        },
        {
         "name": "F3NUMHBCU",
         "rawType": "int64",
         "type": "integer"
        },
        {
         "name": "F3EVRPUB",
         "rawType": "int64",
         "type": "integer"
        },
        {
         "name": "F3EVRPRIFOR",
         "rawType": "int64",
         "type": "integer"
        },
        {
         "name": "F3EVRPRINOT",
         "rawType": "int64",
         "type": "integer"
        },
        {
         "name": "F3EVR4YR",
         "rawType": "int64",
         "type": "integer"
        },
        {
         "name": "F3EVR2YR",
         "rawType": "int64",
         "type": "integer"
        },
        {
         "name": "F3EVRLT2",
         "rawType": "int64",
         "type": "integer"
        },
        {
         "name": "F3EVRMOD4",
         "rawType": "int64",
         "type": "integer"
        },
        {
         "name": "F3EVRINCL4",
         "rawType": "int64",
         "type": "integer"
        },
        {
         "name": "F3EVRHI4",
         "rawType": "int64",
         "type": "integer"
        },
        {
         "name": "F3EVRHBCU",
         "rawType": "int64",
         "type": "integer"
        },
        {
         "name": "F3PSSELECT",
         "rawType": "int64",
         "type": "integer"
        },
        {
         "name": "F3ATTAINMENT",
         "rawType": "int64",
         "type": "integer"
        },
        {
         "name": "F3ATTAINDATE",
         "rawType": "int64",
         "type": "integer"
        },
        {
         "name": "F3FIRSTPSCRED",
         "rawType": "int64",
         "type": "integer"
        },
        {
         "name": "F3FIRSTPSCRDATE",
         "rawType": "int64",
         "type": "integer"
        },
        {
         "name": "F3BYEDEXPFF",
         "rawType": "int64",
         "type": "integer"
        },
        {
         "name": "F3F1EDEXPFF",
         "rawType": "int64",
         "type": "integer"
        },
        {
         "name": "F3FURTHERED",
         "rawType": "int64",
         "type": "integer"
        },
        {
         "name": "F3STEXP",
         "rawType": "int64",
         "type": "integer"
        },
        {
         "name": "F3HIIMPACT",
         "rawType": "int64",
         "type": "integer"
        },
        {
         "name": "F3EVRJOB",
         "rawType": "int64",
         "type": "integer"
        },
        {
         "name": "F3EMPSTAT",
         "rawType": "int64",
         "type": "integer"
        },
        {
         "name": "F3JUNEMPSTAT",
         "rawType": "int64",
         "type": "integer"
        },
        {
         "name": "F3ONET2CURR",
         "rawType": "int64",
         "type": "integer"
        },
        {
         "name": "F3ONET6CURR",
         "rawType": "int64",
         "type": "integer"
        },
        {
         "name": "F3SEICURR",
         "rawType": "int64",
         "type": "integer"
        },
        {
         "name": "F3HOURWAGE",
         "rawType": "int64",
         "type": "integer"
        },
        {
         "name": "F3EMPMONTHS",
         "rawType": "int64",
         "type": "integer"
        },
        {
         "name": "F3ERN2011",
         "rawType": "int64",
         "type": "integer"
        },
        {
         "name": "F3EMPINC2011",
         "rawType": "int64",
         "type": "integer"
        },
        {
         "name": "F3SPERN2011",
         "rawType": "int64",
         "type": "integer"
        },
        {
         "name": "F3ALLINC2011",
         "rawType": "int64",
         "type": "integer"
        },
        {
         "name": "F3DEBTEMP2011",
         "rawType": "int64",
         "type": "integer"
        },
        {
         "name": "F3DEBTALL2011",
         "rawType": "int64",
         "type": "integer"
        },
        {
         "name": "F3STLOANEVR",
         "rawType": "int64",
         "type": "integer"
        },
        {
         "name": "F3STLOANAMT",
         "rawType": "int64",
         "type": "integer"
        },
        {
         "name": "F3STLOANPAY",
         "rawType": "int64",
         "type": "integer"
        },
        {
         "name": "F3JOBSUPP",
         "rawType": "float64",
         "type": "float"
        },
        {
         "name": "F3JOBSATIS",
         "rawType": "float64",
         "type": "float"
        },
        {
         "name": "F3JOBPERSIST",
         "rawType": "float64",
         "type": "float"
        },
        {
         "name": "F3ONET2AGE30",
         "rawType": "int64",
         "type": "integer"
        },
        {
         "name": "F3ONET6AGE30",
         "rawType": "int64",
         "type": "integer"
        },
        {
         "name": "F3SEIAGE30",
         "rawType": "int64",
         "type": "integer"
        },
        {
         "name": "F3OCC30BYVF3",
         "rawType": "int64",
         "type": "integer"
        },
        {
         "name": "F3OCC30F1VF3",
         "rawType": "int64",
         "type": "integer"
        },
        {
         "name": "F3OCC30BYVF1",
         "rawType": "int64",
         "type": "integer"
        },
        {
         "name": "F3CURRV30",
         "rawType": "int64",
         "type": "integer"
        },
        {
         "name": "F3SES",
         "rawType": "float64",
         "type": "float"
        },
        {
         "name": "F3SESQU",
         "rawType": "int64",
         "type": "integer"
        },
        {
         "name": "F3LIVARR",
         "rawType": "int64",
         "type": "integer"
        },
        {
         "name": "F3MARRSTATUS",
         "rawType": "int64",
         "type": "integer"
        },
        {
         "name": "F3MARRAGE",
         "rawType": "int64",
         "type": "integer"
        },
        {
         "name": "F3NUMCHILD",
         "rawType": "int64",
         "type": "integer"
        },
        {
         "name": "F3PARAGE",
         "rawType": "int64",
         "type": "integer"
        },
        {
         "name": "F3SINGLEPAR",
         "rawType": "int64",
         "type": "integer"
        },
        {
         "name": "F3HHNUM",
         "rawType": "int64",
         "type": "integer"
        },
        {
         "name": "F3NUMDPNDNT",
         "rawType": "int64",
         "type": "integer"
        },
        {
         "name": "F3VOTEBEH",
         "rawType": "int64",
         "type": "integer"
        },
        {
         "name": "F3MOBILITYBYF3",
         "rawType": "int64",
         "type": "integer"
        },
        {
         "name": "F3MOBILITYF1F3",
         "rawType": "int64",
         "type": "integer"
        },
        {
         "name": "F3MOBILITYF2F3",
         "rawType": "int64",
         "type": "integer"
        },
        {
         "name": "F3MOBILITYF1F2",
         "rawType": "int64",
         "type": "integer"
        },
        {
         "name": "F3REGION",
         "rawType": "int64",
         "type": "integer"
        },
        {
         "name": "F3RESZIP",
         "rawType": "int64",
         "type": "integer"
        },
        {
         "name": "F3EVRATTIM",
         "rawType": "int64",
         "type": "integer"
        },
        {
         "name": "F3EDSTATIM",
         "rawType": "int64",
         "type": "integer"
        },
        {
         "name": "F3ATTAINMENTIM",
         "rawType": "int64",
         "type": "integer"
        },
        {
         "name": "F3STEXPIM",
         "rawType": "int64",
         "type": "integer"
        },
        {
         "name": "F3EVRJOBIM",
         "rawType": "int64",
         "type": "integer"
        },
        {
         "name": "F3EMPSTATIM",
         "rawType": "int64",
         "type": "integer"
        },
        {
         "name": "F3ERN2011IM",
         "rawType": "int64",
         "type": "integer"
        },
        {
         "name": "F3SPERN2011IM",
         "rawType": "int64",
         "type": "integer"
        },
        {
         "name": "F3STLOANEVRIM",
         "rawType": "int64",
         "type": "integer"
        },
        {
         "name": "F3STLOANAMTIM",
         "rawType": "int64",
         "type": "integer"
        },
        {
         "name": "F3STLOANPAYIM",
         "rawType": "int64",
         "type": "integer"
        },
        {
         "name": "F3ONET6AGE30IM",
         "rawType": "int64",
         "type": "integer"
        },
        {
         "name": "F3HS2BAIM",
         "rawType": "int64",
         "type": "integer"
        },
        {
         "name": "F3PS2BAIM",
         "rawType": "int64",
         "type": "integer"
        },
        {
         "name": "F3QTSCWT_O",
         "rawType": "float64",
         "type": "float"
        },
        {
         "name": "F3BYTSCWT_O",
         "rawType": "float64",
         "type": "float"
        },
        {
         "name": "F3F1TSCWT_O",
         "rawType": "float64",
         "type": "float"
        },
        {
         "name": "F3NSLDSSTAT",
         "rawType": "int64",
         "type": "integer"
        },
        {
         "name": "F3CPS10STAT",
         "rawType": "int64",
         "type": "integer"
        },
        {
         "name": "F3CPS11STAT",
         "rawType": "int64",
         "type": "integer"
        },
        {
         "name": "F3CPS12STAT",
         "rawType": "int64",
         "type": "integer"
        },
        {
         "name": "F3CPS13STAT",
         "rawType": "int64",
         "type": "integer"
        },
        {
         "name": "F3CPS14STAT",
         "rawType": "int64",
         "type": "integer"
        },
        {
         "name": "F3FEDLNCUM",
         "rawType": "int64",
         "type": "integer"
        },
        {
         "name": "F3FEDLNDUE",
         "rawType": "int64",
         "type": "integer"
        },
        {
         "name": "F3FEDCUM3",
         "rawType": "int64",
         "type": "integer"
        },
        {
         "name": "F3FEDDUE3",
         "rawType": "int64",
         "type": "integer"
        },
        {
         "name": "F3SUBCUM3",
         "rawType": "int64",
         "type": "integer"
        },
        {
         "name": "F3STFCUM3",
         "rawType": "int64",
         "type": "integer"
        },
        {
         "name": "F3CNSDUE",
         "rawType": "int64",
         "type": "integer"
        },
        {
         "name": "F3CNSOWED",
         "rawType": "int64",
         "type": "integer"
        },
        {
         "name": "F3PELLCUM",
         "rawType": "int64",
         "type": "integer"
        },
        {
         "name": "F3PLUSCUM",
         "rawType": "int64",
         "type": "integer"
        },
        {
         "name": "F3GPLUSCUM",
         "rawType": "int64",
         "type": "integer"
        },
        {
         "name": "F3PERKCUM",
         "rawType": "int64",
         "type": "integer"
        },
        {
         "name": "F3STAFSCUM",
         "rawType": "int64",
         "type": "integer"
        },
        {
         "name": "F3STAFTCUM",
         "rawType": "int64",
         "type": "integer"
        },
        {
         "name": "F3STAFUCUM",
         "rawType": "int64",
         "type": "integer"
        },
        {
         "name": "F3SPPCUM",
         "rawType": "int64",
         "type": "integer"
        },
        {
         "name": "F3SPPDUE",
         "rawType": "int64",
         "type": "integer"
        },
        {
         "name": "F3SPPOWED",
         "rawType": "int64",
         "type": "integer"
        },
        {
         "name": "F3SSPCUM",
         "rawType": "int64",
         "type": "integer"
        },
        {
         "name": "F3STPCUM",
         "rawType": "int64",
         "type": "integer"
        },
        {
         "name": "F3STPDUE",
         "rawType": "int64",
         "type": "integer"
        },
        {
         "name": "F3STPOWED",
         "rawType": "int64",
         "type": "integer"
        },
        {
         "name": "F3TOTOWED",
         "rawType": "int64",
         "type": "integer"
        },
        {
         "name": "F3PELLYRS",
         "rawType": "int64",
         "type": "integer"
        },
        {
         "name": "F3PELL0405",
         "rawType": "int64",
         "type": "integer"
        },
        {
         "name": "F3PELL0506",
         "rawType": "int64",
         "type": "integer"
        },
        {
         "name": "F3PELL0607",
         "rawType": "int64",
         "type": "integer"
        },
        {
         "name": "F3PELL0708",
         "rawType": "int64",
         "type": "integer"
        },
        {
         "name": "F3PELL0809",
         "rawType": "int64",
         "type": "integer"
        },
        {
         "name": "F3PELL0910",
         "rawType": "int64",
         "type": "integer"
        },
        {
         "name": "F3PELL1011",
         "rawType": "int64",
         "type": "integer"
        },
        {
         "name": "F3PELL1112",
         "rawType": "int64",
         "type": "integer"
        },
        {
         "name": "F3PELL1213",
         "rawType": "int64",
         "type": "integer"
        },
        {
         "name": "F3PLUSYRS",
         "rawType": "int64",
         "type": "integer"
        },
        {
         "name": "F3PLUS0405",
         "rawType": "int64",
         "type": "integer"
        },
        {
         "name": "F3PLUS0506",
         "rawType": "int64",
         "type": "integer"
        },
        {
         "name": "F3PLUS0607",
         "rawType": "int64",
         "type": "integer"
        },
        {
         "name": "F3PLUS0708",
         "rawType": "int64",
         "type": "integer"
        },
        {
         "name": "F3PLUS0809",
         "rawType": "int64",
         "type": "integer"
        },
        {
         "name": "F3PLUS0910",
         "rawType": "int64",
         "type": "integer"
        },
        {
         "name": "F3PLUS1011",
         "rawType": "int64",
         "type": "integer"
        },
        {
         "name": "F3PLUS1112",
         "rawType": "int64",
         "type": "integer"
        },
        {
         "name": "F3PLUS1213",
         "rawType": "int64",
         "type": "integer"
        },
        {
         "name": "F3STAFYRS",
         "rawType": "int64",
         "type": "integer"
        },
        {
         "name": "F3STFY0405",
         "rawType": "int64",
         "type": "integer"
        },
        {
         "name": "F3STFY0506",
         "rawType": "int64",
         "type": "integer"
        },
        {
         "name": "F3STFY0607",
         "rawType": "int64",
         "type": "integer"
        },
        {
         "name": "F3STFY0708",
         "rawType": "int64",
         "type": "integer"
        },
        {
         "name": "F3STFY0809",
         "rawType": "int64",
         "type": "integer"
        },
        {
         "name": "F3STFY0910",
         "rawType": "int64",
         "type": "integer"
        },
        {
         "name": "F3STFY1011",
         "rawType": "int64",
         "type": "integer"
        },
        {
         "name": "F3STFY1112",
         "rawType": "int64",
         "type": "integer"
        },
        {
         "name": "F3STFY1213",
         "rawType": "int64",
         "type": "integer"
        },
        {
         "name": "F3STSB0405",
         "rawType": "int64",
         "type": "integer"
        },
        {
         "name": "F3STSB0506",
         "rawType": "int64",
         "type": "integer"
        },
        {
         "name": "F3STSB0607",
         "rawType": "int64",
         "type": "integer"
        },
        {
         "name": "F3STSB0708",
         "rawType": "int64",
         "type": "integer"
        },
        {
         "name": "F3STSB0809",
         "rawType": "int64",
         "type": "integer"
        },
        {
         "name": "F3STSB0910",
         "rawType": "int64",
         "type": "integer"
        },
        {
         "name": "F3STSB1011",
         "rawType": "int64",
         "type": "integer"
        },
        {
         "name": "F3STSB1112",
         "rawType": "int64",
         "type": "integer"
        },
        {
         "name": "F3STSB1213",
         "rawType": "int64",
         "type": "integer"
        },
        {
         "name": "F3STUN0405",
         "rawType": "int64",
         "type": "integer"
        },
        {
         "name": "F3STUN0506",
         "rawType": "int64",
         "type": "integer"
        },
        {
         "name": "F3STUN0607",
         "rawType": "int64",
         "type": "integer"
        },
        {
         "name": "F3STUN0708",
         "rawType": "int64",
         "type": "integer"
        },
        {
         "name": "F3STUN0809",
         "rawType": "int64",
         "type": "integer"
        },
        {
         "name": "F3STUN0910",
         "rawType": "int64",
         "type": "integer"
        },
        {
         "name": "F3STUN1011",
         "rawType": "int64",
         "type": "integer"
        },
        {
         "name": "F3STUN1112",
         "rawType": "int64",
         "type": "integer"
        },
        {
         "name": "F3STUN1213",
         "rawType": "int64",
         "type": "integer"
        },
        {
         "name": "PSWT",
         "rawType": "float64",
         "type": "float"
        },
        {
         "name": "F3BYPNLPSWT",
         "rawType": "float64",
         "type": "float"
        },
        {
         "name": "F3BYTSCPSWT",
         "rawType": "float64",
         "type": "float"
        },
        {
         "name": "F3F1PNLPSWT",
         "rawType": "float64",
         "type": "float"
        },
        {
         "name": "F3F1TSCPSWT",
         "rawType": "float64",
         "type": "float"
        },
        {
         "name": "F3QPSWT",
         "rawType": "float64",
         "type": "float"
        },
        {
         "name": "F3QTSCPSWT",
         "rawType": "float64",
         "type": "float"
        },
        {
         "name": "PSTSCWT",
         "rawType": "float64",
         "type": "float"
        },
        {
         "name": "F3TZTRANRESP",
         "rawType": "int64",
         "type": "integer"
        },
        {
         "name": "F3TZCOVERAGE",
         "rawType": "int64",
         "type": "integer"
        },
        {
         "name": "F3TZSCHTOTAL",
         "rawType": "int64",
         "type": "integer"
        },
        {
         "name": "F3TZREQTRANS",
         "rawType": "int64",
         "type": "integer"
        },
        {
         "name": "F3TZRECTRANS",
         "rawType": "int64",
         "type": "integer"
        },
        {
         "name": "F3TZENROLLST",
         "rawType": "int64",
         "type": "integer"
        },
        {
         "name": "F3TZMONENROL",
         "rawType": "int64",
         "type": "integer"
        },
        {
         "name": "F3TZSTOPGT4M",
         "rawType": "int64",
         "type": "integer"
        },
        {
         "name": "F3TZTOTLSTOP",
         "rawType": "int64",
         "type": "integer"
        },
        {
         "name": "F3TZPS1CTR",
         "rawType": "int64",
         "type": "integer"
        },
        {
         "name": "F3TZPS1LVL",
         "rawType": "int64",
         "type": "integer"
        },
        {
         "name": "F3TZPS1SEC",
         "rawType": "int64",
         "type": "integer"
        },
        {
         "name": "F3TZPS1SLC",
         "rawType": "int64",
         "type": "integer"
        },
        {
         "name": "F3TZPS1START",
         "rawType": "int64",
         "type": "integer"
        },
        {
         "name": "F3TZHS2PS1",
         "rawType": "int64",
         "type": "integer"
        },
        {
         "name": "F3TZLSTYRENR",
         "rawType": "int64",
         "type": "integer"
        },
        {
         "name": "F3TZEVER4YR",
         "rawType": "int64",
         "type": "integer"
        },
        {
         "name": "F3TZEVER2YR",
         "rawType": "int64",
         "type": "integer"
        },
        {
         "name": "F3TZEVERLT2",
         "rawType": "int64",
         "type": "integer"
        },
        {
         "name": "F3TZEVERHBCU",
         "rawType": "int64",
         "type": "integer"
        },
        {
         "name": "F3TZANYDEGRE",
         "rawType": "int64",
         "type": "integer"
        },
        {
         "name": "F3TZHIGHDEG",
         "rawType": "int64",
         "type": "integer"
        },
        {
         "name": "F3TZHIGHDEGH",
         "rawType": "int64",
         "type": "integer"
        },
        {
         "name": "F3TZSCHCOMBO",
         "rawType": "int64",
         "type": "integer"
        },
        {
         "name": "F3TZDEG1LVL",
         "rawType": "int64",
         "type": "integer"
        },
        {
         "name": "F3TZDEG1CTR",
         "rawType": "int64",
         "type": "integer"
        },
        {
         "name": "F3TZDEG1SEC",
         "rawType": "int64",
         "type": "integer"
        },
        {
         "name": "F3TZDEG1SLC",
         "rawType": "int64",
         "type": "integer"
        },
        {
         "name": "F3TZDEG1STRT",
         "rawType": "int64",
         "type": "integer"
        },
        {
         "name": "F3TZCERT1DT",
         "rawType": "int64",
         "type": "integer"
        },
        {
         "name": "F3TZCRT1CIP2",
         "rawType": "int64",
         "type": "integer"
        },
        {
         "name": "F3TZCRT1CIP6",
         "rawType": "int64",
         "type": "integer"
        },
        {
         "name": "F3TZCERTLTDT",
         "rawType": "int64",
         "type": "integer"
        },
        {
         "name": "F3TZCRTLCIP2",
         "rawType": "int64",
         "type": "integer"
        },
        {
         "name": "F3TZCRTLCIP6",
         "rawType": "int64",
         "type": "integer"
        },
        {
         "name": "F3TZASOC1DT",
         "rawType": "int64",
         "type": "integer"
        },
        {
         "name": "F3TZASC1CIP2",
         "rawType": "int64",
         "type": "integer"
        },
        {
         "name": "F3TZASC1CIP6",
         "rawType": "int64",
         "type": "integer"
        },
        {
         "name": "F3TZASOCLTDT",
         "rawType": "int64",
         "type": "integer"
        },
        {
         "name": "F3TZASCLCIP2",
         "rawType": "int64",
         "type": "integer"
        },
        {
         "name": "F3TZASCLCIP6",
         "rawType": "int64",
         "type": "integer"
        },
        {
         "name": "F3TZBACH1DT",
         "rawType": "int64",
         "type": "integer"
        },
        {
         "name": "F3TZBCH1CIP2",
         "rawType": "int64",
         "type": "integer"
        },
        {
         "name": "F3TZBCH1CIP6",
         "rawType": "int64",
         "type": "integer"
        },
        {
         "name": "F3TZBACHLTDT",
         "rawType": "int64",
         "type": "integer"
        },
        {
         "name": "F3TZBCHLCIP2",
         "rawType": "int64",
         "type": "integer"
        },
        {
         "name": "F3TZBCHLCIP6",
         "rawType": "int64",
         "type": "integer"
        },
        {
         "name": "F3TZBACHL23",
         "rawType": "int64",
         "type": "integer"
        },
        {
         "name": "F3TZSTEM1CRED",
         "rawType": "int64",
         "type": "integer"
        },
        {
         "name": "F3TZSTEM2CRED",
         "rawType": "int64",
         "type": "integer"
        },
        {
         "name": "F3TZSCENCRED",
         "rawType": "int64",
         "type": "integer"
        },
        {
         "name": "F3TZSCENRCRED",
         "rawType": "int64",
         "type": "integer"
        },
        {
         "name": "F3TZPS2BA",
         "rawType": "int64",
         "type": "integer"
        },
        {
         "name": "F3TZPS2ASSOC",
         "rawType": "int64",
         "type": "integer"
        },
        {
         "name": "F3TZTMAS2BCH",
         "rawType": "int64",
         "type": "integer"
        },
        {
         "name": "F3TZPS2AWD1",
         "rawType": "int64",
         "type": "integer"
        },
        {
         "name": "F3TZ4YRAATT",
         "rawType": "int64",
         "type": "integer"
        },
        {
         "name": "F3TZ4YRAERN",
         "rawType": "int64",
         "type": "integer"
        },
        {
         "name": "F3TZ2YRAATT",
         "rawType": "int64",
         "type": "integer"
        },
        {
         "name": "F3TZ2YRAERN",
         "rawType": "int64",
         "type": "integer"
        },
        {
         "name": "F3TZLT2ATT",
         "rawType": "int64",
         "type": "integer"
        },
        {
         "name": "F3TZLT2ERN",
         "rawType": "int64",
         "type": "integer"
        },
        {
         "name": "F3TZNUMCRSWD",
         "rawType": "int64",
         "type": "integer"
        },
        {
         "name": "F3TZREMTOT",
         "rawType": "int64",
         "type": "integer"
        },
        {
         "name": "F3TZREMPASS",
         "rawType": "int64",
         "type": "integer"
        },
        {
         "name": "F3TZREMENGPS",
         "rawType": "int64",
         "type": "integer"
        },
        {
         "name": "F3TZREMENTOT",
         "rawType": "int64",
         "type": "integer"
        },
        {
         "name": "F3TZREMMTHPS",
         "rawType": "int64",
         "type": "integer"
        },
        {
         "name": "F3TZREMMTTOT",
         "rawType": "int64",
         "type": "integer"
        },
        {
         "name": "F3TZPOSTATT",
         "rawType": "int64",
         "type": "integer"
        },
        {
         "name": "F3TZPOSTERN",
         "rawType": "int64",
         "type": "integer"
        },
        {
         "name": "F3TZPSEERNAT",
         "rawType": "int64",
         "type": "integer"
        },
        {
         "name": "F3TZGPAALL",
         "rawType": "float64",
         "type": "float"
        },
        {
         "name": "F3TZGPA1STSC",
         "rawType": "float64",
         "type": "float"
        },
        {
         "name": "F3TZGPALAST",
         "rawType": "float64",
         "type": "float"
        },
        {
         "name": "F3TZGPAASSOC",
         "rawType": "float64",
         "type": "float"
        },
        {
         "name": "F3TZYR1ERN",
         "rawType": "int64",
         "type": "integer"
        },
        {
         "name": "F3TZYR2ERN",
         "rawType": "int64",
         "type": "integer"
        },
        {
         "name": "F3TZYR12ERN",
         "rawType": "int64",
         "type": "integer"
        },
        {
         "name": "F3TZYR1GPA",
         "rawType": "float64",
         "type": "float"
        },
        {
         "name": "F3TZYR2GPA",
         "rawType": "float64",
         "type": "float"
        },
        {
         "name": "F3TZALABATT",
         "rawType": "int64",
         "type": "integer"
        },
        {
         "name": "F3TZALABERN",
         "rawType": "int64",
         "type": "integer"
        },
        {
         "name": "F3TZALABGPA",
         "rawType": "float64",
         "type": "float"
        },
        {
         "name": "F3TZALABTOT",
         "rawType": "int64",
         "type": "integer"
        },
        {
         "name": "F3TZASCIATT",
         "rawType": "int64",
         "type": "integer"
        },
        {
         "name": "F3TZASCIERN",
         "rawType": "int64",
         "type": "integer"
        },
        {
         "name": "F3TZASCIGPA",
         "rawType": "float64",
         "type": "float"
        },
        {
         "name": "F3TZASCITOT",
         "rawType": "int64",
         "type": "integer"
        },
        {
         "name": "F3TZBIOLATT",
         "rawType": "int64",
         "type": "integer"
        },
        {
         "name": "F3TZBIOLERN",
         "rawType": "int64",
         "type": "integer"
        },
        {
         "name": "F3TZBIOLGPA",
         "rawType": "float64",
         "type": "float"
        },
        {
         "name": "F3TZBIOLTOT",
         "rawType": "int64",
         "type": "integer"
        },
        {
         "name": "F3TZCALCATT",
         "rawType": "int64",
         "type": "integer"
        },
        {
         "name": "F3TZCALCERN",
         "rawType": "int64",
         "type": "integer"
        },
        {
         "name": "F3TZCALCGPA",
         "rawType": "float64",
         "type": "float"
        },
        {
         "name": "F3TZCALCTOT",
         "rawType": "int64",
         "type": "integer"
        },
        {
         "name": "F3TZCMTHATT",
         "rawType": "int64",
         "type": "integer"
        },
        {
         "name": "F3TZCMTHERN",
         "rawType": "int64",
         "type": "integer"
        },
        {
         "name": "F3TZCMTHGPA",
         "rawType": "float64",
         "type": "float"
        },
        {
         "name": "F3TZCMTHTOT",
         "rawType": "int64",
         "type": "integer"
        },
        {
         "name": "F3TZENGIATT",
         "rawType": "int64",
         "type": "integer"
        },
        {
         "name": "F3TZENGIERN",
         "rawType": "int64",
         "type": "integer"
        },
        {
         "name": "F3TZENGIGPA",
         "rawType": "float64",
         "type": "float"
        },
        {
         "name": "F3TZENGITOT",
         "rawType": "int64",
         "type": "integer"
        },
        {
         "name": "F3TZENGRATT",
         "rawType": "int64",
         "type": "integer"
        },
        {
         "name": "F3TZENGRERN",
         "rawType": "int64",
         "type": "integer"
        },
        {
         "name": "F3TZENGRGPA",
         "rawType": "float64",
         "type": "float"
        },
        {
         "name": "F3TZENGRTOT",
         "rawType": "int64",
         "type": "integer"
        },
        {
         "name": "F3TZILABATT",
         "rawType": "int64",
         "type": "integer"
        },
        {
         "name": "F3TZILABERN",
         "rawType": "int64",
         "type": "integer"
        },
        {
         "name": "F3TZILABGPA",
         "rawType": "float64",
         "type": "float"
        },
        {
         "name": "F3TZILABTOT",
         "rawType": "int64",
         "type": "integer"
        },
        {
         "name": "F3TZSTATATT",
         "rawType": "int64",
         "type": "integer"
        },
        {
         "name": "F3TZSTATERN",
         "rawType": "int64",
         "type": "integer"
        },
        {
         "name": "F3TZSTATGPA",
         "rawType": "float64",
         "type": "float"
        },
        {
         "name": "F3TZSTATTOT",
         "rawType": "int64",
         "type": "integer"
        },
        {
         "name": "F3TZCTEATT",
         "rawType": "int64",
         "type": "integer"
        },
        {
         "name": "F3TZCTEERN",
         "rawType": "int64",
         "type": "integer"
        },
        {
         "name": "F3TZCTEGPA",
         "rawType": "float64",
         "type": "float"
        },
        {
         "name": "F3TZCTETOT",
         "rawType": "int64",
         "type": "integer"
        },
        {
         "name": "F3TZNSTM1ATT",
         "rawType": "int64",
         "type": "integer"
        },
        {
         "name": "F3TZNSTM1ERN",
         "rawType": "int64",
         "type": "integer"
        },
        {
         "name": "F3TZNSTM1GPA",
         "rawType": "float64",
         "type": "float"
        },
        {
         "name": "F3TZNSTM1TOT",
         "rawType": "int64",
         "type": "integer"
        },
        {
         "name": "F3TZSCENATT",
         "rawType": "int64",
         "type": "integer"
        },
        {
         "name": "F3TZSCENERN",
         "rawType": "int64",
         "type": "integer"
        },
        {
         "name": "F3TZSCENGPA",
         "rawType": "float64",
         "type": "float"
        },
        {
         "name": "F3TZSCENTOT",
         "rawType": "int64",
         "type": "integer"
        },
        {
         "name": "F3TZSCENRATT",
         "rawType": "int64",
         "type": "integer"
        },
        {
         "name": "F3TZSCENRERN",
         "rawType": "int64",
         "type": "integer"
        },
        {
         "name": "F3TZSCENRGPA",
         "rawType": "float64",
         "type": "float"
        },
        {
         "name": "F3TZSCENRTOT",
         "rawType": "int64",
         "type": "integer"
        },
        {
         "name": "F3TZSTEM1ATT",
         "rawType": "int64",
         "type": "integer"
        },
        {
         "name": "F3TZSTEM1ERN",
         "rawType": "int64",
         "type": "integer"
        },
        {
         "name": "F3TZSTEM1GPA",
         "rawType": "float64",
         "type": "float"
        },
        {
         "name": "F3TZSTEM1TOT",
         "rawType": "int64",
         "type": "integer"
        },
        {
         "name": "F3TZSTEM2ATT",
         "rawType": "int64",
         "type": "integer"
        },
        {
         "name": "F3TZSTEM2ERN",
         "rawType": "int64",
         "type": "integer"
        },
        {
         "name": "F3TZSTEM2GPA",
         "rawType": "float64",
         "type": "float"
        },
        {
         "name": "F3TZSTEM2TOT",
         "rawType": "int64",
         "type": "integer"
        },
        {
         "name": "F3BYONET302",
         "rawType": "int64",
         "type": "integer"
        },
        {
         "name": "F3BYONET306",
         "rawType": "int64",
         "type": "integer"
        },
        {
         "name": "F3F1ONET302",
         "rawType": "int64",
         "type": "integer"
        },
        {
         "name": "F3F1ONET306",
         "rawType": "int64",
         "type": "integer"
        },
        {
         "name": "F3F1ONETF2",
         "rawType": "int64",
         "type": "integer"
        },
        {
         "name": "F3F1ONETF6",
         "rawType": "int64",
         "type": "integer"
        },
        {
         "name": "F3F1ONETM2",
         "rawType": "int64",
         "type": "integer"
        },
        {
         "name": "F3F1ONETM6",
         "rawType": "int64",
         "type": "integer"
        },
        {
         "name": "F3BYSTEMOC30",
         "rawType": "object",
         "type": "string"
        },
        {
         "name": "F3F1STEMOC30",
         "rawType": "object",
         "type": "string"
        },
        {
         "name": "F3F1STEMOCCF",
         "rawType": "object",
         "type": "string"
        },
        {
         "name": "F3F1STEMOCCM",
         "rawType": "object",
         "type": "string"
        },
        {
         "name": "F2STEMOCC16",
         "rawType": "int64",
         "type": "integer"
        },
        {
         "name": "F2STEMOCC36",
         "rawType": "object",
         "type": "string"
        },
        {
         "name": "F2STEMOCCC6",
         "rawType": "object",
         "type": "string"
        },
        {
         "name": "F3STEMOCCA30",
         "rawType": "object",
         "type": "string"
        },
        {
         "name": "F3STEMOCCCUR",
         "rawType": "object",
         "type": "string"
        },
        {
         "name": "F3STEM1CRED",
         "rawType": "int64",
         "type": "integer"
        },
        {
         "name": "F3STEM2CRED",
         "rawType": "int64",
         "type": "integer"
        },
        {
         "name": "F3SCENCRED",
         "rawType": "int64",
         "type": "integer"
        },
        {
         "name": "F3SCENRCRED",
         "rawType": "int64",
         "type": "integer"
        },
        {
         "name": "F3GEDMATCH",
         "rawType": "int64",
         "type": "integer"
        },
        {
         "name": "F3GEDPASSD",
         "rawType": "int64",
         "type": "integer"
        },
        {
         "name": "F3GEDPASDT",
         "rawType": "int64",
         "type": "integer"
        },
        {
         "name": "F3GEDSTATE",
         "rawType": "int64",
         "type": "integer"
        },
        {
         "name": "F3EVRGED_U",
         "rawType": "int64",
         "type": "integer"
        },
        {
         "name": "BYS14",
         "rawType": "int64",
         "type": "integer"
        },
        {
         "name": "BYS15",
         "rawType": "int64",
         "type": "integer"
        },
        {
         "name": "BYS16",
         "rawType": "int64",
         "type": "integer"
        },
        {
         "name": "BYS17A",
         "rawType": "int64",
         "type": "integer"
        },
        {
         "name": "BYS17B",
         "rawType": "int64",
         "type": "integer"
        },
        {
         "name": "BYS17C",
         "rawType": "int64",
         "type": "integer"
        },
        {
         "name": "BYS17D",
         "rawType": "int64",
         "type": "integer"
        },
        {
         "name": "BYS17E",
         "rawType": "int64",
         "type": "integer"
        },
        {
         "name": "BYS18",
         "rawType": "int64",
         "type": "integer"
        },
        {
         "name": "BYS20A",
         "rawType": "int64",
         "type": "integer"
        },
        {
         "name": "BYS20B",
         "rawType": "int64",
         "type": "integer"
        },
        {
         "name": "BYS20C",
         "rawType": "int64",
         "type": "integer"
        },
        {
         "name": "BYS20D",
         "rawType": "int64",
         "type": "integer"
        },
        {
         "name": "BYS20E",
         "rawType": "int64",
         "type": "integer"
        },
        {
         "name": "BYS20F",
         "rawType": "int64",
         "type": "integer"
        },
        {
         "name": "BYS20G",
         "rawType": "int64",
         "type": "integer"
        },
        {
         "name": "BYS20H",
         "rawType": "int64",
         "type": "integer"
        },
        {
         "name": "BYS20I",
         "rawType": "int64",
         "type": "integer"
        },
        {
         "name": "BYS20J",
         "rawType": "int64",
         "type": "integer"
        },
        {
         "name": "BYS20K",
         "rawType": "int64",
         "type": "integer"
        },
        {
         "name": "BYS20L",
         "rawType": "int64",
         "type": "integer"
        },
        {
         "name": "BYS20M",
         "rawType": "int64",
         "type": "integer"
        },
        {
         "name": "BYS20N",
         "rawType": "int64",
         "type": "integer"
        },
        {
         "name": "BYS21A",
         "rawType": "int64",
         "type": "integer"
        },
        {
         "name": "BYS21B",
         "rawType": "int64",
         "type": "integer"
        },
        {
         "name": "BYS21C",
         "rawType": "int64",
         "type": "integer"
        },
        {
         "name": "BYS21D",
         "rawType": "int64",
         "type": "integer"
        },
        {
         "name": "BYS21E",
         "rawType": "int64",
         "type": "integer"
        },
        {
         "name": "BYS22A",
         "rawType": "int64",
         "type": "integer"
        },
        {
         "name": "BYS22B",
         "rawType": "int64",
         "type": "integer"
        },
        {
         "name": "BYS22C",
         "rawType": "int64",
         "type": "integer"
        },
        {
         "name": "BYS22D",
         "rawType": "int64",
         "type": "integer"
        },
        {
         "name": "BYS22E",
         "rawType": "int64",
         "type": "integer"
        },
        {
         "name": "BYS22F",
         "rawType": "int64",
         "type": "integer"
        },
        {
         "name": "BYS22G",
         "rawType": "int64",
         "type": "integer"
        },
        {
         "name": "BYS22H",
         "rawType": "int64",
         "type": "integer"
        },
        {
         "name": "BYS23A",
         "rawType": "int64",
         "type": "integer"
        },
        {
         "name": "BYS23B",
         "rawType": "int64",
         "type": "integer"
        },
        {
         "name": "BYS23C",
         "rawType": "int64",
         "type": "integer"
        },
        {
         "name": "BYS23D",
         "rawType": "int64",
         "type": "integer"
        },
        {
         "name": "BYS23E",
         "rawType": "int64",
         "type": "integer"
        },
        {
         "name": "BYS23F",
         "rawType": "int64",
         "type": "integer"
        },
        {
         "name": "BYS24A",
         "rawType": "int64",
         "type": "integer"
        },
        {
         "name": "BYS24B",
         "rawType": "int64",
         "type": "integer"
        },
        {
         "name": "BYS24C",
         "rawType": "int64",
         "type": "integer"
        },
        {
         "name": "BYS24D",
         "rawType": "int64",
         "type": "integer"
        },
        {
         "name": "BYS24E",
         "rawType": "int64",
         "type": "integer"
        },
        {
         "name": "BYS24F",
         "rawType": "int64",
         "type": "integer"
        },
        {
         "name": "BYS24G",
         "rawType": "int64",
         "type": "integer"
        },
        {
         "name": "BYS25AA",
         "rawType": "int64",
         "type": "integer"
        },
        {
         "name": "BYS25BA",
         "rawType": "int64",
         "type": "integer"
        },
        {
         "name": "BYS25CAA",
         "rawType": "int64",
         "type": "integer"
        },
        {
         "name": "BYS25CAB",
         "rawType": "int64",
         "type": "integer"
        },
        {
         "name": "BYS25CAC",
         "rawType": "int64",
         "type": "integer"
        },
        {
         "name": "BYS25CAD",
         "rawType": "int64",
         "type": "integer"
        },
        {
         "name": "BYS25CAE",
         "rawType": "int64",
         "type": "integer"
        },
        {
         "name": "BYS25DA",
         "rawType": "int64",
         "type": "integer"
        },
        {
         "name": "BYS25EA",
         "rawType": "int64",
         "type": "integer"
        },
        {
         "name": "BYS25FA",
         "rawType": "int64",
         "type": "integer"
        },
        {
         "name": "BYS25GA",
         "rawType": "int64",
         "type": "integer"
        },
        {
         "name": "BYS25AB",
         "rawType": "int64",
         "type": "integer"
        },
        {
         "name": "BYS25BB",
         "rawType": "int64",
         "type": "integer"
        },
        {
         "name": "BYS25CBA",
         "rawType": "int64",
         "type": "integer"
        },
        {
         "name": "BYS25CBB",
         "rawType": "int64",
         "type": "integer"
        },
        {
         "name": "BYS25CBC",
         "rawType": "int64",
         "type": "integer"
        },
        {
         "name": "BYS25CBD",
         "rawType": "int64",
         "type": "integer"
        },
        {
         "name": "BYS25CBE",
         "rawType": "int64",
         "type": "integer"
        },
        {
         "name": "BYS25DB",
         "rawType": "int64",
         "type": "integer"
        },
        {
         "name": "BYS25EB",
         "rawType": "int64",
         "type": "integer"
        },
        {
         "name": "BYS25FB",
         "rawType": "int64",
         "type": "integer"
        },
        {
         "name": "BYS25GB",
         "rawType": "int64",
         "type": "integer"
        },
        {
         "name": "BYS25AC",
         "rawType": "int64",
         "type": "integer"
        },
        {
         "name": "BYS25BC",
         "rawType": "int64",
         "type": "integer"
        },
        {
         "name": "BYS25CCA",
         "rawType": "int64",
         "type": "integer"
        },
        {
         "name": "BYS25CCB",
         "rawType": "int64",
         "type": "integer"
        },
        {
         "name": "BYS25CCC",
         "rawType": "int64",
         "type": "integer"
        },
        {
         "name": "BYS25CCD",
         "rawType": "int64",
         "type": "integer"
        },
        {
         "name": "BYS25CCE",
         "rawType": "int64",
         "type": "integer"
        },
        {
         "name": "BYS25DC",
         "rawType": "int64",
         "type": "integer"
        },
        {
         "name": "BYS25EC",
         "rawType": "int64",
         "type": "integer"
        },
        {
         "name": "BYS25FC",
         "rawType": "int64",
         "type": "integer"
        },
        {
         "name": "BYS25GC",
         "rawType": "int64",
         "type": "integer"
        },
        {
         "name": "BYS26",
         "rawType": "int64",
         "type": "integer"
        },
        {
         "name": "BYS27A",
         "rawType": "int64",
         "type": "integer"
        },
        {
         "name": "BYS27B",
         "rawType": "int64",
         "type": "integer"
        },
        {
         "name": "BYS27C",
         "rawType": "int64",
         "type": "integer"
        },
        {
         "name": "BYS27D",
         "rawType": "int64",
         "type": "integer"
        },
        {
         "name": "BYS27E",
         "rawType": "int64",
         "type": "integer"
        },
        {
         "name": "BYS27F",
         "rawType": "int64",
         "type": "integer"
        },
        {
         "name": "BYS27G",
         "rawType": "int64",
         "type": "integer"
        },
        {
         "name": "BYS27H",
         "rawType": "int64",
         "type": "integer"
        },
        {
         "name": "BYS27I",
         "rawType": "int64",
         "type": "integer"
        },
        {
         "name": "BYS28",
         "rawType": "int64",
         "type": "integer"
        },
        {
         "name": "BYS29A",
         "rawType": "int64",
         "type": "integer"
        },
        {
         "name": "BYS29B",
         "rawType": "int64",
         "type": "integer"
        },
        {
         "name": "BYS29C",
         "rawType": "int64",
         "type": "integer"
        },
        {
         "name": "BYS29D",
         "rawType": "int64",
         "type": "integer"
        },
        {
         "name": "BYS29E",
         "rawType": "int64",
         "type": "integer"
        },
        {
         "name": "BYS29F",
         "rawType": "int64",
         "type": "integer"
        },
        {
         "name": "BYS29G",
         "rawType": "int64",
         "type": "integer"
        },
        {
         "name": "BYS29H",
         "rawType": "int64",
         "type": "integer"
        },
        {
         "name": "BYS29I",
         "rawType": "int64",
         "type": "integer"
        },
        {
         "name": "BYS29J",
         "rawType": "int64",
         "type": "integer"
        },
        {
         "name": "BYS30",
         "rawType": "int64",
         "type": "integer"
        },
        {
         "name": "BYS31A",
         "rawType": "int64",
         "type": "integer"
        },
        {
         "name": "BYS31B",
         "rawType": "int64",
         "type": "integer"
        },
        {
         "name": "BYS31C",
         "rawType": "int64",
         "type": "integer"
        },
        {
         "name": "BYS31D",
         "rawType": "int64",
         "type": "integer"
        },
        {
         "name": "BYS31E",
         "rawType": "int64",
         "type": "integer"
        },
        {
         "name": "BYS31F",
         "rawType": "int64",
         "type": "integer"
        },
        {
         "name": "BYS31G",
         "rawType": "int64",
         "type": "integer"
        },
        {
         "name": "BYS31H",
         "rawType": "int64",
         "type": "integer"
        },
        {
         "name": "BYS32AA",
         "rawType": "int64",
         "type": "integer"
        },
        {
         "name": "BYS32BA",
         "rawType": "int64",
         "type": "integer"
        },
        {
         "name": "BYS32CA",
         "rawType": "int64",
         "type": "integer"
        },
        {
         "name": "BYS32DA",
         "rawType": "int64",
         "type": "integer"
        },
        {
         "name": "BYS32EA",
         "rawType": "int64",
         "type": "integer"
        },
        {
         "name": "BYS32FA",
         "rawType": "int64",
         "type": "integer"
        },
        {
         "name": "BYS32GA",
         "rawType": "int64",
         "type": "integer"
        },
        {
         "name": "BYS32HA",
         "rawType": "int64",
         "type": "integer"
        },
        {
         "name": "BYS32AB",
         "rawType": "int64",
         "type": "integer"
        },
        {
         "name": "BYS32BB",
         "rawType": "int64",
         "type": "integer"
        },
        {
         "name": "BYS32CB",
         "rawType": "int64",
         "type": "integer"
        },
        {
         "name": "BYS32DB",
         "rawType": "int64",
         "type": "integer"
        },
        {
         "name": "BYS32EB",
         "rawType": "int64",
         "type": "integer"
        },
        {
         "name": "BYS32FB",
         "rawType": "int64",
         "type": "integer"
        },
        {
         "name": "BYS32GB",
         "rawType": "int64",
         "type": "integer"
        },
        {
         "name": "BYS32HB",
         "rawType": "int64",
         "type": "integer"
        },
        {
         "name": "BYS33A",
         "rawType": "int64",
         "type": "integer"
        },
        {
         "name": "BYS33B",
         "rawType": "int64",
         "type": "integer"
        },
        {
         "name": "BYS33C",
         "rawType": "int64",
         "type": "integer"
        },
        {
         "name": "BYS33D",
         "rawType": "int64",
         "type": "integer"
        },
        {
         "name": "BYS33E",
         "rawType": "int64",
         "type": "integer"
        },
        {
         "name": "BYS33F",
         "rawType": "int64",
         "type": "integer"
        },
        {
         "name": "BYS33G",
         "rawType": "int64",
         "type": "integer"
        },
        {
         "name": "BYS33H",
         "rawType": "int64",
         "type": "integer"
        },
        {
         "name": "BYS33I",
         "rawType": "int64",
         "type": "integer"
        },
        {
         "name": "BYS33J",
         "rawType": "int64",
         "type": "integer"
        },
        {
         "name": "BYS33K",
         "rawType": "int64",
         "type": "integer"
        },
        {
         "name": "BYS33L",
         "rawType": "int64",
         "type": "integer"
        },
        {
         "name": "BYS34A",
         "rawType": "int64",
         "type": "integer"
        },
        {
         "name": "BYS34B",
         "rawType": "int64",
         "type": "integer"
        },
        {
         "name": "BYS35A",
         "rawType": "int64",
         "type": "integer"
        },
        {
         "name": "BYS35B",
         "rawType": "int64",
         "type": "integer"
        },
        {
         "name": "BYS36A",
         "rawType": "int64",
         "type": "integer"
        },
        {
         "name": "BYS36B",
         "rawType": "int64",
         "type": "integer"
        },
        {
         "name": "BYS37",
         "rawType": "int64",
         "type": "integer"
        },
        {
         "name": "BYS38A",
         "rawType": "int64",
         "type": "integer"
        },
        {
         "name": "BYS38B",
         "rawType": "int64",
         "type": "integer"
        },
        {
         "name": "BYS38C",
         "rawType": "int64",
         "type": "integer"
        },
        {
         "name": "BYS39A",
         "rawType": "int64",
         "type": "integer"
        },
        {
         "name": "BYS39B",
         "rawType": "int64",
         "type": "integer"
        },
        {
         "name": "BYS39C",
         "rawType": "int64",
         "type": "integer"
        },
        {
         "name": "BYS39D",
         "rawType": "int64",
         "type": "integer"
        },
        {
         "name": "BYS39E",
         "rawType": "int64",
         "type": "integer"
        },
        {
         "name": "BYS39F",
         "rawType": "int64",
         "type": "integer"
        },
        {
         "name": "BYS39G",
         "rawType": "int64",
         "type": "integer"
        },
        {
         "name": "BYS39H",
         "rawType": "int64",
         "type": "integer"
        },
        {
         "name": "BYS40AA",
         "rawType": "int64",
         "type": "integer"
        },
        {
         "name": "BYS40AB",
         "rawType": "int64",
         "type": "integer"
        },
        {
         "name": "BYS40AC",
         "rawType": "int64",
         "type": "integer"
        },
        {
         "name": "BYS40AD",
         "rawType": "int64",
         "type": "integer"
        },
        {
         "name": "BYS40AE",
         "rawType": "int64",
         "type": "integer"
        },
        {
         "name": "BYS40BA",
         "rawType": "int64",
         "type": "integer"
        },
        {
         "name": "BYS40BB",
         "rawType": "int64",
         "type": "integer"
        },
        {
         "name": "BYS40BC",
         "rawType": "int64",
         "type": "integer"
        },
        {
         "name": "BYS40BD",
         "rawType": "int64",
         "type": "integer"
        },
        {
         "name": "BYS40BE",
         "rawType": "int64",
         "type": "integer"
        },
        {
         "name": "BYS40CA",
         "rawType": "int64",
         "type": "integer"
        },
        {
         "name": "BYS40CB",
         "rawType": "int64",
         "type": "integer"
        },
        {
         "name": "BYS40CC",
         "rawType": "int64",
         "type": "integer"
        },
        {
         "name": "BYS40CD",
         "rawType": "int64",
         "type": "integer"
        },
        {
         "name": "BYS40CE",
         "rawType": "int64",
         "type": "integer"
        },
        {
         "name": "BYS40DA",
         "rawType": "int64",
         "type": "integer"
        },
        {
         "name": "BYS40DB",
         "rawType": "int64",
         "type": "integer"
        },
        {
         "name": "BYS40DC",
         "rawType": "int64",
         "type": "integer"
        },
        {
         "name": "BYS40DD",
         "rawType": "int64",
         "type": "integer"
        },
        {
         "name": "BYS40DE",
         "rawType": "int64",
         "type": "integer"
        },
        {
         "name": "BYS40EA",
         "rawType": "int64",
         "type": "integer"
        },
        {
         "name": "BYS40EB",
         "rawType": "int64",
         "type": "integer"
        },
        {
         "name": "BYS40EC",
         "rawType": "int64",
         "type": "integer"
        },
        {
         "name": "BYS40ED",
         "rawType": "int64",
         "type": "integer"
        },
        {
         "name": "BYS40EE",
         "rawType": "int64",
         "type": "integer"
        },
        {
         "name": "BYS40FA",
         "rawType": "int64",
         "type": "integer"
        },
        {
         "name": "BYS40FB",
         "rawType": "int64",
         "type": "integer"
        },
        {
         "name": "BYS40FC",
         "rawType": "int64",
         "type": "integer"
        },
        {
         "name": "BYS40FD",
         "rawType": "int64",
         "type": "integer"
        },
        {
         "name": "BYS40FE",
         "rawType": "int64",
         "type": "integer"
        },
        {
         "name": "BYS40GA",
         "rawType": "int64",
         "type": "integer"
        },
        {
         "name": "BYS40GB",
         "rawType": "int64",
         "type": "integer"
        },
        {
         "name": "BYS40GC",
         "rawType": "int64",
         "type": "integer"
        },
        {
         "name": "BYS40GD",
         "rawType": "int64",
         "type": "integer"
        },
        {
         "name": "BYS40GE",
         "rawType": "int64",
         "type": "integer"
        },
        {
         "name": "BYS40HA",
         "rawType": "int64",
         "type": "integer"
        },
        {
         "name": "BYS40HB",
         "rawType": "int64",
         "type": "integer"
        },
        {
         "name": "BYS40HC",
         "rawType": "int64",
         "type": "integer"
        },
        {
         "name": "BYS40HD",
         "rawType": "int64",
         "type": "integer"
        },
        {
         "name": "BYS40HE",
         "rawType": "int64",
         "type": "integer"
        },
        {
         "name": "BYS41A",
         "rawType": "int64",
         "type": "integer"
        },
        {
         "name": "BYS41B",
         "rawType": "int64",
         "type": "integer"
        },
        {
         "name": "BYS41C",
         "rawType": "int64",
         "type": "integer"
        },
        {
         "name": "BYS41D",
         "rawType": "int64",
         "type": "integer"
        },
        {
         "name": "BYS41E",
         "rawType": "int64",
         "type": "integer"
        },
        {
         "name": "BYS41F",
         "rawType": "int64",
         "type": "integer"
        },
        {
         "name": "BYS41G",
         "rawType": "int64",
         "type": "integer"
        },
        {
         "name": "BYS41H",
         "rawType": "int64",
         "type": "integer"
        },
        {
         "name": "BYS41I",
         "rawType": "int64",
         "type": "integer"
        },
        {
         "name": "BYS42",
         "rawType": "int64",
         "type": "integer"
        },
        {
         "name": "BYS43",
         "rawType": "int64",
         "type": "integer"
        },
        {
         "name": "BYS44A",
         "rawType": "int64",
         "type": "integer"
        },
        {
         "name": "BYS44B",
         "rawType": "int64",
         "type": "integer"
        },
        {
         "name": "BYS44C",
         "rawType": "int64",
         "type": "integer"
        },
        {
         "name": "BYS44D",
         "rawType": "int64",
         "type": "integer"
        },
        {
         "name": "BYS44E",
         "rawType": "int64",
         "type": "integer"
        },
        {
         "name": "BYS44F",
         "rawType": "int64",
         "type": "integer"
        },
        {
         "name": "BYS44G",
         "rawType": "int64",
         "type": "integer"
        },
        {
         "name": "BYS44H",
         "rawType": "int64",
         "type": "integer"
        },
        {
         "name": "BYS45A",
         "rawType": "int64",
         "type": "integer"
        },
        {
         "name": "BYS45B",
         "rawType": "int64",
         "type": "integer"
        },
        {
         "name": "BYS45C",
         "rawType": "int64",
         "type": "integer"
        },
        {
         "name": "BYS46A",
         "rawType": "int64",
         "type": "integer"
        },
        {
         "name": "BYS46B",
         "rawType": "int64",
         "type": "integer"
        },
        {
         "name": "BYS47A",
         "rawType": "int64",
         "type": "integer"
        },
        {
         "name": "BYS47B",
         "rawType": "int64",
         "type": "integer"
        },
        {
         "name": "BYS47C",
         "rawType": "int64",
         "type": "integer"
        },
        {
         "name": "BYS47D",
         "rawType": "int64",
         "type": "integer"
        },
        {
         "name": "BYS47E",
         "rawType": "int64",
         "type": "integer"
        },
        {
         "name": "BYS48A",
         "rawType": "int64",
         "type": "integer"
        },
        {
         "name": "BYS48B",
         "rawType": "int64",
         "type": "integer"
        },
        {
         "name": "BYS49A",
         "rawType": "int64",
         "type": "integer"
        },
        {
         "name": "BYS49B",
         "rawType": "int64",
         "type": "integer"
        },
        {
         "name": "BYS50",
         "rawType": "int64",
         "type": "integer"
        },
        {
         "name": "BYS51A",
         "rawType": "int64",
         "type": "integer"
        },
        {
         "name": "BYS51B",
         "rawType": "int64",
         "type": "integer"
        },
        {
         "name": "BYS51C",
         "rawType": "int64",
         "type": "integer"
        },
        {
         "name": "BYS51D",
         "rawType": "int64",
         "type": "integer"
        },
        {
         "name": "BYS51E",
         "rawType": "int64",
         "type": "integer"
        },
        {
         "name": "BYS51F",
         "rawType": "int64",
         "type": "integer"
        },
        {
         "name": "BYS51G",
         "rawType": "int64",
         "type": "integer"
        },
        {
         "name": "BYS51H",
         "rawType": "int64",
         "type": "integer"
        },
        {
         "name": "BYS51I",
         "rawType": "int64",
         "type": "integer"
        },
        {
         "name": "BYS52",
         "rawType": "int64",
         "type": "integer"
        },
        {
         "name": "BYS53A",
         "rawType": "int64",
         "type": "integer"
        },
        {
         "name": "BYS53B",
         "rawType": "int64",
         "type": "integer"
        },
        {
         "name": "BYS53C",
         "rawType": "int64",
         "type": "integer"
        },
        {
         "name": "BYS54A",
         "rawType": "int64",
         "type": "integer"
        },
        {
         "name": "BYS54B",
         "rawType": "int64",
         "type": "integer"
        },
        {
         "name": "BYS54C",
         "rawType": "int64",
         "type": "integer"
        },
        {
         "name": "BYS54D",
         "rawType": "int64",
         "type": "integer"
        },
        {
         "name": "BYS54E",
         "rawType": "int64",
         "type": "integer"
        },
        {
         "name": "BYS54F",
         "rawType": "int64",
         "type": "integer"
        },
        {
         "name": "BYS54G",
         "rawType": "int64",
         "type": "integer"
        },
        {
         "name": "BYS54H",
         "rawType": "int64",
         "type": "integer"
        },
        {
         "name": "BYS54I",
         "rawType": "int64",
         "type": "integer"
        },
        {
         "name": "BYS54J",
         "rawType": "int64",
         "type": "integer"
        },
        {
         "name": "BYS54K",
         "rawType": "int64",
         "type": "integer"
        },
        {
         "name": "BYS54L",
         "rawType": "int64",
         "type": "integer"
        },
        {
         "name": "BYS54N",
         "rawType": "int64",
         "type": "integer"
        },
        {
         "name": "BYS54O",
         "rawType": "int64",
         "type": "integer"
        },
        {
         "name": "BYS55A",
         "rawType": "int64",
         "type": "integer"
        },
        {
         "name": "BYS55B",
         "rawType": "int64",
         "type": "integer"
        },
        {
         "name": "BYS55C",
         "rawType": "int64",
         "type": "integer"
        },
        {
         "name": "BYS55D",
         "rawType": "int64",
         "type": "integer"
        },
        {
         "name": "BYS56",
         "rawType": "int64",
         "type": "integer"
        },
        {
         "name": "BYS57",
         "rawType": "int64",
         "type": "integer"
        },
        {
         "name": "BYS58",
         "rawType": "int64",
         "type": "integer"
        },
        {
         "name": "BYS59A",
         "rawType": "int64",
         "type": "integer"
        },
        {
         "name": "BYS59B",
         "rawType": "int64",
         "type": "integer"
        },
        {
         "name": "BYS59C",
         "rawType": "int64",
         "type": "integer"
        },
        {
         "name": "BYS59D",
         "rawType": "int64",
         "type": "integer"
        },
        {
         "name": "BYS59E",
         "rawType": "int64",
         "type": "integer"
        },
        {
         "name": "BYS59F",
         "rawType": "int64",
         "type": "integer"
        },
        {
         "name": "BYS59G",
         "rawType": "int64",
         "type": "integer"
        },
        {
         "name": "BYS59H",
         "rawType": "int64",
         "type": "integer"
        },
        {
         "name": "BYS59I",
         "rawType": "int64",
         "type": "integer"
        },
        {
         "name": "BYS59J",
         "rawType": "int64",
         "type": "integer"
        },
        {
         "name": "BYS59K",
         "rawType": "int64",
         "type": "integer"
        },
        {
         "name": "BYS60",
         "rawType": "int64",
         "type": "integer"
        },
        {
         "name": "BYS61",
         "rawType": "int64",
         "type": "integer"
        },
        {
         "name": "BYS62A",
         "rawType": "int64",
         "type": "integer"
        },
        {
         "name": "BYS62B",
         "rawType": "int64",
         "type": "integer"
        },
        {
         "name": "BYS62C",
         "rawType": "int64",
         "type": "integer"
        },
        {
         "name": "BYS62D",
         "rawType": "int64",
         "type": "integer"
        },
        {
         "name": "BYS62E",
         "rawType": "int64",
         "type": "integer"
        },
        {
         "name": "BYS62F",
         "rawType": "int64",
         "type": "integer"
        },
        {
         "name": "BYS62G",
         "rawType": "int64",
         "type": "integer"
        },
        {
         "name": "BYS62H",
         "rawType": "int64",
         "type": "integer"
        },
        {
         "name": "BYS63",
         "rawType": "int64",
         "type": "integer"
        },
        {
         "name": "BYS64",
         "rawType": "int64",
         "type": "integer"
        },
        {
         "name": "BYS65A",
         "rawType": "int64",
         "type": "integer"
        },
        {
         "name": "BYS65B",
         "rawType": "int64",
         "type": "integer"
        },
        {
         "name": "BYS66A",
         "rawType": "int64",
         "type": "integer"
        },
        {
         "name": "BYS66B",
         "rawType": "int64",
         "type": "integer"
        },
        {
         "name": "BYS66C",
         "rawType": "int64",
         "type": "integer"
        },
        {
         "name": "BYS66D",
         "rawType": "int64",
         "type": "integer"
        },
        {
         "name": "BYS66E",
         "rawType": "int64",
         "type": "integer"
        },
        {
         "name": "BYS66F",
         "rawType": "int64",
         "type": "integer"
        },
        {
         "name": "BYS66G",
         "rawType": "int64",
         "type": "integer"
        },
        {
         "name": "BYS67",
         "rawType": "int64",
         "type": "integer"
        },
        {
         "name": "BYS68",
         "rawType": "int64",
         "type": "integer"
        },
        {
         "name": "BYS69A",
         "rawType": "int64",
         "type": "integer"
        },
        {
         "name": "BYS69B",
         "rawType": "int64",
         "type": "integer"
        },
        {
         "name": "BYS69C",
         "rawType": "int64",
         "type": "integer"
        },
        {
         "name": "BYS69D",
         "rawType": "int64",
         "type": "integer"
        },
        {
         "name": "BYS70A",
         "rawType": "int64",
         "type": "integer"
        },
        {
         "name": "BYS70B",
         "rawType": "int64",
         "type": "integer"
        },
        {
         "name": "BYS70C",
         "rawType": "int64",
         "type": "integer"
        },
        {
         "name": "BYS70D",
         "rawType": "int64",
         "type": "integer"
        },
        {
         "name": "BYS71A",
         "rawType": "int64",
         "type": "integer"
        },
        {
         "name": "BYS71B",
         "rawType": "int64",
         "type": "integer"
        },
        {
         "name": "BYS71C",
         "rawType": "int64",
         "type": "integer"
        },
        {
         "name": "BYS71D",
         "rawType": "int64",
         "type": "integer"
        },
        {
         "name": "BYS71E",
         "rawType": "int64",
         "type": "integer"
        },
        {
         "name": "BYS71F",
         "rawType": "int64",
         "type": "integer"
        },
        {
         "name": "BYS71G",
         "rawType": "int64",
         "type": "integer"
        },
        {
         "name": "BYS72",
         "rawType": "int64",
         "type": "integer"
        },
        {
         "name": "BYS73",
         "rawType": "int64",
         "type": "integer"
        },
        {
         "name": "BYS74",
         "rawType": "int64",
         "type": "integer"
        },
        {
         "name": "BYS75",
         "rawType": "int64",
         "type": "integer"
        },
        {
         "name": "BYS76",
         "rawType": "int64",
         "type": "integer"
        },
        {
         "name": "BYS77",
         "rawType": "int64",
         "type": "integer"
        },
        {
         "name": "BYS79",
         "rawType": "int64",
         "type": "integer"
        },
        {
         "name": "BYS80",
         "rawType": "int64",
         "type": "integer"
        },
        {
         "name": "BYS81A",
         "rawType": "int64",
         "type": "integer"
        },
        {
         "name": "BYS81B",
         "rawType": "int64",
         "type": "integer"
        },
        {
         "name": "BYS82A",
         "rawType": "int64",
         "type": "integer"
        },
        {
         "name": "BYS82B",
         "rawType": "int64",
         "type": "integer"
        },
        {
         "name": "BYS83A",
         "rawType": "int64",
         "type": "integer"
        },
        {
         "name": "BYS83B",
         "rawType": "int64",
         "type": "integer"
        },
        {
         "name": "BYS84A",
         "rawType": "int64",
         "type": "integer"
        },
        {
         "name": "BYS84B",
         "rawType": "int64",
         "type": "integer"
        },
        {
         "name": "BYS84C",
         "rawType": "int64",
         "type": "integer"
        },
        {
         "name": "BYS84D",
         "rawType": "int64",
         "type": "integer"
        },
        {
         "name": "BYS84E",
         "rawType": "int64",
         "type": "integer"
        },
        {
         "name": "BYS84F",
         "rawType": "int64",
         "type": "integer"
        },
        {
         "name": "BYS84G",
         "rawType": "int64",
         "type": "integer"
        },
        {
         "name": "BYS84H",
         "rawType": "int64",
         "type": "integer"
        },
        {
         "name": "BYS84I",
         "rawType": "int64",
         "type": "integer"
        },
        {
         "name": "BYS84J",
         "rawType": "int64",
         "type": "integer"
        },
        {
         "name": "BYS85A",
         "rawType": "int64",
         "type": "integer"
        },
        {
         "name": "BYS85B",
         "rawType": "int64",
         "type": "integer"
        },
        {
         "name": "BYS85C",
         "rawType": "int64",
         "type": "integer"
        },
        {
         "name": "BYS85D",
         "rawType": "int64",
         "type": "integer"
        },
        {
         "name": "BYS85E",
         "rawType": "int64",
         "type": "integer"
        },
        {
         "name": "BYS85F",
         "rawType": "int64",
         "type": "integer"
        },
        {
         "name": "BYS85G",
         "rawType": "int64",
         "type": "integer"
        },
        {
         "name": "BYS86A",
         "rawType": "int64",
         "type": "integer"
        },
        {
         "name": "BYS86B",
         "rawType": "int64",
         "type": "integer"
        },
        {
         "name": "BYS86C",
         "rawType": "int64",
         "type": "integer"
        },
        {
         "name": "BYS86D",
         "rawType": "int64",
         "type": "integer"
        },
        {
         "name": "BYS86E",
         "rawType": "int64",
         "type": "integer"
        },
        {
         "name": "BYS86F",
         "rawType": "int64",
         "type": "integer"
        },
        {
         "name": "BYS86G",
         "rawType": "int64",
         "type": "integer"
        },
        {
         "name": "BYS86H",
         "rawType": "int64",
         "type": "integer"
        },
        {
         "name": "BYS86I",
         "rawType": "int64",
         "type": "integer"
        },
        {
         "name": "BYS87A",
         "rawType": "int64",
         "type": "integer"
        },
        {
         "name": "BYS87B",
         "rawType": "int64",
         "type": "integer"
        },
        {
         "name": "BYS87C",
         "rawType": "int64",
         "type": "integer"
        },
        {
         "name": "BYS87D",
         "rawType": "int64",
         "type": "integer"
        },
        {
         "name": "BYS87E",
         "rawType": "int64",
         "type": "integer"
        },
        {
         "name": "BYS87F",
         "rawType": "int64",
         "type": "integer"
        },
        {
         "name": "BYS88A",
         "rawType": "int64",
         "type": "integer"
        },
        {
         "name": "BYS88B",
         "rawType": "int64",
         "type": "integer"
        },
        {
         "name": "BYS89A",
         "rawType": "int64",
         "type": "integer"
        },
        {
         "name": "BYS89B",
         "rawType": "int64",
         "type": "integer"
        },
        {
         "name": "BYS89C",
         "rawType": "int64",
         "type": "integer"
        },
        {
         "name": "BYS89D",
         "rawType": "int64",
         "type": "integer"
        },
        {
         "name": "BYS89E",
         "rawType": "int64",
         "type": "integer"
        },
        {
         "name": "BYS89F",
         "rawType": "int64",
         "type": "integer"
        },
        {
         "name": "BYS89G",
         "rawType": "int64",
         "type": "integer"
        },
        {
         "name": "BYS89H",
         "rawType": "int64",
         "type": "integer"
        },
        {
         "name": "BYS89I",
         "rawType": "int64",
         "type": "integer"
        },
        {
         "name": "BYS89J",
         "rawType": "int64",
         "type": "integer"
        },
        {
         "name": "BYS89K",
         "rawType": "int64",
         "type": "integer"
        },
        {
         "name": "BYS89L",
         "rawType": "int64",
         "type": "integer"
        },
        {
         "name": "BYS89M",
         "rawType": "int64",
         "type": "integer"
        },
        {
         "name": "BYS89N",
         "rawType": "int64",
         "type": "integer"
        },
        {
         "name": "BYS89O",
         "rawType": "int64",
         "type": "integer"
        },
        {
         "name": "BYS89P",
         "rawType": "int64",
         "type": "integer"
        },
        {
         "name": "BYS89Q",
         "rawType": "int64",
         "type": "integer"
        },
        {
         "name": "BYS89R",
         "rawType": "int64",
         "type": "integer"
        },
        {
         "name": "BYS89S",
         "rawType": "int64",
         "type": "integer"
        },
        {
         "name": "BYS89T",
         "rawType": "int64",
         "type": "integer"
        },
        {
         "name": "BYS89U",
         "rawType": "int64",
         "type": "integer"
        },
        {
         "name": "BYS89V",
         "rawType": "int64",
         "type": "integer"
        },
        {
         "name": "BYS90A",
         "rawType": "int64",
         "type": "integer"
        },
        {
         "name": "BYS90B",
         "rawType": "int64",
         "type": "integer"
        },
        {
         "name": "BYS90C",
         "rawType": "int64",
         "type": "integer"
        },
        {
         "name": "BYS90D",
         "rawType": "int64",
         "type": "integer"
        },
        {
         "name": "BYS90E",
         "rawType": "int64",
         "type": "integer"
        },
        {
         "name": "BYS90F",
         "rawType": "int64",
         "type": "integer"
        },
        {
         "name": "BYS90G",
         "rawType": "int64",
         "type": "integer"
        },
        {
         "name": "BYS90H",
         "rawType": "int64",
         "type": "integer"
        },
        {
         "name": "BYS90J",
         "rawType": "int64",
         "type": "integer"
        },
        {
         "name": "BYS90K",
         "rawType": "int64",
         "type": "integer"
        },
        {
         "name": "BYS90L",
         "rawType": "int64",
         "type": "integer"
        },
        {
         "name": "BYS90M",
         "rawType": "int64",
         "type": "integer"
        },
        {
         "name": "BYS90Q",
         "rawType": "int64",
         "type": "integer"
        },
        {
         "name": "BYS91",
         "rawType": "int64",
         "type": "integer"
        },
        {
         "name": "BYS92A",
         "rawType": "int64",
         "type": "integer"
        },
        {
         "name": "BYS92B",
         "rawType": "int64",
         "type": "integer"
        },
        {
         "name": "BYS92C",
         "rawType": "int64",
         "type": "integer"
        },
        {
         "name": "BYS92D",
         "rawType": "int64",
         "type": "integer"
        },
        {
         "name": "BYS94",
         "rawType": "int64",
         "type": "integer"
        },
        {
         "name": "BYS96",
         "rawType": "int64",
         "type": "integer"
        },
        {
         "name": "BYS97A",
         "rawType": "int64",
         "type": "integer"
        },
        {
         "name": "BYS97B",
         "rawType": "int64",
         "type": "integer"
        },
        {
         "name": "BYS97C",
         "rawType": "int64",
         "type": "integer"
        },
        {
         "name": "BYS97D",
         "rawType": "int64",
         "type": "integer"
        },
        {
         "name": "BYS97E",
         "rawType": "int64",
         "type": "integer"
        },
        {
         "name": "F1S14",
         "rawType": "int64",
         "type": "integer"
        },
        {
         "name": "F1S15",
         "rawType": "int64",
         "type": "integer"
        },
        {
         "name": "F1S16A",
         "rawType": "int64",
         "type": "integer"
        },
        {
         "name": "F1S16B",
         "rawType": "int64",
         "type": "integer"
        },
        {
         "name": "F1S16C",
         "rawType": "int64",
         "type": "integer"
        },
        {
         "name": "F1S16D",
         "rawType": "int64",
         "type": "integer"
        },
        {
         "name": "F1S16E",
         "rawType": "int64",
         "type": "integer"
        },
        {
         "name": "F1S16F",
         "rawType": "int64",
         "type": "integer"
        },
        {
         "name": "F1S16G",
         "rawType": "int64",
         "type": "integer"
        },
        {
         "name": "F1S16H",
         "rawType": "int64",
         "type": "integer"
        },
        {
         "name": "F1S16I",
         "rawType": "int64",
         "type": "integer"
        },
        {
         "name": "F1S17A",
         "rawType": "int64",
         "type": "integer"
        },
        {
         "name": "F1S17B",
         "rawType": "int64",
         "type": "integer"
        },
        {
         "name": "F1S17C",
         "rawType": "int64",
         "type": "integer"
        },
        {
         "name": "F1S17D",
         "rawType": "int64",
         "type": "integer"
        },
        {
         "name": "F1S17E",
         "rawType": "int64",
         "type": "integer"
        },
        {
         "name": "F1S17F",
         "rawType": "int64",
         "type": "integer"
        },
        {
         "name": "F1S17G",
         "rawType": "int64",
         "type": "integer"
        },
        {
         "name": "F1S17H",
         "rawType": "int64",
         "type": "integer"
        },
        {
         "name": "F1S17I",
         "rawType": "int64",
         "type": "integer"
        },
        {
         "name": "F1S17J",
         "rawType": "int64",
         "type": "integer"
        },
        {
         "name": "F1S18A",
         "rawType": "int64",
         "type": "integer"
        },
        {
         "name": "F1S18B",
         "rawType": "int64",
         "type": "integer"
        },
        {
         "name": "F1S18C",
         "rawType": "int64",
         "type": "integer"
        },
        {
         "name": "F1S18D",
         "rawType": "int64",
         "type": "integer"
        },
        {
         "name": "F1S18E",
         "rawType": "int64",
         "type": "integer"
        },
        {
         "name": "F1S19A",
         "rawType": "int64",
         "type": "integer"
        },
        {
         "name": "F1S19B",
         "rawType": "int64",
         "type": "integer"
        },
        {
         "name": "F1S19C",
         "rawType": "int64",
         "type": "integer"
        },
        {
         "name": "F1S20A",
         "rawType": "int64",
         "type": "integer"
        },
        {
         "name": "F1S20B",
         "rawType": "int64",
         "type": "integer"
        },
        {
         "name": "F1S20C",
         "rawType": "int64",
         "type": "integer"
        },
        {
         "name": "F1S20D",
         "rawType": "int64",
         "type": "integer"
        },
        {
         "name": "F1S20E",
         "rawType": "int64",
         "type": "integer"
        },
        {
         "name": "F1S20F",
         "rawType": "int64",
         "type": "integer"
        },
        {
         "name": "F1S20G",
         "rawType": "int64",
         "type": "integer"
        },
        {
         "name": "F1S20H",
         "rawType": "int64",
         "type": "integer"
        },
        {
         "name": "F1S21A",
         "rawType": "int64",
         "type": "integer"
        },
        {
         "name": "F1S21B",
         "rawType": "int64",
         "type": "integer"
        },
        {
         "name": "F1S21C",
         "rawType": "int64",
         "type": "integer"
        },
        {
         "name": "F1S21D",
         "rawType": "int64",
         "type": "integer"
        },
        {
         "name": "F1S21E",
         "rawType": "int64",
         "type": "integer"
        },
        {
         "name": "F1S22A",
         "rawType": "int64",
         "type": "integer"
        },
        {
         "name": "F1S22B",
         "rawType": "int64",
         "type": "integer"
        },
        {
         "name": "F1S22C",
         "rawType": "int64",
         "type": "integer"
        },
        {
         "name": "F1S22D",
         "rawType": "int64",
         "type": "integer"
        },
        {
         "name": "F1S22E",
         "rawType": "int64",
         "type": "integer"
        },
        {
         "name": "F1S22F",
         "rawType": "int64",
         "type": "integer"
        },
        {
         "name": "F1S23",
         "rawType": "int64",
         "type": "integer"
        },
        {
         "name": "F1S24A",
         "rawType": "int64",
         "type": "integer"
        },
        {
         "name": "F1S24AA",
         "rawType": "int64",
         "type": "integer"
        },
        {
         "name": "F1S24AB",
         "rawType": "int64",
         "type": "integer"
        },
        {
         "name": "F1S24AC",
         "rawType": "int64",
         "type": "integer"
        },
        {
         "name": "F1S24AD",
         "rawType": "int64",
         "type": "integer"
        },
        {
         "name": "F1S24AE",
         "rawType": "int64",
         "type": "integer"
        },
        {
         "name": "F1S24B",
         "rawType": "int64",
         "type": "integer"
        },
        {
         "name": "F1S24BA",
         "rawType": "int64",
         "type": "integer"
        },
        {
         "name": "F1S24BB",
         "rawType": "int64",
         "type": "integer"
        },
        {
         "name": "F1S24BC",
         "rawType": "int64",
         "type": "integer"
        },
        {
         "name": "F1S24BD",
         "rawType": "int64",
         "type": "integer"
        },
        {
         "name": "F1S24BE",
         "rawType": "int64",
         "type": "integer"
        },
        {
         "name": "F1S24C",
         "rawType": "int64",
         "type": "integer"
        },
        {
         "name": "F1S24CA",
         "rawType": "int64",
         "type": "integer"
        },
        {
         "name": "F1S24CB",
         "rawType": "int64",
         "type": "integer"
        },
        {
         "name": "F1S24CC",
         "rawType": "int64",
         "type": "integer"
        },
        {
         "name": "F1S24CD",
         "rawType": "int64",
         "type": "integer"
        },
        {
         "name": "F1S24CE",
         "rawType": "int64",
         "type": "integer"
        },
        {
         "name": "F1S25A",
         "rawType": "int64",
         "type": "integer"
        },
        {
         "name": "F1S25B",
         "rawType": "int64",
         "type": "integer"
        },
        {
         "name": "F1S25C",
         "rawType": "int64",
         "type": "integer"
        },
        {
         "name": "F1S25D",
         "rawType": "int64",
         "type": "integer"
        },
        {
         "name": "F1S26A",
         "rawType": "int64",
         "type": "integer"
        },
        {
         "name": "F1S26B",
         "rawType": "int64",
         "type": "integer"
        },
        {
         "name": "F1S26C",
         "rawType": "int64",
         "type": "integer"
        },
        {
         "name": "F1S26D",
         "rawType": "int64",
         "type": "integer"
        },
        {
         "name": "F1S26E",
         "rawType": "int64",
         "type": "integer"
        },
        {
         "name": "F1S26F",
         "rawType": "int64",
         "type": "integer"
        },
        {
         "name": "F1S26G",
         "rawType": "int64",
         "type": "integer"
        },
        {
         "name": "F1S26H",
         "rawType": "int64",
         "type": "integer"
        },
        {
         "name": "F1S26I",
         "rawType": "int64",
         "type": "integer"
        },
        {
         "name": "F1S26J",
         "rawType": "int64",
         "type": "integer"
        },
        {
         "name": "F1S26K",
         "rawType": "int64",
         "type": "integer"
        },
        {
         "name": "F1S27",
         "rawType": "int64",
         "type": "integer"
        },
        {
         "name": "F1S28",
         "rawType": "int64",
         "type": "integer"
        },
        {
         "name": "F1S29A",
         "rawType": "int64",
         "type": "integer"
        },
        {
         "name": "F1S29B",
         "rawType": "int64",
         "type": "integer"
        },
        {
         "name": "F1S29C",
         "rawType": "int64",
         "type": "integer"
        },
        {
         "name": "F1S29D",
         "rawType": "int64",
         "type": "integer"
        },
        {
         "name": "F1S29E",
         "rawType": "int64",
         "type": "integer"
        },
        {
         "name": "F1S29F",
         "rawType": "int64",
         "type": "integer"
        },
        {
         "name": "F1S29G",
         "rawType": "int64",
         "type": "integer"
        },
        {
         "name": "F1S29H",
         "rawType": "int64",
         "type": "integer"
        },
        {
         "name": "F1S29I",
         "rawType": "int64",
         "type": "integer"
        },
        {
         "name": "F1S30A",
         "rawType": "int64",
         "type": "integer"
        },
        {
         "name": "F1S30B",
         "rawType": "int64",
         "type": "integer"
        },
        {
         "name": "F1S30C",
         "rawType": "int64",
         "type": "integer"
        },
        {
         "name": "F1S30D",
         "rawType": "int64",
         "type": "integer"
        },
        {
         "name": "F1S30E",
         "rawType": "int64",
         "type": "integer"
        },
        {
         "name": "F1S30F",
         "rawType": "int64",
         "type": "integer"
        },
        {
         "name": "F1S30G",
         "rawType": "int64",
         "type": "integer"
        },
        {
         "name": "F1S30H",
         "rawType": "int64",
         "type": "integer"
        },
        {
         "name": "F1S30I",
         "rawType": "int64",
         "type": "integer"
        },
        {
         "name": "F1S31",
         "rawType": "int64",
         "type": "integer"
        },
        {
         "name": "F1S32A",
         "rawType": "int64",
         "type": "integer"
        },
        {
         "name": "F1S32B",
         "rawType": "int64",
         "type": "integer"
        },
        {
         "name": "F1S33",
         "rawType": "int64",
         "type": "integer"
        },
        {
         "name": "F1S34A",
         "rawType": "int64",
         "type": "integer"
        },
        {
         "name": "F1S34B",
         "rawType": "int64",
         "type": "integer"
        },
        {
         "name": "F1S35A",
         "rawType": "int64",
         "type": "integer"
        },
        {
         "name": "F1S35B",
         "rawType": "int64",
         "type": "integer"
        },
        {
         "name": "F1S36A",
         "rawType": "int64",
         "type": "integer"
        },
        {
         "name": "F1S36B",
         "rawType": "int64",
         "type": "integer"
        },
        {
         "name": "F1S37A",
         "rawType": "int64",
         "type": "integer"
        },
        {
         "name": "F1S37B",
         "rawType": "int64",
         "type": "integer"
        },
        {
         "name": "F1S37C",
         "rawType": "int64",
         "type": "integer"
        },
        {
         "name": "F1S37D",
         "rawType": "int64",
         "type": "integer"
        },
        {
         "name": "F1S37E",
         "rawType": "int64",
         "type": "integer"
        },
        {
         "name": "F1S37F",
         "rawType": "int64",
         "type": "integer"
        },
        {
         "name": "F1S38A",
         "rawType": "int64",
         "type": "integer"
        },
        {
         "name": "F1S38B",
         "rawType": "int64",
         "type": "integer"
        },
        {
         "name": "F1S38C",
         "rawType": "int64",
         "type": "integer"
        },
        {
         "name": "F1S39A",
         "rawType": "int64",
         "type": "integer"
        },
        {
         "name": "F1S39B",
         "rawType": "int64",
         "type": "integer"
        },
        {
         "name": "F1S39C",
         "rawType": "int64",
         "type": "integer"
        },
        {
         "name": "F1S39D",
         "rawType": "int64",
         "type": "integer"
        },
        {
         "name": "F1S39E",
         "rawType": "int64",
         "type": "integer"
        },
        {
         "name": "F1S39F",
         "rawType": "int64",
         "type": "integer"
        },
        {
         "name": "F1S39G",
         "rawType": "int64",
         "type": "integer"
        },
        {
         "name": "F1S39H",
         "rawType": "int64",
         "type": "integer"
        },
        {
         "name": "F1S39I",
         "rawType": "int64",
         "type": "integer"
        },
        {
         "name": "F1S40A",
         "rawType": "int64",
         "type": "integer"
        },
        {
         "name": "F1S40B",
         "rawType": "int64",
         "type": "integer"
        },
        {
         "name": "F1S40C",
         "rawType": "int64",
         "type": "integer"
        },
        {
         "name": "F1S40D",
         "rawType": "int64",
         "type": "integer"
        },
        {
         "name": "F1S40E",
         "rawType": "int64",
         "type": "integer"
        },
        {
         "name": "F1S40F",
         "rawType": "int64",
         "type": "integer"
        },
        {
         "name": "F1S40G",
         "rawType": "int64",
         "type": "integer"
        },
        {
         "name": "F1S40H",
         "rawType": "int64",
         "type": "integer"
        },
        {
         "name": "F1S40I",
         "rawType": "int64",
         "type": "integer"
        },
        {
         "name": "F1S40J",
         "rawType": "int64",
         "type": "integer"
        },
        {
         "name": "F1S40K",
         "rawType": "int64",
         "type": "integer"
        },
        {
         "name": "F1S40L",
         "rawType": "int64",
         "type": "integer"
        },
        {
         "name": "F1S40M",
         "rawType": "int64",
         "type": "integer"
        },
        {
         "name": "F1S40N",
         "rawType": "int64",
         "type": "integer"
        },
        {
         "name": "F1S40O",
         "rawType": "int64",
         "type": "integer"
        },
        {
         "name": "F1S40P",
         "rawType": "int64",
         "type": "integer"
        },
        {
         "name": "F1S40Q",
         "rawType": "int64",
         "type": "integer"
        },
        {
         "name": "F1S40R",
         "rawType": "int64",
         "type": "integer"
        },
        {
         "name": "F1S41A",
         "rawType": "int64",
         "type": "integer"
        },
        {
         "name": "F1S41B",
         "rawType": "int64",
         "type": "integer"
        },
        {
         "name": "F1S41C",
         "rawType": "int64",
         "type": "integer"
        },
        {
         "name": "F1S41D",
         "rawType": "int64",
         "type": "integer"
        },
        {
         "name": "F1S41E",
         "rawType": "int64",
         "type": "integer"
        },
        {
         "name": "F1S41F",
         "rawType": "int64",
         "type": "integer"
        },
        {
         "name": "F1S42",
         "rawType": "int64",
         "type": "integer"
        },
        {
         "name": "F1S43A",
         "rawType": "int64",
         "type": "integer"
        },
        {
         "name": "F1S43B",
         "rawType": "int64",
         "type": "integer"
        },
        {
         "name": "F1S44A",
         "rawType": "int64",
         "type": "integer"
        },
        {
         "name": "F1S44B",
         "rawType": "int64",
         "type": "integer"
        },
        {
         "name": "F1S44C",
         "rawType": "int64",
         "type": "integer"
        },
        {
         "name": "F1S44D",
         "rawType": "int64",
         "type": "integer"
        },
        {
         "name": "F1S44E",
         "rawType": "int64",
         "type": "integer"
        },
        {
         "name": "F1S44F",
         "rawType": "int64",
         "type": "integer"
        },
        {
         "name": "F1S44G",
         "rawType": "int64",
         "type": "integer"
        },
        {
         "name": "F1S45",
         "rawType": "int64",
         "type": "integer"
        },
        {
         "name": "F1S46A",
         "rawType": "int64",
         "type": "integer"
        },
        {
         "name": "F1S46B",
         "rawType": "int64",
         "type": "integer"
        },
        {
         "name": "F1S46C",
         "rawType": "int64",
         "type": "integer"
        },
        {
         "name": "F1S46D",
         "rawType": "int64",
         "type": "integer"
        },
        {
         "name": "F1S46E",
         "rawType": "int64",
         "type": "integer"
        },
        {
         "name": "F1S46F",
         "rawType": "int64",
         "type": "integer"
        },
        {
         "name": "F1S46G",
         "rawType": "int64",
         "type": "integer"
        },
        {
         "name": "F1S46H",
         "rawType": "int64",
         "type": "integer"
        },
        {
         "name": "F1S46I",
         "rawType": "int64",
         "type": "integer"
        },
        {
         "name": "F1S46J",
         "rawType": "int64",
         "type": "integer"
        },
        {
         "name": "F1S46K",
         "rawType": "int64",
         "type": "integer"
        },
        {
         "name": "F1S46L",
         "rawType": "int64",
         "type": "integer"
        },
        {
         "name": "F1S47",
         "rawType": "int64",
         "type": "integer"
        },
        {
         "name": "F1S48A",
         "rawType": "int64",
         "type": "integer"
        },
        {
         "name": "F1S48B",
         "rawType": "int64",
         "type": "integer"
        },
        {
         "name": "F1S48C",
         "rawType": "int64",
         "type": "integer"
        },
        {
         "name": "F1S48D",
         "rawType": "int64",
         "type": "integer"
        },
        {
         "name": "F1S48E",
         "rawType": "int64",
         "type": "integer"
        },
        {
         "name": "F1S48F",
         "rawType": "int64",
         "type": "integer"
        },
        {
         "name": "F1S48G",
         "rawType": "int64",
         "type": "integer"
        },
        {
         "name": "F1S48H",
         "rawType": "int64",
         "type": "integer"
        },
        {
         "name": "F1S48I",
         "rawType": "int64",
         "type": "integer"
        },
        {
         "name": "F1S48J",
         "rawType": "int64",
         "type": "integer"
        },
        {
         "name": "F1S48K",
         "rawType": "int64",
         "type": "integer"
        },
        {
         "name": "F1S48L",
         "rawType": "int64",
         "type": "integer"
        },
        {
         "name": "F1S48M",
         "rawType": "int64",
         "type": "integer"
        },
        {
         "name": "F1S48N",
         "rawType": "int64",
         "type": "integer"
        },
        {
         "name": "F1S49",
         "rawType": "int64",
         "type": "integer"
        },
        {
         "name": "F1S50",
         "rawType": "int64",
         "type": "integer"
        },
        {
         "name": "F1S52A",
         "rawType": "int64",
         "type": "integer"
        },
        {
         "name": "F1S52B",
         "rawType": "int64",
         "type": "integer"
        },
        {
         "name": "F1S52C",
         "rawType": "int64",
         "type": "integer"
        },
        {
         "name": "F1S52D",
         "rawType": "int64",
         "type": "integer"
        },
        {
         "name": "F1S52E",
         "rawType": "int64",
         "type": "integer"
        },
        {
         "name": "F1S52F",
         "rawType": "int64",
         "type": "integer"
        },
        {
         "name": "F1S52G",
         "rawType": "int64",
         "type": "integer"
        },
        {
         "name": "F1S52H",
         "rawType": "int64",
         "type": "integer"
        },
        {
         "name": "F1S52I",
         "rawType": "int64",
         "type": "integer"
        },
        {
         "name": "F1S52J",
         "rawType": "int64",
         "type": "integer"
        },
        {
         "name": "F1S52K",
         "rawType": "int64",
         "type": "integer"
        },
        {
         "name": "F1S52L",
         "rawType": "int64",
         "type": "integer"
        },
        {
         "name": "F1S52M",
         "rawType": "int64",
         "type": "integer"
        },
        {
         "name": "F1S52N",
         "rawType": "int64",
         "type": "integer"
        },
        {
         "name": "F1S52O",
         "rawType": "int64",
         "type": "integer"
        },
        {
         "name": "F1S52P",
         "rawType": "int64",
         "type": "integer"
        },
        {
         "name": "F1S52Q",
         "rawType": "int64",
         "type": "integer"
        },
        {
         "name": "F1S52R",
         "rawType": "int64",
         "type": "integer"
        },
        {
         "name": "F1S53",
         "rawType": "int64",
         "type": "integer"
        },
        {
         "name": "F1S54",
         "rawType": "int64",
         "type": "integer"
        },
        {
         "name": "F1S55A",
         "rawType": "int64",
         "type": "integer"
        },
        {
         "name": "F1S55B",
         "rawType": "int64",
         "type": "integer"
        },
        {
         "name": "F1S55C",
         "rawType": "int64",
         "type": "integer"
        },
        {
         "name": "F1S55D",
         "rawType": "int64",
         "type": "integer"
        },
        {
         "name": "F1S55E",
         "rawType": "int64",
         "type": "integer"
        },
        {
         "name": "F1S56",
         "rawType": "int64",
         "type": "integer"
        },
        {
         "name": "F1S57",
         "rawType": "int64",
         "type": "integer"
        },
        {
         "name": "F1S58",
         "rawType": "int64",
         "type": "integer"
        },
        {
         "name": "F1S59",
         "rawType": "int64",
         "type": "integer"
        },
        {
         "name": "F1S60",
         "rawType": "int64",
         "type": "integer"
        },
        {
         "name": "F1S61",
         "rawType": "int64",
         "type": "integer"
        },
        {
         "name": "F1S62",
         "rawType": "int64",
         "type": "integer"
        },
        {
         "name": "F1S63A",
         "rawType": "int64",
         "type": "integer"
        },
        {
         "name": "F1S63B",
         "rawType": "int64",
         "type": "integer"
        },
        {
         "name": "F1S63C",
         "rawType": "int64",
         "type": "integer"
        },
        {
         "name": "F1S63D",
         "rawType": "int64",
         "type": "integer"
        },
        {
         "name": "F1S63E",
         "rawType": "int64",
         "type": "integer"
        },
        {
         "name": "F1S63F",
         "rawType": "int64",
         "type": "integer"
        },
        {
         "name": "F1S63G",
         "rawType": "int64",
         "type": "integer"
        },
        {
         "name": "F1S63H",
         "rawType": "int64",
         "type": "integer"
        },
        {
         "name": "F1S64A",
         "rawType": "int64",
         "type": "integer"
        },
        {
         "name": "F1S64B",
         "rawType": "int64",
         "type": "integer"
        },
        {
         "name": "F1S64C",
         "rawType": "int64",
         "type": "integer"
        },
        {
         "name": "F1S64D",
         "rawType": "int64",
         "type": "integer"
        },
        {
         "name": "F1S64E",
         "rawType": "int64",
         "type": "integer"
        },
        {
         "name": "F1S64F",
         "rawType": "int64",
         "type": "integer"
        },
        {
         "name": "F1S64G",
         "rawType": "int64",
         "type": "integer"
        },
        {
         "name": "F1S64H",
         "rawType": "int64",
         "type": "integer"
        },
        {
         "name": "F1S64I",
         "rawType": "int64",
         "type": "integer"
        },
        {
         "name": "F1S64J",
         "rawType": "int64",
         "type": "integer"
        },
        {
         "name": "F1S65A",
         "rawType": "int64",
         "type": "integer"
        },
        {
         "name": "F1S65B",
         "rawType": "int64",
         "type": "integer"
        },
        {
         "name": "F1S65C",
         "rawType": "int64",
         "type": "integer"
        },
        {
         "name": "F1S65D",
         "rawType": "int64",
         "type": "integer"
        },
        {
         "name": "F1D19",
         "rawType": "int64",
         "type": "integer"
        },
        {
         "name": "F1D20",
         "rawType": "int64",
         "type": "integer"
        },
        {
         "name": "F1D21",
         "rawType": "int64",
         "type": "integer"
        },
        {
         "name": "F1D22",
         "rawType": "int64",
         "type": "integer"
        },
        {
         "name": "F1D23",
         "rawType": "int64",
         "type": "integer"
        },
        {
         "name": "F1D24",
         "rawType": "int64",
         "type": "integer"
        },
        {
         "name": "F1D25",
         "rawType": "int64",
         "type": "integer"
        },
        {
         "name": "F1D26",
         "rawType": "int64",
         "type": "integer"
        },
        {
         "name": "F1D27A",
         "rawType": "int64",
         "type": "integer"
        },
        {
         "name": "F1D27B",
         "rawType": "int64",
         "type": "integer"
        },
        {
         "name": "F1D27C",
         "rawType": "int64",
         "type": "integer"
        },
        {
         "name": "F1D27D",
         "rawType": "int64",
         "type": "integer"
        },
        {
         "name": "F1D27E",
         "rawType": "int64",
         "type": "integer"
        },
        {
         "name": "F1D27F",
         "rawType": "int64",
         "type": "integer"
        },
        {
         "name": "F1D27G",
         "rawType": "int64",
         "type": "integer"
        },
        {
         "name": "F1D27H",
         "rawType": "int64",
         "type": "integer"
        },
        {
         "name": "F1D27I",
         "rawType": "int64",
         "type": "integer"
        },
        {
         "name": "F1D28A",
         "rawType": "int64",
         "type": "integer"
        },
        {
         "name": "F1D28B",
         "rawType": "int64",
         "type": "integer"
        },
        {
         "name": "F1D28C",
         "rawType": "int64",
         "type": "integer"
        },
        {
         "name": "F1D28D",
         "rawType": "int64",
         "type": "integer"
        },
        {
         "name": "F1D28E",
         "rawType": "int64",
         "type": "integer"
        },
        {
         "name": "F1D28F",
         "rawType": "int64",
         "type": "integer"
        },
        {
         "name": "F1D28G",
         "rawType": "int64",
         "type": "integer"
        },
        {
         "name": "F1D28H",
         "rawType": "int64",
         "type": "integer"
        },
        {
         "name": "F1D28I",
         "rawType": "int64",
         "type": "integer"
        },
        {
         "name": "F1D28J",
         "rawType": "int64",
         "type": "integer"
        },
        {
         "name": "F1D29A",
         "rawType": "int64",
         "type": "integer"
        },
        {
         "name": "F1D29B",
         "rawType": "int64",
         "type": "integer"
        },
        {
         "name": "F1D29C",
         "rawType": "int64",
         "type": "integer"
        },
        {
         "name": "F1D29D",
         "rawType": "int64",
         "type": "integer"
        },
        {
         "name": "F1D29E",
         "rawType": "int64",
         "type": "integer"
        },
        {
         "name": "F1D29F",
         "rawType": "int64",
         "type": "integer"
        },
        {
         "name": "F1D29G",
         "rawType": "int64",
         "type": "integer"
        },
        {
         "name": "F1D29H",
         "rawType": "int64",
         "type": "integer"
        },
        {
         "name": "F1D29I",
         "rawType": "int64",
         "type": "integer"
        },
        {
         "name": "F1D29J",
         "rawType": "int64",
         "type": "integer"
        },
        {
         "name": "F1D29K",
         "rawType": "int64",
         "type": "integer"
        },
        {
         "name": "F1D29L",
         "rawType": "int64",
         "type": "integer"
        },
        {
         "name": "F1D29M",
         "rawType": "int64",
         "type": "integer"
        },
        {
         "name": "F1D29N",
         "rawType": "int64",
         "type": "integer"
        },
        {
         "name": "F1D29O",
         "rawType": "int64",
         "type": "integer"
        },
        {
         "name": "F1D29P",
         "rawType": "int64",
         "type": "integer"
        },
        {
         "name": "F1D29Q",
         "rawType": "int64",
         "type": "integer"
        },
        {
         "name": "F1D29R",
         "rawType": "int64",
         "type": "integer"
        },
        {
         "name": "F1D29S",
         "rawType": "int64",
         "type": "integer"
        },
        {
         "name": "F1D29T",
         "rawType": "int64",
         "type": "integer"
        },
        {
         "name": "F1D29U",
         "rawType": "int64",
         "type": "integer"
        },
        {
         "name": "F1D30",
         "rawType": "int64",
         "type": "integer"
        },
        {
         "name": "F1D31A",
         "rawType": "int64",
         "type": "integer"
        },
        {
         "name": "F1D31B",
         "rawType": "int64",
         "type": "integer"
        },
        {
         "name": "F1D31C",
         "rawType": "int64",
         "type": "integer"
        },
        {
         "name": "F1D31D",
         "rawType": "int64",
         "type": "integer"
        },
        {
         "name": "F1D31E",
         "rawType": "int64",
         "type": "integer"
        },
        {
         "name": "F1D31F",
         "rawType": "int64",
         "type": "integer"
        },
        {
         "name": "F1D31G",
         "rawType": "int64",
         "type": "integer"
        },
        {
         "name": "F1D31H",
         "rawType": "int64",
         "type": "integer"
        },
        {
         "name": "F1D31I",
         "rawType": "int64",
         "type": "integer"
        },
        {
         "name": "F1D31J",
         "rawType": "int64",
         "type": "integer"
        },
        {
         "name": "F1D31K",
         "rawType": "int64",
         "type": "integer"
        },
        {
         "name": "F1D31L",
         "rawType": "int64",
         "type": "integer"
        },
        {
         "name": "F1D32A",
         "rawType": "int64",
         "type": "integer"
        },
        {
         "name": "F1D32B",
         "rawType": "int64",
         "type": "integer"
        },
        {
         "name": "F1D32C",
         "rawType": "int64",
         "type": "integer"
        },
        {
         "name": "F1D32D",
         "rawType": "int64",
         "type": "integer"
        },
        {
         "name": "F1D32E",
         "rawType": "int64",
         "type": "integer"
        },
        {
         "name": "F1D32F",
         "rawType": "int64",
         "type": "integer"
        },
        {
         "name": "F1D32G",
         "rawType": "int64",
         "type": "integer"
        },
        {
         "name": "F1D32H",
         "rawType": "int64",
         "type": "integer"
        },
        {
         "name": "F1D32I",
         "rawType": "int64",
         "type": "integer"
        },
        {
         "name": "F1D32J",
         "rawType": "int64",
         "type": "integer"
        },
        {
         "name": "F1D32K",
         "rawType": "int64",
         "type": "integer"
        },
        {
         "name": "F1D32L",
         "rawType": "int64",
         "type": "integer"
        },
        {
         "name": "F1D32M",
         "rawType": "int64",
         "type": "integer"
        },
        {
         "name": "F1D33A",
         "rawType": "int64",
         "type": "integer"
        },
        {
         "name": "F1D33B",
         "rawType": "int64",
         "type": "integer"
        },
        {
         "name": "F1D33C",
         "rawType": "int64",
         "type": "integer"
        },
        {
         "name": "F1D33D",
         "rawType": "int64",
         "type": "integer"
        },
        {
         "name": "F1D33E",
         "rawType": "int64",
         "type": "integer"
        },
        {
         "name": "F1D33F",
         "rawType": "int64",
         "type": "integer"
        },
        {
         "name": "F1D33G",
         "rawType": "int64",
         "type": "integer"
        },
        {
         "name": "F1D33H",
         "rawType": "int64",
         "type": "integer"
        },
        {
         "name": "F1D33I",
         "rawType": "int64",
         "type": "integer"
        },
        {
         "name": "F1D33J",
         "rawType": "int64",
         "type": "integer"
        },
        {
         "name": "F1D34",
         "rawType": "int64",
         "type": "integer"
        },
        {
         "name": "F1D35",
         "rawType": "int64",
         "type": "integer"
        },
        {
         "name": "F1D36",
         "rawType": "int64",
         "type": "integer"
        },
        {
         "name": "F1D37",
         "rawType": "int64",
         "type": "integer"
        },
        {
         "name": "F1D38A",
         "rawType": "int64",
         "type": "integer"
        },
        {
         "name": "F1D38B",
         "rawType": "int64",
         "type": "integer"
        },
        {
         "name": "F1D38C",
         "rawType": "int64",
         "type": "integer"
        },
        {
         "name": "F1D38D",
         "rawType": "int64",
         "type": "integer"
        },
        {
         "name": "F1D38E",
         "rawType": "int64",
         "type": "integer"
        },
        {
         "name": "F1D38F",
         "rawType": "int64",
         "type": "integer"
        },
        {
         "name": "F1D38G",
         "rawType": "int64",
         "type": "integer"
        },
        {
         "name": "F1D38I",
         "rawType": "int64",
         "type": "integer"
        },
        {
         "name": "F1D38J",
         "rawType": "int64",
         "type": "integer"
        },
        {
         "name": "F1D38K",
         "rawType": "int64",
         "type": "integer"
        },
        {
         "name": "F1D39A",
         "rawType": "int64",
         "type": "integer"
        },
        {
         "name": "F1D39B",
         "rawType": "int64",
         "type": "integer"
        },
        {
         "name": "F1D39C",
         "rawType": "int64",
         "type": "integer"
        },
        {
         "name": "F1D39D",
         "rawType": "int64",
         "type": "integer"
        },
        {
         "name": "F1D39E",
         "rawType": "int64",
         "type": "integer"
        },
        {
         "name": "F1D39F",
         "rawType": "int64",
         "type": "integer"
        },
        {
         "name": "F1D39G",
         "rawType": "int64",
         "type": "integer"
        },
        {
         "name": "F1D39H",
         "rawType": "int64",
         "type": "integer"
        },
        {
         "name": "F1D39I",
         "rawType": "int64",
         "type": "integer"
        },
        {
         "name": "F1D39J",
         "rawType": "int64",
         "type": "integer"
        },
        {
         "name": "F1D40",
         "rawType": "int64",
         "type": "integer"
        },
        {
         "name": "F1D41",
         "rawType": "int64",
         "type": "integer"
        },
        {
         "name": "F1D42",
         "rawType": "int64",
         "type": "integer"
        },
        {
         "name": "F1D42A",
         "rawType": "int64",
         "type": "integer"
        },
        {
         "name": "F1D43A",
         "rawType": "int64",
         "type": "integer"
        },
        {
         "name": "F1D43B",
         "rawType": "int64",
         "type": "integer"
        },
        {
         "name": "F1D43C",
         "rawType": "int64",
         "type": "integer"
        },
        {
         "name": "F1D43D",
         "rawType": "int64",
         "type": "integer"
        },
        {
         "name": "F1D43E",
         "rawType": "int64",
         "type": "integer"
        },
        {
         "name": "F1D43F",
         "rawType": "int64",
         "type": "integer"
        },
        {
         "name": "F1D44",
         "rawType": "int64",
         "type": "integer"
        },
        {
         "name": "F1D45",
         "rawType": "int64",
         "type": "integer"
        },
        {
         "name": "F1D46",
         "rawType": "int64",
         "type": "integer"
        },
        {
         "name": "F1D47A",
         "rawType": "int64",
         "type": "integer"
        },
        {
         "name": "F1D47B",
         "rawType": "int64",
         "type": "integer"
        },
        {
         "name": "F1D48",
         "rawType": "int64",
         "type": "integer"
        },
        {
         "name": "F1D49A",
         "rawType": "int64",
         "type": "integer"
        },
        {
         "name": "F1D49B",
         "rawType": "int64",
         "type": "integer"
        },
        {
         "name": "F1D49C",
         "rawType": "int64",
         "type": "integer"
        },
        {
         "name": "F1D49D",
         "rawType": "int64",
         "type": "integer"
        },
        {
         "name": "F1D49E",
         "rawType": "int64",
         "type": "integer"
        },
        {
         "name": "F1D50",
         "rawType": "int64",
         "type": "integer"
        },
        {
         "name": "F1D51A",
         "rawType": "int64",
         "type": "integer"
        },
        {
         "name": "F1D51B",
         "rawType": "int64",
         "type": "integer"
        },
        {
         "name": "F1D52A",
         "rawType": "int64",
         "type": "integer"
        },
        {
         "name": "F1D52B",
         "rawType": "int64",
         "type": "integer"
        },
        {
         "name": "F1D53",
         "rawType": "int64",
         "type": "integer"
        },
        {
         "name": "F1D54A",
         "rawType": "int64",
         "type": "integer"
        },
        {
         "name": "F1D54B",
         "rawType": "int64",
         "type": "integer"
        },
        {
         "name": "F1D54C",
         "rawType": "int64",
         "type": "integer"
        },
        {
         "name": "F1D54D",
         "rawType": "int64",
         "type": "integer"
        },
        {
         "name": "F1D55A",
         "rawType": "int64",
         "type": "integer"
        },
        {
         "name": "F1D55B",
         "rawType": "int64",
         "type": "integer"
        },
        {
         "name": "F1D55C",
         "rawType": "int64",
         "type": "integer"
        },
        {
         "name": "F1D55D",
         "rawType": "int64",
         "type": "integer"
        },
        {
         "name": "F1D55E",
         "rawType": "int64",
         "type": "integer"
        },
        {
         "name": "F1D55F",
         "rawType": "int64",
         "type": "integer"
        },
        {
         "name": "F1D55G",
         "rawType": "int64",
         "type": "integer"
        },
        {
         "name": "F1D55H",
         "rawType": "int64",
         "type": "integer"
        },
        {
         "name": "F1D55I",
         "rawType": "int64",
         "type": "integer"
        },
        {
         "name": "F1D56A",
         "rawType": "int64",
         "type": "integer"
        },
        {
         "name": "F1D56B",
         "rawType": "int64",
         "type": "integer"
        },
        {
         "name": "F1D56C",
         "rawType": "int64",
         "type": "integer"
        },
        {
         "name": "F1D56D",
         "rawType": "int64",
         "type": "integer"
        },
        {
         "name": "F1D56E",
         "rawType": "int64",
         "type": "integer"
        },
        {
         "name": "F1D56F",
         "rawType": "int64",
         "type": "integer"
        },
        {
         "name": "F1D56G",
         "rawType": "int64",
         "type": "integer"
        },
        {
         "name": "F1D56H",
         "rawType": "int64",
         "type": "integer"
        },
        {
         "name": "F1D56I",
         "rawType": "int64",
         "type": "integer"
        },
        {
         "name": "F1D56J",
         "rawType": "int64",
         "type": "integer"
        },
        {
         "name": "F1D56K",
         "rawType": "int64",
         "type": "integer"
        },
        {
         "name": "F1D56L",
         "rawType": "int64",
         "type": "integer"
        },
        {
         "name": "F1D56M",
         "rawType": "int64",
         "type": "integer"
        },
        {
         "name": "F1D56N",
         "rawType": "int64",
         "type": "integer"
        },
        {
         "name": "F1D56O",
         "rawType": "int64",
         "type": "integer"
        },
        {
         "name": "F1D56P",
         "rawType": "int64",
         "type": "integer"
        },
        {
         "name": "F1D56Q",
         "rawType": "int64",
         "type": "integer"
        },
        {
         "name": "F1D56R",
         "rawType": "int64",
         "type": "integer"
        },
        {
         "name": "F1D57",
         "rawType": "int64",
         "type": "integer"
        },
        {
         "name": "F1D58A",
         "rawType": "int64",
         "type": "integer"
        },
        {
         "name": "F1D58B",
         "rawType": "int64",
         "type": "integer"
        },
        {
         "name": "F1D59",
         "rawType": "int64",
         "type": "integer"
        },
        {
         "name": "F1D60",
         "rawType": "int64",
         "type": "integer"
        },
        {
         "name": "F1D61",
         "rawType": "int64",
         "type": "integer"
        },
        {
         "name": "F1D62",
         "rawType": "int64",
         "type": "integer"
        },
        {
         "name": "F1D63",
         "rawType": "int64",
         "type": "integer"
        },
        {
         "name": "F1D64",
         "rawType": "int64",
         "type": "integer"
        },
        {
         "name": "F1D65",
         "rawType": "int64",
         "type": "integer"
        },
        {
         "name": "F1D66",
         "rawType": "int64",
         "type": "integer"
        },
        {
         "name": "F1D67",
         "rawType": "int64",
         "type": "integer"
        },
        {
         "name": "F1D68",
         "rawType": "int64",
         "type": "integer"
        },
        {
         "name": "F1D69A",
         "rawType": "int64",
         "type": "integer"
        },
        {
         "name": "F1D69B",
         "rawType": "int64",
         "type": "integer"
        },
        {
         "name": "F1D69C",
         "rawType": "int64",
         "type": "integer"
        },
        {
         "name": "F1D69D",
         "rawType": "int64",
         "type": "integer"
        },
        {
         "name": "F1T15",
         "rawType": "int64",
         "type": "integer"
        },
        {
         "name": "F1T16A",
         "rawType": "int64",
         "type": "integer"
        },
        {
         "name": "F1T16B",
         "rawType": "int64",
         "type": "integer"
        },
        {
         "name": "F1T16C",
         "rawType": "int64",
         "type": "integer"
        },
        {
         "name": "F1T16D",
         "rawType": "int64",
         "type": "integer"
        },
        {
         "name": "F1T16E",
         "rawType": "int64",
         "type": "integer"
        },
        {
         "name": "F1T16ETX",
         "rawType": "int64",
         "type": "integer"
        },
        {
         "name": "F1T16ECD",
         "rawType": "int64",
         "type": "integer"
        },
        {
         "name": "F1T17A",
         "rawType": "int64",
         "type": "integer"
        },
        {
         "name": "F1T17B",
         "rawType": "int64",
         "type": "integer"
        },
        {
         "name": "F1T17C",
         "rawType": "int64",
         "type": "integer"
        },
        {
         "name": "F1T17D",
         "rawType": "int64",
         "type": "integer"
        },
        {
         "name": "F1T17E",
         "rawType": "int64",
         "type": "integer"
        },
        {
         "name": "F1T17F",
         "rawType": "int64",
         "type": "integer"
        },
        {
         "name": "F1T17G",
         "rawType": "int64",
         "type": "integer"
        },
        {
         "name": "F1T17H",
         "rawType": "int64",
         "type": "integer"
        },
        {
         "name": "F1T17I",
         "rawType": "int64",
         "type": "integer"
        },
        {
         "name": "F1E20",
         "rawType": "int64",
         "type": "integer"
        },
        {
         "name": "F1E21",
         "rawType": "int64",
         "type": "integer"
        },
        {
         "name": "F1E22A",
         "rawType": "int64",
         "type": "integer"
        },
        {
         "name": "F1E22B",
         "rawType": "int64",
         "type": "integer"
        },
        {
         "name": "F1E22C",
         "rawType": "int64",
         "type": "integer"
        },
        {
         "name": "F1E22D",
         "rawType": "int64",
         "type": "integer"
        },
        {
         "name": "F1E22E",
         "rawType": "int64",
         "type": "integer"
        },
        {
         "name": "F1E22F",
         "rawType": "int64",
         "type": "integer"
        },
        {
         "name": "F1E22G",
         "rawType": "int64",
         "type": "integer"
        },
        {
         "name": "F1E22H",
         "rawType": "int64",
         "type": "integer"
        },
        {
         "name": "F1E22I",
         "rawType": "int64",
         "type": "integer"
        },
        {
         "name": "F1E22J",
         "rawType": "int64",
         "type": "integer"
        },
        {
         "name": "F1E22K",
         "rawType": "int64",
         "type": "integer"
        },
        {
         "name": "F1E22L",
         "rawType": "int64",
         "type": "integer"
        },
        {
         "name": "F1E22M",
         "rawType": "int64",
         "type": "integer"
        },
        {
         "name": "F1E22N",
         "rawType": "int64",
         "type": "integer"
        },
        {
         "name": "F1E22O",
         "rawType": "int64",
         "type": "integer"
        },
        {
         "name": "F1E22P",
         "rawType": "int64",
         "type": "integer"
        },
        {
         "name": "F1E22Q",
         "rawType": "int64",
         "type": "integer"
        },
        {
         "name": "F1E22R",
         "rawType": "int64",
         "type": "integer"
        },
        {
         "name": "F1E22S",
         "rawType": "int64",
         "type": "integer"
        },
        {
         "name": "F1E22T",
         "rawType": "int64",
         "type": "integer"
        },
        {
         "name": "F1E22U",
         "rawType": "int64",
         "type": "integer"
        },
        {
         "name": "F1E23",
         "rawType": "int64",
         "type": "integer"
        },
        {
         "name": "F1E24",
         "rawType": "int64",
         "type": "integer"
        },
        {
         "name": "F1E24A",
         "rawType": "int64",
         "type": "integer"
        },
        {
         "name": "F1E25A",
         "rawType": "int64",
         "type": "integer"
        },
        {
         "name": "F1E25B",
         "rawType": "int64",
         "type": "integer"
        },
        {
         "name": "F1E25C",
         "rawType": "int64",
         "type": "integer"
        },
        {
         "name": "F1E25D",
         "rawType": "int64",
         "type": "integer"
        },
        {
         "name": "F1E25E",
         "rawType": "int64",
         "type": "integer"
        },
        {
         "name": "F1E25F",
         "rawType": "int64",
         "type": "integer"
        },
        {
         "name": "F1E26",
         "rawType": "int64",
         "type": "integer"
        },
        {
         "name": "F1E27",
         "rawType": "int64",
         "type": "integer"
        },
        {
         "name": "F1E28A",
         "rawType": "int64",
         "type": "integer"
        },
        {
         "name": "F1E28B",
         "rawType": "int64",
         "type": "integer"
        },
        {
         "name": "F1E28C",
         "rawType": "int64",
         "type": "integer"
        },
        {
         "name": "F1E28D",
         "rawType": "int64",
         "type": "integer"
        },
        {
         "name": "F1E28E",
         "rawType": "int64",
         "type": "integer"
        },
        {
         "name": "F1E28F",
         "rawType": "int64",
         "type": "integer"
        },
        {
         "name": "F1E38D",
         "rawType": "int64",
         "type": "integer"
        },
        {
         "name": "F1E43",
         "rawType": "int64",
         "type": "integer"
        },
        {
         "name": "F1E49",
         "rawType": "int64",
         "type": "integer"
        },
        {
         "name": "F1E50",
         "rawType": "int64",
         "type": "integer"
        },
        {
         "name": "F1E51",
         "rawType": "int64",
         "type": "integer"
        },
        {
         "name": "F1E52",
         "rawType": "int64",
         "type": "integer"
        },
        {
         "name": "F1E53",
         "rawType": "int64",
         "type": "integer"
        },
        {
         "name": "F1E54",
         "rawType": "int64",
         "type": "integer"
        },
        {
         "name": "F1E55",
         "rawType": "int64",
         "type": "integer"
        },
        {
         "name": "F1N02",
         "rawType": "int64",
         "type": "integer"
        },
        {
         "name": "F1N03",
         "rawType": "int64",
         "type": "integer"
        },
        {
         "name": "F1N04",
         "rawType": "int64",
         "type": "integer"
        },
        {
         "name": "F1N05A",
         "rawType": "int64",
         "type": "integer"
        },
        {
         "name": "F1N05B",
         "rawType": "int64",
         "type": "integer"
        },
        {
         "name": "F1N05C",
         "rawType": "int64",
         "type": "integer"
        },
        {
         "name": "F1N05D",
         "rawType": "int64",
         "type": "integer"
        },
        {
         "name": "F1N05E",
         "rawType": "int64",
         "type": "integer"
        },
        {
         "name": "F1N06",
         "rawType": "int64",
         "type": "integer"
        },
        {
         "name": "F1N07",
         "rawType": "int64",
         "type": "integer"
        },
        {
         "name": "F1N08",
         "rawType": "int64",
         "type": "integer"
        },
        {
         "name": "F1N09A",
         "rawType": "int64",
         "type": "integer"
        },
        {
         "name": "F1N09B",
         "rawType": "int64",
         "type": "integer"
        },
        {
         "name": "F1N09C",
         "rawType": "int64",
         "type": "integer"
        },
        {
         "name": "F1N09D",
         "rawType": "int64",
         "type": "integer"
        },
        {
         "name": "F1N11",
         "rawType": "int64",
         "type": "integer"
        },
        {
         "name": "F1N12A",
         "rawType": "int64",
         "type": "integer"
        },
        {
         "name": "F1N12B",
         "rawType": "int64",
         "type": "integer"
        },
        {
         "name": "F1N12C",
         "rawType": "int64",
         "type": "integer"
        },
        {
         "name": "F1N12D",
         "rawType": "int64",
         "type": "integer"
        },
        {
         "name": "F1N12E",
         "rawType": "int64",
         "type": "integer"
        },
        {
         "name": "F1N12F",
         "rawType": "int64",
         "type": "integer"
        },
        {
         "name": "F1N12G",
         "rawType": "int64",
         "type": "integer"
        },
        {
         "name": "F1N12H",
         "rawType": "int64",
         "type": "integer"
        },
        {
         "name": "F1N12I",
         "rawType": "int64",
         "type": "integer"
        },
        {
         "name": "F1N12J",
         "rawType": "int64",
         "type": "integer"
        },
        {
         "name": "F1N12K",
         "rawType": "int64",
         "type": "integer"
        },
        {
         "name": "F1N12L",
         "rawType": "int64",
         "type": "integer"
        },
        {
         "name": "F1N12M",
         "rawType": "int64",
         "type": "integer"
        },
        {
         "name": "F1N13A",
         "rawType": "int64",
         "type": "integer"
        },
        {
         "name": "F1N13B",
         "rawType": "int64",
         "type": "integer"
        },
        {
         "name": "F1N13C",
         "rawType": "int64",
         "type": "integer"
        },
        {
         "name": "F1N13D",
         "rawType": "int64",
         "type": "integer"
        },
        {
         "name": "F1N14A",
         "rawType": "int64",
         "type": "integer"
        },
        {
         "name": "F1N14B",
         "rawType": "int64",
         "type": "integer"
        },
        {
         "name": "F1N15A",
         "rawType": "int64",
         "type": "integer"
        },
        {
         "name": "F1N15B",
         "rawType": "int64",
         "type": "integer"
        },
        {
         "name": "F1N16A",
         "rawType": "int64",
         "type": "integer"
        },
        {
         "name": "F1N16B",
         "rawType": "int64",
         "type": "integer"
        },
        {
         "name": "F1N17A",
         "rawType": "int64",
         "type": "integer"
        },
        {
         "name": "F1N17B",
         "rawType": "int64",
         "type": "integer"
        },
        {
         "name": "F1N17C",
         "rawType": "int64",
         "type": "integer"
        },
        {
         "name": "F1N17D",
         "rawType": "int64",
         "type": "integer"
        },
        {
         "name": "F1N17E",
         "rawType": "int64",
         "type": "integer"
        },
        {
         "name": "F1N17F",
         "rawType": "int64",
         "type": "integer"
        },
        {
         "name": "F1N17G",
         "rawType": "int64",
         "type": "integer"
        },
        {
         "name": "F1N17H",
         "rawType": "int64",
         "type": "integer"
        },
        {
         "name": "F1N17I",
         "rawType": "int64",
         "type": "integer"
        },
        {
         "name": "F1N17J",
         "rawType": "int64",
         "type": "integer"
        },
        {
         "name": "F2PHSDG",
         "rawType": "int64",
         "type": "integer"
        },
        {
         "name": "F2PHSDT",
         "rawType": "int64",
         "type": "integer"
        },
        {
         "name": "F2A01",
         "rawType": "int64",
         "type": "integer"
        },
        {
         "name": "F2A02",
         "rawType": "int64",
         "type": "integer"
        },
        {
         "name": "F2A03",
         "rawType": "int64",
         "type": "integer"
        },
        {
         "name": "F2A04",
         "rawType": "int64",
         "type": "integer"
        },
        {
         "name": "F2A04A",
         "rawType": "int64",
         "type": "integer"
        },
        {
         "name": "F2A05",
         "rawType": "int64",
         "type": "integer"
        },
        {
         "name": "F2A06A",
         "rawType": "int64",
         "type": "integer"
        },
        {
         "name": "F2A06B",
         "rawType": "int64",
         "type": "integer"
        },
        {
         "name": "F2A06C",
         "rawType": "int64",
         "type": "integer"
        },
        {
         "name": "F2A06D",
         "rawType": "int64",
         "type": "integer"
        },
        {
         "name": "F2A06E",
         "rawType": "int64",
         "type": "integer"
        },
        {
         "name": "F2A06F",
         "rawType": "int64",
         "type": "integer"
        },
        {
         "name": "F2A07",
         "rawType": "int64",
         "type": "integer"
        },
        {
         "name": "F2A08",
         "rawType": "int64",
         "type": "integer"
        },
        {
         "name": "F2A09",
         "rawType": "int64",
         "type": "integer"
        },
        {
         "name": "F2A10",
         "rawType": "int64",
         "type": "integer"
        },
        {
         "name": "F2A11",
         "rawType": "int64",
         "type": "integer"
        },
        {
         "name": "F2A12",
         "rawType": "int64",
         "type": "integer"
        },
        {
         "name": "F2A13",
         "rawType": "int64",
         "type": "integer"
        },
        {
         "name": "F2A14A",
         "rawType": "int64",
         "type": "integer"
        },
        {
         "name": "F2A14B",
         "rawType": "int64",
         "type": "integer"
        },
        {
         "name": "F2A14C",
         "rawType": "int64",
         "type": "integer"
        },
        {
         "name": "F2A14D",
         "rawType": "int64",
         "type": "integer"
        },
        {
         "name": "F2A14E",
         "rawType": "int64",
         "type": "integer"
        },
        {
         "name": "F2A14F",
         "rawType": "int64",
         "type": "integer"
        },
        {
         "name": "F2A14G",
         "rawType": "int64",
         "type": "integer"
        },
        {
         "name": "F2A14H",
         "rawType": "int64",
         "type": "integer"
        },
        {
         "name": "F2A14I",
         "rawType": "int64",
         "type": "integer"
        },
        {
         "name": "F2A14J",
         "rawType": "int64",
         "type": "integer"
        },
        {
         "name": "F2A14K",
         "rawType": "int64",
         "type": "integer"
        },
        {
         "name": "F2A14L",
         "rawType": "int64",
         "type": "integer"
        },
        {
         "name": "F2A14M",
         "rawType": "int64",
         "type": "integer"
        },
        {
         "name": "F2A14N",
         "rawType": "int64",
         "type": "integer"
        },
        {
         "name": "F2B01",
         "rawType": "int64",
         "type": "integer"
        },
        {
         "name": "F2B02",
         "rawType": "int64",
         "type": "integer"
        },
        {
         "name": "F2B03",
         "rawType": "int64",
         "type": "integer"
        },
        {
         "name": "F2B03_P",
         "rawType": "int64",
         "type": "integer"
        },
        {
         "name": "F2B04",
         "rawType": "int64",
         "type": "integer"
        },
        {
         "name": "F2B05A",
         "rawType": "int64",
         "type": "integer"
        },
        {
         "name": "F2B05B",
         "rawType": "int64",
         "type": "integer"
        },
        {
         "name": "F2B05C",
         "rawType": "int64",
         "type": "integer"
        },
        {
         "name": "F2B05D",
         "rawType": "int64",
         "type": "integer"
        },
        {
         "name": "F2B05E",
         "rawType": "int64",
         "type": "integer"
        },
        {
         "name": "F2B05F",
         "rawType": "int64",
         "type": "integer"
        },
        {
         "name": "F2B05G",
         "rawType": "int64",
         "type": "integer"
        },
        {
         "name": "F2B06",
         "rawType": "int64",
         "type": "integer"
        },
        {
         "name": "F2B07",
         "rawType": "int64",
         "type": "integer"
        },
        {
         "name": "F2B08A",
         "rawType": "int64",
         "type": "integer"
        },
        {
         "name": "F2B08B",
         "rawType": "int64",
         "type": "integer"
        },
        {
         "name": "F2B08C",
         "rawType": "int64",
         "type": "integer"
        },
        {
         "name": "F2B08D",
         "rawType": "int64",
         "type": "integer"
        },
        {
         "name": "F2B08E",
         "rawType": "int64",
         "type": "integer"
        },
        {
         "name": "F2B08F",
         "rawType": "int64",
         "type": "integer"
        },
        {
         "name": "F2B08G",
         "rawType": "int64",
         "type": "integer"
        },
        {
         "name": "F2B08H",
         "rawType": "int64",
         "type": "integer"
        },
        {
         "name": "F2B08I",
         "rawType": "int64",
         "type": "integer"
        },
        {
         "name": "F2B08J",
         "rawType": "int64",
         "type": "integer"
        },
        {
         "name": "F2B08K",
         "rawType": "int64",
         "type": "integer"
        },
        {
         "name": "F2B08L",
         "rawType": "int64",
         "type": "integer"
        },
        {
         "name": "F2B08N",
         "rawType": "int64",
         "type": "integer"
        },
        {
         "name": "F2B08NA",
         "rawType": "int64",
         "type": "integer"
        },
        {
         "name": "F2B09",
         "rawType": "int64",
         "type": "integer"
        },
        {
         "name": "F2B10",
         "rawType": "int64",
         "type": "integer"
        },
        {
         "name": "F2B10_P",
         "rawType": "int64",
         "type": "integer"
        },
        {
         "name": "F2B11A",
         "rawType": "int64",
         "type": "integer"
        },
        {
         "name": "F2B11B",
         "rawType": "int64",
         "type": "integer"
        },
        {
         "name": "F2B11C",
         "rawType": "int64",
         "type": "integer"
        },
        {
         "name": "F2B11D",
         "rawType": "int64",
         "type": "integer"
        },
        {
         "name": "F2B11E",
         "rawType": "int64",
         "type": "integer"
        },
        {
         "name": "F2B11F",
         "rawType": "int64",
         "type": "integer"
        },
        {
         "name": "F2B11G",
         "rawType": "int64",
         "type": "integer"
        },
        {
         "name": "F2B11H",
         "rawType": "int64",
         "type": "integer"
        },
        {
         "name": "F2B11I",
         "rawType": "int64",
         "type": "integer"
        },
        {
         "name": "F2B11J",
         "rawType": "int64",
         "type": "integer"
        },
        {
         "name": "F2B11K",
         "rawType": "int64",
         "type": "integer"
        },
        {
         "name": "F2B11L",
         "rawType": "int64",
         "type": "integer"
        },
        {
         "name": "F2B11N",
         "rawType": "int64",
         "type": "integer"
        },
        {
         "name": "F2B11NA",
         "rawType": "int64",
         "type": "integer"
        },
        {
         "name": "F2B12",
         "rawType": "int64",
         "type": "integer"
        },
        {
         "name": "F2B13A",
         "rawType": "int64",
         "type": "integer"
        },
        {
         "name": "F2B13B",
         "rawType": "int64",
         "type": "integer"
        },
        {
         "name": "F2B13C",
         "rawType": "int64",
         "type": "integer"
        },
        {
         "name": "F2B13D",
         "rawType": "int64",
         "type": "integer"
        },
        {
         "name": "F2B13E",
         "rawType": "int64",
         "type": "integer"
        },
        {
         "name": "F2B13F",
         "rawType": "int64",
         "type": "integer"
        },
        {
         "name": "F2B14",
         "rawType": "int64",
         "type": "integer"
        },
        {
         "name": "F2B15",
         "rawType": "int64",
         "type": "integer"
        },
        {
         "name": "F2B16A",
         "rawType": "int64",
         "type": "integer"
        },
        {
         "name": "F2B16B",
         "rawType": "int64",
         "type": "integer"
        },
        {
         "name": "F2B16C",
         "rawType": "int64",
         "type": "integer"
        },
        {
         "name": "F2B17A",
         "rawType": "int64",
         "type": "integer"
        },
        {
         "name": "F2B17B",
         "rawType": "int64",
         "type": "integer"
        },
        {
         "name": "F2B17C",
         "rawType": "int64",
         "type": "integer"
        },
        {
         "name": "F2B17D",
         "rawType": "int64",
         "type": "integer"
        },
        {
         "name": "F2B18A",
         "rawType": "int64",
         "type": "integer"
        },
        {
         "name": "F2B18B",
         "rawType": "int64",
         "type": "integer"
        },
        {
         "name": "F2B18C",
         "rawType": "int64",
         "type": "integer"
        },
        {
         "name": "F2B18D",
         "rawType": "int64",
         "type": "integer"
        },
        {
         "name": "F2B18E",
         "rawType": "int64",
         "type": "integer"
        },
        {
         "name": "F2B18F",
         "rawType": "int64",
         "type": "integer"
        },
        {
         "name": "F2B18G",
         "rawType": "int64",
         "type": "integer"
        },
        {
         "name": "F2B19A",
         "rawType": "int64",
         "type": "integer"
        },
        {
         "name": "F2B19B",
         "rawType": "int64",
         "type": "integer"
        },
        {
         "name": "F2B19C",
         "rawType": "int64",
         "type": "integer"
        },
        {
         "name": "F2B19D",
         "rawType": "int64",
         "type": "integer"
        },
        {
         "name": "F2B19E",
         "rawType": "int64",
         "type": "integer"
        },
        {
         "name": "F2B19F",
         "rawType": "int64",
         "type": "integer"
        },
        {
         "name": "F2B19G",
         "rawType": "int64",
         "type": "integer"
        },
        {
         "name": "F2B19H",
         "rawType": "int64",
         "type": "integer"
        },
        {
         "name": "F2B19I",
         "rawType": "int64",
         "type": "integer"
        },
        {
         "name": "F2B19J",
         "rawType": "int64",
         "type": "integer"
        },
        {
         "name": "F2B19K",
         "rawType": "int64",
         "type": "integer"
        },
        {
         "name": "F2B20A",
         "rawType": "int64",
         "type": "integer"
        },
        {
         "name": "F2B20B",
         "rawType": "int64",
         "type": "integer"
        },
        {
         "name": "F2B20C",
         "rawType": "int64",
         "type": "integer"
        },
        {
         "name": "F2B20D",
         "rawType": "int64",
         "type": "integer"
        },
        {
         "name": "F2B20E",
         "rawType": "int64",
         "type": "integer"
        },
        {
         "name": "F2B20F",
         "rawType": "int64",
         "type": "integer"
        },
        {
         "name": "F2B20G",
         "rawType": "int64",
         "type": "integer"
        },
        {
         "name": "F2B20H",
         "rawType": "int64",
         "type": "integer"
        },
        {
         "name": "F2B21A",
         "rawType": "int64",
         "type": "integer"
        },
        {
         "name": "F2B21B",
         "rawType": "int64",
         "type": "integer"
        },
        {
         "name": "F2B21C",
         "rawType": "int64",
         "type": "integer"
        },
        {
         "name": "F2B21D",
         "rawType": "int64",
         "type": "integer"
        },
        {
         "name": "F2B21E",
         "rawType": "int64",
         "type": "integer"
        },
        {
         "name": "F2B21F",
         "rawType": "int64",
         "type": "integer"
        },
        {
         "name": "F2B21G",
         "rawType": "int64",
         "type": "integer"
        },
        {
         "name": "F2B21H",
         "rawType": "int64",
         "type": "integer"
        },
        {
         "name": "F2B21I",
         "rawType": "int64",
         "type": "integer"
        },
        {
         "name": "F2B21J",
         "rawType": "int64",
         "type": "integer"
        },
        {
         "name": "F2B21K",
         "rawType": "int64",
         "type": "integer"
        },
        {
         "name": "F2B21L",
         "rawType": "int64",
         "type": "integer"
        },
        {
         "name": "F2B22",
         "rawType": "int64",
         "type": "integer"
        },
        {
         "name": "F2B23A",
         "rawType": "int64",
         "type": "integer"
        },
        {
         "name": "F2B24",
         "rawType": "int64",
         "type": "integer"
        },
        {
         "name": "F2B25A",
         "rawType": "int64",
         "type": "integer"
        },
        {
         "name": "F2B25B",
         "rawType": "int64",
         "type": "integer"
        },
        {
         "name": "F2B25C",
         "rawType": "int64",
         "type": "integer"
        },
        {
         "name": "F2B25D",
         "rawType": "int64",
         "type": "integer"
        },
        {
         "name": "F2B25E",
         "rawType": "int64",
         "type": "integer"
        },
        {
         "name": "F2B25F",
         "rawType": "int64",
         "type": "integer"
        },
        {
         "name": "F2B25G",
         "rawType": "int64",
         "type": "integer"
        },
        {
         "name": "F2B25H",
         "rawType": "int64",
         "type": "integer"
        },
        {
         "name": "F2B26R",
         "rawType": "int64",
         "type": "integer"
        },
        {
         "name": "F2B26P",
         "rawType": "int64",
         "type": "integer"
        },
        {
         "name": "F2B27",
         "rawType": "int64",
         "type": "integer"
        },
        {
         "name": "F2B28R",
         "rawType": "int64",
         "type": "integer"
        },
        {
         "name": "F2B28P",
         "rawType": "int64",
         "type": "integer"
        },
        {
         "name": "F2B29A",
         "rawType": "int64",
         "type": "integer"
        },
        {
         "name": "F2B29B",
         "rawType": "int64",
         "type": "integer"
        },
        {
         "name": "F2B29C",
         "rawType": "int64",
         "type": "integer"
        },
        {
         "name": "F2B29D",
         "rawType": "int64",
         "type": "integer"
        },
        {
         "name": "F2B29E",
         "rawType": "int64",
         "type": "integer"
        },
        {
         "name": "F2B29F",
         "rawType": "int64",
         "type": "integer"
        },
        {
         "name": "F2B29G",
         "rawType": "int64",
         "type": "integer"
        },
        {
         "name": "F2B29H",
         "rawType": "int64",
         "type": "integer"
        },
        {
         "name": "F2B29I",
         "rawType": "int64",
         "type": "integer"
        },
        {
         "name": "F2B29J",
         "rawType": "int64",
         "type": "integer"
        },
        {
         "name": "F2B29K",
         "rawType": "int64",
         "type": "integer"
        },
        {
         "name": "F2B30",
         "rawType": "int64",
         "type": "integer"
        },
        {
         "name": "F2C01",
         "rawType": "int64",
         "type": "integer"
        },
        {
         "name": "F2C02",
         "rawType": "int64",
         "type": "integer"
        },
        {
         "name": "F2C03A",
         "rawType": "int64",
         "type": "integer"
        },
        {
         "name": "F2C03B",
         "rawType": "int64",
         "type": "integer"
        },
        {
         "name": "F2C04R",
         "rawType": "int64",
         "type": "integer"
        },
        {
         "name": "F2C04P",
         "rawType": "int64",
         "type": "integer"
        },
        {
         "name": "F2C04P2",
         "rawType": "int64",
         "type": "integer"
        },
        {
         "name": "F2C05R",
         "rawType": "int64",
         "type": "integer"
        },
        {
         "name": "F2C05P",
         "rawType": "int64",
         "type": "integer"
        },
        {
         "name": "F2C06A",
         "rawType": "int64",
         "type": "integer"
        },
        {
         "name": "F2C06B",
         "rawType": "int64",
         "type": "integer"
        },
        {
         "name": "F2C07",
         "rawType": "int64",
         "type": "integer"
        },
        {
         "name": "F2C08A",
         "rawType": "int64",
         "type": "integer"
        },
        {
         "name": "F2C08B",
         "rawType": "int64",
         "type": "integer"
        },
        {
         "name": "F2C08C",
         "rawType": "int64",
         "type": "integer"
        },
        {
         "name": "F2C08D",
         "rawType": "int64",
         "type": "integer"
        },
        {
         "name": "F2C08E",
         "rawType": "int64",
         "type": "integer"
        },
        {
         "name": "F2C09",
         "rawType": "int64",
         "type": "integer"
        },
        {
         "name": "F2C10R",
         "rawType": "int64",
         "type": "integer"
        },
        {
         "name": "F2C10P",
         "rawType": "int64",
         "type": "integer"
        },
        {
         "name": "F2C10P2",
         "rawType": "int64",
         "type": "integer"
        },
        {
         "name": "F2C11",
         "rawType": "int64",
         "type": "integer"
        },
        {
         "name": "F2C11P",
         "rawType": "int64",
         "type": "integer"
        },
        {
         "name": "F2C12",
         "rawType": "int64",
         "type": "integer"
        },
        {
         "name": "F2C13",
         "rawType": "int64",
         "type": "integer"
        },
        {
         "name": "F2C14",
         "rawType": "int64",
         "type": "integer"
        },
        {
         "name": "F2C15",
         "rawType": "int64",
         "type": "integer"
        },
        {
         "name": "F2C15P",
         "rawType": "int64",
         "type": "integer"
        },
        {
         "name": "F2C16A",
         "rawType": "int64",
         "type": "integer"
        },
        {
         "name": "F2C16B",
         "rawType": "int64",
         "type": "integer"
        },
        {
         "name": "F2C17R",
         "rawType": "int64",
         "type": "integer"
        },
        {
         "name": "F2C17P",
         "rawType": "int64",
         "type": "integer"
        },
        {
         "name": "F2C17P2",
         "rawType": "int64",
         "type": "integer"
        },
        {
         "name": "F2C18R",
         "rawType": "int64",
         "type": "integer"
        },
        {
         "name": "F2C18P",
         "rawType": "int64",
         "type": "integer"
        },
        {
         "name": "F2C19A",
         "rawType": "int64",
         "type": "integer"
        },
        {
         "name": "F2C19B",
         "rawType": "int64",
         "type": "integer"
        },
        {
         "name": "F2C20",
         "rawType": "int64",
         "type": "integer"
        },
        {
         "name": "F2C21",
         "rawType": "int64",
         "type": "integer"
        },
        {
         "name": "F2C22A",
         "rawType": "int64",
         "type": "integer"
        },
        {
         "name": "F2C22B",
         "rawType": "int64",
         "type": "integer"
        },
        {
         "name": "F2C22C",
         "rawType": "int64",
         "type": "integer"
        },
        {
         "name": "F2C22D",
         "rawType": "int64",
         "type": "integer"
        },
        {
         "name": "F2C23",
         "rawType": "int64",
         "type": "integer"
        },
        {
         "name": "F2C24",
         "rawType": "int64",
         "type": "integer"
        },
        {
         "name": "F2C24_P",
         "rawType": "int64",
         "type": "integer"
        },
        {
         "name": "F2C25A",
         "rawType": "int64",
         "type": "integer"
        },
        {
         "name": "F2C25B",
         "rawType": "int64",
         "type": "integer"
        },
        {
         "name": "F2C25C",
         "rawType": "int64",
         "type": "integer"
        },
        {
         "name": "F2C26R",
         "rawType": "int64",
         "type": "integer"
        },
        {
         "name": "F2C26P",
         "rawType": "int64",
         "type": "integer"
        },
        {
         "name": "F2C27",
         "rawType": "int64",
         "type": "integer"
        },
        {
         "name": "F2C28",
         "rawType": "int64",
         "type": "integer"
        },
        {
         "name": "F2C29",
         "rawType": "int64",
         "type": "integer"
        },
        {
         "name": "F2C29_P",
         "rawType": "int64",
         "type": "integer"
        },
        {
         "name": "F2C30A",
         "rawType": "int64",
         "type": "integer"
        },
        {
         "name": "F2C30B",
         "rawType": "int64",
         "type": "integer"
        },
        {
         "name": "F2C30C",
         "rawType": "int64",
         "type": "integer"
        },
        {
         "name": "F2C31R",
         "rawType": "int64",
         "type": "integer"
        },
        {
         "name": "F2C31P",
         "rawType": "int64",
         "type": "integer"
        },
        {
         "name": "F2C32",
         "rawType": "int64",
         "type": "integer"
        },
        {
         "name": "F2C33",
         "rawType": "int64",
         "type": "integer"
        },
        {
         "name": "F2C34",
         "rawType": "int64",
         "type": "integer"
        },
        {
         "name": "F2C35",
         "rawType": "int64",
         "type": "integer"
        },
        {
         "name": "F2C35_P",
         "rawType": "int64",
         "type": "integer"
        },
        {
         "name": "F2C36",
         "rawType": "int64",
         "type": "integer"
        },
        {
         "name": "F2C37",
         "rawType": "int64",
         "type": "integer"
        },
        {
         "name": "F2C37_P",
         "rawType": "int64",
         "type": "integer"
        },
        {
         "name": "F2C38",
         "rawType": "int64",
         "type": "integer"
        },
        {
         "name": "F2C39",
         "rawType": "int64",
         "type": "integer"
        },
        {
         "name": "F2C40A",
         "rawType": "int64",
         "type": "integer"
        },
        {
         "name": "F2C40B",
         "rawType": "int64",
         "type": "integer"
        },
        {
         "name": "F2C41",
         "rawType": "int64",
         "type": "integer"
        },
        {
         "name": "F2D01",
         "rawType": "int64",
         "type": "integer"
        },
        {
         "name": "F2D02R",
         "rawType": "int64",
         "type": "integer"
        },
        {
         "name": "F2D02P",
         "rawType": "int64",
         "type": "integer"
        },
        {
         "name": "F2D02P2",
         "rawType": "int64",
         "type": "integer"
        },
        {
         "name": "F2D03",
         "rawType": "int64",
         "type": "integer"
        },
        {
         "name": "F2D04",
         "rawType": "int64",
         "type": "integer"
        },
        {
         "name": "F2D04_P",
         "rawType": "int64",
         "type": "integer"
        },
        {
         "name": "F2D05R",
         "rawType": "int64",
         "type": "integer"
        },
        {
         "name": "F2D05P",
         "rawType": "int64",
         "type": "integer"
        },
        {
         "name": "F2D05P2",
         "rawType": "int64",
         "type": "integer"
        },
        {
         "name": "F2D06",
         "rawType": "int64",
         "type": "integer"
        },
        {
         "name": "F2D07",
         "rawType": "int64",
         "type": "integer"
        },
        {
         "name": "F2D08A",
         "rawType": "int64",
         "type": "integer"
        },
        {
         "name": "F2D08A_P",
         "rawType": "int64",
         "type": "integer"
        },
        {
         "name": "F2D08B",
         "rawType": "int64",
         "type": "integer"
        },
        {
         "name": "F2D08B_P",
         "rawType": "int64",
         "type": "integer"
        },
        {
         "name": "F2D08C",
         "rawType": "int64",
         "type": "integer"
        },
        {
         "name": "F2D08C_P",
         "rawType": "int64",
         "type": "integer"
        },
        {
         "name": "F2D08D",
         "rawType": "int64",
         "type": "integer"
        },
        {
         "name": "F2D08D_P",
         "rawType": "int64",
         "type": "integer"
        },
        {
         "name": "F2D08E",
         "rawType": "int64",
         "type": "integer"
        },
        {
         "name": "F2D08F",
         "rawType": "int64",
         "type": "integer"
        },
        {
         "name": "F2D08F_P",
         "rawType": "int64",
         "type": "integer"
        },
        {
         "name": "F2D08G",
         "rawType": "int64",
         "type": "integer"
        },
        {
         "name": "F2D08G_P",
         "rawType": "int64",
         "type": "integer"
        },
        {
         "name": "F2D08H",
         "rawType": "int64",
         "type": "integer"
        },
        {
         "name": "F2D08H_P",
         "rawType": "int64",
         "type": "integer"
        },
        {
         "name": "F2D09",
         "rawType": "int64",
         "type": "integer"
        },
        {
         "name": "F2D10A",
         "rawType": "int64",
         "type": "integer"
        },
        {
         "name": "F2D10B",
         "rawType": "int64",
         "type": "integer"
        },
        {
         "name": "F2D10C",
         "rawType": "int64",
         "type": "integer"
        },
        {
         "name": "F2D10D",
         "rawType": "int64",
         "type": "integer"
        },
        {
         "name": "F2D10E",
         "rawType": "int64",
         "type": "integer"
        },
        {
         "name": "F2D10F",
         "rawType": "int64",
         "type": "integer"
        },
        {
         "name": "F2D10G",
         "rawType": "int64",
         "type": "integer"
        },
        {
         "name": "F2D10H",
         "rawType": "int64",
         "type": "integer"
        },
        {
         "name": "F2D11",
         "rawType": "int64",
         "type": "integer"
        },
        {
         "name": "F2D12",
         "rawType": "int64",
         "type": "integer"
        },
        {
         "name": "F2D13",
         "rawType": "int64",
         "type": "integer"
        },
        {
         "name": "F2D14",
         "rawType": "int64",
         "type": "integer"
        },
        {
         "name": "F2D15A",
         "rawType": "int64",
         "type": "integer"
        },
        {
         "name": "F2D15B",
         "rawType": "int64",
         "type": "integer"
        },
        {
         "name": "F2D15C",
         "rawType": "int64",
         "type": "integer"
        },
        {
         "name": "F2D15D",
         "rawType": "int64",
         "type": "integer"
        },
        {
         "name": "F2D15E",
         "rawType": "int64",
         "type": "integer"
        },
        {
         "name": "F2D15F",
         "rawType": "int64",
         "type": "integer"
        },
        {
         "name": "F2D15G",
         "rawType": "int64",
         "type": "integer"
        },
        {
         "name": "F3A01A",
         "rawType": "int64",
         "type": "integer"
        },
        {
         "name": "F3A01B",
         "rawType": "int64",
         "type": "integer"
        },
        {
         "name": "F3A01C",
         "rawType": "int64",
         "type": "integer"
        },
        {
         "name": "F3A01D",
         "rawType": "int64",
         "type": "integer"
        },
        {
         "name": "F3A01E",
         "rawType": "int64",
         "type": "integer"
        },
        {
         "name": "F3A01F",
         "rawType": "int64",
         "type": "integer"
        },
        {
         "name": "F3A01G",
         "rawType": "int64",
         "type": "integer"
        },
        {
         "name": "F3A01H",
         "rawType": "int64",
         "type": "integer"
        },
        {
         "name": "F3A02",
         "rawType": "int64",
         "type": "integer"
        },
        {
         "name": "F3A03A",
         "rawType": "int64",
         "type": "integer"
        },
        {
         "name": "F3A03B",
         "rawType": "int64",
         "type": "integer"
        },
        {
         "name": "F3A03C",
         "rawType": "int64",
         "type": "integer"
        },
        {
         "name": "F3A03D",
         "rawType": "int64",
         "type": "integer"
        },
        {
         "name": "F3A03E",
         "rawType": "int64",
         "type": "integer"
        },
        {
         "name": "F3A03F",
         "rawType": "int64",
         "type": "integer"
        },
        {
         "name": "F3A03G",
         "rawType": "int64",
         "type": "integer"
        },
        {
         "name": "F3A03H",
         "rawType": "int64",
         "type": "integer"
        },
        {
         "name": "F3A04",
         "rawType": "int64",
         "type": "integer"
        },
        {
         "name": "F3A05",
         "rawType": "int64",
         "type": "integer"
        },
        {
         "name": "F3A06",
         "rawType": "int64",
         "type": "integer"
        },
        {
         "name": "F3A07",
         "rawType": "int64",
         "type": "integer"
        },
        {
         "name": "F3A08",
         "rawType": "int64",
         "type": "integer"
        },
        {
         "name": "F3A09A",
         "rawType": "int64",
         "type": "integer"
        },
        {
         "name": "F3A09B",
         "rawType": "int64",
         "type": "integer"
        },
        {
         "name": "F3A09C",
         "rawType": "int64",
         "type": "integer"
        },
        {
         "name": "F3A09D",
         "rawType": "int64",
         "type": "integer"
        },
        {
         "name": "F3A09E",
         "rawType": "int64",
         "type": "integer"
        },
        {
         "name": "F3A09F",
         "rawType": "int64",
         "type": "integer"
        },
        {
         "name": "F3A10",
         "rawType": "int64",
         "type": "integer"
        },
        {
         "name": "F3A11",
         "rawType": "int64",
         "type": "integer"
        },
        {
         "name": "F3A12",
         "rawType": "int64",
         "type": "integer"
        },
        {
         "name": "F3A13A",
         "rawType": "int64",
         "type": "integer"
        },
        {
         "name": "F3A13B",
         "rawType": "int64",
         "type": "integer"
        },
        {
         "name": "F3A14A",
         "rawType": "int64",
         "type": "integer"
        },
        {
         "name": "F3A14B",
         "rawType": "int64",
         "type": "integer"
        },
        {
         "name": "F3A14C",
         "rawType": "int64",
         "type": "integer"
        },
        {
         "name": "F3A14D",
         "rawType": "int64",
         "type": "integer"
        },
        {
         "name": "F3A14E",
         "rawType": "int64",
         "type": "integer"
        },
        {
         "name": "F3A14F",
         "rawType": "int64",
         "type": "integer"
        },
        {
         "name": "F3A15A",
         "rawType": "int64",
         "type": "integer"
        },
        {
         "name": "F3A15B",
         "rawType": "int64",
         "type": "integer"
        },
        {
         "name": "F3A15C",
         "rawType": "int64",
         "type": "integer"
        },
        {
         "name": "F3A15D",
         "rawType": "int64",
         "type": "integer"
        },
        {
         "name": "F3A16A",
         "rawType": "int64",
         "type": "integer"
        },
        {
         "name": "F3A16B",
         "rawType": "int64",
         "type": "integer"
        },
        {
         "name": "F3A16C",
         "rawType": "int64",
         "type": "integer"
        },
        {
         "name": "F3A16D",
         "rawType": "int64",
         "type": "integer"
        },
        {
         "name": "F3A16E",
         "rawType": "int64",
         "type": "integer"
        },
        {
         "name": "F3A16F",
         "rawType": "int64",
         "type": "integer"
        },
        {
         "name": "F3A16G",
         "rawType": "int64",
         "type": "integer"
        },
        {
         "name": "F3A16H",
         "rawType": "int64",
         "type": "integer"
        },
        {
         "name": "F3A16I",
         "rawType": "int64",
         "type": "integer"
        },
        {
         "name": "F3A17",
         "rawType": "int64",
         "type": "integer"
        },
        {
         "name": "F3A18",
         "rawType": "int64",
         "type": "integer"
        },
        {
         "name": "F3A19",
         "rawType": "int64",
         "type": "integer"
        },
        {
         "name": "F3A20",
         "rawType": "int64",
         "type": "integer"
        },
        {
         "name": "F3A21",
         "rawType": "int64",
         "type": "integer"
        },
        {
         "name": "F3A22A",
         "rawType": "int64",
         "type": "integer"
        },
        {
         "name": "F3A22B",
         "rawType": "int64",
         "type": "integer"
        },
        {
         "name": "F3A22C",
         "rawType": "int64",
         "type": "integer"
        },
        {
         "name": "F3A22D",
         "rawType": "int64",
         "type": "integer"
        },
        {
         "name": "F3A23",
         "rawType": "int64",
         "type": "integer"
        },
        {
         "name": "F3A24A",
         "rawType": "int64",
         "type": "integer"
        },
        {
         "name": "F3A24B",
         "rawType": "int64",
         "type": "integer"
        },
        {
         "name": "F3A25",
         "rawType": "int64",
         "type": "integer"
        },
        {
         "name": "F3A26A",
         "rawType": "int64",
         "type": "integer"
        },
        {
         "name": "F3A26B",
         "rawType": "int64",
         "type": "integer"
        },
        {
         "name": "F3A27",
         "rawType": "int64",
         "type": "integer"
        },
        {
         "name": "F3A28A",
         "rawType": "int64",
         "type": "integer"
        },
        {
         "name": "F3A28B",
         "rawType": "int64",
         "type": "integer"
        },
        {
         "name": "F3A28C",
         "rawType": "int64",
         "type": "integer"
        },
        {
         "name": "F3A29A",
         "rawType": "int64",
         "type": "integer"
        },
        {
         "name": "F3A29B",
         "rawType": "int64",
         "type": "integer"
        },
        {
         "name": "F3A29C",
         "rawType": "int64",
         "type": "integer"
        },
        {
         "name": "F3A30A",
         "rawType": "int64",
         "type": "integer"
        },
        {
         "name": "F3A30B",
         "rawType": "int64",
         "type": "integer"
        },
        {
         "name": "F3A31A",
         "rawType": "int64",
         "type": "integer"
        },
        {
         "name": "F3A31B",
         "rawType": "int64",
         "type": "integer"
        },
        {
         "name": "F3A32",
         "rawType": "int64",
         "type": "integer"
        },
        {
         "name": "F3B01",
         "rawType": "int64",
         "type": "integer"
        },
        {
         "name": "F3B02A",
         "rawType": "int64",
         "type": "integer"
        },
        {
         "name": "F3B02B",
         "rawType": "int64",
         "type": "integer"
        },
        {
         "name": "F3B02C",
         "rawType": "int64",
         "type": "integer"
        },
        {
         "name": "F3B02D",
         "rawType": "int64",
         "type": "integer"
        },
        {
         "name": "F3B02E",
         "rawType": "int64",
         "type": "integer"
        },
        {
         "name": "F3B03",
         "rawType": "int64",
         "type": "integer"
        },
        {
         "name": "F3B04",
         "rawType": "int64",
         "type": "integer"
        },
        {
         "name": "F3B05",
         "rawType": "int64",
         "type": "integer"
        },
        {
         "name": "F3B06",
         "rawType": "int64",
         "type": "integer"
        },
        {
         "name": "F3B07",
         "rawType": "int64",
         "type": "integer"
        },
        {
         "name": "F3B08",
         "rawType": "int64",
         "type": "integer"
        },
        {
         "name": "F3B09",
         "rawType": "int64",
         "type": "integer"
        },
        {
         "name": "F3B10",
         "rawType": "int64",
         "type": "integer"
        },
        {
         "name": "F3B11",
         "rawType": "int64",
         "type": "integer"
        },
        {
         "name": "F3B12",
         "rawType": "int64",
         "type": "integer"
        },
        {
         "name": "F3B13",
         "rawType": "int64",
         "type": "integer"
        },
        {
         "name": "F3B14A",
         "rawType": "int64",
         "type": "integer"
        },
        {
         "name": "F3B14B",
         "rawType": "int64",
         "type": "integer"
        },
        {
         "name": "F3B15A",
         "rawType": "int64",
         "type": "integer"
        },
        {
         "name": "F3B15B",
         "rawType": "int64",
         "type": "integer"
        },
        {
         "name": "F3B16",
         "rawType": "int64",
         "type": "integer"
        },
        {
         "name": "F3B17",
         "rawType": "int64",
         "type": "integer"
        },
        {
         "name": "F3B18A",
         "rawType": "int64",
         "type": "integer"
        },
        {
         "name": "F3B18B",
         "rawType": "int64",
         "type": "integer"
        },
        {
         "name": "F3B18C",
         "rawType": "int64",
         "type": "integer"
        },
        {
         "name": "F3B18D",
         "rawType": "int64",
         "type": "integer"
        },
        {
         "name": "F3B19",
         "rawType": "int64",
         "type": "integer"
        },
        {
         "name": "F3B20",
         "rawType": "int64",
         "type": "integer"
        },
        {
         "name": "F3B21",
         "rawType": "int64",
         "type": "integer"
        },
        {
         "name": "F3B22",
         "rawType": "int64",
         "type": "integer"
        },
        {
         "name": "F3B23",
         "rawType": "int64",
         "type": "integer"
        },
        {
         "name": "F3B24",
         "rawType": "int64",
         "type": "integer"
        },
        {
         "name": "F3B25A",
         "rawType": "int64",
         "type": "integer"
        },
        {
         "name": "F3B25B",
         "rawType": "int64",
         "type": "integer"
        },
        {
         "name": "F3B25C",
         "rawType": "int64",
         "type": "integer"
        },
        {
         "name": "F3B25D",
         "rawType": "int64",
         "type": "integer"
        },
        {
         "name": "F3B25E",
         "rawType": "int64",
         "type": "integer"
        },
        {
         "name": "F3B25F",
         "rawType": "int64",
         "type": "integer"
        },
        {
         "name": "F3B25G",
         "rawType": "int64",
         "type": "integer"
        },
        {
         "name": "F3B26",
         "rawType": "int64",
         "type": "integer"
        },
        {
         "name": "F3B27",
         "rawType": "int64",
         "type": "integer"
        },
        {
         "name": "F3B28",
         "rawType": "int64",
         "type": "integer"
        },
        {
         "name": "F3B29",
         "rawType": "int64",
         "type": "integer"
        },
        {
         "name": "F3B30A",
         "rawType": "int64",
         "type": "integer"
        },
        {
         "name": "F3B30B",
         "rawType": "int64",
         "type": "integer"
        },
        {
         "name": "F3B30C",
         "rawType": "int64",
         "type": "integer"
        },
        {
         "name": "F3B30D",
         "rawType": "int64",
         "type": "integer"
        },
        {
         "name": "F3B31",
         "rawType": "int64",
         "type": "integer"
        },
        {
         "name": "F3B32",
         "rawType": "int64",
         "type": "integer"
        },
        {
         "name": "F3B33",
         "rawType": "int64",
         "type": "integer"
        },
        {
         "name": "F3B34A",
         "rawType": "int64",
         "type": "integer"
        },
        {
         "name": "F3B34B",
         "rawType": "int64",
         "type": "integer"
        },
        {
         "name": "F3B34C",
         "rawType": "int64",
         "type": "integer"
        },
        {
         "name": "F3B34D",
         "rawType": "int64",
         "type": "integer"
        },
        {
         "name": "F3B34E",
         "rawType": "int64",
         "type": "integer"
        },
        {
         "name": "F3B34F",
         "rawType": "int64",
         "type": "integer"
        },
        {
         "name": "F3B34G",
         "rawType": "int64",
         "type": "integer"
        },
        {
         "name": "F3B34H",
         "rawType": "int64",
         "type": "integer"
        },
        {
         "name": "F3B34I",
         "rawType": "int64",
         "type": "integer"
        },
        {
         "name": "F3B35",
         "rawType": "int64",
         "type": "integer"
        },
        {
         "name": "F3C01",
         "rawType": "int64",
         "type": "integer"
        },
        {
         "name": "F3C02",
         "rawType": "int64",
         "type": "integer"
        },
        {
         "name": "F3C03",
         "rawType": "int64",
         "type": "integer"
        },
        {
         "name": "F3C04",
         "rawType": "int64",
         "type": "integer"
        },
        {
         "name": "F3C05",
         "rawType": "int64",
         "type": "integer"
        },
        {
         "name": "F3C06",
         "rawType": "int64",
         "type": "integer"
        },
        {
         "name": "F3C07",
         "rawType": "int64",
         "type": "integer"
        },
        {
         "name": "F3C08",
         "rawType": "int64",
         "type": "integer"
        },
        {
         "name": "F3C09",
         "rawType": "int64",
         "type": "integer"
        },
        {
         "name": "F3C10",
         "rawType": "int64",
         "type": "integer"
        },
        {
         "name": "F3C11",
         "rawType": "int64",
         "type": "integer"
        },
        {
         "name": "F3C12A",
         "rawType": "int64",
         "type": "integer"
        },
        {
         "name": "F3C12B",
         "rawType": "int64",
         "type": "integer"
        },
        {
         "name": "F3C12C",
         "rawType": "int64",
         "type": "integer"
        },
        {
         "name": "F3C12D",
         "rawType": "int64",
         "type": "integer"
        },
        {
         "name": "F3C12E",
         "rawType": "int64",
         "type": "integer"
        },
        {
         "name": "F3C12F",
         "rawType": "int64",
         "type": "integer"
        },
        {
         "name": "F3C12G",
         "rawType": "int64",
         "type": "integer"
        },
        {
         "name": "F3C12H",
         "rawType": "int64",
         "type": "integer"
        },
        {
         "name": "F3C12I",
         "rawType": "int64",
         "type": "integer"
        },
        {
         "name": "F3C12J",
         "rawType": "int64",
         "type": "integer"
        },
        {
         "name": "F3C12K",
         "rawType": "int64",
         "type": "integer"
        },
        {
         "name": "F3C13A",
         "rawType": "int64",
         "type": "integer"
        },
        {
         "name": "F3C13B",
         "rawType": "int64",
         "type": "integer"
        },
        {
         "name": "F3C14",
         "rawType": "int64",
         "type": "integer"
        },
        {
         "name": "F3D01",
         "rawType": "int64",
         "type": "integer"
        },
        {
         "name": "F3D02",
         "rawType": "int64",
         "type": "integer"
        },
        {
         "name": "F3D03_1",
         "rawType": "int64",
         "type": "integer"
        },
        {
         "name": "F3D03_2",
         "rawType": "int64",
         "type": "integer"
        },
        {
         "name": "F3D03_3",
         "rawType": "int64",
         "type": "integer"
        },
        {
         "name": "F3D04",
         "rawType": "int64",
         "type": "integer"
        },
        {
         "name": "F3D05",
         "rawType": "int64",
         "type": "integer"
        },
        {
         "name": "F3D06",
         "rawType": "int64",
         "type": "integer"
        },
        {
         "name": "F3D07",
         "rawType": "int64",
         "type": "integer"
        },
        {
         "name": "F3D08_1",
         "rawType": "int64",
         "type": "integer"
        },
        {
         "name": "F3D08_2",
         "rawType": "int64",
         "type": "integer"
        },
        {
         "name": "F3D08_3",
         "rawType": "int64",
         "type": "integer"
        },
        {
         "name": "F3D08_4",
         "rawType": "int64",
         "type": "integer"
        },
        {
         "name": "F3D08_5",
         "rawType": "int64",
         "type": "integer"
        },
        {
         "name": "F3D08_6",
         "rawType": "int64",
         "type": "integer"
        },
        {
         "name": "F3D08_7",
         "rawType": "int64",
         "type": "integer"
        },
        {
         "name": "F3D09_1",
         "rawType": "int64",
         "type": "integer"
        },
        {
         "name": "F3D09_2",
         "rawType": "int64",
         "type": "integer"
        },
        {
         "name": "F3D09_3",
         "rawType": "int64",
         "type": "integer"
        },
        {
         "name": "F3D09_4",
         "rawType": "int64",
         "type": "integer"
        },
        {
         "name": "F3D09_5",
         "rawType": "int64",
         "type": "integer"
        },
        {
         "name": "F3D09_6",
         "rawType": "int64",
         "type": "integer"
        },
        {
         "name": "F3D09_7",
         "rawType": "int64",
         "type": "integer"
        },
        {
         "name": "F3D10",
         "rawType": "int64",
         "type": "integer"
        },
        {
         "name": "F3D11",
         "rawType": "int64",
         "type": "integer"
        },
        {
         "name": "F3D12_1",
         "rawType": "int64",
         "type": "integer"
        },
        {
         "name": "F3D12_2",
         "rawType": "int64",
         "type": "integer"
        },
        {
         "name": "F3D12_3",
         "rawType": "int64",
         "type": "integer"
        },
        {
         "name": "F3D13",
         "rawType": "int64",
         "type": "integer"
        },
        {
         "name": "F3D14",
         "rawType": "int64",
         "type": "integer"
        },
        {
         "name": "F3D15A",
         "rawType": "int64",
         "type": "integer"
        },
        {
         "name": "F3D15B",
         "rawType": "int64",
         "type": "integer"
        },
        {
         "name": "F3D15C",
         "rawType": "int64",
         "type": "integer"
        },
        {
         "name": "F3D15D",
         "rawType": "int64",
         "type": "integer"
        },
        {
         "name": "F3D15E",
         "rawType": "int64",
         "type": "integer"
        },
        {
         "name": "F3D15F",
         "rawType": "int64",
         "type": "integer"
        },
        {
         "name": "F3D15G",
         "rawType": "int64",
         "type": "integer"
        },
        {
         "name": "F3D15H",
         "rawType": "int64",
         "type": "integer"
        },
        {
         "name": "F3D16",
         "rawType": "int64",
         "type": "integer"
        },
        {
         "name": "F3D17",
         "rawType": "int64",
         "type": "integer"
        },
        {
         "name": "F3D18",
         "rawType": "int64",
         "type": "integer"
        },
        {
         "name": "F3D19A",
         "rawType": "int64",
         "type": "integer"
        },
        {
         "name": "F3D19B",
         "rawType": "int64",
         "type": "integer"
        },
        {
         "name": "F3D20",
         "rawType": "int64",
         "type": "integer"
        },
        {
         "name": "F3D21",
         "rawType": "int64",
         "type": "integer"
        },
        {
         "name": "F3D22",
         "rawType": "int64",
         "type": "integer"
        },
        {
         "name": "F3D23",
         "rawType": "int64",
         "type": "integer"
        },
        {
         "name": "F3D24",
         "rawType": "int64",
         "type": "integer"
        },
        {
         "name": "F3D25",
         "rawType": "int64",
         "type": "integer"
        },
        {
         "name": "F3D26",
         "rawType": "int64",
         "type": "integer"
        },
        {
         "name": "F3D27",
         "rawType": "int64",
         "type": "integer"
        },
        {
         "name": "F3D28A",
         "rawType": "int64",
         "type": "integer"
        },
        {
         "name": "F3D28B",
         "rawType": "int64",
         "type": "integer"
        },
        {
         "name": "F3D28C",
         "rawType": "int64",
         "type": "integer"
        },
        {
         "name": "F3D29",
         "rawType": "int64",
         "type": "integer"
        },
        {
         "name": "F3D30",
         "rawType": "int64",
         "type": "integer"
        },
        {
         "name": "F3D31",
         "rawType": "int64",
         "type": "integer"
        },
        {
         "name": "F3D32",
         "rawType": "int64",
         "type": "integer"
        },
        {
         "name": "F3D33",
         "rawType": "int64",
         "type": "integer"
        },
        {
         "name": "F3D34",
         "rawType": "int64",
         "type": "integer"
        },
        {
         "name": "F3D35",
         "rawType": "int64",
         "type": "integer"
        },
        {
         "name": "F3D36",
         "rawType": "int64",
         "type": "integer"
        },
        {
         "name": "F3D37",
         "rawType": "int64",
         "type": "integer"
        },
        {
         "name": "F3D38",
         "rawType": "int64",
         "type": "integer"
        },
        {
         "name": "F3D39",
         "rawType": "int64",
         "type": "integer"
        },
        {
         "name": "F3D40",
         "rawType": "int64",
         "type": "integer"
        },
        {
         "name": "F3D41A",
         "rawType": "int64",
         "type": "integer"
        },
        {
         "name": "F3D41B",
         "rawType": "int64",
         "type": "integer"
        },
        {
         "name": "F3D41C",
         "rawType": "int64",
         "type": "integer"
        },
        {
         "name": "F3D41D",
         "rawType": "int64",
         "type": "integer"
        },
        {
         "name": "F3D41E",
         "rawType": "int64",
         "type": "integer"
        },
        {
         "name": "F3D41F",
         "rawType": "int64",
         "type": "integer"
        },
        {
         "name": "F3D41G",
         "rawType": "int64",
         "type": "integer"
        },
        {
         "name": "F3D41H",
         "rawType": "int64",
         "type": "integer"
        },
        {
         "name": "F3D41I",
         "rawType": "int64",
         "type": "integer"
        },
        {
         "name": "F3D41J",
         "rawType": "int64",
         "type": "integer"
        },
        {
         "name": "F3D41K",
         "rawType": "int64",
         "type": "integer"
        },
        {
         "name": "F3D41L",
         "rawType": "int64",
         "type": "integer"
        },
        {
         "name": "F3D41M",
         "rawType": "int64",
         "type": "integer"
        },
        {
         "name": "F3D42",
         "rawType": "int64",
         "type": "integer"
        },
        {
         "name": "F3D43",
         "rawType": "int64",
         "type": "integer"
        },
        {
         "name": "F3D44A",
         "rawType": "int64",
         "type": "integer"
        },
        {
         "name": "F3D44B",
         "rawType": "int64",
         "type": "integer"
        },
        {
         "name": "F3D44C",
         "rawType": "int64",
         "type": "integer"
        },
        {
         "name": "F3D44D",
         "rawType": "int64",
         "type": "integer"
        },
        {
         "name": "F3D44E",
         "rawType": "int64",
         "type": "integer"
        },
        {
         "name": "F3D44F",
         "rawType": "int64",
         "type": "integer"
        },
        {
         "name": "F3D44G",
         "rawType": "int64",
         "type": "integer"
        },
        {
         "name": "F3D44H",
         "rawType": "int64",
         "type": "integer"
        },
        {
         "name": "F3D45A",
         "rawType": "int64",
         "type": "integer"
        },
        {
         "name": "F3D45B",
         "rawType": "int64",
         "type": "integer"
        },
        {
         "name": "F3D46A",
         "rawType": "int64",
         "type": "integer"
        },
        {
         "name": "F3D46B",
         "rawType": "int64",
         "type": "integer"
        },
        {
         "name": "F3D47A",
         "rawType": "int64",
         "type": "integer"
        },
        {
         "name": "F3D47B",
         "rawType": "int64",
         "type": "integer"
        },
        {
         "name": "F3D48A",
         "rawType": "int64",
         "type": "integer"
        },
        {
         "name": "F3D48B",
         "rawType": "int64",
         "type": "integer"
        },
        {
         "name": "F3D49A",
         "rawType": "int64",
         "type": "integer"
        },
        {
         "name": "F3D49B",
         "rawType": "int64",
         "type": "integer"
        },
        {
         "name": "F3D50A",
         "rawType": "int64",
         "type": "integer"
        },
        {
         "name": "F3D50B",
         "rawType": "int64",
         "type": "integer"
        },
        {
         "name": "F3D51A",
         "rawType": "int64",
         "type": "integer"
        },
        {
         "name": "F3D51B",
         "rawType": "int64",
         "type": "integer"
        },
        {
         "name": "F3D52A",
         "rawType": "int64",
         "type": "integer"
        },
        {
         "name": "F3D52B",
         "rawType": "int64",
         "type": "integer"
        },
        {
         "name": "F3D53A",
         "rawType": "int64",
         "type": "integer"
        },
        {
         "name": "F3D53B",
         "rawType": "int64",
         "type": "integer"
        },
        {
         "name": "F3D53C",
         "rawType": "int64",
         "type": "integer"
        },
        {
         "name": "F3D53D",
         "rawType": "int64",
         "type": "integer"
        },
        {
         "name": "F3D53E",
         "rawType": "int64",
         "type": "integer"
        },
        {
         "name": "F3D53F",
         "rawType": "int64",
         "type": "integer"
        },
        {
         "name": "F3D53G",
         "rawType": "int64",
         "type": "integer"
        },
        {
         "name": "F3D53H",
         "rawType": "int64",
         "type": "integer"
        },
        {
         "name": "F3D53I",
         "rawType": "int64",
         "type": "integer"
        },
        {
         "name": "F3D53J",
         "rawType": "int64",
         "type": "integer"
        },
        {
         "name": "F3D53K",
         "rawType": "int64",
         "type": "integer"
        },
        {
         "name": "BYP01",
         "rawType": "int64",
         "type": "integer"
        },
        {
         "name": "BYP02",
         "rawType": "int64",
         "type": "integer"
        },
        {
         "name": "BYP03",
         "rawType": "int64",
         "type": "integer"
        },
        {
         "name": "BYP04",
         "rawType": "int64",
         "type": "integer"
        },
        {
         "name": "BYP05",
         "rawType": "int64",
         "type": "integer"
        },
        {
         "name": "BYP06",
         "rawType": "int64",
         "type": "integer"
        },
        {
         "name": "BYP07A",
         "rawType": "int64",
         "type": "integer"
        },
        {
         "name": "BYP07B",
         "rawType": "int64",
         "type": "integer"
        },
        {
         "name": "BYP07C",
         "rawType": "int64",
         "type": "integer"
        },
        {
         "name": "BYP07D",
         "rawType": "int64",
         "type": "integer"
        },
        {
         "name": "BYP07E",
         "rawType": "int64",
         "type": "integer"
        },
        {
         "name": "BYP07F",
         "rawType": "int64",
         "type": "integer"
        },
        {
         "name": "BYP07G",
         "rawType": "int64",
         "type": "integer"
        },
        {
         "name": "BYP07H",
         "rawType": "int64",
         "type": "integer"
        },
        {
         "name": "BYP07I",
         "rawType": "int64",
         "type": "integer"
        },
        {
         "name": "BYP07J",
         "rawType": "int64",
         "type": "integer"
        },
        {
         "name": "BYP07K",
         "rawType": "int64",
         "type": "integer"
        },
        {
         "name": "BYP07L",
         "rawType": "int64",
         "type": "integer"
        },
        {
         "name": "BYP08",
         "rawType": "int64",
         "type": "integer"
        },
        {
         "name": "BYP09",
         "rawType": "int64",
         "type": "integer"
        },
        {
         "name": "BYP10",
         "rawType": "int64",
         "type": "integer"
        },
        {
         "name": "BYP11",
         "rawType": "int64",
         "type": "integer"
        },
        {
         "name": "BYP12",
         "rawType": "int64",
         "type": "integer"
        },
        {
         "name": "BYP13",
         "rawType": "int64",
         "type": "integer"
        },
        {
         "name": "BYP14",
         "rawType": "int64",
         "type": "integer"
        },
        {
         "name": "BYP15A",
         "rawType": "int64",
         "type": "integer"
        },
        {
         "name": "BYP15B",
         "rawType": "int64",
         "type": "integer"
        },
        {
         "name": "BYP15C",
         "rawType": "int64",
         "type": "integer"
        },
        {
         "name": "BYP15D",
         "rawType": "int64",
         "type": "integer"
        },
        {
         "name": "BYP15E",
         "rawType": "int64",
         "type": "integer"
        },
        {
         "name": "BYP16",
         "rawType": "int64",
         "type": "integer"
        },
        {
         "name": "BYP17",
         "rawType": "int64",
         "type": "integer"
        },
        {
         "name": "BYP18",
         "rawType": "int64",
         "type": "integer"
        },
        {
         "name": "BYP19A",
         "rawType": "int64",
         "type": "integer"
        },
        {
         "name": "BYP19B",
         "rawType": "int64",
         "type": "integer"
        },
        {
         "name": "BYP20",
         "rawType": "int64",
         "type": "integer"
        },
        {
         "name": "BYP21",
         "rawType": "int64",
         "type": "integer"
        },
        {
         "name": "BYP22A",
         "rawType": "int64",
         "type": "integer"
        },
        {
         "name": "BYP22B",
         "rawType": "int64",
         "type": "integer"
        },
        {
         "name": "BYP23",
         "rawType": "int64",
         "type": "integer"
        },
        {
         "name": "BYP24",
         "rawType": "int64",
         "type": "integer"
        },
        {
         "name": "BYP25",
         "rawType": "int64",
         "type": "integer"
        },
        {
         "name": "BYP26A",
         "rawType": "int64",
         "type": "integer"
        },
        {
         "name": "BYP26B",
         "rawType": "int64",
         "type": "integer"
        },
        {
         "name": "BYP26C",
         "rawType": "int64",
         "type": "integer"
        },
        {
         "name": "BYP26D",
         "rawType": "int64",
         "type": "integer"
        },
        {
         "name": "BYP26E",
         "rawType": "int64",
         "type": "integer"
        },
        {
         "name": "BYP26F",
         "rawType": "int64",
         "type": "integer"
        },
        {
         "name": "BYP26G",
         "rawType": "int64",
         "type": "integer"
        },
        {
         "name": "BYP26H",
         "rawType": "int64",
         "type": "integer"
        },
        {
         "name": "BYP26I",
         "rawType": "int64",
         "type": "integer"
        },
        {
         "name": "BYP26J",
         "rawType": "int64",
         "type": "integer"
        },
        {
         "name": "BYP26K",
         "rawType": "int64",
         "type": "integer"
        },
        {
         "name": "BYP26L",
         "rawType": "int64",
         "type": "integer"
        },
        {
         "name": "BYP27",
         "rawType": "int64",
         "type": "integer"
        },
        {
         "name": "BYP28",
         "rawType": "int64",
         "type": "integer"
        },
        {
         "name": "BYP29",
         "rawType": "int64",
         "type": "integer"
        },
        {
         "name": "BYP30A",
         "rawType": "int64",
         "type": "integer"
        },
        {
         "name": "BYP30B",
         "rawType": "int64",
         "type": "integer"
        },
        {
         "name": "BYP30C",
         "rawType": "int64",
         "type": "integer"
        },
        {
         "name": "BYP30D",
         "rawType": "int64",
         "type": "integer"
        },
        {
         "name": "BYP31A",
         "rawType": "int64",
         "type": "integer"
        },
        {
         "name": "BYP31B",
         "rawType": "int64",
         "type": "integer"
        },
        {
         "name": "BYP31C",
         "rawType": "int64",
         "type": "integer"
        },
        {
         "name": "BYP31D",
         "rawType": "int64",
         "type": "integer"
        },
        {
         "name": "BYP32A",
         "rawType": "int64",
         "type": "integer"
        },
        {
         "name": "BYP32B",
         "rawType": "int64",
         "type": "integer"
        },
        {
         "name": "BYP32C",
         "rawType": "int64",
         "type": "integer"
        },
        {
         "name": "BYP32D",
         "rawType": "int64",
         "type": "integer"
        },
        {
         "name": "BYP32E",
         "rawType": "int64",
         "type": "integer"
        },
        {
         "name": "BYP33",
         "rawType": "int64",
         "type": "integer"
        },
        {
         "name": "BYP34A",
         "rawType": "int64",
         "type": "integer"
        },
        {
         "name": "BYP34B",
         "rawType": "int64",
         "type": "integer"
        },
        {
         "name": "BYP35A",
         "rawType": "int64",
         "type": "integer"
        },
        {
         "name": "BYP35B",
         "rawType": "int64",
         "type": "integer"
        },
        {
         "name": "BYP35C",
         "rawType": "int64",
         "type": "integer"
        },
        {
         "name": "BYP35D",
         "rawType": "int64",
         "type": "integer"
        },
        {
         "name": "BYP36",
         "rawType": "int64",
         "type": "integer"
        },
        {
         "name": "BYP37",
         "rawType": "int64",
         "type": "integer"
        },
        {
         "name": "BYP38",
         "rawType": "int64",
         "type": "integer"
        },
        {
         "name": "BYP39A",
         "rawType": "int64",
         "type": "integer"
        },
        {
         "name": "BYP39B",
         "rawType": "int64",
         "type": "integer"
        },
        {
         "name": "BYP39C",
         "rawType": "int64",
         "type": "integer"
        },
        {
         "name": "BYP40",
         "rawType": "int64",
         "type": "integer"
        },
        {
         "name": "BYP41",
         "rawType": "int64",
         "type": "integer"
        },
        {
         "name": "BYP42",
         "rawType": "int64",
         "type": "integer"
        },
        {
         "name": "BYP43A",
         "rawType": "int64",
         "type": "integer"
        },
        {
         "name": "BYP43B",
         "rawType": "int64",
         "type": "integer"
        },
        {
         "name": "BYP43C",
         "rawType": "int64",
         "type": "integer"
        },
        {
         "name": "BYP44A",
         "rawType": "int64",
         "type": "integer"
        },
        {
         "name": "BYP44B",
         "rawType": "int64",
         "type": "integer"
        },
        {
         "name": "BYP44C",
         "rawType": "int64",
         "type": "integer"
        },
        {
         "name": "BYP44D",
         "rawType": "int64",
         "type": "integer"
        },
        {
         "name": "BYP45",
         "rawType": "int64",
         "type": "integer"
        },
        {
         "name": "BYP46",
         "rawType": "int64",
         "type": "integer"
        },
        {
         "name": "BYP47A",
         "rawType": "int64",
         "type": "integer"
        },
        {
         "name": "BYP47B",
         "rawType": "int64",
         "type": "integer"
        },
        {
         "name": "BYP47C",
         "rawType": "int64",
         "type": "integer"
        },
        {
         "name": "BYP48A",
         "rawType": "int64",
         "type": "integer"
        },
        {
         "name": "BYP48B",
         "rawType": "int64",
         "type": "integer"
        },
        {
         "name": "BYP48C",
         "rawType": "int64",
         "type": "integer"
        },
        {
         "name": "BYP48D",
         "rawType": "int64",
         "type": "integer"
        },
        {
         "name": "BYP48E",
         "rawType": "int64",
         "type": "integer"
        },
        {
         "name": "BYP48F",
         "rawType": "int64",
         "type": "integer"
        },
        {
         "name": "BYP48G",
         "rawType": "int64",
         "type": "integer"
        },
        {
         "name": "BYP48H",
         "rawType": "int64",
         "type": "integer"
        },
        {
         "name": "BYP48I",
         "rawType": "int64",
         "type": "integer"
        },
        {
         "name": "BYP48J",
         "rawType": "int64",
         "type": "integer"
        },
        {
         "name": "BYP48K",
         "rawType": "int64",
         "type": "integer"
        },
        {
         "name": "BYP49",
         "rawType": "int64",
         "type": "integer"
        },
        {
         "name": "BYP50A",
         "rawType": "int64",
         "type": "integer"
        },
        {
         "name": "BYP50B",
         "rawType": "int64",
         "type": "integer"
        },
        {
         "name": "BYP50C",
         "rawType": "int64",
         "type": "integer"
        },
        {
         "name": "BYP50D",
         "rawType": "int64",
         "type": "integer"
        },
        {
         "name": "BYP50E",
         "rawType": "int64",
         "type": "integer"
        },
        {
         "name": "BYP50F",
         "rawType": "int64",
         "type": "integer"
        },
        {
         "name": "BYP50G",
         "rawType": "int64",
         "type": "integer"
        },
        {
         "name": "BYP50H",
         "rawType": "int64",
         "type": "integer"
        },
        {
         "name": "BYP51",
         "rawType": "int64",
         "type": "integer"
        },
        {
         "name": "BYP52A",
         "rawType": "int64",
         "type": "integer"
        },
        {
         "name": "BYP52B",
         "rawType": "int64",
         "type": "integer"
        },
        {
         "name": "BYP52C",
         "rawType": "int64",
         "type": "integer"
        },
        {
         "name": "BYP52D",
         "rawType": "int64",
         "type": "integer"
        },
        {
         "name": "BYP52E",
         "rawType": "int64",
         "type": "integer"
        },
        {
         "name": "BYP52F",
         "rawType": "int64",
         "type": "integer"
        },
        {
         "name": "BYP52G",
         "rawType": "int64",
         "type": "integer"
        },
        {
         "name": "BYP52H",
         "rawType": "int64",
         "type": "integer"
        },
        {
         "name": "BYP52I",
         "rawType": "int64",
         "type": "integer"
        },
        {
         "name": "BYP52J",
         "rawType": "int64",
         "type": "integer"
        },
        {
         "name": "BYP53A",
         "rawType": "int64",
         "type": "integer"
        },
        {
         "name": "BYP53B",
         "rawType": "int64",
         "type": "integer"
        },
        {
         "name": "BYP53C",
         "rawType": "int64",
         "type": "integer"
        },
        {
         "name": "BYP53D",
         "rawType": "int64",
         "type": "integer"
        },
        {
         "name": "BYP53E",
         "rawType": "int64",
         "type": "integer"
        },
        {
         "name": "BYP53F",
         "rawType": "int64",
         "type": "integer"
        },
        {
         "name": "BYP53G",
         "rawType": "int64",
         "type": "integer"
        },
        {
         "name": "BYP53H",
         "rawType": "int64",
         "type": "integer"
        },
        {
         "name": "BYP53I",
         "rawType": "int64",
         "type": "integer"
        },
        {
         "name": "BYP53J",
         "rawType": "int64",
         "type": "integer"
        },
        {
         "name": "BYP54A",
         "rawType": "int64",
         "type": "integer"
        },
        {
         "name": "BYP54B",
         "rawType": "int64",
         "type": "integer"
        },
        {
         "name": "BYP54C",
         "rawType": "int64",
         "type": "integer"
        },
        {
         "name": "BYP54D",
         "rawType": "int64",
         "type": "integer"
        },
        {
         "name": "BYP54E",
         "rawType": "int64",
         "type": "integer"
        },
        {
         "name": "BYP55A",
         "rawType": "int64",
         "type": "integer"
        },
        {
         "name": "BYP55B",
         "rawType": "int64",
         "type": "integer"
        },
        {
         "name": "BYP55C",
         "rawType": "int64",
         "type": "integer"
        },
        {
         "name": "BYP55D",
         "rawType": "int64",
         "type": "integer"
        },
        {
         "name": "BYP56A",
         "rawType": "int64",
         "type": "integer"
        },
        {
         "name": "BYP56B",
         "rawType": "int64",
         "type": "integer"
        },
        {
         "name": "BYP56C",
         "rawType": "int64",
         "type": "integer"
        },
        {
         "name": "BYP56D",
         "rawType": "int64",
         "type": "integer"
        },
        {
         "name": "BYP56E",
         "rawType": "int64",
         "type": "integer"
        },
        {
         "name": "BYP56F",
         "rawType": "int64",
         "type": "integer"
        },
        {
         "name": "BYP57A",
         "rawType": "int64",
         "type": "integer"
        },
        {
         "name": "BYP57B",
         "rawType": "int64",
         "type": "integer"
        },
        {
         "name": "BYP57C",
         "rawType": "int64",
         "type": "integer"
        },
        {
         "name": "BYP57D",
         "rawType": "int64",
         "type": "integer"
        },
        {
         "name": "BYP57E",
         "rawType": "int64",
         "type": "integer"
        },
        {
         "name": "BYP57F",
         "rawType": "int64",
         "type": "integer"
        },
        {
         "name": "BYP57G",
         "rawType": "int64",
         "type": "integer"
        },
        {
         "name": "BYP57H",
         "rawType": "int64",
         "type": "integer"
        },
        {
         "name": "BYP57I",
         "rawType": "int64",
         "type": "integer"
        },
        {
         "name": "BYP57J",
         "rawType": "int64",
         "type": "integer"
        },
        {
         "name": "BYP57K",
         "rawType": "int64",
         "type": "integer"
        },
        {
         "name": "BYP57L",
         "rawType": "int64",
         "type": "integer"
        },
        {
         "name": "BYP58A",
         "rawType": "int64",
         "type": "integer"
        },
        {
         "name": "BYP58B",
         "rawType": "int64",
         "type": "integer"
        },
        {
         "name": "BYP59BA",
         "rawType": "int64",
         "type": "integer"
        },
        {
         "name": "BYP59CA",
         "rawType": "int64",
         "type": "integer"
        },
        {
         "name": "BYP59DA",
         "rawType": "int64",
         "type": "integer"
        },
        {
         "name": "BYP59EA",
         "rawType": "int64",
         "type": "integer"
        },
        {
         "name": "BYP59BB",
         "rawType": "int64",
         "type": "integer"
        },
        {
         "name": "BYP59CB",
         "rawType": "int64",
         "type": "integer"
        },
        {
         "name": "BYP59DB",
         "rawType": "int64",
         "type": "integer"
        },
        {
         "name": "BYP59EB",
         "rawType": "int64",
         "type": "integer"
        },
        {
         "name": "BYP59BC",
         "rawType": "int64",
         "type": "integer"
        },
        {
         "name": "BYP59CC",
         "rawType": "int64",
         "type": "integer"
        },
        {
         "name": "BYP59DC",
         "rawType": "int64",
         "type": "integer"
        },
        {
         "name": "BYP59EC",
         "rawType": "int64",
         "type": "integer"
        },
        {
         "name": "BYP60A",
         "rawType": "int64",
         "type": "integer"
        },
        {
         "name": "BYP60B",
         "rawType": "int64",
         "type": "integer"
        },
        {
         "name": "BYP60C",
         "rawType": "int64",
         "type": "integer"
        },
        {
         "name": "BYP60D",
         "rawType": "int64",
         "type": "integer"
        },
        {
         "name": "BYP61",
         "rawType": "int64",
         "type": "integer"
        },
        {
         "name": "BYP62",
         "rawType": "int64",
         "type": "integer"
        },
        {
         "name": "BYP63",
         "rawType": "int64",
         "type": "integer"
        },
        {
         "name": "BYP64A",
         "rawType": "int64",
         "type": "integer"
        },
        {
         "name": "BYP64B",
         "rawType": "int64",
         "type": "integer"
        },
        {
         "name": "BYP64C",
         "rawType": "int64",
         "type": "integer"
        },
        {
         "name": "BYP64D",
         "rawType": "int64",
         "type": "integer"
        },
        {
         "name": "BYP65",
         "rawType": "int64",
         "type": "integer"
        },
        {
         "name": "BYP66",
         "rawType": "int64",
         "type": "integer"
        },
        {
         "name": "BYP67",
         "rawType": "int64",
         "type": "integer"
        },
        {
         "name": "BYP68",
         "rawType": "int64",
         "type": "integer"
        },
        {
         "name": "BYP69A",
         "rawType": "int64",
         "type": "integer"
        },
        {
         "name": "BYP69B",
         "rawType": "int64",
         "type": "integer"
        },
        {
         "name": "BYP69C",
         "rawType": "int64",
         "type": "integer"
        },
        {
         "name": "BYP69D",
         "rawType": "int64",
         "type": "integer"
        },
        {
         "name": "BYP70",
         "rawType": "int64",
         "type": "integer"
        },
        {
         "name": "BYP71",
         "rawType": "int64",
         "type": "integer"
        },
        {
         "name": "BYP72",
         "rawType": "int64",
         "type": "integer"
        },
        {
         "name": "BYP73",
         "rawType": "int64",
         "type": "integer"
        },
        {
         "name": "BYP74A",
         "rawType": "int64",
         "type": "integer"
        },
        {
         "name": "BYP74B",
         "rawType": "int64",
         "type": "integer"
        },
        {
         "name": "BYP74C",
         "rawType": "int64",
         "type": "integer"
        },
        {
         "name": "BYP74D",
         "rawType": "int64",
         "type": "integer"
        },
        {
         "name": "BYP74E",
         "rawType": "int64",
         "type": "integer"
        },
        {
         "name": "BYP75",
         "rawType": "int64",
         "type": "integer"
        },
        {
         "name": "BYP76",
         "rawType": "int64",
         "type": "integer"
        },
        {
         "name": "BYP77A",
         "rawType": "int64",
         "type": "integer"
        },
        {
         "name": "BYP77B",
         "rawType": "int64",
         "type": "integer"
        },
        {
         "name": "BYP77C",
         "rawType": "int64",
         "type": "integer"
        },
        {
         "name": "BYP77D",
         "rawType": "int64",
         "type": "integer"
        },
        {
         "name": "BYP77E",
         "rawType": "int64",
         "type": "integer"
        },
        {
         "name": "BYP77F",
         "rawType": "int64",
         "type": "integer"
        },
        {
         "name": "BYP77G",
         "rawType": "int64",
         "type": "integer"
        },
        {
         "name": "BYP77H",
         "rawType": "int64",
         "type": "integer"
        },
        {
         "name": "BYP77I",
         "rawType": "int64",
         "type": "integer"
        },
        {
         "name": "BYP77J",
         "rawType": "int64",
         "type": "integer"
        },
        {
         "name": "BYP77K",
         "rawType": "int64",
         "type": "integer"
        },
        {
         "name": "BYP77L",
         "rawType": "int64",
         "type": "integer"
        },
        {
         "name": "BYP77M",
         "rawType": "int64",
         "type": "integer"
        },
        {
         "name": "BYP77N",
         "rawType": "int64",
         "type": "integer"
        },
        {
         "name": "BYP77O",
         "rawType": "int64",
         "type": "integer"
        },
        {
         "name": "BYP78",
         "rawType": "int64",
         "type": "integer"
        },
        {
         "name": "BYP79",
         "rawType": "int64",
         "type": "integer"
        },
        {
         "name": "BYP80A",
         "rawType": "int64",
         "type": "integer"
        },
        {
         "name": "BYP80B",
         "rawType": "int64",
         "type": "integer"
        },
        {
         "name": "BYP80C",
         "rawType": "int64",
         "type": "integer"
        },
        {
         "name": "BYP80D",
         "rawType": "int64",
         "type": "integer"
        },
        {
         "name": "BYP80E",
         "rawType": "int64",
         "type": "integer"
        },
        {
         "name": "BYP80F",
         "rawType": "int64",
         "type": "integer"
        },
        {
         "name": "BYP80G",
         "rawType": "int64",
         "type": "integer"
        },
        {
         "name": "BYP80H",
         "rawType": "int64",
         "type": "integer"
        },
        {
         "name": "BYP80I",
         "rawType": "int64",
         "type": "integer"
        },
        {
         "name": "BYP80J",
         "rawType": "int64",
         "type": "integer"
        },
        {
         "name": "BYP80K",
         "rawType": "int64",
         "type": "integer"
        },
        {
         "name": "BYP80L",
         "rawType": "int64",
         "type": "integer"
        },
        {
         "name": "BYP80M",
         "rawType": "int64",
         "type": "integer"
        },
        {
         "name": "BYP80N",
         "rawType": "int64",
         "type": "integer"
        },
        {
         "name": "BYP80O",
         "rawType": "int64",
         "type": "integer"
        },
        {
         "name": "BYP81",
         "rawType": "int64",
         "type": "integer"
        },
        {
         "name": "BYP82",
         "rawType": "int64",
         "type": "integer"
        },
        {
         "name": "BYP83A",
         "rawType": "int64",
         "type": "integer"
        },
        {
         "name": "BYP83B",
         "rawType": "int64",
         "type": "integer"
        },
        {
         "name": "BYP83C",
         "rawType": "int64",
         "type": "integer"
        },
        {
         "name": "BYP83D",
         "rawType": "int64",
         "type": "integer"
        },
        {
         "name": "BYP83E",
         "rawType": "int64",
         "type": "integer"
        },
        {
         "name": "BYP83F",
         "rawType": "int64",
         "type": "integer"
        },
        {
         "name": "BYP83G",
         "rawType": "int64",
         "type": "integer"
        },
        {
         "name": "BYP83H",
         "rawType": "int64",
         "type": "integer"
        },
        {
         "name": "BYP83I",
         "rawType": "int64",
         "type": "integer"
        },
        {
         "name": "BYP83J",
         "rawType": "int64",
         "type": "integer"
        },
        {
         "name": "BYP83K",
         "rawType": "int64",
         "type": "integer"
        },
        {
         "name": "BYP83L",
         "rawType": "int64",
         "type": "integer"
        },
        {
         "name": "BYP83M",
         "rawType": "int64",
         "type": "integer"
        },
        {
         "name": "BYP84",
         "rawType": "int64",
         "type": "integer"
        },
        {
         "name": "BYP85",
         "rawType": "int64",
         "type": "integer"
        },
        {
         "name": "BYP86",
         "rawType": "int64",
         "type": "integer"
        },
        {
         "name": "BYP97",
         "rawType": "int64",
         "type": "integer"
        },
        {
         "name": "BYP98A",
         "rawType": "int64",
         "type": "integer"
        },
        {
         "name": "BYP98B",
         "rawType": "int64",
         "type": "integer"
        },
        {
         "name": "BYP98C",
         "rawType": "int64",
         "type": "integer"
        },
        {
         "name": "BYP98D",
         "rawType": "int64",
         "type": "integer"
        },
        {
         "name": "BYP98E",
         "rawType": "int64",
         "type": "integer"
        },
        {
         "name": "BYP99",
         "rawType": "int64",
         "type": "integer"
        },
        {
         "name": "BYTE01",
         "rawType": "int64",
         "type": "integer"
        },
        {
         "name": "BYTE02",
         "rawType": "int64",
         "type": "integer"
        },
        {
         "name": "BYTE03",
         "rawType": "int64",
         "type": "integer"
        },
        {
         "name": "BYTE04",
         "rawType": "int64",
         "type": "integer"
        },
        {
         "name": "BYTE05",
         "rawType": "int64",
         "type": "integer"
        },
        {
         "name": "BYTE06",
         "rawType": "int64",
         "type": "integer"
        },
        {
         "name": "BYTE07",
         "rawType": "int64",
         "type": "integer"
        },
        {
         "name": "BYTE08A",
         "rawType": "int64",
         "type": "integer"
        },
        {
         "name": "BYTE08B",
         "rawType": "int64",
         "type": "integer"
        },
        {
         "name": "BYTE08C",
         "rawType": "int64",
         "type": "integer"
        },
        {
         "name": "BYTE08D",
         "rawType": "int64",
         "type": "integer"
        },
        {
         "name": "BYTE08E",
         "rawType": "int64",
         "type": "integer"
        },
        {
         "name": "BYTE09",
         "rawType": "int64",
         "type": "integer"
        },
        {
         "name": "BYTE10",
         "rawType": "int64",
         "type": "integer"
        },
        {
         "name": "BYTE11",
         "rawType": "int64",
         "type": "integer"
        },
        {
         "name": "BYTE12",
         "rawType": "int64",
         "type": "integer"
        },
        {
         "name": "BYTE12A",
         "rawType": "int64",
         "type": "integer"
        },
        {
         "name": "BYTE12B",
         "rawType": "int64",
         "type": "integer"
        },
        {
         "name": "BYTE12C",
         "rawType": "int64",
         "type": "integer"
        },
        {
         "name": "BYTE12D",
         "rawType": "int64",
         "type": "integer"
        },
        {
         "name": "BYTE12E",
         "rawType": "int64",
         "type": "integer"
        },
        {
         "name": "BYTE13",
         "rawType": "int64",
         "type": "integer"
        },
        {
         "name": "BYTE14",
         "rawType": "int64",
         "type": "integer"
        },
        {
         "name": "BYTE15",
         "rawType": "int64",
         "type": "integer"
        },
        {
         "name": "BYTE16",
         "rawType": "int64",
         "type": "integer"
        },
        {
         "name": "BYTE17",
         "rawType": "int64",
         "type": "integer"
        },
        {
         "name": "BYTE18A",
         "rawType": "int64",
         "type": "integer"
        },
        {
         "name": "BYTE18B",
         "rawType": "int64",
         "type": "integer"
        },
        {
         "name": "BYTE19",
         "rawType": "int64",
         "type": "integer"
        },
        {
         "name": "BYTE20",
         "rawType": "int64",
         "type": "integer"
        },
        {
         "name": "BYTE21A",
         "rawType": "int64",
         "type": "integer"
        },
        {
         "name": "BYTE21B",
         "rawType": "int64",
         "type": "integer"
        },
        {
         "name": "BYTE21C",
         "rawType": "int64",
         "type": "integer"
        },
        {
         "name": "BYTE21D",
         "rawType": "int64",
         "type": "integer"
        },
        {
         "name": "BYTE22",
         "rawType": "int64",
         "type": "integer"
        },
        {
         "name": "BYTE23",
         "rawType": "int64",
         "type": "integer"
        },
        {
         "name": "BYTE24A",
         "rawType": "int64",
         "type": "integer"
        },
        {
         "name": "BYTE24B",
         "rawType": "int64",
         "type": "integer"
        },
        {
         "name": "BYTE24C",
         "rawType": "int64",
         "type": "integer"
        },
        {
         "name": "BYTE24D",
         "rawType": "int64",
         "type": "integer"
        },
        {
         "name": "BYTE24E",
         "rawType": "int64",
         "type": "integer"
        },
        {
         "name": "BYTE25",
         "rawType": "int64",
         "type": "integer"
        },
        {
         "name": "BYTE26A",
         "rawType": "int64",
         "type": "integer"
        },
        {
         "name": "BYTE26B",
         "rawType": "int64",
         "type": "integer"
        },
        {
         "name": "BYTE26C",
         "rawType": "int64",
         "type": "integer"
        },
        {
         "name": "BYTE27",
         "rawType": "int64",
         "type": "integer"
        },
        {
         "name": "BYTE28",
         "rawType": "int64",
         "type": "integer"
        },
        {
         "name": "BYTE29",
         "rawType": "int64",
         "type": "integer"
        },
        {
         "name": "BYTE30A",
         "rawType": "int64",
         "type": "integer"
        },
        {
         "name": "BYTE30B",
         "rawType": "int64",
         "type": "integer"
        },
        {
         "name": "BYTE30C",
         "rawType": "int64",
         "type": "integer"
        },
        {
         "name": "BYTE30D",
         "rawType": "int64",
         "type": "integer"
        },
        {
         "name": "BYTE30E",
         "rawType": "int64",
         "type": "integer"
        },
        {
         "name": "BYTE30F",
         "rawType": "int64",
         "type": "integer"
        },
        {
         "name": "BYTE30G",
         "rawType": "int64",
         "type": "integer"
        },
        {
         "name": "BYTE31A",
         "rawType": "int64",
         "type": "integer"
        },
        {
         "name": "BYTE31B",
         "rawType": "int64",
         "type": "integer"
        },
        {
         "name": "BYTE32A",
         "rawType": "int64",
         "type": "integer"
        },
        {
         "name": "BYTE32B",
         "rawType": "int64",
         "type": "integer"
        },
        {
         "name": "BYTE33A",
         "rawType": "int64",
         "type": "integer"
        },
        {
         "name": "BYTE33B",
         "rawType": "int64",
         "type": "integer"
        },
        {
         "name": "BYTE34",
         "rawType": "int64",
         "type": "integer"
        },
        {
         "name": "BYTE35A",
         "rawType": "int64",
         "type": "integer"
        },
        {
         "name": "BYTE35B",
         "rawType": "int64",
         "type": "integer"
        },
        {
         "name": "BYTE35C",
         "rawType": "int64",
         "type": "integer"
        },
        {
         "name": "BYTE35D",
         "rawType": "int64",
         "type": "integer"
        },
        {
         "name": "BYTE35E",
         "rawType": "int64",
         "type": "integer"
        },
        {
         "name": "BYTE35F",
         "rawType": "int64",
         "type": "integer"
        },
        {
         "name": "BYTE35G",
         "rawType": "int64",
         "type": "integer"
        },
        {
         "name": "BYTE35H",
         "rawType": "int64",
         "type": "integer"
        },
        {
         "name": "BYTE35I",
         "rawType": "int64",
         "type": "integer"
        },
        {
         "name": "BYTE35J",
         "rawType": "int64",
         "type": "integer"
        },
        {
         "name": "BYTE35K",
         "rawType": "int64",
         "type": "integer"
        },
        {
         "name": "BYTE35L",
         "rawType": "int64",
         "type": "integer"
        },
        {
         "name": "BYTE35M",
         "rawType": "int64",
         "type": "integer"
        },
        {
         "name": "BYTE35N",
         "rawType": "int64",
         "type": "integer"
        },
        {
         "name": "BYTE36",
         "rawType": "int64",
         "type": "integer"
        },
        {
         "name": "BYTE37",
         "rawType": "int64",
         "type": "integer"
        },
        {
         "name": "BYTE38A",
         "rawType": "int64",
         "type": "integer"
        },
        {
         "name": "BYTE38B",
         "rawType": "int64",
         "type": "integer"
        },
        {
         "name": "BYTE38C",
         "rawType": "int64",
         "type": "integer"
        },
        {
         "name": "BYTE38D",
         "rawType": "int64",
         "type": "integer"
        },
        {
         "name": "BYTE38E",
         "rawType": "int64",
         "type": "integer"
        },
        {
         "name": "BYTE38F",
         "rawType": "int64",
         "type": "integer"
        },
        {
         "name": "BYTE39",
         "rawType": "int64",
         "type": "integer"
        },
        {
         "name": "BYTE40",
         "rawType": "int64",
         "type": "integer"
        },
        {
         "name": "BYTE41",
         "rawType": "int64",
         "type": "integer"
        },
        {
         "name": "BYTE42",
         "rawType": "int64",
         "type": "integer"
        },
        {
         "name": "BYTE43",
         "rawType": "int64",
         "type": "integer"
        },
        {
         "name": "BYTE44A",
         "rawType": "int64",
         "type": "integer"
        },
        {
         "name": "BYTE44B",
         "rawType": "int64",
         "type": "integer"
        },
        {
         "name": "BYTE44C",
         "rawType": "int64",
         "type": "integer"
        },
        {
         "name": "BYTE44D",
         "rawType": "int64",
         "type": "integer"
        },
        {
         "name": "BYTE44E",
         "rawType": "int64",
         "type": "integer"
        },
        {
         "name": "BYTE44F",
         "rawType": "int64",
         "type": "integer"
        },
        {
         "name": "BYTE47",
         "rawType": "int64",
         "type": "integer"
        },
        {
         "name": "BYTM01",
         "rawType": "int64",
         "type": "integer"
        },
        {
         "name": "BYTM02",
         "rawType": "int64",
         "type": "integer"
        },
        {
         "name": "BYTM03",
         "rawType": "int64",
         "type": "integer"
        },
        {
         "name": "BYTM04",
         "rawType": "int64",
         "type": "integer"
        },
        {
         "name": "BYTM05",
         "rawType": "int64",
         "type": "integer"
        },
        {
         "name": "BYTM06",
         "rawType": "int64",
         "type": "integer"
        },
        {
         "name": "BYTM07",
         "rawType": "int64",
         "type": "integer"
        },
        {
         "name": "BYTM08A",
         "rawType": "int64",
         "type": "integer"
        },
        {
         "name": "BYTM08B",
         "rawType": "int64",
         "type": "integer"
        },
        {
         "name": "BYTM08C",
         "rawType": "int64",
         "type": "integer"
        },
        {
         "name": "BYTM08D",
         "rawType": "int64",
         "type": "integer"
        },
        {
         "name": "BYTM08E",
         "rawType": "int64",
         "type": "integer"
        },
        {
         "name": "BYTM09",
         "rawType": "int64",
         "type": "integer"
        },
        {
         "name": "BYTM10",
         "rawType": "int64",
         "type": "integer"
        },
        {
         "name": "BYTM11",
         "rawType": "int64",
         "type": "integer"
        },
        {
         "name": "BYTM12",
         "rawType": "int64",
         "type": "integer"
        },
        {
         "name": "BYTM12A",
         "rawType": "int64",
         "type": "integer"
        },
        {
         "name": "BYTM12B",
         "rawType": "int64",
         "type": "integer"
        },
        {
         "name": "BYTM12C",
         "rawType": "int64",
         "type": "integer"
        },
        {
         "name": "BYTM12D",
         "rawType": "int64",
         "type": "integer"
        },
        {
         "name": "BYTM12E",
         "rawType": "int64",
         "type": "integer"
        },
        {
         "name": "BYTM13",
         "rawType": "int64",
         "type": "integer"
        },
        {
         "name": "BYTM14",
         "rawType": "int64",
         "type": "integer"
        },
        {
         "name": "BYTM15",
         "rawType": "int64",
         "type": "integer"
        },
        {
         "name": "BYTM16",
         "rawType": "int64",
         "type": "integer"
        },
        {
         "name": "BYTM17",
         "rawType": "int64",
         "type": "integer"
        },
        {
         "name": "BYTM18A",
         "rawType": "int64",
         "type": "integer"
        },
        {
         "name": "BYTM18B",
         "rawType": "int64",
         "type": "integer"
        },
        {
         "name": "BYTM19",
         "rawType": "int64",
         "type": "integer"
        },
        {
         "name": "BYTM20",
         "rawType": "int64",
         "type": "integer"
        },
        {
         "name": "BYTM22",
         "rawType": "int64",
         "type": "integer"
        },
        {
         "name": "BYTM23",
         "rawType": "int64",
         "type": "integer"
        },
        {
         "name": "BYTM24A",
         "rawType": "int64",
         "type": "integer"
        },
        {
         "name": "BYTM24B",
         "rawType": "int64",
         "type": "integer"
        },
        {
         "name": "BYTM24C",
         "rawType": "int64",
         "type": "integer"
        },
        {
         "name": "BYTM24D",
         "rawType": "int64",
         "type": "integer"
        },
        {
         "name": "BYTM24E",
         "rawType": "int64",
         "type": "integer"
        },
        {
         "name": "BYTM25",
         "rawType": "int64",
         "type": "integer"
        },
        {
         "name": "BYTM26A",
         "rawType": "int64",
         "type": "integer"
        },
        {
         "name": "BYTM26B",
         "rawType": "int64",
         "type": "integer"
        },
        {
         "name": "BYTM26C",
         "rawType": "int64",
         "type": "integer"
        },
        {
         "name": "BYTM27",
         "rawType": "int64",
         "type": "integer"
        },
        {
         "name": "BYTM28",
         "rawType": "int64",
         "type": "integer"
        },
        {
         "name": "BYTM29",
         "rawType": "int64",
         "type": "integer"
        },
        {
         "name": "BYTM30A",
         "rawType": "int64",
         "type": "integer"
        },
        {
         "name": "BYTM30B",
         "rawType": "int64",
         "type": "integer"
        },
        {
         "name": "BYTM30C",
         "rawType": "int64",
         "type": "integer"
        },
        {
         "name": "BYTM30D",
         "rawType": "int64",
         "type": "integer"
        },
        {
         "name": "BYTM30E",
         "rawType": "int64",
         "type": "integer"
        },
        {
         "name": "BYTM30F",
         "rawType": "int64",
         "type": "integer"
        },
        {
         "name": "BYTM30G",
         "rawType": "int64",
         "type": "integer"
        },
        {
         "name": "BYTM31A",
         "rawType": "int64",
         "type": "integer"
        },
        {
         "name": "BYTM31B",
         "rawType": "int64",
         "type": "integer"
        },
        {
         "name": "BYTM32A",
         "rawType": "int64",
         "type": "integer"
        },
        {
         "name": "BYTM32B",
         "rawType": "int64",
         "type": "integer"
        },
        {
         "name": "BYTM33C",
         "rawType": "int64",
         "type": "integer"
        },
        {
         "name": "BYTM33D",
         "rawType": "int64",
         "type": "integer"
        },
        {
         "name": "BYTM34",
         "rawType": "int64",
         "type": "integer"
        },
        {
         "name": "BYTM35A",
         "rawType": "int64",
         "type": "integer"
        },
        {
         "name": "BYTM35B",
         "rawType": "int64",
         "type": "integer"
        },
        {
         "name": "BYTM35C",
         "rawType": "int64",
         "type": "integer"
        },
        {
         "name": "BYTM35D",
         "rawType": "int64",
         "type": "integer"
        },
        {
         "name": "BYTM35E",
         "rawType": "int64",
         "type": "integer"
        },
        {
         "name": "BYTM35F",
         "rawType": "int64",
         "type": "integer"
        },
        {
         "name": "BYTM35G",
         "rawType": "int64",
         "type": "integer"
        },
        {
         "name": "BYTM35H",
         "rawType": "int64",
         "type": "integer"
        },
        {
         "name": "BYTM35I",
         "rawType": "int64",
         "type": "integer"
        },
        {
         "name": "BYTM35J",
         "rawType": "int64",
         "type": "integer"
        },
        {
         "name": "BYTM35K",
         "rawType": "int64",
         "type": "integer"
        },
        {
         "name": "BYTM35L",
         "rawType": "int64",
         "type": "integer"
        },
        {
         "name": "BYTM35M",
         "rawType": "int64",
         "type": "integer"
        },
        {
         "name": "BYTM35N",
         "rawType": "int64",
         "type": "integer"
        },
        {
         "name": "BYTM36",
         "rawType": "int64",
         "type": "integer"
        },
        {
         "name": "BYTM37",
         "rawType": "int64",
         "type": "integer"
        },
        {
         "name": "BYTM38A",
         "rawType": "int64",
         "type": "integer"
        },
        {
         "name": "BYTM38B",
         "rawType": "int64",
         "type": "integer"
        },
        {
         "name": "BYTM38C",
         "rawType": "int64",
         "type": "integer"
        },
        {
         "name": "BYTM38D",
         "rawType": "int64",
         "type": "integer"
        },
        {
         "name": "BYTM38E",
         "rawType": "int64",
         "type": "integer"
        },
        {
         "name": "BYTM38F",
         "rawType": "int64",
         "type": "integer"
        },
        {
         "name": "BYTM39",
         "rawType": "int64",
         "type": "integer"
        },
        {
         "name": "BYTM40",
         "rawType": "int64",
         "type": "integer"
        },
        {
         "name": "BYTM41",
         "rawType": "int64",
         "type": "integer"
        },
        {
         "name": "BYTM42",
         "rawType": "int64",
         "type": "integer"
        },
        {
         "name": "BYTM43",
         "rawType": "int64",
         "type": "integer"
        },
        {
         "name": "BYTM44A",
         "rawType": "int64",
         "type": "integer"
        },
        {
         "name": "BYTM44B",
         "rawType": "int64",
         "type": "integer"
        },
        {
         "name": "BYTM44C",
         "rawType": "int64",
         "type": "integer"
        },
        {
         "name": "BYTM44D",
         "rawType": "int64",
         "type": "integer"
        },
        {
         "name": "BYTM44E",
         "rawType": "int64",
         "type": "integer"
        },
        {
         "name": "BYTM44F",
         "rawType": "int64",
         "type": "integer"
        },
        {
         "name": "BYTM45A",
         "rawType": "int64",
         "type": "integer"
        },
        {
         "name": "BYTM45B",
         "rawType": "int64",
         "type": "integer"
        },
        {
         "name": "BYTM47",
         "rawType": "int64",
         "type": "integer"
        },
        {
         "name": "BYADMSTA",
         "rawType": "int64",
         "type": "integer"
        },
        {
         "name": "BYSCMDST",
         "rawType": "int64",
         "type": "integer"
        },
        {
         "name": "BYSCMDFG",
         "rawType": "int64",
         "type": "integer"
        },
        {
         "name": "BYFTTP",
         "rawType": "int64",
         "type": "integer"
        },
        {
         "name": "F1ADMSTA",
         "rawType": "int64",
         "type": "integer"
        },
        {
         "name": "F1SCENP",
         "rawType": "int64",
         "type": "integer"
        },
        {
         "name": "F1SCFLP",
         "rawType": "int64",
         "type": "integer"
        },
        {
         "name": "F1FTTP",
         "rawType": "int64",
         "type": "integer"
        },
        {
         "name": "NCESDI",
         "rawType": "int64",
         "type": "integer"
        },
        {
         "name": "NCESSI",
         "rawType": "int64",
         "type": "integer"
        },
        {
         "name": "CP01FLUN",
         "rawType": "int64",
         "type": "integer"
        },
        {
         "name": "CP01FTE",
         "rawType": "int64",
         "type": "integer"
        },
        {
         "name": "CP01G9EN",
         "rawType": "int64",
         "type": "integer"
        },
        {
         "name": "CP01GRHI",
         "rawType": "int64",
         "type": "integer"
        },
        {
         "name": "CP01GRLO",
         "rawType": "int64",
         "type": "integer"
        },
        {
         "name": "CP01LOC",
         "rawType": "int64",
         "type": "integer"
        },
        {
         "name": "CP01PMIN",
         "rawType": "int64",
         "type": "integer"
        },
        {
         "name": "CP01STEN",
         "rawType": "int64",
         "type": "integer"
        },
        {
         "name": "CP01STRO",
         "rawType": "int64",
         "type": "integer"
        },
        {
         "name": "CP01STYP",
         "rawType": "int64",
         "type": "integer"
        },
        {
         "name": "CP02FLUN",
         "rawType": "int64",
         "type": "integer"
        },
        {
         "name": "CP02FTE",
         "rawType": "int64",
         "type": "integer"
        },
        {
         "name": "CP02G10E",
         "rawType": "int64",
         "type": "integer"
        },
        {
         "name": "CP02GRHI",
         "rawType": "int64",
         "type": "integer"
        },
        {
         "name": "CP02GRLO",
         "rawType": "int64",
         "type": "integer"
        },
        {
         "name": "CP02LOC",
         "rawType": "int64",
         "type": "integer"
        },
        {
         "name": "CP02PMIN",
         "rawType": "int64",
         "type": "integer"
        },
        {
         "name": "CP02STEN",
         "rawType": "int64",
         "type": "integer"
        },
        {
         "name": "CP02STRO",
         "rawType": "int64",
         "type": "integer"
        },
        {
         "name": "CP02STYP",
         "rawType": "int64",
         "type": "integer"
        },
        {
         "name": "CP03FLUN",
         "rawType": "int64",
         "type": "integer"
        },
        {
         "name": "CP03FTE",
         "rawType": "int64",
         "type": "integer"
        },
        {
         "name": "CP03G11E",
         "rawType": "int64",
         "type": "integer"
        },
        {
         "name": "CP03GRHI",
         "rawType": "int64",
         "type": "integer"
        },
        {
         "name": "CP03GRLO",
         "rawType": "int64",
         "type": "integer"
        },
        {
         "name": "CP03LOC",
         "rawType": "int64",
         "type": "integer"
        },
        {
         "name": "CP03PMIN",
         "rawType": "int64",
         "type": "integer"
        },
        {
         "name": "CP03STEN",
         "rawType": "int64",
         "type": "integer"
        },
        {
         "name": "CP03STRO",
         "rawType": "int64",
         "type": "integer"
        },
        {
         "name": "CP03STYP",
         "rawType": "int64",
         "type": "integer"
        },
        {
         "name": "CP04FLUN",
         "rawType": "int64",
         "type": "integer"
        },
        {
         "name": "CP04FTE",
         "rawType": "int64",
         "type": "integer"
        },
        {
         "name": "CP04G12E",
         "rawType": "int64",
         "type": "integer"
        },
        {
         "name": "CP04GRHI",
         "rawType": "int64",
         "type": "integer"
        },
        {
         "name": "CP04GRLO",
         "rawType": "int64",
         "type": "integer"
        },
        {
         "name": "CP04LOC",
         "rawType": "int64",
         "type": "integer"
        },
        {
         "name": "CP04PMIN",
         "rawType": "int64",
         "type": "integer"
        },
        {
         "name": "CP04STEN",
         "rawType": "int64",
         "type": "integer"
        },
        {
         "name": "CP04STRO",
         "rawType": "int64",
         "type": "integer"
        },
        {
         "name": "CP04STYP",
         "rawType": "int64",
         "type": "integer"
        },
        {
         "name": "BYA01",
         "rawType": "int64",
         "type": "integer"
        },
        {
         "name": "BYA02A",
         "rawType": "int64",
         "type": "integer"
        },
        {
         "name": "BYA02B",
         "rawType": "int64",
         "type": "integer"
        },
        {
         "name": "BYA02C",
         "rawType": "int64",
         "type": "integer"
        },
        {
         "name": "BYA02D",
         "rawType": "int64",
         "type": "integer"
        },
        {
         "name": "BYA02E",
         "rawType": "int64",
         "type": "integer"
        },
        {
         "name": "BYA02F",
         "rawType": "int64",
         "type": "integer"
        },
        {
         "name": "BYA02G",
         "rawType": "int64",
         "type": "integer"
        },
        {
         "name": "BYA02H",
         "rawType": "int64",
         "type": "integer"
        },
        {
         "name": "BYA02I",
         "rawType": "int64",
         "type": "integer"
        },
        {
         "name": "BYA02J",
         "rawType": "int64",
         "type": "integer"
        },
        {
         "name": "BYA02K",
         "rawType": "int64",
         "type": "integer"
        },
        {
         "name": "BYA02L",
         "rawType": "int64",
         "type": "integer"
        },
        {
         "name": "BYA02M",
         "rawType": "int64",
         "type": "integer"
        },
        {
         "name": "BYA02N",
         "rawType": "int64",
         "type": "integer"
        },
        {
         "name": "BYA02O",
         "rawType": "int64",
         "type": "integer"
        },
        {
         "name": "BYA03A",
         "rawType": "int64",
         "type": "integer"
        },
        {
         "name": "BYA03B",
         "rawType": "int64",
         "type": "integer"
        },
        {
         "name": "BYA03C",
         "rawType": "int64",
         "type": "integer"
        },
        {
         "name": "BYA03D",
         "rawType": "int64",
         "type": "integer"
        },
        {
         "name": "BYA03E",
         "rawType": "int64",
         "type": "integer"
        },
        {
         "name": "BYA03F",
         "rawType": "int64",
         "type": "integer"
        },
        {
         "name": "BYA03G",
         "rawType": "int64",
         "type": "integer"
        },
        {
         "name": "BYA03H",
         "rawType": "int64",
         "type": "integer"
        },
        {
         "name": "BYA03I",
         "rawType": "int64",
         "type": "integer"
        },
        {
         "name": "BYA03J",
         "rawType": "int64",
         "type": "integer"
        },
        {
         "name": "BYA03K",
         "rawType": "int64",
         "type": "integer"
        },
        {
         "name": "BYA03L",
         "rawType": "int64",
         "type": "integer"
        },
        {
         "name": "BYA03M",
         "rawType": "int64",
         "type": "integer"
        },
        {
         "name": "BYA03N",
         "rawType": "int64",
         "type": "integer"
        },
        {
         "name": "BYA03O",
         "rawType": "int64",
         "type": "integer"
        },
        {
         "name": "BYA03P",
         "rawType": "int64",
         "type": "integer"
        },
        {
         "name": "BYA03Q",
         "rawType": "int64",
         "type": "integer"
        },
        {
         "name": "BYA03R",
         "rawType": "int64",
         "type": "integer"
        },
        {
         "name": "BYA03S",
         "rawType": "int64",
         "type": "integer"
        },
        {
         "name": "BYA04",
         "rawType": "int64",
         "type": "integer"
        },
        {
         "name": "BYA05",
         "rawType": "int64",
         "type": "integer"
        },
        {
         "name": "BYA06",
         "rawType": "int64",
         "type": "integer"
        },
        {
         "name": "BYA07",
         "rawType": "int64",
         "type": "integer"
        },
        {
         "name": "BYA08",
         "rawType": "int64",
         "type": "integer"
        },
        {
         "name": "BYA09",
         "rawType": "int64",
         "type": "integer"
        },
        {
         "name": "BYA10",
         "rawType": "int64",
         "type": "integer"
        },
        {
         "name": "BYA11",
         "rawType": "int64",
         "type": "integer"
        },
        {
         "name": "BYA12A",
         "rawType": "int64",
         "type": "integer"
        },
        {
         "name": "BYA12B",
         "rawType": "int64",
         "type": "integer"
        },
        {
         "name": "BYA12C",
         "rawType": "int64",
         "type": "integer"
        },
        {
         "name": "BYA12D",
         "rawType": "int64",
         "type": "integer"
        },
        {
         "name": "BYA12E",
         "rawType": "int64",
         "type": "integer"
        },
        {
         "name": "BYA12F",
         "rawType": "int64",
         "type": "integer"
        },
        {
         "name": "BYA12G",
         "rawType": "int64",
         "type": "integer"
        },
        {
         "name": "BYA12H",
         "rawType": "int64",
         "type": "integer"
        },
        {
         "name": "BYA12I",
         "rawType": "int64",
         "type": "integer"
        },
        {
         "name": "BYA13",
         "rawType": "int64",
         "type": "integer"
        },
        {
         "name": "BYA14A",
         "rawType": "int64",
         "type": "integer"
        },
        {
         "name": "BYA14B",
         "rawType": "int64",
         "type": "integer"
        },
        {
         "name": "BYA14C",
         "rawType": "int64",
         "type": "integer"
        },
        {
         "name": "BYA14D",
         "rawType": "int64",
         "type": "integer"
        },
        {
         "name": "BYA14E",
         "rawType": "int64",
         "type": "integer"
        },
        {
         "name": "BYA14F",
         "rawType": "int64",
         "type": "integer"
        },
        {
         "name": "BYA14G",
         "rawType": "int64",
         "type": "integer"
        },
        {
         "name": "BYA14H",
         "rawType": "int64",
         "type": "integer"
        },
        {
         "name": "BYA14I",
         "rawType": "int64",
         "type": "integer"
        },
        {
         "name": "BYA14J",
         "rawType": "int64",
         "type": "integer"
        },
        {
         "name": "BYA14K",
         "rawType": "int64",
         "type": "integer"
        },
        {
         "name": "BYA15A",
         "rawType": "int64",
         "type": "integer"
        },
        {
         "name": "BYA15B",
         "rawType": "int64",
         "type": "integer"
        },
        {
         "name": "BYA15C",
         "rawType": "int64",
         "type": "integer"
        },
        {
         "name": "BYA16",
         "rawType": "int64",
         "type": "integer"
        },
        {
         "name": "BYA17A",
         "rawType": "int64",
         "type": "integer"
        },
        {
         "name": "BYA17B",
         "rawType": "int64",
         "type": "integer"
        },
        {
         "name": "BYA17C",
         "rawType": "int64",
         "type": "integer"
        },
        {
         "name": "BYA17D",
         "rawType": "int64",
         "type": "integer"
        },
        {
         "name": "BYA17E",
         "rawType": "int64",
         "type": "integer"
        },
        {
         "name": "BYA17F",
         "rawType": "int64",
         "type": "integer"
        },
        {
         "name": "BYA17G",
         "rawType": "int64",
         "type": "integer"
        },
        {
         "name": "BYA17H",
         "rawType": "int64",
         "type": "integer"
        },
        {
         "name": "BYA17I",
         "rawType": "int64",
         "type": "integer"
        },
        {
         "name": "BYA17J",
         "rawType": "int64",
         "type": "integer"
        },
        {
         "name": "BYA17K",
         "rawType": "int64",
         "type": "integer"
        },
        {
         "name": "BYA17L",
         "rawType": "int64",
         "type": "integer"
        },
        {
         "name": "BYA17M",
         "rawType": "int64",
         "type": "integer"
        },
        {
         "name": "BYA17N",
         "rawType": "int64",
         "type": "integer"
        },
        {
         "name": "BYA17O",
         "rawType": "int64",
         "type": "integer"
        },
        {
         "name": "BYA17P",
         "rawType": "int64",
         "type": "integer"
        },
        {
         "name": "BYA17Q",
         "rawType": "int64",
         "type": "integer"
        },
        {
         "name": "BYA17R",
         "rawType": "int64",
         "type": "integer"
        },
        {
         "name": "BYA18A",
         "rawType": "int64",
         "type": "integer"
        },
        {
         "name": "BYA18B",
         "rawType": "int64",
         "type": "integer"
        },
        {
         "name": "BYA18C",
         "rawType": "int64",
         "type": "integer"
        },
        {
         "name": "BYA18D",
         "rawType": "int64",
         "type": "integer"
        },
        {
         "name": "BYA18E",
         "rawType": "int64",
         "type": "integer"
        },
        {
         "name": "BYA18F",
         "rawType": "int64",
         "type": "integer"
        },
        {
         "name": "BYA19AA",
         "rawType": "int64",
         "type": "integer"
        },
        {
         "name": "BYA19AB",
         "rawType": "int64",
         "type": "integer"
        },
        {
         "name": "BYA19BA",
         "rawType": "int64",
         "type": "integer"
        },
        {
         "name": "BYA19BB",
         "rawType": "int64",
         "type": "integer"
        },
        {
         "name": "BYA19CA",
         "rawType": "int64",
         "type": "integer"
        },
        {
         "name": "BYA19CB",
         "rawType": "int64",
         "type": "integer"
        },
        {
         "name": "BYA19DA",
         "rawType": "int64",
         "type": "integer"
        },
        {
         "name": "BYA19DB",
         "rawType": "int64",
         "type": "integer"
        },
        {
         "name": "BYA19EA",
         "rawType": "int64",
         "type": "integer"
        },
        {
         "name": "BYA19EB",
         "rawType": "int64",
         "type": "integer"
        },
        {
         "name": "BYA19FA",
         "rawType": "int64",
         "type": "integer"
        },
        {
         "name": "BYA19FB",
         "rawType": "int64",
         "type": "integer"
        },
        {
         "name": "BYA19GA",
         "rawType": "int64",
         "type": "integer"
        },
        {
         "name": "BYA19GB",
         "rawType": "int64",
         "type": "integer"
        },
        {
         "name": "BYA19HA",
         "rawType": "int64",
         "type": "integer"
        },
        {
         "name": "BYA19HB",
         "rawType": "int64",
         "type": "integer"
        },
        {
         "name": "BYA19IA",
         "rawType": "int64",
         "type": "integer"
        },
        {
         "name": "BYA19IB",
         "rawType": "int64",
         "type": "integer"
        },
        {
         "name": "BYA19JA",
         "rawType": "int64",
         "type": "integer"
        },
        {
         "name": "BYA19JB",
         "rawType": "int64",
         "type": "integer"
        },
        {
         "name": "BYA19KA",
         "rawType": "int64",
         "type": "integer"
        },
        {
         "name": "BYA19KB",
         "rawType": "int64",
         "type": "integer"
        },
        {
         "name": "BYA19LA",
         "rawType": "int64",
         "type": "integer"
        },
        {
         "name": "BYA19LB",
         "rawType": "int64",
         "type": "integer"
        },
        {
         "name": "BYA19MA",
         "rawType": "int64",
         "type": "integer"
        },
        {
         "name": "BYA19MB",
         "rawType": "int64",
         "type": "integer"
        },
        {
         "name": "BYA19NA",
         "rawType": "int64",
         "type": "integer"
        },
        {
         "name": "BYA19NB",
         "rawType": "int64",
         "type": "integer"
        },
        {
         "name": "BYA19OA",
         "rawType": "int64",
         "type": "integer"
        },
        {
         "name": "BYA19OB",
         "rawType": "int64",
         "type": "integer"
        },
        {
         "name": "BYA19PA",
         "rawType": "int64",
         "type": "integer"
        },
        {
         "name": "BYA19PB",
         "rawType": "int64",
         "type": "integer"
        },
        {
         "name": "BYA19QA",
         "rawType": "int64",
         "type": "integer"
        },
        {
         "name": "BYA19QB",
         "rawType": "int64",
         "type": "integer"
        },
        {
         "name": "BYA19RA",
         "rawType": "int64",
         "type": "integer"
        },
        {
         "name": "BYA19RB",
         "rawType": "int64",
         "type": "integer"
        },
        {
         "name": "BYA19SA",
         "rawType": "int64",
         "type": "integer"
        },
        {
         "name": "BYA19SB",
         "rawType": "int64",
         "type": "integer"
        },
        {
         "name": "BYA19TA",
         "rawType": "int64",
         "type": "integer"
        },
        {
         "name": "BYA19TB",
         "rawType": "int64",
         "type": "integer"
        },
        {
         "name": "BYA20",
         "rawType": "int64",
         "type": "integer"
        },
        {
         "name": "BYA21",
         "rawType": "int64",
         "type": "integer"
        },
        {
         "name": "BYA22A",
         "rawType": "int64",
         "type": "integer"
        },
        {
         "name": "BYA22B",
         "rawType": "int64",
         "type": "integer"
        },
        {
         "name": "BYA23A",
         "rawType": "int64",
         "type": "integer"
        },
        {
         "name": "BYA23B",
         "rawType": "int64",
         "type": "integer"
        },
        {
         "name": "BYA23C",
         "rawType": "int64",
         "type": "integer"
        },
        {
         "name": "BYA23D",
         "rawType": "int64",
         "type": "integer"
        },
        {
         "name": "BYA23E",
         "rawType": "int64",
         "type": "integer"
        },
        {
         "name": "BYA23F",
         "rawType": "int64",
         "type": "integer"
        },
        {
         "name": "BYA23G",
         "rawType": "int64",
         "type": "integer"
        },
        {
         "name": "BYA23H",
         "rawType": "int64",
         "type": "integer"
        },
        {
         "name": "BYA23I",
         "rawType": "int64",
         "type": "integer"
        },
        {
         "name": "BYA23J",
         "rawType": "int64",
         "type": "integer"
        },
        {
         "name": "BYA23K",
         "rawType": "int64",
         "type": "integer"
        },
        {
         "name": "BYA23L",
         "rawType": "int64",
         "type": "integer"
        },
        {
         "name": "BYA24A",
         "rawType": "int64",
         "type": "integer"
        },
        {
         "name": "BYA24B",
         "rawType": "int64",
         "type": "integer"
        },
        {
         "name": "BYA25A",
         "rawType": "int64",
         "type": "integer"
        },
        {
         "name": "BYA25B",
         "rawType": "int64",
         "type": "integer"
        },
        {
         "name": "BYA26A",
         "rawType": "int64",
         "type": "integer"
        },
        {
         "name": "BYA26B",
         "rawType": "int64",
         "type": "integer"
        },
        {
         "name": "BYA27A",
         "rawType": "int64",
         "type": "integer"
        },
        {
         "name": "BYA27B",
         "rawType": "int64",
         "type": "integer"
        },
        {
         "name": "BYA27C",
         "rawType": "int64",
         "type": "integer"
        },
        {
         "name": "BYA28A",
         "rawType": "int64",
         "type": "integer"
        },
        {
         "name": "BYA28B",
         "rawType": "int64",
         "type": "integer"
        },
        {
         "name": "BYA28C",
         "rawType": "int64",
         "type": "integer"
        },
        {
         "name": "BYA28D",
         "rawType": "int64",
         "type": "integer"
        },
        {
         "name": "BYA28E",
         "rawType": "int64",
         "type": "integer"
        },
        {
         "name": "BYA28F",
         "rawType": "int64",
         "type": "integer"
        },
        {
         "name": "BYA28G",
         "rawType": "int64",
         "type": "integer"
        },
        {
         "name": "BYA29",
         "rawType": "int64",
         "type": "integer"
        },
        {
         "name": "BYA30",
         "rawType": "int64",
         "type": "integer"
        },
        {
         "name": "BYA31",
         "rawType": "int64",
         "type": "integer"
        },
        {
         "name": "BYA32",
         "rawType": "int64",
         "type": "integer"
        },
        {
         "name": "BYA33AA",
         "rawType": "int64",
         "type": "integer"
        },
        {
         "name": "BYA33AB",
         "rawType": "int64",
         "type": "integer"
        },
        {
         "name": "BYA33AC",
         "rawType": "int64",
         "type": "integer"
        },
        {
         "name": "BYA33AD",
         "rawType": "int64",
         "type": "integer"
        },
        {
         "name": "BYA33AE",
         "rawType": "int64",
         "type": "integer"
        },
        {
         "name": "BYA33BA",
         "rawType": "int64",
         "type": "integer"
        },
        {
         "name": "BYA33BB",
         "rawType": "int64",
         "type": "integer"
        },
        {
         "name": "BYA33BC",
         "rawType": "int64",
         "type": "integer"
        },
        {
         "name": "BYA33BD",
         "rawType": "int64",
         "type": "integer"
        },
        {
         "name": "BYA33BE",
         "rawType": "int64",
         "type": "integer"
        },
        {
         "name": "BYA33CA",
         "rawType": "int64",
         "type": "integer"
        },
        {
         "name": "BYA33CB",
         "rawType": "int64",
         "type": "integer"
        },
        {
         "name": "BYA33CC",
         "rawType": "int64",
         "type": "integer"
        },
        {
         "name": "BYA33CD",
         "rawType": "int64",
         "type": "integer"
        },
        {
         "name": "BYA33CE",
         "rawType": "int64",
         "type": "integer"
        },
        {
         "name": "BYA33DA",
         "rawType": "int64",
         "type": "integer"
        },
        {
         "name": "BYA33DB",
         "rawType": "int64",
         "type": "integer"
        },
        {
         "name": "BYA33DC",
         "rawType": "int64",
         "type": "integer"
        },
        {
         "name": "BYA33DD",
         "rawType": "int64",
         "type": "integer"
        },
        {
         "name": "BYA33DE",
         "rawType": "int64",
         "type": "integer"
        },
        {
         "name": "BYA33EA",
         "rawType": "int64",
         "type": "integer"
        },
        {
         "name": "BYA33EB",
         "rawType": "int64",
         "type": "integer"
        },
        {
         "name": "BYA33EC",
         "rawType": "int64",
         "type": "integer"
        },
        {
         "name": "BYA33ED",
         "rawType": "int64",
         "type": "integer"
        },
        {
         "name": "BYA33EE",
         "rawType": "int64",
         "type": "integer"
        },
        {
         "name": "BYA33FA",
         "rawType": "int64",
         "type": "integer"
        },
        {
         "name": "BYA33FB",
         "rawType": "int64",
         "type": "integer"
        },
        {
         "name": "BYA33FC",
         "rawType": "int64",
         "type": "integer"
        },
        {
         "name": "BYA33FD",
         "rawType": "int64",
         "type": "integer"
        },
        {
         "name": "BYA33FE",
         "rawType": "int64",
         "type": "integer"
        },
        {
         "name": "BYA34A",
         "rawType": "int64",
         "type": "integer"
        },
        {
         "name": "BYA34B",
         "rawType": "int64",
         "type": "integer"
        },
        {
         "name": "BYA34C",
         "rawType": "int64",
         "type": "integer"
        },
        {
         "name": "BYA35",
         "rawType": "int64",
         "type": "integer"
        },
        {
         "name": "BYA36",
         "rawType": "int64",
         "type": "integer"
        },
        {
         "name": "BYA37A",
         "rawType": "int64",
         "type": "integer"
        },
        {
         "name": "BYA37B",
         "rawType": "int64",
         "type": "integer"
        },
        {
         "name": "BYA37C",
         "rawType": "int64",
         "type": "integer"
        },
        {
         "name": "BYA37D",
         "rawType": "int64",
         "type": "integer"
        },
        {
         "name": "BYA37E",
         "rawType": "int64",
         "type": "integer"
        },
        {
         "name": "BYA37F",
         "rawType": "int64",
         "type": "integer"
        },
        {
         "name": "BYA38A",
         "rawType": "int64",
         "type": "integer"
        },
        {
         "name": "BYA38B",
         "rawType": "int64",
         "type": "integer"
        },
        {
         "name": "BYA38C",
         "rawType": "int64",
         "type": "integer"
        },
        {
         "name": "BYA38D",
         "rawType": "int64",
         "type": "integer"
        },
        {
         "name": "BYA38E",
         "rawType": "int64",
         "type": "integer"
        },
        {
         "name": "BYA38F",
         "rawType": "int64",
         "type": "integer"
        },
        {
         "name": "BYA38G",
         "rawType": "int64",
         "type": "integer"
        },
        {
         "name": "BYA38H",
         "rawType": "int64",
         "type": "integer"
        },
        {
         "name": "BYA38I",
         "rawType": "int64",
         "type": "integer"
        },
        {
         "name": "BYA38J",
         "rawType": "int64",
         "type": "integer"
        },
        {
         "name": "BYA38K",
         "rawType": "int64",
         "type": "integer"
        },
        {
         "name": "BYA38L",
         "rawType": "int64",
         "type": "integer"
        },
        {
         "name": "BYA38M",
         "rawType": "int64",
         "type": "integer"
        },
        {
         "name": "BYA38N",
         "rawType": "int64",
         "type": "integer"
        },
        {
         "name": "BYA38O",
         "rawType": "int64",
         "type": "integer"
        },
        {
         "name": "BYA38P",
         "rawType": "int64",
         "type": "integer"
        },
        {
         "name": "BYA39A",
         "rawType": "int64",
         "type": "integer"
        },
        {
         "name": "BYA39B",
         "rawType": "int64",
         "type": "integer"
        },
        {
         "name": "BYA39C",
         "rawType": "int64",
         "type": "integer"
        },
        {
         "name": "BYA40A",
         "rawType": "int64",
         "type": "integer"
        },
        {
         "name": "BYA40B",
         "rawType": "int64",
         "type": "integer"
        },
        {
         "name": "BYA40C",
         "rawType": "int64",
         "type": "integer"
        },
        {
         "name": "BYA40D",
         "rawType": "int64",
         "type": "integer"
        },
        {
         "name": "BYA40E",
         "rawType": "int64",
         "type": "integer"
        },
        {
         "name": "BYA41A",
         "rawType": "int64",
         "type": "integer"
        },
        {
         "name": "BYA41B",
         "rawType": "int64",
         "type": "integer"
        },
        {
         "name": "BYA41C",
         "rawType": "int64",
         "type": "integer"
        },
        {
         "name": "BYA41D",
         "rawType": "int64",
         "type": "integer"
        },
        {
         "name": "BYA41E",
         "rawType": "int64",
         "type": "integer"
        },
        {
         "name": "BYA41F",
         "rawType": "int64",
         "type": "integer"
        },
        {
         "name": "BYA41G",
         "rawType": "int64",
         "type": "integer"
        },
        {
         "name": "BYA41H",
         "rawType": "int64",
         "type": "integer"
        },
        {
         "name": "BYA41I",
         "rawType": "int64",
         "type": "integer"
        },
        {
         "name": "BYA41J",
         "rawType": "int64",
         "type": "integer"
        },
        {
         "name": "BYA41K",
         "rawType": "int64",
         "type": "integer"
        },
        {
         "name": "BYA41L",
         "rawType": "int64",
         "type": "integer"
        },
        {
         "name": "BYA41M",
         "rawType": "int64",
         "type": "integer"
        },
        {
         "name": "BYA42A",
         "rawType": "int64",
         "type": "integer"
        },
        {
         "name": "BYA42B",
         "rawType": "int64",
         "type": "integer"
        },
        {
         "name": "BYA42C",
         "rawType": "int64",
         "type": "integer"
        },
        {
         "name": "BYA42D",
         "rawType": "int64",
         "type": "integer"
        },
        {
         "name": "BYA42E",
         "rawType": "int64",
         "type": "integer"
        },
        {
         "name": "BYA42F",
         "rawType": "int64",
         "type": "integer"
        },
        {
         "name": "BYA42G",
         "rawType": "int64",
         "type": "integer"
        },
        {
         "name": "BYA42H",
         "rawType": "int64",
         "type": "integer"
        },
        {
         "name": "BYA42I",
         "rawType": "int64",
         "type": "integer"
        },
        {
         "name": "BYA42J",
         "rawType": "int64",
         "type": "integer"
        },
        {
         "name": "BYA42K",
         "rawType": "int64",
         "type": "integer"
        },
        {
         "name": "BYA42L",
         "rawType": "int64",
         "type": "integer"
        },
        {
         "name": "BYA42M",
         "rawType": "int64",
         "type": "integer"
        },
        {
         "name": "BYA42N",
         "rawType": "int64",
         "type": "integer"
        },
        {
         "name": "BYA43A",
         "rawType": "int64",
         "type": "integer"
        },
        {
         "name": "BYA43B",
         "rawType": "int64",
         "type": "integer"
        },
        {
         "name": "BYA43C",
         "rawType": "int64",
         "type": "integer"
        },
        {
         "name": "BYA43D",
         "rawType": "int64",
         "type": "integer"
        },
        {
         "name": "BYA43E",
         "rawType": "int64",
         "type": "integer"
        },
        {
         "name": "BYA44A",
         "rawType": "int64",
         "type": "integer"
        },
        {
         "name": "BYA44B",
         "rawType": "int64",
         "type": "integer"
        },
        {
         "name": "BYA44C",
         "rawType": "int64",
         "type": "integer"
        },
        {
         "name": "BYA44D",
         "rawType": "int64",
         "type": "integer"
        },
        {
         "name": "BYA44E",
         "rawType": "int64",
         "type": "integer"
        },
        {
         "name": "BYA46A",
         "rawType": "int64",
         "type": "integer"
        },
        {
         "name": "BYA46B",
         "rawType": "int64",
         "type": "integer"
        },
        {
         "name": "BYA46C",
         "rawType": "int64",
         "type": "integer"
        },
        {
         "name": "BYA46D",
         "rawType": "int64",
         "type": "integer"
        },
        {
         "name": "BYA46E",
         "rawType": "int64",
         "type": "integer"
        },
        {
         "name": "BYA46F",
         "rawType": "int64",
         "type": "integer"
        },
        {
         "name": "BYA46G",
         "rawType": "int64",
         "type": "integer"
        },
        {
         "name": "BYA46H",
         "rawType": "int64",
         "type": "integer"
        },
        {
         "name": "BYA47A",
         "rawType": "int64",
         "type": "integer"
        },
        {
         "name": "BYA47B",
         "rawType": "int64",
         "type": "integer"
        },
        {
         "name": "BYA47C",
         "rawType": "int64",
         "type": "integer"
        },
        {
         "name": "BYA48A",
         "rawType": "int64",
         "type": "integer"
        },
        {
         "name": "BYA48B",
         "rawType": "int64",
         "type": "integer"
        },
        {
         "name": "BYA48C",
         "rawType": "int64",
         "type": "integer"
        },
        {
         "name": "BYA48D",
         "rawType": "int64",
         "type": "integer"
        },
        {
         "name": "BYA48E",
         "rawType": "int64",
         "type": "integer"
        },
        {
         "name": "BYA48F",
         "rawType": "int64",
         "type": "integer"
        },
        {
         "name": "BYA49A",
         "rawType": "int64",
         "type": "integer"
        },
        {
         "name": "BYA49B",
         "rawType": "int64",
         "type": "integer"
        },
        {
         "name": "BYA49C",
         "rawType": "int64",
         "type": "integer"
        },
        {
         "name": "BYA49D",
         "rawType": "int64",
         "type": "integer"
        },
        {
         "name": "BYA49E",
         "rawType": "int64",
         "type": "integer"
        },
        {
         "name": "BYA49F",
         "rawType": "int64",
         "type": "integer"
        },
        {
         "name": "BYA49G",
         "rawType": "int64",
         "type": "integer"
        },
        {
         "name": "BYA49H",
         "rawType": "int64",
         "type": "integer"
        },
        {
         "name": "BYA49I",
         "rawType": "int64",
         "type": "integer"
        },
        {
         "name": "BYA49J",
         "rawType": "int64",
         "type": "integer"
        },
        {
         "name": "BYA49K",
         "rawType": "int64",
         "type": "integer"
        },
        {
         "name": "BYA49L",
         "rawType": "int64",
         "type": "integer"
        },
        {
         "name": "BYA49M",
         "rawType": "int64",
         "type": "integer"
        },
        {
         "name": "BYA49N",
         "rawType": "int64",
         "type": "integer"
        },
        {
         "name": "BYA49O",
         "rawType": "int64",
         "type": "integer"
        },
        {
         "name": "BYA49P",
         "rawType": "int64",
         "type": "integer"
        },
        {
         "name": "BYA49Q",
         "rawType": "int64",
         "type": "integer"
        },
        {
         "name": "BYA49R",
         "rawType": "int64",
         "type": "integer"
        },
        {
         "name": "BYA49S",
         "rawType": "int64",
         "type": "integer"
        },
        {
         "name": "BYA50A",
         "rawType": "int64",
         "type": "integer"
        },
        {
         "name": "BYA50B",
         "rawType": "int64",
         "type": "integer"
        },
        {
         "name": "BYA50C",
         "rawType": "int64",
         "type": "integer"
        },
        {
         "name": "BYA50D",
         "rawType": "int64",
         "type": "integer"
        },
        {
         "name": "BYA50E",
         "rawType": "int64",
         "type": "integer"
        },
        {
         "name": "BYA50F",
         "rawType": "int64",
         "type": "integer"
        },
        {
         "name": "BYA50G",
         "rawType": "int64",
         "type": "integer"
        },
        {
         "name": "BYA50H",
         "rawType": "int64",
         "type": "integer"
        },
        {
         "name": "BYA50I",
         "rawType": "int64",
         "type": "integer"
        },
        {
         "name": "BYA50J",
         "rawType": "int64",
         "type": "integer"
        },
        {
         "name": "BYA50K",
         "rawType": "int64",
         "type": "integer"
        },
        {
         "name": "BYA51A",
         "rawType": "int64",
         "type": "integer"
        },
        {
         "name": "BYA51B",
         "rawType": "int64",
         "type": "integer"
        },
        {
         "name": "BYA51C",
         "rawType": "int64",
         "type": "integer"
        },
        {
         "name": "BYA51D",
         "rawType": "int64",
         "type": "integer"
        },
        {
         "name": "BYA51E",
         "rawType": "int64",
         "type": "integer"
        },
        {
         "name": "BYA53",
         "rawType": "int64",
         "type": "integer"
        },
        {
         "name": "F1A01",
         "rawType": "int64",
         "type": "integer"
        },
        {
         "name": "F1A02",
         "rawType": "int64",
         "type": "integer"
        },
        {
         "name": "F1A03",
         "rawType": "int64",
         "type": "integer"
        },
        {
         "name": "F1A04AA",
         "rawType": "int64",
         "type": "integer"
        },
        {
         "name": "F1A04AB",
         "rawType": "int64",
         "type": "integer"
        },
        {
         "name": "F1A04BA",
         "rawType": "int64",
         "type": "integer"
        },
        {
         "name": "F1A04BB",
         "rawType": "int64",
         "type": "integer"
        },
        {
         "name": "F1A04CA",
         "rawType": "int64",
         "type": "integer"
        },
        {
         "name": "F1A04CB",
         "rawType": "int64",
         "type": "integer"
        },
        {
         "name": "F1A05A",
         "rawType": "int64",
         "type": "integer"
        },
        {
         "name": "F1A05B",
         "rawType": "int64",
         "type": "integer"
        },
        {
         "name": "F1A05C",
         "rawType": "int64",
         "type": "integer"
        },
        {
         "name": "F1A05D",
         "rawType": "int64",
         "type": "integer"
        },
        {
         "name": "F1A05E",
         "rawType": "int64",
         "type": "integer"
        },
        {
         "name": "F1A05F",
         "rawType": "int64",
         "type": "integer"
        },
        {
         "name": "F1A06A",
         "rawType": "int64",
         "type": "integer"
        },
        {
         "name": "F1A06B",
         "rawType": "int64",
         "type": "integer"
        },
        {
         "name": "F1A06C",
         "rawType": "int64",
         "type": "integer"
        },
        {
         "name": "F1A06D",
         "rawType": "int64",
         "type": "integer"
        },
        {
         "name": "F1A06E",
         "rawType": "int64",
         "type": "integer"
        },
        {
         "name": "F1A06F",
         "rawType": "int64",
         "type": "integer"
        },
        {
         "name": "F1A06G",
         "rawType": "int64",
         "type": "integer"
        },
        {
         "name": "F1A06H",
         "rawType": "int64",
         "type": "integer"
        },
        {
         "name": "F1A06I",
         "rawType": "int64",
         "type": "integer"
        },
        {
         "name": "F1A06J",
         "rawType": "int64",
         "type": "integer"
        },
        {
         "name": "F1A06K",
         "rawType": "int64",
         "type": "integer"
        },
        {
         "name": "F1A07A",
         "rawType": "int64",
         "type": "integer"
        },
        {
         "name": "F1A07B",
         "rawType": "int64",
         "type": "integer"
        },
        {
         "name": "F1A07C",
         "rawType": "int64",
         "type": "integer"
        },
        {
         "name": "F1A07D",
         "rawType": "int64",
         "type": "integer"
        },
        {
         "name": "F1A07E",
         "rawType": "int64",
         "type": "integer"
        },
        {
         "name": "F1A07F",
         "rawType": "int64",
         "type": "integer"
        },
        {
         "name": "F1A07G",
         "rawType": "int64",
         "type": "integer"
        },
        {
         "name": "F1A07H",
         "rawType": "int64",
         "type": "integer"
        },
        {
         "name": "F1A08A",
         "rawType": "int64",
         "type": "integer"
        },
        {
         "name": "F1A08B",
         "rawType": "int64",
         "type": "integer"
        },
        {
         "name": "F1A08C",
         "rawType": "int64",
         "type": "integer"
        },
        {
         "name": "F1A08D",
         "rawType": "int64",
         "type": "integer"
        },
        {
         "name": "F1A08E",
         "rawType": "int64",
         "type": "integer"
        },
        {
         "name": "F1A08F",
         "rawType": "int64",
         "type": "integer"
        },
        {
         "name": "F1A09",
         "rawType": "int64",
         "type": "integer"
        },
        {
         "name": "F1A10",
         "rawType": "int64",
         "type": "integer"
        },
        {
         "name": "F1A11A",
         "rawType": "int64",
         "type": "integer"
        },
        {
         "name": "F1A11B",
         "rawType": "int64",
         "type": "integer"
        },
        {
         "name": "F1A11C",
         "rawType": "int64",
         "type": "integer"
        },
        {
         "name": "F1A11D",
         "rawType": "int64",
         "type": "integer"
        },
        {
         "name": "F1A11E",
         "rawType": "int64",
         "type": "integer"
        },
        {
         "name": "F1A11F",
         "rawType": "int64",
         "type": "integer"
        },
        {
         "name": "F1A11G",
         "rawType": "int64",
         "type": "integer"
        },
        {
         "name": "F1A11H",
         "rawType": "int64",
         "type": "integer"
        },
        {
         "name": "F1A11I",
         "rawType": "int64",
         "type": "integer"
        },
        {
         "name": "F1A12A",
         "rawType": "int64",
         "type": "integer"
        },
        {
         "name": "F1A12B",
         "rawType": "int64",
         "type": "integer"
        },
        {
         "name": "F1A12C",
         "rawType": "int64",
         "type": "integer"
        },
        {
         "name": "F1A12D",
         "rawType": "int64",
         "type": "integer"
        },
        {
         "name": "F1A13A",
         "rawType": "int64",
         "type": "integer"
        },
        {
         "name": "F1A13B",
         "rawType": "int64",
         "type": "integer"
        },
        {
         "name": "F1A13C",
         "rawType": "int64",
         "type": "integer"
        },
        {
         "name": "F1A13D",
         "rawType": "int64",
         "type": "integer"
        },
        {
         "name": "F1A13E",
         "rawType": "int64",
         "type": "integer"
        },
        {
         "name": "F1A13F",
         "rawType": "int64",
         "type": "integer"
        },
        {
         "name": "F1A14",
         "rawType": "int64",
         "type": "integer"
        },
        {
         "name": "F1A15A",
         "rawType": "int64",
         "type": "integer"
        },
        {
         "name": "F1A15B",
         "rawType": "int64",
         "type": "integer"
        },
        {
         "name": "F1A15C",
         "rawType": "int64",
         "type": "integer"
        },
        {
         "name": "F1A15D",
         "rawType": "int64",
         "type": "integer"
        },
        {
         "name": "F1A15E",
         "rawType": "int64",
         "type": "integer"
        },
        {
         "name": "F1A15F",
         "rawType": "int64",
         "type": "integer"
        },
        {
         "name": "F1A16",
         "rawType": "int64",
         "type": "integer"
        },
        {
         "name": "F1A17A",
         "rawType": "int64",
         "type": "integer"
        },
        {
         "name": "F1A17B",
         "rawType": "int64",
         "type": "integer"
        },
        {
         "name": "F1A17C",
         "rawType": "int64",
         "type": "integer"
        },
        {
         "name": "F1A17D",
         "rawType": "int64",
         "type": "integer"
        },
        {
         "name": "F1A17E",
         "rawType": "int64",
         "type": "integer"
        },
        {
         "name": "F1A17F",
         "rawType": "int64",
         "type": "integer"
        },
        {
         "name": "F1A18A",
         "rawType": "int64",
         "type": "integer"
        },
        {
         "name": "F1A18B",
         "rawType": "int64",
         "type": "integer"
        },
        {
         "name": "F1A18C",
         "rawType": "int64",
         "type": "integer"
        },
        {
         "name": "F1A19A",
         "rawType": "int64",
         "type": "integer"
        },
        {
         "name": "F1A19B",
         "rawType": "int64",
         "type": "integer"
        },
        {
         "name": "F1A19C",
         "rawType": "int64",
         "type": "integer"
        },
        {
         "name": "F1A19D",
         "rawType": "int64",
         "type": "integer"
        },
        {
         "name": "F1A20A",
         "rawType": "int64",
         "type": "integer"
        },
        {
         "name": "F1A20B",
         "rawType": "int64",
         "type": "integer"
        },
        {
         "name": "F1A20C",
         "rawType": "int64",
         "type": "integer"
        },
        {
         "name": "F1A20D",
         "rawType": "int64",
         "type": "integer"
        },
        {
         "name": "F1A20E",
         "rawType": "int64",
         "type": "integer"
        },
        {
         "name": "F1A20F",
         "rawType": "int64",
         "type": "integer"
        },
        {
         "name": "F1A20G",
         "rawType": "int64",
         "type": "integer"
        },
        {
         "name": "F1A20H",
         "rawType": "int64",
         "type": "integer"
        },
        {
         "name": "F1A21A",
         "rawType": "int64",
         "type": "integer"
        },
        {
         "name": "F1A21B",
         "rawType": "int64",
         "type": "integer"
        },
        {
         "name": "F1A21C",
         "rawType": "int64",
         "type": "integer"
        },
        {
         "name": "F1A21D",
         "rawType": "int64",
         "type": "integer"
        },
        {
         "name": "F1A21E",
         "rawType": "int64",
         "type": "integer"
        },
        {
         "name": "F1A21F",
         "rawType": "int64",
         "type": "integer"
        },
        {
         "name": "F1A22A",
         "rawType": "int64",
         "type": "integer"
        },
        {
         "name": "F1A22B",
         "rawType": "int64",
         "type": "integer"
        },
        {
         "name": "F1A22C",
         "rawType": "int64",
         "type": "integer"
        },
        {
         "name": "F1A22D",
         "rawType": "int64",
         "type": "integer"
        },
        {
         "name": "F1A22E",
         "rawType": "int64",
         "type": "integer"
        },
        {
         "name": "F1A22F",
         "rawType": "int64",
         "type": "integer"
        },
        {
         "name": "F1A22G",
         "rawType": "int64",
         "type": "integer"
        },
        {
         "name": "F1A23",
         "rawType": "int64",
         "type": "integer"
        },
        {
         "name": "F1A24A",
         "rawType": "int64",
         "type": "integer"
        },
        {
         "name": "F1A24B",
         "rawType": "int64",
         "type": "integer"
        },
        {
         "name": "F1A24C",
         "rawType": "int64",
         "type": "integer"
        },
        {
         "name": "F1A24D",
         "rawType": "int64",
         "type": "integer"
        },
        {
         "name": "F1A24E",
         "rawType": "int64",
         "type": "integer"
        },
        {
         "name": "F1A24F",
         "rawType": "int64",
         "type": "integer"
        },
        {
         "name": "F1A24G",
         "rawType": "int64",
         "type": "integer"
        },
        {
         "name": "F1A25A",
         "rawType": "int64",
         "type": "integer"
        },
        {
         "name": "F1A25B",
         "rawType": "int64",
         "type": "integer"
        },
        {
         "name": "F1A25C",
         "rawType": "int64",
         "type": "integer"
        },
        {
         "name": "F1A25D",
         "rawType": "int64",
         "type": "integer"
        },
        {
         "name": "F1A25E",
         "rawType": "int64",
         "type": "integer"
        },
        {
         "name": "F1A25F",
         "rawType": "int64",
         "type": "integer"
        },
        {
         "name": "F1A25G",
         "rawType": "int64",
         "type": "integer"
        },
        {
         "name": "F1A25H",
         "rawType": "int64",
         "type": "integer"
        },
        {
         "name": "F1A25I",
         "rawType": "int64",
         "type": "integer"
        },
        {
         "name": "F1A26",
         "rawType": "int64",
         "type": "integer"
        },
        {
         "name": "F1A27",
         "rawType": "int64",
         "type": "integer"
        },
        {
         "name": "F1A28",
         "rawType": "int64",
         "type": "integer"
        },
        {
         "name": "F1A29AR",
         "rawType": "int64",
         "type": "integer"
        },
        {
         "name": "F1A29AP",
         "rawType": "int64",
         "type": "integer"
        },
        {
         "name": "F1A29BR",
         "rawType": "int64",
         "type": "integer"
        },
        {
         "name": "F1A29BP",
         "rawType": "int64",
         "type": "integer"
        },
        {
         "name": "F1A29CR",
         "rawType": "int64",
         "type": "integer"
        },
        {
         "name": "F1A29CP",
         "rawType": "int64",
         "type": "integer"
        },
        {
         "name": "F1A29DR",
         "rawType": "int64",
         "type": "integer"
        },
        {
         "name": "F1A29DP",
         "rawType": "int64",
         "type": "integer"
        },
        {
         "name": "F1A29ER",
         "rawType": "int64",
         "type": "integer"
        },
        {
         "name": "F1A29EP",
         "rawType": "int64",
         "type": "integer"
        },
        {
         "name": "F1A30",
         "rawType": "int64",
         "type": "integer"
        },
        {
         "name": "F1A31",
         "rawType": "int64",
         "type": "integer"
        },
        {
         "name": "F1A32A",
         "rawType": "int64",
         "type": "integer"
        },
        {
         "name": "F1A32B",
         "rawType": "int64",
         "type": "integer"
        },
        {
         "name": "F1A33A",
         "rawType": "int64",
         "type": "integer"
        },
        {
         "name": "F1A33B",
         "rawType": "int64",
         "type": "integer"
        },
        {
         "name": "F1A33C",
         "rawType": "int64",
         "type": "integer"
        },
        {
         "name": "F1A33D",
         "rawType": "int64",
         "type": "integer"
        },
        {
         "name": "F1A33E",
         "rawType": "int64",
         "type": "integer"
        },
        {
         "name": "F1A33F",
         "rawType": "int64",
         "type": "integer"
        },
        {
         "name": "F1A34A",
         "rawType": "int64",
         "type": "integer"
        },
        {
         "name": "F1A34B",
         "rawType": "int64",
         "type": "integer"
        },
        {
         "name": "F1A34C",
         "rawType": "int64",
         "type": "integer"
        },
        {
         "name": "F1A34D",
         "rawType": "int64",
         "type": "integer"
        },
        {
         "name": "F1A35",
         "rawType": "int64",
         "type": "integer"
        },
        {
         "name": "F1A37A",
         "rawType": "int64",
         "type": "integer"
        },
        {
         "name": "F1A37B",
         "rawType": "int64",
         "type": "integer"
        },
        {
         "name": "F1A37C",
         "rawType": "int64",
         "type": "integer"
        },
        {
         "name": "F1A37D",
         "rawType": "int64",
         "type": "integer"
        },
        {
         "name": "F1A38A",
         "rawType": "int64",
         "type": "integer"
        },
        {
         "name": "F1A38B",
         "rawType": "int64",
         "type": "integer"
        },
        {
         "name": "F1A38C",
         "rawType": "int64",
         "type": "integer"
        },
        {
         "name": "F1A38D",
         "rawType": "int64",
         "type": "integer"
        },
        {
         "name": "F1A38E",
         "rawType": "int64",
         "type": "integer"
        },
        {
         "name": "F1A38F",
         "rawType": "int64",
         "type": "integer"
        },
        {
         "name": "F1A38G",
         "rawType": "int64",
         "type": "integer"
        },
        {
         "name": "F1A38H",
         "rawType": "int64",
         "type": "integer"
        },
        {
         "name": "F1A38I",
         "rawType": "int64",
         "type": "integer"
        },
        {
         "name": "F1A38J",
         "rawType": "int64",
         "type": "integer"
        },
        {
         "name": "F1A38K",
         "rawType": "int64",
         "type": "integer"
        },
        {
         "name": "F1A38L",
         "rawType": "int64",
         "type": "integer"
        },
        {
         "name": "F1A38M",
         "rawType": "int64",
         "type": "integer"
        },
        {
         "name": "F1A38N",
         "rawType": "int64",
         "type": "integer"
        },
        {
         "name": "F1A39A",
         "rawType": "int64",
         "type": "integer"
        },
        {
         "name": "F1A39B",
         "rawType": "int64",
         "type": "integer"
        },
        {
         "name": "F1A39C",
         "rawType": "int64",
         "type": "integer"
        },
        {
         "name": "F1A40A",
         "rawType": "int64",
         "type": "integer"
        },
        {
         "name": "F1A40B",
         "rawType": "int64",
         "type": "integer"
        },
        {
         "name": "F1A40C",
         "rawType": "int64",
         "type": "integer"
        },
        {
         "name": "F1A40D",
         "rawType": "int64",
         "type": "integer"
        },
        {
         "name": "F1A40E",
         "rawType": "int64",
         "type": "integer"
        },
        {
         "name": "F1A40F",
         "rawType": "int64",
         "type": "integer"
        },
        {
         "name": "F1A40G",
         "rawType": "int64",
         "type": "integer"
        },
        {
         "name": "F1A40H",
         "rawType": "int64",
         "type": "integer"
        },
        {
         "name": "F1A40I",
         "rawType": "int64",
         "type": "integer"
        },
        {
         "name": "F1A40J",
         "rawType": "int64",
         "type": "integer"
        },
        {
         "name": "F1A40K",
         "rawType": "int64",
         "type": "integer"
        },
        {
         "name": "F1A40L",
         "rawType": "int64",
         "type": "integer"
        },
        {
         "name": "F1A40M",
         "rawType": "int64",
         "type": "integer"
        },
        {
         "name": "F1A40N",
         "rawType": "int64",
         "type": "integer"
        },
        {
         "name": "F1A40O",
         "rawType": "int64",
         "type": "integer"
        },
        {
         "name": "F1A40P",
         "rawType": "int64",
         "type": "integer"
        },
        {
         "name": "F1A42",
         "rawType": "int64",
         "type": "integer"
        },
        {
         "name": "BYL01",
         "rawType": "int64",
         "type": "integer"
        },
        {
         "name": "BYL02",
         "rawType": "int64",
         "type": "integer"
        },
        {
         "name": "BYL03A",
         "rawType": "int64",
         "type": "integer"
        },
        {
         "name": "BYL03B",
         "rawType": "int64",
         "type": "integer"
        },
        {
         "name": "BYL03C",
         "rawType": "int64",
         "type": "integer"
        },
        {
         "name": "BYL03D",
         "rawType": "int64",
         "type": "integer"
        },
        {
         "name": "BYL03E",
         "rawType": "int64",
         "type": "integer"
        },
        {
         "name": "BYL03F",
         "rawType": "int64",
         "type": "integer"
        },
        {
         "name": "BYL04",
         "rawType": "int64",
         "type": "integer"
        },
        {
         "name": "BYL05",
         "rawType": "int64",
         "type": "integer"
        },
        {
         "name": "BYL06AA",
         "rawType": "int64",
         "type": "integer"
        },
        {
         "name": "BYL06AB",
         "rawType": "int64",
         "type": "integer"
        },
        {
         "name": "BYL06AC",
         "rawType": "int64",
         "type": "integer"
        },
        {
         "name": "BYL06BA",
         "rawType": "int64",
         "type": "integer"
        },
        {
         "name": "BYL06BB",
         "rawType": "int64",
         "type": "integer"
        },
        {
         "name": "BYL06BC",
         "rawType": "int64",
         "type": "integer"
        },
        {
         "name": "BYL06CA",
         "rawType": "int64",
         "type": "integer"
        },
        {
         "name": "BYL06CB",
         "rawType": "int64",
         "type": "integer"
        },
        {
         "name": "BYL06CC",
         "rawType": "int64",
         "type": "integer"
        },
        {
         "name": "BYL06DA",
         "rawType": "int64",
         "type": "integer"
        },
        {
         "name": "BYL06DB",
         "rawType": "int64",
         "type": "integer"
        },
        {
         "name": "BYL06DC",
         "rawType": "int64",
         "type": "integer"
        },
        {
         "name": "BYL07",
         "rawType": "int64",
         "type": "integer"
        },
        {
         "name": "BYL08A",
         "rawType": "int64",
         "type": "integer"
        },
        {
         "name": "BYL08B",
         "rawType": "int64",
         "type": "integer"
        },
        {
         "name": "BYL09",
         "rawType": "int64",
         "type": "integer"
        },
        {
         "name": "BYL10",
         "rawType": "int64",
         "type": "integer"
        },
        {
         "name": "BYL11AA",
         "rawType": "int64",
         "type": "integer"
        },
        {
         "name": "BYL11AB",
         "rawType": "int64",
         "type": "integer"
        },
        {
         "name": "BYL11AC",
         "rawType": "int64",
         "type": "integer"
        },
        {
         "name": "BYL11AD",
         "rawType": "int64",
         "type": "integer"
        },
        {
         "name": "BYL11AE",
         "rawType": "int64",
         "type": "integer"
        },
        {
         "name": "BYL11BA",
         "rawType": "int64",
         "type": "integer"
        },
        {
         "name": "BYL11BB",
         "rawType": "int64",
         "type": "integer"
        },
        {
         "name": "BYL11BC",
         "rawType": "int64",
         "type": "integer"
        },
        {
         "name": "BYL11BD",
         "rawType": "int64",
         "type": "integer"
        },
        {
         "name": "BYL11BE",
         "rawType": "int64",
         "type": "integer"
        },
        {
         "name": "BYL11CA",
         "rawType": "int64",
         "type": "integer"
        },
        {
         "name": "BYL11CB",
         "rawType": "int64",
         "type": "integer"
        },
        {
         "name": "BYL11CC",
         "rawType": "int64",
         "type": "integer"
        },
        {
         "name": "BYL11CD",
         "rawType": "int64",
         "type": "integer"
        },
        {
         "name": "BYL11CE",
         "rawType": "int64",
         "type": "integer"
        },
        {
         "name": "BYL11DA",
         "rawType": "int64",
         "type": "integer"
        },
        {
         "name": "BYL11DB",
         "rawType": "int64",
         "type": "integer"
        },
        {
         "name": "BYL11DC",
         "rawType": "int64",
         "type": "integer"
        },
        {
         "name": "BYL11DD",
         "rawType": "int64",
         "type": "integer"
        },
        {
         "name": "BYL11DE",
         "rawType": "int64",
         "type": "integer"
        },
        {
         "name": "BYL11EA",
         "rawType": "int64",
         "type": "integer"
        },
        {
         "name": "BYL11EB",
         "rawType": "int64",
         "type": "integer"
        },
        {
         "name": "BYL11EC",
         "rawType": "int64",
         "type": "integer"
        },
        {
         "name": "BYL11ED",
         "rawType": "int64",
         "type": "integer"
        },
        {
         "name": "BYL11EE",
         "rawType": "int64",
         "type": "integer"
        },
        {
         "name": "BYL11FA",
         "rawType": "int64",
         "type": "integer"
        },
        {
         "name": "BYL11FB",
         "rawType": "int64",
         "type": "integer"
        },
        {
         "name": "BYL11FC",
         "rawType": "int64",
         "type": "integer"
        },
        {
         "name": "BYL11FD",
         "rawType": "int64",
         "type": "integer"
        },
        {
         "name": "BYL11FE",
         "rawType": "int64",
         "type": "integer"
        },
        {
         "name": "BYL11GA",
         "rawType": "int64",
         "type": "integer"
        },
        {
         "name": "BYL11GB",
         "rawType": "int64",
         "type": "integer"
        },
        {
         "name": "BYL11GC",
         "rawType": "int64",
         "type": "integer"
        },
        {
         "name": "BYL11GD",
         "rawType": "int64",
         "type": "integer"
        },
        {
         "name": "BYL11GE",
         "rawType": "int64",
         "type": "integer"
        },
        {
         "name": "BYL11HA",
         "rawType": "int64",
         "type": "integer"
        },
        {
         "name": "BYL11HB",
         "rawType": "int64",
         "type": "integer"
        },
        {
         "name": "BYL11HC",
         "rawType": "int64",
         "type": "integer"
        },
        {
         "name": "BYL11HD",
         "rawType": "int64",
         "type": "integer"
        },
        {
         "name": "BYL11HE",
         "rawType": "int64",
         "type": "integer"
        },
        {
         "name": "BYL11IA",
         "rawType": "int64",
         "type": "integer"
        },
        {
         "name": "BYL11IB",
         "rawType": "int64",
         "type": "integer"
        },
        {
         "name": "BYL11IC",
         "rawType": "int64",
         "type": "integer"
        },
        {
         "name": "BYL11ID",
         "rawType": "int64",
         "type": "integer"
        },
        {
         "name": "BYL11IE",
         "rawType": "int64",
         "type": "integer"
        },
        {
         "name": "BYL11JA",
         "rawType": "int64",
         "type": "integer"
        },
        {
         "name": "BYL11JB",
         "rawType": "int64",
         "type": "integer"
        },
        {
         "name": "BYL11JC",
         "rawType": "int64",
         "type": "integer"
        },
        {
         "name": "BYL11JD",
         "rawType": "int64",
         "type": "integer"
        },
        {
         "name": "BYL11JE",
         "rawType": "int64",
         "type": "integer"
        },
        {
         "name": "BYL11KA",
         "rawType": "int64",
         "type": "integer"
        },
        {
         "name": "BYL11KB",
         "rawType": "int64",
         "type": "integer"
        },
        {
         "name": "BYL11KC",
         "rawType": "int64",
         "type": "integer"
        },
        {
         "name": "BYL11KD",
         "rawType": "int64",
         "type": "integer"
        },
        {
         "name": "BYL11KE",
         "rawType": "int64",
         "type": "integer"
        },
        {
         "name": "BYL11LA",
         "rawType": "int64",
         "type": "integer"
        },
        {
         "name": "BYL11LB",
         "rawType": "int64",
         "type": "integer"
        },
        {
         "name": "BYL11LC",
         "rawType": "int64",
         "type": "integer"
        },
        {
         "name": "BYL11LD",
         "rawType": "int64",
         "type": "integer"
        },
        {
         "name": "BYL11LE",
         "rawType": "int64",
         "type": "integer"
        },
        {
         "name": "BYL11MA",
         "rawType": "int64",
         "type": "integer"
        },
        {
         "name": "BYL11MB",
         "rawType": "int64",
         "type": "integer"
        },
        {
         "name": "BYL11MC",
         "rawType": "int64",
         "type": "integer"
        },
        {
         "name": "BYL11MD",
         "rawType": "int64",
         "type": "integer"
        },
        {
         "name": "BYL11ME",
         "rawType": "int64",
         "type": "integer"
        },
        {
         "name": "BYL11NA",
         "rawType": "int64",
         "type": "integer"
        },
        {
         "name": "BYL11NB",
         "rawType": "int64",
         "type": "integer"
        },
        {
         "name": "BYL11NC",
         "rawType": "int64",
         "type": "integer"
        },
        {
         "name": "BYL11ND",
         "rawType": "int64",
         "type": "integer"
        },
        {
         "name": "BYL11NE",
         "rawType": "int64",
         "type": "integer"
        },
        {
         "name": "BYL11OA",
         "rawType": "int64",
         "type": "integer"
        },
        {
         "name": "BYL11OB",
         "rawType": "int64",
         "type": "integer"
        },
        {
         "name": "BYL11OC",
         "rawType": "int64",
         "type": "integer"
        },
        {
         "name": "BYL11OD",
         "rawType": "int64",
         "type": "integer"
        },
        {
         "name": "BYL11OE",
         "rawType": "int64",
         "type": "integer"
        },
        {
         "name": "BYL11PA",
         "rawType": "int64",
         "type": "integer"
        },
        {
         "name": "BYL11PB",
         "rawType": "int64",
         "type": "integer"
        },
        {
         "name": "BYL11PC",
         "rawType": "int64",
         "type": "integer"
        },
        {
         "name": "BYL11PD",
         "rawType": "int64",
         "type": "integer"
        },
        {
         "name": "BYL11PE",
         "rawType": "int64",
         "type": "integer"
        },
        {
         "name": "BYL11QA",
         "rawType": "int64",
         "type": "integer"
        },
        {
         "name": "BYL11QB",
         "rawType": "int64",
         "type": "integer"
        },
        {
         "name": "BYL11QC",
         "rawType": "int64",
         "type": "integer"
        },
        {
         "name": "BYL11QD",
         "rawType": "int64",
         "type": "integer"
        },
        {
         "name": "BYL11QE",
         "rawType": "int64",
         "type": "integer"
        },
        {
         "name": "BYL11RA",
         "rawType": "int64",
         "type": "integer"
        },
        {
         "name": "BYL11RB",
         "rawType": "int64",
         "type": "integer"
        },
        {
         "name": "BYL11RC",
         "rawType": "int64",
         "type": "integer"
        },
        {
         "name": "BYL11RD",
         "rawType": "int64",
         "type": "integer"
        },
        {
         "name": "BYL11RE",
         "rawType": "int64",
         "type": "integer"
        },
        {
         "name": "BYL11SA",
         "rawType": "int64",
         "type": "integer"
        },
        {
         "name": "BYL11SB",
         "rawType": "int64",
         "type": "integer"
        },
        {
         "name": "BYL11SC",
         "rawType": "int64",
         "type": "integer"
        },
        {
         "name": "BYL11SD",
         "rawType": "int64",
         "type": "integer"
        },
        {
         "name": "BYL11SE",
         "rawType": "int64",
         "type": "integer"
        },
        {
         "name": "BYL11TA",
         "rawType": "int64",
         "type": "integer"
        },
        {
         "name": "BYL11TB",
         "rawType": "int64",
         "type": "integer"
        },
        {
         "name": "BYL11TC",
         "rawType": "int64",
         "type": "integer"
        },
        {
         "name": "BYL11TD",
         "rawType": "int64",
         "type": "integer"
        },
        {
         "name": "BYL11TE",
         "rawType": "int64",
         "type": "integer"
        },
        {
         "name": "BYL12A",
         "rawType": "int64",
         "type": "integer"
        },
        {
         "name": "BYL12B",
         "rawType": "int64",
         "type": "integer"
        },
        {
         "name": "BYL12C",
         "rawType": "int64",
         "type": "integer"
        },
        {
         "name": "BYL12D",
         "rawType": "int64",
         "type": "integer"
        },
        {
         "name": "BYL12E",
         "rawType": "int64",
         "type": "integer"
        },
        {
         "name": "BYL12F",
         "rawType": "int64",
         "type": "integer"
        },
        {
         "name": "BYL12G",
         "rawType": "int64",
         "type": "integer"
        },
        {
         "name": "BYL12H",
         "rawType": "int64",
         "type": "integer"
        },
        {
         "name": "BYL12I",
         "rawType": "int64",
         "type": "integer"
        },
        {
         "name": "BYL12J",
         "rawType": "int64",
         "type": "integer"
        },
        {
         "name": "BYL13",
         "rawType": "int64",
         "type": "integer"
        },
        {
         "name": "BYL14A",
         "rawType": "int64",
         "type": "integer"
        },
        {
         "name": "BYL14B",
         "rawType": "int64",
         "type": "integer"
        },
        {
         "name": "BYL14C",
         "rawType": "int64",
         "type": "integer"
        },
        {
         "name": "BYL14D",
         "rawType": "int64",
         "type": "integer"
        },
        {
         "name": "BYL14E",
         "rawType": "int64",
         "type": "integer"
        },
        {
         "name": "BYL14F",
         "rawType": "int64",
         "type": "integer"
        },
        {
         "name": "BYL15",
         "rawType": "int64",
         "type": "integer"
        },
        {
         "name": "BYL16A",
         "rawType": "int64",
         "type": "integer"
        },
        {
         "name": "BYL16B",
         "rawType": "int64",
         "type": "integer"
        },
        {
         "name": "BYL16C",
         "rawType": "int64",
         "type": "integer"
        },
        {
         "name": "BYL16D",
         "rawType": "int64",
         "type": "integer"
        },
        {
         "name": "BYL17",
         "rawType": "int64",
         "type": "integer"
        },
        {
         "name": "BYL18",
         "rawType": "int64",
         "type": "integer"
        },
        {
         "name": "BYL19",
         "rawType": "int64",
         "type": "integer"
        },
        {
         "name": "BYL20",
         "rawType": "int64",
         "type": "integer"
        },
        {
         "name": "BYL21A",
         "rawType": "int64",
         "type": "integer"
        },
        {
         "name": "BYL21B",
         "rawType": "int64",
         "type": "integer"
        },
        {
         "name": "BYL21C",
         "rawType": "int64",
         "type": "integer"
        },
        {
         "name": "BYL21D",
         "rawType": "int64",
         "type": "integer"
        },
        {
         "name": "BYL21E",
         "rawType": "int64",
         "type": "integer"
        },
        {
         "name": "BYL22A",
         "rawType": "int64",
         "type": "integer"
        },
        {
         "name": "BYL22B",
         "rawType": "int64",
         "type": "integer"
        },
        {
         "name": "BYL22C",
         "rawType": "int64",
         "type": "integer"
        },
        {
         "name": "BYL23",
         "rawType": "int64",
         "type": "integer"
        },
        {
         "name": "BYL24",
         "rawType": "int64",
         "type": "integer"
        },
        {
         "name": "BYL25",
         "rawType": "int64",
         "type": "integer"
        },
        {
         "name": "BYL26",
         "rawType": "int64",
         "type": "integer"
        },
        {
         "name": "BYL27A",
         "rawType": "int64",
         "type": "integer"
        },
        {
         "name": "BYL27B",
         "rawType": "int64",
         "type": "integer"
        },
        {
         "name": "BYL27C",
         "rawType": "int64",
         "type": "integer"
        },
        {
         "name": "BYL27D",
         "rawType": "int64",
         "type": "integer"
        },
        {
         "name": "BYL27E",
         "rawType": "int64",
         "type": "integer"
        },
        {
         "name": "BYL27F",
         "rawType": "int64",
         "type": "integer"
        },
        {
         "name": "BYL27G",
         "rawType": "int64",
         "type": "integer"
        },
        {
         "name": "BYL28",
         "rawType": "int64",
         "type": "integer"
        },
        {
         "name": "BYL29",
         "rawType": "int64",
         "type": "integer"
        },
        {
         "name": "BYL30A",
         "rawType": "int64",
         "type": "integer"
        },
        {
         "name": "BYL30B",
         "rawType": "int64",
         "type": "integer"
        },
        {
         "name": "BYL31A",
         "rawType": "int64",
         "type": "integer"
        },
        {
         "name": "BYL31B",
         "rawType": "int64",
         "type": "integer"
        },
        {
         "name": "BYL31C",
         "rawType": "int64",
         "type": "integer"
        },
        {
         "name": "BYL31D",
         "rawType": "int64",
         "type": "integer"
        },
        {
         "name": "BYL32",
         "rawType": "int64",
         "type": "integer"
        },
        {
         "name": "BYL34",
         "rawType": "int64",
         "type": "integer"
        },
        {
         "name": "BYL35",
         "rawType": "int64",
         "type": "integer"
        },
        {
         "name": "BYF01A",
         "rawType": "int64",
         "type": "integer"
        },
        {
         "name": "BYF01B",
         "rawType": "int64",
         "type": "integer"
        },
        {
         "name": "BYF01C",
         "rawType": "int64",
         "type": "integer"
        },
        {
         "name": "BYF01D",
         "rawType": "int64",
         "type": "integer"
        },
        {
         "name": "BYF01E",
         "rawType": "int64",
         "type": "integer"
        },
        {
         "name": "BYF01F",
         "rawType": "int64",
         "type": "integer"
        },
        {
         "name": "BYF01G",
         "rawType": "int64",
         "type": "integer"
        },
        {
         "name": "BYF01H",
         "rawType": "int64",
         "type": "integer"
        },
        {
         "name": "BYF01I",
         "rawType": "int64",
         "type": "integer"
        },
        {
         "name": "BYF01J",
         "rawType": "int64",
         "type": "integer"
        },
        {
         "name": "BYF02",
         "rawType": "int64",
         "type": "integer"
        },
        {
         "name": "BYF03A",
         "rawType": "int64",
         "type": "integer"
        },
        {
         "name": "BYF03B",
         "rawType": "int64",
         "type": "integer"
        },
        {
         "name": "BYF03C",
         "rawType": "int64",
         "type": "integer"
        },
        {
         "name": "BYF03D",
         "rawType": "int64",
         "type": "integer"
        },
        {
         "name": "BYF04A",
         "rawType": "int64",
         "type": "integer"
        },
        {
         "name": "BYF04B",
         "rawType": "int64",
         "type": "integer"
        },
        {
         "name": "BYF04C",
         "rawType": "int64",
         "type": "integer"
        },
        {
         "name": "BYF04D",
         "rawType": "int64",
         "type": "integer"
        },
        {
         "name": "BYF04E",
         "rawType": "int64",
         "type": "integer"
        },
        {
         "name": "BYF04F",
         "rawType": "int64",
         "type": "integer"
        },
        {
         "name": "BYF04G",
         "rawType": "int64",
         "type": "integer"
        },
        {
         "name": "BYF05A",
         "rawType": "int64",
         "type": "integer"
        },
        {
         "name": "BYF05B",
         "rawType": "int64",
         "type": "integer"
        },
        {
         "name": "BYF05C",
         "rawType": "int64",
         "type": "integer"
        },
        {
         "name": "BYF05D",
         "rawType": "int64",
         "type": "integer"
        },
        {
         "name": "BYF05E",
         "rawType": "int64",
         "type": "integer"
        },
        {
         "name": "BYF05F",
         "rawType": "int64",
         "type": "integer"
        },
        {
         "name": "BYF05G",
         "rawType": "int64",
         "type": "integer"
        },
        {
         "name": "BYF05H",
         "rawType": "int64",
         "type": "integer"
        },
        {
         "name": "BYF05I",
         "rawType": "int64",
         "type": "integer"
        },
        {
         "name": "BYF05J",
         "rawType": "int64",
         "type": "integer"
        },
        {
         "name": "BYF05K",
         "rawType": "int64",
         "type": "integer"
        },
        {
         "name": "BYF06A",
         "rawType": "int64",
         "type": "integer"
        },
        {
         "name": "BYF06B",
         "rawType": "int64",
         "type": "integer"
        },
        {
         "name": "BYF06C",
         "rawType": "int64",
         "type": "integer"
        },
        {
         "name": "BYF06D",
         "rawType": "int64",
         "type": "integer"
        },
        {
         "name": "BYF07",
         "rawType": "int64",
         "type": "integer"
        },
        {
         "name": "BYF08A",
         "rawType": "int64",
         "type": "integer"
        },
        {
         "name": "BYF08B",
         "rawType": "int64",
         "type": "integer"
        },
        {
         "name": "BYF08C",
         "rawType": "int64",
         "type": "integer"
        },
        {
         "name": "BYF08D",
         "rawType": "int64",
         "type": "integer"
        },
        {
         "name": "BYF09A",
         "rawType": "int64",
         "type": "integer"
        },
        {
         "name": "BYF09B",
         "rawType": "int64",
         "type": "integer"
        },
        {
         "name": "BYF09C",
         "rawType": "int64",
         "type": "integer"
        },
        {
         "name": "BYF09D",
         "rawType": "int64",
         "type": "integer"
        },
        {
         "name": "BYF09E",
         "rawType": "int64",
         "type": "integer"
        },
        {
         "name": "BYF10A",
         "rawType": "int64",
         "type": "integer"
        },
        {
         "name": "BYF10B",
         "rawType": "int64",
         "type": "integer"
        },
        {
         "name": "BYF10C",
         "rawType": "int64",
         "type": "integer"
        },
        {
         "name": "BYF10D",
         "rawType": "int64",
         "type": "integer"
        },
        {
         "name": "BYF10E",
         "rawType": "int64",
         "type": "integer"
        },
        {
         "name": "BYF10F",
         "rawType": "int64",
         "type": "integer"
        },
        {
         "name": "BYF10G",
         "rawType": "int64",
         "type": "integer"
        },
        {
         "name": "BYF10H",
         "rawType": "int64",
         "type": "integer"
        },
        {
         "name": "BYF10I",
         "rawType": "int64",
         "type": "integer"
        },
        {
         "name": "BYF10J",
         "rawType": "int64",
         "type": "integer"
        },
        {
         "name": "BYF10K",
         "rawType": "int64",
         "type": "integer"
        },
        {
         "name": "BYF10L",
         "rawType": "int64",
         "type": "integer"
        },
        {
         "name": "BYF10M",
         "rawType": "int64",
         "type": "integer"
        }
       ],
       "ref": "935a8e6a-3ed3-4c1d-8608-c0d9ff544163",
       "rows": [
        [
         "0",
         "101101",
         "-5",
         "101",
         "1",
         "1011",
         "101",
         "1",
         "1",
         "-5",
         "103",
         "1101",
         "11101",
         "11101",
         "1",
         "1",
         "178.9513",
         "-5",
         "2",
         "-5",
         "5",
         "-5",
         "-5",
         "-5",
         "-5",
         "-5",
         "-5",
         "-5",
         "-5",
         "-5",
         "1",
         "1",
         "4",
         "-5",
         "198512",
         "-5",
         "7",
         "1",
         "4",
         "3",
         "0",
         "0",
         "2",
         "5",
         "1",
         "5",
         "2",
         "8",
         "6",
         "10",
         "-0.25",
         "2",
         "-0.23",
         "2",
         "0",
         "-3",
         "0",
         "0",
         "2",
         "3",
         "5",
         "7",
         "-1",
         "2",
         "1",
         "-5",
         "200204",
         "3",
         "-5",
         "-5",
         "1",
         "2",
         "1",
         "1",
         "1",
         "0",
         "-5",
         "-5",
         "0",
         "56.21",
         "3",
         "47.84",
         "39.04",
         "41.25",
         "506.99",
         "616.89",
         "39.94",
         "52.11",
         "3",
         "0.998",
         "0.991",
         "0.729",
         "0.029",
         "0.0",
         "-5",
         "-5",
         "-5",
         "-5",
         "-5",
         "-5",
         "-5",
         "39.806",
         "59.53",
         "4",
         "1.0",
         "0.961",
         "0.079",
         "-1.118",
         "-0.633",
         "-1.395",
         "-1.617",
         "-1.341",
         "-0.673",
         "1.191",
         "-5",
         "-5",
         "-5",
         "-5",
         "-5",
         "-5",
         "-5",
         "-5",
         "4",
         "-5",
         "4",
         "-5",
         "4",
         "0",
         "1",
         "2",
         "2",
         "2",
         "2",
         "2",
         "2",
         "2",
         "2",
         "0",
         "0",
         "1",
         "7",
         "99",
         "1",
         "6",
         "-5",
         "3",
         "3",
         "-5",
         "7",
         "3",
         "0.069",
         "-0.51",
         "-5",
         "6",
         "-9",
         "1",
         "1",
         "1",
         "1",
         "1",
         "3",
         "5",
         "-0.269",
         "-1.639",
         "-0.051",
         "-5",
         "-5",
         "-5",
         "-5",
         "0",
         "-5",
         "-5",
         "0",
         "0",
         "0",
         "0",
         "0",
         "0",
         "0",
         "0",
         "0",
         "0",
         "0",
         "0",
         "0",
         "152.9769",
         "155.6312",
         "-5",
         "-5",
         "2",
         "-5",
         "5",
         "-5",
         "-5",
         "-5",
         "-5",
         "-5",
         "-5",
         "-5",
         "-5",
         "-5",
         "1",
         "1",
         "-5",
         "198512",
         "3",
         "5",
         "1",
         "5",
         "8",
         "6",
         "-5",
         "-5",
         "-0.25",
         "2",
         "-5",
         "-5",
         "-0.23",
         "2",
         "3",
         "1",
         "15",
         "7",
         "-5",
         "1",
         "1",
         "1",
         "1",
         "1",
         "1",
         "0",
         "0",
         "0",
         "0",
         "0",
         "0",
         "-5",
         "-5",
         "0",
         "5",
         "-5",
         "-5",
         "-5",
         "-5",
         "-5",
         "-5",
         "-5",
         "12",
         "44.91",
         "48.11",
         "49.6",
         "-5",
         "-5",
         "-5",
         "-5",
         "-5",
         "-5",
         "2",
         "50.77",
         "1.0",
         "1.0",
         "0.95",
         "0.07",
         "0.0",
         "3.2",
         "-5",
         "-5",
         "200404",
         "-5",
         "5",
         "2",
         "1",
         "6",
         "3",
         "0",
         "-9",
         "-0.258",
         "0",
         "0",
         "-5",
         "-5",
         "0",
         "0",
         "0",
         "0",
         "0",
         "0",
         "0",
         "0",
         "-5",
         "0",
         "4",
         "284.6529",
         "31",
         "-5",
         "-5",
         "-5",
         "-5",
         "-5",
         "-5",
         "-5",
         "-5",
         "-5",
         "-5",
         "-5",
         "-5",
         "-5",
         "-5",
         "-5",
         "-5",
         "-5",
         "-5",
         "-5",
         "-5",
         "-5",
         "-5",
         "-5",
         "-5",
         "-5",
         "-5",
         "-5",
         "-5",
         "-5",
         "-5",
         "-5",
         "-5",
         "-5",
         "-5",
         "-5",
         "-5",
         "-5",
         "-5",
         "-5",
         "-5",
         "-5",
         "-5",
         "-5",
         "-5",
         "-5",
         "-5",
         "-5",
         "-5",
         "-5",
         "-5",
         "-5",
         "-5",
         "-5",
         "-5",
         "-5",
         "-5",
         "-5",
         "-5",
         "-5",
         "-5",
         "-5",
         "-5",
         "-5",
         "-5",
         "-5",
         "-5",
         "-5",
         "-5",
         "-5",
         "-5",
         "-5",
         "-5",
         "-5",
         "-5",
         "-5",
         "-5",
         "-5",
         "-5",
         "-5",
         "-5",
         "-5",
         "-5",
         "-5",
         "-5",
         "-5",
         "-5",
         "-5",
         "-5",
         "-5",
         "-5",
         "-5",
         "-5",
         "-5",
         "-5",
         "-5",
         "-5",
         "-5",
         "-5",
         "-5",
         "-5",
         "-5",
         "4",
         "-5",
         "-5",
         "-5",
         "-5",
         "-5",
         "-5",
         "-5",
         "-5",
         "-5",
         "-5",
         "-5",
         "-5",
         "-5",
         "-5",
         "-5",
         "-5",
         "-5",
         "-5",
         "-5",
         "-5",
         "-5",
         "-5",
         "-5",
         "-5",
         "-5",
         "-5",
         "-5",
         "-5",
         "-5",
         "-5",
         "-5",
         "-5",
         "-5",
         "-5",
         "-5",
         "-5",
         "-5",
         "-5",
         "-5",
         "-5",
         "-5",
         "-5",
         "-5",
         "-5",
         "-5",
         "-5",
         "-5",
         "-5",
         "-5",
         "-5",
         "-5",
         "-5",
         "-5",
         "-5",
         "-5",
         "-5",
         "-5",
         "-5",
         "-5",
         "-5",
         "-5",
         "-5",
         "-5",
         "-5",
         "-5",
         "2",
         "2",
         "-5",
         "-5",
         "-5",
         "-5",
         "-5",
         "-5",
         "-5",
         "-5",
         "-5",
         "-5",
         "-5",
         "-5",
         "-5",
         "-5",
         "-5",
         "-5",
         "-5",
         "-5",
         "-5",
         "-5",
         "-5",
         "-5",
         "-5",
         "-5",
         "-5",
         "-5",
         "-5",
         "-5",
         "-5",
         "-5",
         "-5",
         "-5",
         "-5",
         "-5",
         "-5",
         "-5",
         "-5",
         "-5",
         "-5",
         "-5",
         "-5",
         "-5",
         "-5",
         "-5",
         "-5",
         "-5",
         "-5",
         "-5",
         "-5",
         "-5",
         "-5",
         "-5",
         "-5",
         "-5",
         "-5",
         "-5",
         "-5",
         "-5",
         "-5",
         "-5",
         "-5",
         "-5",
         "-5",
         "-5",
         "-5",
         "-5",
         "-5",
         "-5",
         "-5",
         "-5",
         "-5",
         "-5",
         "-5",
         "-5",
         "-5",
         "-5",
         "-5",
         "-5",
         "-5",
         "-5",
         "-5",
         "-5",
         "-5",
         "-5",
         "-5",
         "-5",
         "-5",
         "-5",
         "-5",
         "-5",
         "-5",
         "-5",
         "0.0",
         "0.0",
         "0.0",
         "0.0",
         "-5",
         "0",
         "-8",
         "-8",
         "-5",
         "0",
         "0",
         "0",
         "12",
         "-5",
         "1",
         "1",
         "2",
         "-8",
         "-8",
         "2004",
         "-3",
         "-5",
         "-5",
         "-5",
         "-5",
         "0",
         "-8",
         "-8",
         "-3",
         "-5",
         "-5",
         "-5",
         "-5",
         "-5",
         "-3",
         "-3",
         "-3",
         "-3",
         "-3",
         "-3",
         "-3",
         "-3",
         "-3",
         "-3",
         "-3",
         "-3",
         "-3",
         "-3",
         "-3",
         "-3",
         "-3",
         "-3",
         "-3",
         "-3",
         "0",
         "-8",
         "-8",
         "-8",
         "-8",
         "-8",
         "-8",
         "-8",
         "-8",
         "-8",
         "-5",
         "-5",
         "-5",
         "-5",
         "-5",
         "-8",
         "-8",
         "-8",
         "-8",
         "-8",
         "-5",
         "-8",
         "-8",
         "-8",
         "-8",
         "-8",
         "-8",
         "-8",
         "-8",
         "-8",
         "-8",
         "-8",
         "-8",
         "-5",
         "-8",
         "-8",
         "-8",
         "-8",
         "-8",
         "-5",
         "-8",
         "-8",
         "-8",
         "-8",
         "-8",
         "-8",
         "-8",
         "-8",
         "-8",
         "-8",
         "-8",
         "-8",
         "-8",
         "-8",
         "-8",
         "-8",
         "-8",
         "-8",
         "-8",
         "-8",
         "-8",
         "-8",
         "-8",
         "-8",
         "-8",
         "-5",
         "-5",
         "-5",
         "-5",
         "-5",
         "-5",
         "-5",
         "-8",
         "-8",
         "-8",
         "-8",
         "-8",
         "-8",
         "-8",
         "-8",
         "-9",
         "-5",
         "-5",
         "-8",
         "-9",
         "-8",
         "-8",
         "-5",
         "-5",
         "-5",
         "-8",
         "-8",
         "-8",
         "-5",
         "-5",
         "-5",
         "-8",
         "-8",
         "-8",
         "-8",
         "-8",
         "-8",
         "-8",
         "-8",
         "-8",
         "-8",
         "-8",
         "-8",
         "-8",
         "-8",
         "-8",
         "-8",
         "-8",
         "-8",
         "-8",
         "-8",
         "-8",
         "-8",
         "-8",
         "-8",
         "-8",
         "-8",
         "-8",
         "-8",
         "-8",
         "-8",
         "-8",
         "-8",
         "-8",
         "-8",
         "-5",
         "-5",
         "-5",
         "-5",
         "-5",
         "-5",
         "-5",
         "-5",
         "-5",
         "-5",
         "-5",
         "-5",
         "-5",
         "-5",
         "-5",
         "-5",
         "-5",
         "-5",
         "-5",
         "-5",
         "-5",
         "-5",
         "-5",
         "-5",
         "-5",
         "-5",
         "-5",
         "-5",
         "-5",
         "-5",
         "-5",
         "-5",
         "-5",
         "-5",
         "-5",
         "-5",
         "-5",
         "-5",
         "-5",
         "-5",
         "-5",
         "-5",
         "-5",
         "-5",
         "-5",
         "-5",
         "-5",
         "-5",
         "-5",
         "-5",
         "-5",
         "-5",
         "-5",
         "-5",
         "-5",
         "-5",
         "-5",
         "-5",
         "-5",
         "-8",
         "-8",
         "-8",
         "-8",
         "-5",
         "-5",
         "-5",
         "-8",
         "-8",
         "-8",
         "-8",
         "-8",
         "-5",
         "-5",
         "-5",
         "-5",
         "-5",
         "-5",
         "-5",
         "-5",
         "-5",
         "-5",
         "-5",
         "-5",
         "-5",
         "-5",
         "-5",
         "-5",
         "-5",
         "-5",
         "-5",
         "-5",
         "-5",
         "-5",
         "-5",
         "-5",
         "-5",
         "-5",
         "-5",
         "-5",
         "-5",
         "-5",
         "-5",
         "-5",
         "-5",
         "-5",
         "-5",
         "-5",
         "-5",
         "-5",
         "-5",
         "-5",
         "185.9702",
         "185.478",
         "202.6278",
         "193.4769",
         "196.375",
         "213.131",
         "0",
         "6",
         "-5",
         "1",
         "2004",
         "0",
         "0",
         "-3",
         "-3",
         "-3",
         "-3",
         "-3",
         "-3",
         "-3",
         "-5",
         "3",
         "1",
         "5",
         "2005",
         "2",
         "1",
         "4",
         "-5",
         "1",
         "4",
         "2",
         "1",
         "3",
         "3",
         "-5",
         "2010",
         "0",
         "-3",
         "18",
         "-3",
         "3",
         "1",
         "2",
         "0",
         "2",
         "1",
         "0",
         "-9",
         "-9",
         "-9",
         "-5",
         "1",
         "1",
         "0",
         "1",
         "1",
         "0",
         "-9",
         "1",
         "-9",
         "-5",
         "3",
         "3",
         "2004",
         "-5",
         "-5",
         "5",
         "1",
         "2",
         "5",
         "-9",
         "1",
         "4",
         "-9",
         "43",
         "-5",
         "1",
         "-5",
         "-5",
         "4000",
         "-5",
         "60000",
         "-5",
         "-5",
         "-5",
         "0",
         "-3",
         "-3",
         "-99.0",
         "-99.0",
         "-99.0",
         "17",
         "-5",
         "9",
         "5",
         "5",
         "4",
         "4",
         "-0.69",
         "1",
         "-9",
         "1",
         "-9",
         "-5",
         "-3",
         "0",
         "-5",
         "-9",
         "-9",
         "36",
         "36",
         "-9",
         "-9",
         "1",
         "-5",
         "0",
         "-5",
         "0",
         "0",
         "0",
         "1",
         "0",
         "1",
         "1",
         "1",
         "1",
         "-5",
         "-5",
         "-5",
         "193.4769",
         "196.375",
         "213.131",
         "2",
         "-5",
         "-5",
         "-5",
         "-5",
         "-5",
         "-5",
         "-5",
         "2400",
         "2800",
         "0",
         "2500",
         "0",
         "0",
         "0",
         "0",
         "0",
         "-5",
         "-5",
         "-5",
         "-5",
         "-5",
         "-5",
         "-5",
         "-5",
         "-5",
         "-5",
         "-5",
         "-5",
         "0",
         "-5",
         "-5",
         "-5",
         "-5",
         "-5",
         "-5",
         "-5",
         "-5",
         "-5",
         "0",
         "-5",
         "-5",
         "-5",
         "-5",
         "-5",
         "-5",
         "-5",
         "-5",
         "-5",
         "1",
         "-5",
         "-5",
         "-5",
         "-5",
         "-5",
         "-5",
         "-5",
         "-5",
         "-5",
         "-5",
         "-5",
         "-5",
         "-5",
         "-5",
         "-5",
         "-5",
         "-5",
         "-5",
         "-5",
         "-5",
         "-5",
         "-5",
         "-5",
         "-5",
         "-5",
         "-5",
         "-5",
         "212.9278",
         "216.5311",
         "225.9773",
         "218.8821",
         "227.887",
         "214.5541",
         "221.3666",
         "225.4814",
         "1",
         "2",
         "3",
         "3",
         "2",
         "-5",
         "5",
         "-9",
         "-9",
         "-5",
         "-5",
         "4",
         "5",
         "2005",
         "18",
         "2010",
         "1",
         "1",
         "0",
         "-5",
         "0",
         "-3",
         "-3",
         "6",
         "-5",
         "-5",
         "-3",
         "-3",
         "-3",
         "-3",
         "-3",
         "-5",
         "-3",
         "-3",
         "-5",
         "-3",
         "-3",
         "-5",
         "-3",
         "-3",
         "-5",
         "-3",
         "-3",
         "-5",
         "-3",
         "-3",
         "-5",
         "-3",
         "-3",
         "-3",
         "-3",
         "-3",
         "-3",
         "-3",
         "-3",
         "-3",
         "-5",
         "-5",
         "-5",
         "-5",
         "-5",
         "-5",
         "0",
         "0",
         "0",
         "0",
         "0",
         "0",
         "0",
         "56",
         "44",
         "-5",
         "1.25",
         "-9.0",
         "0.0",
         "-3.0",
         "0",
         "0",
         "-5",
         "-9.0",
         "-9.0",
         "-5",
         "0",
         "-3.0",
         "0",
         "-5",
         "4",
         "4.0",
         "2",
         "-5",
         "0",
         "-3.0",
         "0",
         "-5",
         "0",
         "-3.0",
         "0",
         "-5",
         "3",
         "1.0",
         "1",
         "-5",
         "0",
         "-3.0",
         "0",
         "-5",
         "0",
         "-3.0",
         "0",
         "-5",
         "4",
         "4.0",
         "2",
         "-5",
         "0",
         "-3.0",
         "-5",
         "-5",
         "0",
         "-3.0",
         "0",
         "-5",
         "-5",
         "0.75",
         "3",
         "-5",
         "-5",
         "1.0",
         "7",
         "-5",
         "-5",
         "-3.0",
         "0",
         "-5",
         "-5",
         "1.5",
         "5",
         "-5",
         "-5",
         "1.0",
         "7",
         "-1",
         "-5",
         "55",
         "-5",
         "11",
         "-5",
         "-9",
         "-5",
         "-1",
         "00",
         "00",
         "-9",
         "-5",
         "-8",
         "-8",
         "1A",
         "00",
         "-3",
         "-3",
         "-3",
         "-3",
         "-5",
         "-5",
         "-5",
         "-5",
         "-5",
         "2",
         "1",
         "-5",
         "-5",
         "-5",
         "-5",
         "-5",
         "-5",
         "-5",
         "2",
         "3",
         "1",
         "2",
         "2",
         "2",
         "3",
         "1",
         "3",
         "3",
         "3",
         "2",
         "2",
         "1",
         "2",
         "3",
         "4",
         "3",
         "2",
         "1",
         "1",
         "1",
         "1",
         "1",
         "1",
         "1",
         "1",
         "1",
         "0",
         "0",
         "0",
         "0",
         "0",
         "3",
         "3",
         "3",
         "1",
         "1",
         "1",
         "1",
         "2",
         "1",
         "-5",
         "-5",
         "-5",
         "-5",
         "-5",
         "10",
         "2",
         "1",
         "0",
         "1",
         "1",
         "-5",
         "-5",
         "-5",
         "-5",
         "-5",
         "10",
         "2",
         "0",
         "0",
         "2",
         "1",
         "-5",
         "-5",
         "-5",
         "-5",
         "-5",
         "12",
         "3",
         "1",
         "1",
         "2",
         "2",
         "2",
         "3",
         "2",
         "2",
         "3",
         "3",
         "2",
         "2",
         "2",
         "2",
         "2",
         "2",
         "1",
         "2",
         "5",
         "1",
         "1",
         "1",
         "5",
         "0",
         "-3",
         "-3",
         "-3",
         "-3",
         "-3",
         "-3",
         "-3",
         "-3",
         "1",
         "1",
         "0",
         "0",
         "0",
         "0",
         "1",
         "1",
         "0",
         "1",
         "0",
         "0",
         "0",
         "0",
         "1",
         "1",
         "0",
         "0",
         "0",
         "0",
         "0",
         "1",
         "0",
         "0",
         "0",
         "0",
         "0",
         "1",
         "1",
         "6",
         "0",
         "2",
         "0",
         "4",
         "3",
         "2",
         "3",
         "2",
         "-9",
         "3",
         "3",
         "3",
         "-9",
         "3",
         "3",
         "2",
         "0",
         "1",
         "0",
         "0",
         "0",
         "0",
         "1",
         "0",
         "0",
         "0",
         "0",
         "1",
         "0",
         "0",
         "0",
         "0",
         "1",
         "0",
         "0",
         "0",
         "0",
         "1",
         "0",
         "0",
         "0",
         "0",
         "1",
         "0",
         "0",
         "0",
         "0",
         "1",
         "0",
         "0",
         "0",
         "0",
         "1",
         "0",
         "0",
         "0",
         "0",
         "0",
         "1",
         "0",
         "0",
         "0",
         "0",
         "0",
         "0",
         "0",
         "2",
         "4",
         "4",
         "1",
         "4",
         "4",
         "3",
         "1",
         "1",
         "4",
         "2",
         "4",
         "1",
         "3",
         "4",
         "3",
         "2",
         "2",
         "3",
         "6",
         "6",
         "0",
         "1",
         "0",
         "-3",
         "-3",
         "-3",
         "-3",
         "-3",
         "-3",
         "-3",
         "-3",
         "-3",
         "-3",
         "-3",
         "-3",
         "-3",
         "3",
         "1",
         "1",
         "3",
         "3",
         "3",
         "2",
         "1",
         "3",
         "2",
         "1",
         "3",
         "3",
         "3",
         "1",
         "5",
         "1",
         "4",
         "3",
         "3",
         "3",
         "1",
         "0",
         "0",
         "0",
         "0",
         "0",
         "0",
         "1",
         "0",
         "0",
         "0",
         "0",
         "-3",
         "-3",
         "-3",
         "-3",
         "-3",
         "-3",
         "-3",
         "-3",
         "-3",
         "-5",
         "-5",
         "-9",
         "3",
         "4",
         "6",
         "3",
         "3",
         "1",
         "1",
         "-3",
         "1",
         "-5",
         "-3",
         "-3",
         "-3",
         "-3",
         "-3",
         "-3",
         "-3",
         "-3",
         "0",
         "0",
         "0",
         "0",
         "0",
         "0",
         "1",
         "2",
         "-3",
         "200203",
         "27",
         "17",
         "1",
         "3",
         "3",
         "-5",
         "-5",
         "-5",
         "-5",
         "2",
         "4",
         "0",
         "0",
         "1",
         "1",
         "1",
         "0",
         "1",
         "0",
         "1",
         "0",
         "4",
         "3",
         "3",
         "3",
         "3",
         "2",
         "3",
         "2",
         "2",
         "2",
         "3",
         "1",
         "1",
         "2",
         "2",
         "2",
         "3",
         "3",
         "3",
         "3",
         "2",
         "3",
         "3",
         "2",
         "2",
         "1",
         "2",
         "1",
         "1",
         "1",
         "2",
         "1",
         "3",
         "1",
         "3",
         "2",
         "2",
         "3",
         "2",
         "2",
         "1",
         "2",
         "2",
         "2",
         "1",
         "2",
         "2",
         "2",
         "3",
         "2",
         "2",
         "3",
         "2",
         "2",
         "1",
         "3",
         "3",
         "3",
         "3",
         "2",
         "1",
         "4",
         "1",
         "1",
         "1",
         "0",
         "-3",
         "-3",
         "-3",
         "-3",
         "-3",
         "3",
         "1",
         "1",
         "1",
         "3",
         "1",
         "3",
         "3",
         "1",
         "1",
         "1",
         "1",
         "1",
         "3",
         "3",
         "3",
         "1",
         "1",
         "1",
         "1",
         "1",
         "3",
         "2",
         "2",
         "2",
         "3",
         "5",
         "5",
         "2",
         "3",
         "3",
         "1",
         "1",
         "2",
         "2",
         "1",
         "1",
         "3",
         "2",
         "2",
         "2",
         "3",
         "3",
         "3",
         "3",
         "3",
         "3",
         "3",
         "0",
         "-3",
         "-3",
         "-3",
         "-3",
         "-3",
         "-3",
         "-3",
         "-3",
         "-3",
         "-3",
         "-3",
         "-3",
         "-3",
         "-3",
         "-3",
         "-3",
         "-3",
         "-3",
         "1",
         "1",
         "1",
         "1",
         "1",
         "1",
         "1",
         "1",
         "1",
         "1",
         "1",
         "1",
         "1",
         "1",
         "2",
         "1",
         "1",
         "1",
         "4",
         "1",
         "4",
         "1",
         "1",
         "1",
         "1",
         "2",
         "1",
         "1",
         "1",
         "1",
         "1",
         "1",
         "1",
         "1",
         "1",
         "3",
         "1",
         "1",
         "1",
         "4",
         "5",
         "1",
         "1",
         "1",
         "1",
         "3",
         "2",
         "2",
         "2",
         "2",
         "2",
         "1",
         "1",
         "1",
         "3",
         "1",
         "1",
         "4",
         "1",
         "1",
         "1",
         "1",
         "1",
         "3",
         "2",
         "1",
         "3",
         "3",
         "2",
         "3",
         "1",
         "3",
         "2",
         "2",
         "2",
         "3",
         "3",
         "3",
         "2",
         "2",
         "3",
         "0",
         "-9",
         "-9",
         "-9",
         "-9",
         "1",
         "3",
         "7",
         "3",
         "4",
         "4",
         "6",
         "6",
         "6",
         "6",
         "6",
         "3",
         "-3",
         "-3",
         "-3",
         "-3",
         "-3",
         "-3",
         "-3",
         "-3",
         "-3",
         "-3",
         "-3",
         "-3",
         "5",
         "-3",
         "-3",
         "-3",
         "-3",
         "-3",
         "-3",
         "-3",
         "-3",
         "-3",
         "-3",
         "-3",
         "-3",
         "-3",
         "-3",
         "-3",
         "-3",
         "-3",
         "-3",
         "-3",
         "-3",
         "-3",
         "-3",
         "-3",
         "-3",
         "-3",
         "-3",
         "-3",
         "-3",
         "-3",
         "-3",
         "-3",
         "-3",
         "-3",
         "-3",
         "2",
         "-3",
         "-3",
         "-3",
         "-3",
         "-3",
         "-3",
         "-5",
         "-5",
         "2",
         "1",
         "7",
         "5",
         "0",
         "-3",
         "-3",
         "-3",
         "-3",
         "-3",
         "-3",
         "-3",
         "-3",
         "1",
         "1",
         "1",
         "2",
         "3",
         "3",
         "1",
         "1",
         "3",
         "1",
         "2",
         "3",
         "3",
         "4",
         "-8",
         "-8",
         "-8",
         "-8",
         "-8",
         "-8",
         "-8",
         "-8",
         "-8",
         "-8",
         "-8",
         "-8",
         "-8",
         "-8",
         "-8",
         "-8",
         "-8",
         "-8",
         "-8",
         "-8",
         "-8",
         "-8",
         "-8",
         "-8",
         "-8",
         "-8",
         "-8",
         "-8",
         "-8",
         "-8",
         "-8",
         "-8",
         "-8",
         "-8",
         "-8",
         "-8",
         "-8",
         "-8",
         "-8",
         "-8",
         "-8",
         "-8",
         "-8",
         "-8",
         "-8",
         "-8",
         "-8",
         "-8",
         "-8",
         "-8",
         "-8",
         "-8",
         "-8",
         "-8",
         "-8",
         "-8",
         "-8",
         "-8",
         "-8",
         "-8",
         "-8",
         "-8",
         "-8",
         "-8",
         "-8",
         "-8",
         "-8",
         "-8",
         "-8",
         "-8",
         "-8",
         "-8",
         "-8",
         "-8",
         "-8",
         "-8",
         "-8",
         "-8",
         "-8",
         "-8",
         "-8",
         "-8",
         "-8",
         "-8",
         "-8",
         "-8",
         "-8",
         "-8",
         "-8",
         "-8",
         "-8",
         "-8",
         "-8",
         "-8",
         "-8",
         "-8",
         "-8",
         "-8",
         "-8",
         "-8",
         "-8",
         "-8",
         "-8",
         "-8",
         "-8",
         "-8",
         "-8",
         "-8",
         "-8",
         "-8",
         "-5",
         "-5",
         "-8",
         "-8",
         "-8",
         "-8",
         "-8",
         "-8",
         "-5",
         "-8",
         "-8",
         "-8",
         "-8",
         "-8",
         "-8",
         "-8",
         "-8",
         "-8",
         "-8",
         "-8",
         "-8",
         "-8",
         "-8",
         "-8",
         "-8",
         "-8",
         "-8",
         "-8",
         "-8",
         "-8",
         "-8",
         "-8",
         "-8",
         "-8",
         "-8",
         "-8",
         "-8",
         "-8",
         "-8",
         "-8",
         "-8",
         "-8",
         "-8",
         "-8",
         "-8",
         "-8",
         "-8",
         "-8",
         "-8",
         "-8",
         "-8",
         "-8",
         "-8",
         "-8",
         "-8",
         "-8",
         "-8",
         "-8",
         "-8",
         "-8",
         "-5",
         "-8",
         "-8",
         "-8",
         "-8",
         "-8",
         "-5",
         "-8",
         "-8",
         "-8",
         "-8",
         "-8",
         "-8",
         "-8",
         "-8",
         "-8",
         "-8",
         "-8",
         "-8",
         "-5",
         "-5",
         "-8",
         "-8",
         "-8",
         "-8",
         "-8",
         "-8",
         "-8",
         "-8",
         "-8",
         "-8",
         "-8",
         "-8",
         "-8",
         "-8",
         "-8",
         "-8",
         "-8",
         "-8",
         "-8",
         "-8",
         "-8",
         "-8",
         "-8",
         "-8",
         "-8",
         "-8",
         "-8",
         "-8",
         "-8",
         "-8",
         "-8",
         "-8",
         "-8",
         "-8",
         "-5",
         "-8",
         "-8",
         "-8",
         "-8",
         "-8",
         "-8",
         "-5",
         "-8",
         "-8",
         "-8",
         "-8",
         "-8",
         "-8",
         "-8",
         "-8",
         "-8",
         "-8",
         "-5",
         "-8",
         "-8",
         "-8",
         "-8",
         "-8",
         "2",
         "1",
         "-5",
         "-5",
         "-5",
         "-5",
         "-5",
         "-5",
         "-5",
         "1",
         "-5",
         "-3",
         "-3",
         "-3",
         "-3",
         "-3",
         "-3",
         "-3",
         "-3",
         "-3",
         "-3",
         "-3",
         "-3",
         "-3",
         "-3",
         "-3",
         "-3",
         "-3",
         "-3",
         "-3",
         "-3",
         "-3",
         "-3",
         "-5",
         "-5",
         "-5",
         "-5",
         "2",
         "4",
         "0",
         "0",
         "1",
         "1",
         "1",
         "0",
         "1",
         "0",
         "1",
         "0",
         "-5",
         "-5",
         "-5",
         "-5",
         "-5",
         "-5",
         "-5",
         "-5",
         "-5",
         "-5",
         "-5",
         "-5",
         "-5",
         "-5",
         "-5",
         "-5",
         "-5",
         "-5",
         "-5",
         "-5",
         "-5",
         "-5",
         "-5",
         "-5",
         "-5",
         "-5",
         "-5",
         "-5",
         "-5",
         "-5",
         "-5",
         "-5",
         "-5",
         "-5",
         "-5",
         "-8",
         "-8",
         "-5",
         "-8",
         "-8",
         "-8",
         "-8",
         "-8",
         "-8",
         "-8",
         "-8",
         "-8",
         "-8",
         "-8",
         "-8",
         "-8",
         "-8",
         "-8",
         "-8",
         "-8",
         "-8",
         "-8",
         "-8",
         "-8",
         "-8",
         "-8",
         "-8",
         "-5",
         "-5",
         "-5",
         "-8",
         "-8",
         "-8",
         "-8",
         "-8",
         "-8",
         "-8",
         "-8",
         "-8",
         "-8",
         "-8",
         "-8",
         "-8",
         "-8",
         "-5",
         "-5",
         "-8",
         "-8",
         "-8",
         "-8",
         "-8",
         "-8",
         "-8",
         "-8",
         "-8",
         "-8",
         "-8",
         "-8",
         "-8",
         "-8",
         "-8",
         "-8",
         "-8",
         "-8",
         "-8",
         "-8",
         "-8",
         "-8",
         "-5",
         "-5",
         "-5",
         "-5",
         "-5",
         "-5",
         "-5",
         "-5",
         "-5",
         "-5",
         "-5",
         "-8",
         "-8",
         "-8",
         "-8",
         "-8",
         "-8",
         "-8",
         "-8",
         "-8",
         "-8",
         "-8",
         "-8",
         "-8",
         "-8",
         "-8",
         "-8",
         "-8",
         "-8",
         "-8",
         "-8",
         "-8",
         "-5",
         "-5",
         "-8",
         "-8",
         "-8",
         "-8",
         "-8",
         "-8",
         "-8",
         "-8",
         "-5",
         "-8",
         "-8",
         "-5",
         "-8",
         "-8",
         "-8",
         "-8",
         "-8",
         "-8",
         "-8",
         "-8",
         "-8",
         "-8",
         "-8",
         "-8",
         "-5",
         "-8",
         "-8",
         "-5",
         "-5",
         "-5",
         "-5",
         "-8",
         "-5",
         "-8",
         "-5",
         "-8",
         "-8",
         "-8",
         "-8",
         "-8",
         "-8",
         "-8",
         "-8",
         "-5",
         "-5",
         "-8",
         "-5",
         "-8",
         "-8",
         "-8",
         "-8",
         "-5",
         "-8",
         "-5",
         "-5",
         "-5",
         "-5",
         "-8",
         "-5",
         "-8",
         "-5",
         "-8",
         "-8",
         "-8",
         "-8",
         "-8",
         "-8",
         "-8",
         "-8",
         "-5",
         "-8",
         "-8",
         "-8",
         "-8",
         "-5",
         "-8",
         "-8",
         "-8",
         "-5",
         "-8",
         "-8",
         "-8",
         "-8",
         "-5",
         "-8",
         "-8",
         "-8",
         "-5",
         "-5",
         "-8",
         "-8",
         "-5",
         "-8",
         "-8",
         "-8",
         "-5",
         "-5",
         "-8",
         "-8",
         "-5",
         "-5",
         "-8",
         "-8",
         "-5",
         "-8",
         "-5",
         "-5",
         "-8",
         "-5",
         "-8",
         "-5",
         "-8",
         "-5",
         "-8",
         "-5",
         "-8",
         "-5",
         "-8",
         "-8",
         "-5",
         "-8",
         "-5",
         "-8",
         "-5",
         "-8",
         "-8",
         "-8",
         "-8",
         "-8",
         "-8",
         "-8",
         "-8",
         "-8",
         "-8",
         "-8",
         "-8",
         "-8",
         "-8",
         "-8",
         "-8",
         "-8",
         "-8",
         "-8",
         "-8",
         "-8",
         "0",
         "1",
         "0",
         "0",
         "0",
         "1",
         "0",
         "1",
         "-7",
         "-7",
         "-7",
         "-7",
         "-7",
         "-7",
         "-7",
         "-7",
         "-7",
         "-3",
         "-3",
         "-5",
         "-3",
         "-5",
         "-5",
         "-5",
         "-5",
         "-5",
         "-5",
         "-5",
         "-3",
         "-5",
         "2011",
         "0",
         "2",
         "-7",
         "-7",
         "-7",
         "-7",
         "-7",
         "-7",
         "-7",
         "-7",
         "-7",
         "-7",
         "-7",
         "-7",
         "-7",
         "-7",
         "-7",
         "-7",
         "-7",
         "-7",
         "-7",
         "-5",
         "-7",
         "-5",
         "-7",
         "-5",
         "-7",
         "-7",
         "-7",
         "-7",
         "-7",
         "-7",
         "-7",
         "-7",
         "-7",
         "-7",
         "-7",
         "-7",
         "-7",
         "-7",
         "-7",
         "-7",
         "-7",
         "-7",
         "-7",
         "-7",
         "-7",
         "-7",
         "-3",
         "-7",
         "-7",
         "-7",
         "-7",
         "-5",
         "-7",
         "-7",
         "-3",
         "-7",
         "-7",
         "-7",
         "1",
         "-3",
         "-3",
         "-7",
         "-3",
         "-7",
         "-7",
         "-5",
         "-5",
         "-7",
         "-7",
         "-7",
         "-7",
         "-7",
         "-7",
         "-7",
         "-7",
         "-7",
         "-7",
         "-7",
         "-7",
         "-7",
         "-7",
         "-7",
         "-7",
         "-7",
         "-7",
         "-7",
         "1",
         "-3",
         "-5",
         "-7",
         "-7",
         "-7",
         "-7",
         "-7",
         "-7",
         "-7",
         "-7",
         "-7",
         "-7",
         "-7",
         "-7",
         "-7",
         "-7",
         "-7",
         "-7",
         "-7",
         "-7",
         "-7",
         "-7",
         "-7",
         "-7",
         "-7",
         "-7",
         "1",
         "28",
         "-7",
         "-7",
         "-7",
         "-7",
         "-7",
         "-7",
         "-7",
         "-7",
         "-7",
         "-7",
         "-7",
         "-7",
         "-7",
         "-7",
         "-5",
         "-5",
         "-3",
         "-5",
         "-7",
         "-5",
         "-5",
         "-5",
         "-3",
         "-7",
         "0",
         "0",
         "-5",
         "-5",
         "-5",
         "-5",
         "-5",
         "-5",
         "-5",
         "-3",
         "-3",
         "-3",
         "-3",
         "-5",
         "-5",
         "-5",
         "-7",
         "-7",
         "-5",
         "-5",
         "-5",
         "-5",
         "-7",
         "-7",
         "-7",
         "-7",
         "-7",
         "-7",
         "-7",
         "0",
         "-7",
         "-7",
         "-7",
         "-7",
         "-7",
         "-7",
         "-5",
         "3",
         "-5",
         "-7",
         "-7",
         "-7",
         "-7",
         "-3",
         "-7",
         "-7",
         "-7",
         "-7",
         "-7",
         "-7",
         "-7",
         "25000",
         "-7",
         "-7",
         "-7",
         "-7",
         "-7",
         "-7",
         "-7",
         "-7",
         "-7",
         "-7",
         "-7",
         "-7",
         "-7",
         "-7",
         "-7",
         "-7",
         "-7",
         "-7",
         "-7",
         "-7",
         "-7",
         "-7",
         "-7",
         "-7",
         "-7",
         "-7",
         "-7",
         "-7",
         "-7",
         "-7",
         "-7",
         "-5",
         "-7",
         "-7",
         "-7",
         "-7",
         "-7",
         "-5",
         "-5",
         "-5",
         "-5",
         "-5",
         "-5",
         "-5",
         "-5",
         "-5",
         "-7",
         "-7",
         "-7",
         "-7",
         "-7",
         "-7",
         "-7",
         "-7",
         "-7",
         "-7",
         "-7",
         "2",
         "-3",
         "1",
         "5",
         "1",
         "1",
         "0",
         "0",
         "0",
         "0",
         "0",
         "0",
         "0",
         "0",
         "0",
         "0",
         "0",
         "0",
         "6",
         "3",
         "1",
         "1959",
         "1945",
         "0",
         "-5",
         "-5",
         "-5",
         "-5",
         "-5",
         "-5",
         "-5",
         "2",
         "25",
         "-5",
         "-5",
         "1",
         "-3",
         "-5",
         "-5",
         "1",
         "-3",
         "0",
         "-3",
         "-3",
         "-3",
         "-3",
         "-3",
         "-3",
         "-3",
         "-3",
         "-3",
         "-3",
         "-3",
         "-3",
         "-3",
         "1",
         "-5",
         "-3",
         "-3",
         "-3",
         "-3",
         "-3",
         "-3",
         "-3",
         "-3",
         "-3",
         "-3",
         "-3",
         "-3",
         "-3",
         "6",
         "5",
         "1",
         "1",
         "2",
         "-1",
         "-1",
         "1",
         "-3",
         "1",
         "-5",
         "-5",
         "6",
         "1",
         "-3",
         "1",
         "-5",
         "-5",
         "8",
         "0",
         "1",
         "0",
         "1",
         "4",
         "0",
         "-3",
         "-3",
         "-3",
         "-3",
         "-3",
         "-3",
         "-3",
         "-3",
         "-3",
         "-3",
         "-3",
         "-3",
         "-3",
         "-3",
         "0",
         "-3",
         "-3",
         "-3",
         "-3",
         "-3",
         "-3",
         "-3",
         "-3",
         "0",
         "1",
         "1",
         "1",
         "2",
         "1",
         "1",
         "1",
         "1",
         "1",
         "1",
         "1",
         "1",
         "1",
         "1",
         "1",
         "1",
         "1",
         "1",
         "1",
         "1",
         "0",
         "0",
         "0",
         "0",
         "1",
         "3",
         "4",
         "4",
         "4",
         "2",
         "2",
         "2",
         "3",
         "2",
         "2",
         "2",
         "2",
         "1",
         "4",
         "4",
         "4",
         "3",
         "3",
         "4",
         "4",
         "4",
         "3",
         "1",
         "4",
         "0",
         "1",
         "1",
         "1",
         "1",
         "1",
         "1",
         "0",
         "0",
         "1",
         "1",
         "1",
         "1",
         "4",
         "4",
         "1",
         "1",
         "1",
         "3",
         "0",
         "0",
         "1",
         "0",
         "13",
         "1",
         "2",
         "2",
         "1",
         "1",
         "1",
         "1",
         "5",
         "1",
         "1",
         "3",
         "-3",
         "-3",
         "-3",
         "-3",
         "-3",
         "-1",
         "-3",
         "2",
         "4",
         "3",
         "2",
         "2",
         "2",
         "2",
         "2",
         "2",
         "3",
         "3",
         "2",
         "2",
         "3",
         "3",
         "2",
         "5",
         "3",
         "2",
         "2",
         "3",
         "3",
         "2",
         "2",
         "2",
         "1",
         "1",
         "1",
         "1",
         "3",
         "3",
         "3",
         "2",
         "-3",
         "-3",
         "-3",
         "-3",
         "-3",
         "-3",
         "-3",
         "-3",
         "-3",
         "-3",
         "-3",
         "-3",
         "-3",
         "-3",
         "-3",
         "10",
         "2",
         "0",
         "-3",
         "-3",
         "-3",
         "-3",
         "-3",
         "200207",
         "1",
         "2",
         "1",
         "0",
         "1",
         "0",
         "1",
         "1",
         "-3",
         "1",
         "1",
         "1",
         "2",
         "2",
         "1",
         "1",
         "0",
         "0",
         "0",
         "1",
         "1",
         "3",
         "2",
         "1",
         "4",
         "2",
         "1",
         "-3",
         "-3",
         "6",
         "2",
         "2",
         "2",
         "1",
         "2",
         "0",
         "-5",
         "-5",
         "-5",
         "-5",
         "-5",
         "1942",
         "0",
         "25",
         "25",
         "25",
         "1",
         "1",
         "0",
         "0",
         "1",
         "0",
         "0",
         "0",
         "0",
         "1",
         "2",
         "-3",
         "-3",
         "5",
         "5",
         "1",
         "5",
         "4",
         "3",
         "3",
         "1",
         "2",
         "2",
         "2",
         "3",
         "2",
         "6",
         "4",
         "3",
         "1",
         "24",
         "1",
         "1",
         "1",
         "1",
         "1",
         "1",
         "1",
         "10",
         "0",
         "-3",
         "3",
         "1",
         "2",
         "2",
         "1",
         "1",
         "1",
         "1",
         "200204",
         "1",
         "1",
         "1",
         "1",
         "1",
         "0",
         "1",
         "0",
         "0",
         "0",
         "0",
         "1",
         "2",
         "2",
         "1",
         "1",
         "1",
         "0",
         "0",
         "0",
         "0",
         "5",
         "2",
         "1",
         "5",
         "1",
         "1",
         "-3",
         "0",
         "3",
         "1",
         "0",
         "-5",
         "-5",
         "-5",
         "-5",
         "-5",
         "1964",
         "0",
         "10",
         "-9",
         "10",
         "1",
         "1",
         "0",
         "0",
         "1",
         "0",
         "0",
         "0",
         "0",
         "-9",
         "-9",
         "-3",
         "-3",
         "-9",
         "-9",
         "1",
         "4",
         "1",
         "1",
         "1",
         "1",
         "1",
         "3",
         "1",
         "1",
         "1",
         "3",
         "2",
         "1",
         "1",
         "0",
         "0",
         "1",
         "0",
         "1",
         "0",
         "1",
         "0",
         "10",
         "1",
         "0",
         "1",
         "0",
         "1",
         "2",
         "1",
         "2",
         "1",
         "1",
         "2",
         "3",
         "200205",
         "1",
         "-5",
         "1",
         "6",
         "1",
         "6",
         "5",
         "8",
         "-5",
         "-5",
         "-5",
         "-5",
         "-5",
         "-5",
         "-5",
         "-5",
         "-5",
         "-5",
         "-5",
         "-5",
         "-5",
         "-5",
         "-5",
         "-5",
         "-5",
         "-5",
         "-5",
         "-5",
         "-5",
         "-5",
         "-5",
         "-5",
         "-5",
         "-5",
         "-5",
         "-5",
         "-5",
         "-5",
         "-5",
         "-5",
         "-5",
         "-5",
         "-5",
         "-5",
         "-5",
         "-5",
         "-5",
         "-5",
         "-5",
         "-5",
         "-5",
         "-5",
         "-5",
         "-5",
         "-5",
         "-5",
         "-5",
         "-5",
         "-5",
         "-5",
         "-5",
         "-5",
         "-5",
         "-5",
         "-5",
         "-5",
         "-5",
         "-5",
         "-5",
         "-5",
         "-5",
         "-5",
         "-5",
         "-5",
         "-5",
         "-5",
         "-5",
         "-5",
         "-5",
         "-5",
         "-5",
         "-5",
         "-5",
         "-5",
         "-5",
         "1",
         "2",
         "3",
         "180",
         "9",
         "40",
         "8",
         "1",
         "2",
         "-3",
         "90",
         "-3",
         "-9",
         "-3",
         "-9",
         "-3",
         "-3",
         "3",
         "-9",
         "-9",
         "-9",
         "-9",
         "-9",
         "-9",
         "-9",
         "-9",
         "-9",
         "-9",
         "-9",
         "2",
         "2",
         "1",
         "1",
         "3",
         "1",
         "1",
         "3",
         "3",
         "2",
         "2",
         "2",
         "2",
         "1",
         "1",
         "3",
         "2",
         "3",
         "2",
         "-9",
         "-9",
         "-9",
         "0",
         "0",
         "0",
         "0",
         "0",
         "0",
         "1",
         "0",
         "0",
         "1",
         "1",
         "0",
         "1",
         "0",
         "1",
         "0",
         "1",
         "1",
         "0",
         "0",
         "1",
         "1",
         "0",
         "0",
         "0",
         "0",
         "1",
         "1",
         "1",
         "1",
         "1",
         "0",
         "0",
         "0",
         "0",
         "0",
         "1",
         "0",
         "0",
         "1",
         "0",
         "1",
         "0",
         "0",
         "0",
         "0",
         "2",
         "-5",
         "-5",
         "0",
         "16",
         "12",
         "3",
         "1",
         "16",
         "10",
         "0",
         "14",
         "2",
         "11",
         "10",
         "25",
         "100",
         "-3",
         "100",
         "0",
         "37215",
         "67639",
         "1",
         "1",
         "0",
         "1",
         "0",
         "0",
         "0",
         "0",
         "0",
         "0",
         "1",
         "1",
         "1",
         "1",
         "1",
         "-3",
         "-3",
         "-3",
         "-3",
         "1",
         "-3",
         "-3",
         "-3",
         "-3",
         "2",
         "-3",
         "-3",
         "-3",
         "-3",
         "2",
         "-3",
         "-3",
         "-3",
         "-3",
         "1",
         "-3",
         "-3",
         "-3",
         "-3",
         "1",
         "-3",
         "-3",
         "-3",
         "-3",
         "1",
         "1",
         "0",
         "1",
         "-9",
         "1",
         "1",
         "1",
         "1",
         "1",
         "1",
         "1",
         "1",
         "0",
         "0",
         "0",
         "0",
         "0",
         "1",
         "0",
         "0",
         "0",
         "0",
         "0",
         "0",
         "1",
         "1",
         "1",
         "0",
         "0",
         "1",
         "1",
         "0",
         "0",
         "0",
         "1",
         "1",
         "1",
         "1",
         "1",
         "1",
         "1",
         "1",
         "1",
         "1",
         "1",
         "1",
         "1",
         "1",
         "1",
         "1",
         "1",
         "1",
         "1",
         "0",
         "1",
         "0",
         "1",
         "1",
         "0",
         "1",
         "0",
         "1",
         "1",
         "1",
         "1",
         "1",
         "1",
         "1",
         "1",
         "1",
         "1",
         "3",
         "3",
         "3",
         "3",
         "3",
         "2",
         "3",
         "3",
         "2",
         "2",
         "2",
         "2",
         "3",
         "3",
         "1",
         "1",
         "2",
         "1",
         "1",
         "3",
         "2",
         "4",
         "4",
         "4",
         "4",
         "4",
         "4",
         "4",
         "4",
         "3",
         "3",
         "3",
         "1",
         "1",
         "4",
         "4",
         "1",
         "1",
         "1",
         "1",
         "1",
         "1",
         "1",
         "1",
         "1",
         "1",
         "1",
         "4",
         "4",
         "4",
         "3",
         "3",
         "200205",
         "-5",
         "180",
         "3",
         "0",
         "-3",
         "0",
         "-3",
         "0",
         "-3",
         "1",
         "0",
         "0",
         "0",
         "0",
         "0",
         "2",
         "2",
         "3",
         "1",
         "4",
         "4",
         "3",
         "4",
         "3",
         "4",
         "1",
         "7",
         "6",
         "6",
         "6",
         "2",
         "2",
         "4",
         "7",
         "1",
         "0",
         "0",
         "0",
         "0",
         "0",
         "1",
         "2",
         "4",
         "4",
         "2",
         "1",
         "2",
         "3",
         "3",
         "1",
         "1",
         "3",
         "3",
         "3",
         "3",
         "1",
         "1",
         "1",
         "1",
         "1",
         "1",
         "1",
         "1",
         "0",
         "1",
         "1",
         "0",
         "0",
         "50",
         "3",
         "3",
         "3",
         "2",
         "1",
         "2",
         "45",
         "45",
         "10",
         "4",
         "4",
         "3",
         "1",
         "3",
         "4",
         "1",
         "3",
         "5",
         "2",
         "1",
         "2",
         "1",
         "0",
         "1",
         "1",
         "1",
         "1",
         "-5",
         "7",
         "24",
         "8",
         "0",
         "45",
         "0",
         "0",
         "-3",
         "-3",
         "-3",
         "-3",
         "-3",
         "-3",
         "-3",
         "-3",
         "-3",
         "-3",
         "-3",
         "-3",
         "-3",
         "-3",
         "-3",
         "-3",
         "-5",
         "1",
         "1",
         "-5",
         "2",
         "-5",
         "9",
         "-5",
         "7",
         "-5",
         "1",
         "-5",
         "1",
         "3",
         "0",
         "5",
         "0",
         "92",
         "3",
         "0",
         "0",
         "0",
         "0",
         "90",
         "8",
         "1",
         "1",
         "100",
         "3",
         "20",
         "47",
         "30",
         "4",
         "4",
         "4",
         "4",
         "4",
         "4",
         "4",
         "1",
         "4",
         "5",
         "4",
         "4",
         "1",
         "4",
         "4",
         "1",
         "1",
         "4",
         "4",
         "4",
         "4",
         "4",
         "4",
         "4",
         "4",
         "5",
         "4",
         "4",
         "4",
         "4",
         "4",
         "4",
         "4",
         "200404",
         "1",
         "108",
         "0",
         "1",
         "1",
         "1",
         "0",
         "1",
         "1",
         "1",
         "1",
         "2",
         "0",
         "0",
         "-3",
         "-3",
         "0",
         "-3",
         "-3",
         "1",
         "1",
         "0",
         "0",
         "-3",
         "-3",
         "0",
         "-3",
         "1",
         "3",
         "0",
         "1",
         "1",
         "1",
         "1",
         "0",
         "1",
         "1",
         "1",
         "3",
         "1",
         "1",
         "1",
         "1",
         "3",
         "1",
         "1",
         "1",
         "0",
         "-3",
         "-3",
         "-3",
         "-3",
         "0",
         "-3",
         "-3",
         "-3",
         "-3",
         "0",
         "-3",
         "-3",
         "-3",
         "-3",
         "1",
         "3",
         "1",
         "1",
         "1",
         "1",
         "3",
         "1",
         "1",
         "1",
         "1",
         "3",
         "0",
         "0",
         "1",
         "1",
         "3",
         "1",
         "1",
         "1",
         "1",
         "3",
         "1",
         "1",
         "1",
         "0",
         "-3",
         "-3",
         "-3",
         "-3",
         "1",
         "3",
         "1",
         "1",
         "1",
         "0",
         "-3",
         "-3",
         "-3",
         "-3",
         "1",
         "3",
         "1",
         "1",
         "1",
         "1",
         "1",
         "1",
         "1",
         "1",
         "1",
         "3",
         "1",
         "1",
         "1",
         "0",
         "-3",
         "-3",
         "-3",
         "-3",
         "0",
         "-3",
         "-3",
         "-3",
         "-3",
         "1",
         "0",
         "1",
         "1",
         "0",
         "1",
         "0",
         "1",
         "0",
         "0",
         "0",
         "0",
         "0",
         "0",
         "0",
         "0",
         "0",
         "1",
         "2",
         "2",
         "3",
         "2",
         "0",
         "-3",
         "5",
         "2",
         "-3",
         "-3",
         "-3",
         "-3",
         "-3",
         "5",
         "14",
         "20",
         "2",
         "4",
         "200",
         "3",
         "0",
         "1",
         "1",
         "0",
         "0",
         "0",
         "0",
         "0",
         "1",
         "6",
         "3",
         "1",
         "1",
         "1",
         "0",
         "1",
         "1",
         "200204",
         "0",
         "0",
         "0",
         "0",
         "0",
         "1",
         "0",
         "0",
         "1",
         "1",
         "2",
         "3",
         "4",
         "4",
         "4",
         "0",
         "0",
         "0",
         "0",
         "1",
         "0",
         "0",
         "0",
         "0",
         "0",
         "0",
         "0",
         "0",
         "0",
         "1",
         "1",
         "0",
         "0",
         "0",
         "0",
         "0",
         "1",
         "1",
         "4",
         "0",
         "0",
         "0",
         "1",
         "1",
         "1",
         "1",
         "1",
         "1",
         "0",
         "0",
         "0",
         "1",
         "1",
         "1",
         "1",
         "1",
         "1",
         "1",
         "0",
         "0"
        ],
        [
         "1",
         "101102",
         "-5",
         "101",
         "1",
         "1011",
         "101",
         "1",
         "1",
         "-5",
         "101",
         "1111",
         "11111",
         "11111",
         "1",
         "1",
         "28.2951",
         "-5",
         "2",
         "-5",
         "2",
         "-5",
         "-5",
         "-5",
         "-5",
         "-5",
         "-5",
         "-5",
         "-5",
         "-5",
         "0",
         "4",
         "2",
         "-5",
         "198605",
         "-5",
         "2",
         "4",
         "2",
         "1",
         "-9",
         "-9",
         "1",
         "5",
         "5",
         "5",
         "8",
         "0",
         "9",
         "11",
         "0.58",
         "4",
         "0.69",
         "4",
         "0",
         "-3",
         "0",
         "3",
         "0",
         "7",
         "7",
         "-3",
         "9",
         "2",
         "1",
         "-5",
         "200204",
         "3",
         "-5",
         "-5",
         "1",
         "1",
         "1",
         "1",
         "1",
         "0",
         "-5",
         "-5",
         "0",
         "57.66",
         "4",
         "55.3",
         "36.35",
         "47.3",
         "560.06",
         "591.84",
         "47.361",
         "57.65",
         "4",
         "1.0",
         "1.0",
         "0.997",
         "0.287",
         "0.0",
         "-5",
         "-5",
         "-5",
         "-5",
         "-5",
         "-5",
         "-5",
         "37.121",
         "56.7",
         "3",
         "1.0",
         "0.89",
         "0.021",
         "1.533",
         "0.331",
         "0.213",
         "0.765",
         "0.871",
         "0.575",
         "1.191",
         "-5",
         "-5",
         "-5",
         "-5",
         "-5",
         "-5",
         "-5",
         "-5",
         "2",
         "-5",
         "2",
         "-5",
         "3",
         "1",
         "2",
         "2",
         "2",
         "2",
         "2",
         "1",
         "2",
         "2",
         "2",
         "0",
         "0",
         "3",
         "5",
         "4",
         "0",
         "0",
         "-5",
         "3",
         "3",
         "-5",
         "7",
         "3",
         "-0.603",
         "-0.013",
         "-5",
         "6",
         "-9",
         "1",
         "1",
         "1",
         "1",
         "1",
         "3",
         "5",
         "-0.269",
         "0.582",
         "-0.051",
         "-5",
         "-5",
         "-5",
         "-5",
         "0",
         "-5",
         "-5",
         "0",
         "0",
         "0",
         "0",
         "0",
         "0",
         "0",
         "0",
         "0",
         "0",
         "0",
         "0",
         "0",
         "25.3577",
         "25.4906",
         "-5",
         "-5",
         "2",
         "-5",
         "2",
         "-5",
         "-5",
         "-5",
         "-5",
         "-5",
         "-5",
         "-5",
         "-5",
         "-5",
         "0",
         "4",
         "-5",
         "198605",
         "1",
         "5",
         "5",
         "5",
         "0",
         "9",
         "-5",
         "-5",
         "0.57",
         "4",
         "-5",
         "-5",
         "0.69",
         "4",
         "8",
         "4",
         "-3",
         "10",
         "-5",
         "1",
         "1",
         "1",
         "1",
         "1",
         "1",
         "0",
         "0",
         "0",
         "0",
         "0",
         "0",
         "-5",
         "-5",
         "0",
         "5",
         "-5",
         "-5",
         "-5",
         "-5",
         "-5",
         "-5",
         "-5",
         "12",
         "53.2",
         "65.21",
         "60.64",
         "-5",
         "-5",
         "-5",
         "-5",
         "-5",
         "-5",
         "4",
         "65.57",
         "1.0",
         "1.0",
         "1.0",
         "0.97",
         "0.02",
         "12.01",
         "-5",
         "-5",
         "200404",
         "-5",
         "6",
         "5",
         "2",
         "1",
         "2",
         "7",
         "11",
         "0.528",
         "0",
         "0",
         "-5",
         "-5",
         "0",
         "0",
         "0",
         "0",
         "0",
         "0",
         "0",
         "0",
         "-5",
         "0",
         "4",
         "42.0937",
         "31",
         "-5",
         "-5",
         "-5",
         "-5",
         "-5",
         "-5",
         "-5",
         "-5",
         "-5",
         "-5",
         "-5",
         "-5",
         "-5",
         "-5",
         "-5",
         "-5",
         "-5",
         "-5",
         "-5",
         "-5",
         "-5",
         "-5",
         "-5",
         "-5",
         "-5",
         "-5",
         "-5",
         "-5",
         "-5",
         "-5",
         "-5",
         "-5",
         "-5",
         "-5",
         "-5",
         "-5",
         "-5",
         "-5",
         "-5",
         "-5",
         "-5",
         "-5",
         "-5",
         "-5",
         "-5",
         "-5",
         "-5",
         "-5",
         "-5",
         "-5",
         "-5",
         "-5",
         "-5",
         "-5",
         "-5",
         "-5",
         "-5",
         "-5",
         "-5",
         "-5",
         "-5",
         "-5",
         "-5",
         "-5",
         "-5",
         "-5",
         "-5",
         "-5",
         "-5",
         "-5",
         "-5",
         "-5",
         "-5",
         "-5",
         "-5",
         "-5",
         "-5",
         "-5",
         "-5",
         "-5",
         "-5",
         "-5",
         "-5",
         "-5",
         "-5",
         "-5",
         "-5",
         "-5",
         "-5",
         "-5",
         "-5",
         "-5",
         "-5",
         "-5",
         "-5",
         "-5",
         "-5",
         "-5",
         "-5",
         "-5",
         "-5",
         "5",
         "-5",
         "-5",
         "-5",
         "-5",
         "-5",
         "-5",
         "-5",
         "-5",
         "-5",
         "-5",
         "-5",
         "-5",
         "-5",
         "-5",
         "-5",
         "-5",
         "-5",
         "-5",
         "-5",
         "-5",
         "-5",
         "-5",
         "-5",
         "-5",
         "-5",
         "-5",
         "-5",
         "-5",
         "-5",
         "-5",
         "-5",
         "-5",
         "-5",
         "-5",
         "-5",
         "-5",
         "-5",
         "-5",
         "-5",
         "-5",
         "-5",
         "-5",
         "-5",
         "-5",
         "-5",
         "-5",
         "-5",
         "-5",
         "-5",
         "-5",
         "-5",
         "-5",
         "-5",
         "-5",
         "-5",
         "-5",
         "-5",
         "-5",
         "-5",
         "-5",
         "-5",
         "-5",
         "-5",
         "-5",
         "-5",
         "1",
         "4",
         "-5",
         "-5",
         "-5",
         "-5",
         "-5",
         "-5",
         "-5",
         "-5",
         "-5",
         "-5",
         "-5",
         "-5",
         "-5",
         "-5",
         "-5",
         "-5",
         "-5",
         "-5",
         "-5",
         "-5",
         "-5",
         "-5",
         "-5",
         "-5",
         "-5",
         "-5",
         "-5",
         "-5",
         "-5",
         "-5",
         "-5",
         "-5",
         "-5",
         "-5",
         "-5",
         "-5",
         "-5",
         "-5",
         "-5",
         "-5",
         "-5",
         "-5",
         "-5",
         "-5",
         "-5",
         "-5",
         "-5",
         "-5",
         "-5",
         "-5",
         "-5",
         "-5",
         "-5",
         "-5",
         "-5",
         "-5",
         "-5",
         "-5",
         "-5",
         "-5",
         "-5",
         "-5",
         "-5",
         "-5",
         "-5",
         "-5",
         "-5",
         "-5",
         "-5",
         "-5",
         "-5",
         "-5",
         "-5",
         "-5",
         "-5",
         "-5",
         "-5",
         "-5",
         "-5",
         "-5",
         "-5",
         "-5",
         "-5",
         "-5",
         "-5",
         "-5",
         "-5",
         "-5",
         "-5",
         "-5",
         "-5",
         "-5",
         "50.3749",
         "28.2772",
         "29.8462",
         "27.8257",
         "-5",
         "1",
         "1",
         "1",
         "-5",
         "0",
         "0",
         "0",
         "12",
         "-5",
         "1",
         "1",
         "1",
         "6",
         "5",
         "2004",
         "-3",
         "-5",
         "-5",
         "-5",
         "-5",
         "0",
         "2",
         "-3",
         "-3",
         "-5",
         "-5",
         "-5",
         "-5",
         "-5",
         "-3",
         "-3",
         "-3",
         "-3",
         "-3",
         "-3",
         "-3",
         "-3",
         "-3",
         "-3",
         "-3",
         "-3",
         "-3",
         "-3",
         "-3",
         "-3",
         "-3",
         "-3",
         "-3",
         "-3",
         "1",
         "1",
         "2",
         "2",
         "2",
         "2",
         "9",
         "2",
         "9",
         "2",
         "-5",
         "-5",
         "-5",
         "-5",
         "-5",
         "1",
         "1",
         "1",
         "1",
         "1",
         "-5",
         "1",
         "1",
         "1",
         "0",
         "1",
         "3",
         "1",
         "0",
         "2",
         "3",
         "3",
         "2",
         "-5",
         "5",
         "9",
         "9",
         "1",
         "0",
         "-5",
         "0",
         "0",
         "0",
         "0",
         "0",
         "0",
         "0",
         "0",
         "1",
         "1",
         "1",
         "1",
         "1",
         "1",
         "1",
         "1",
         "1",
         "0",
         "0",
         "0",
         "0",
         "0",
         "0",
         "0",
         "1",
         "-5",
         "-5",
         "-5",
         "-5",
         "-5",
         "-5",
         "-5",
         "1",
         "2",
         "-3",
         "1",
         "2",
         "1",
         "1",
         "7",
         "1",
         "-5",
         "-5",
         "8",
         "4",
         "1",
         "-3",
         "-5",
         "-5",
         "-5",
         "-3",
         "-3",
         "-3",
         "-5",
         "-5",
         "-5",
         "-3",
         "-3",
         "-3",
         "-3",
         "-3",
         "12",
         "2",
         "10",
         "-3",
         "-3",
         "-3",
         "-3",
         "-3",
         "-3",
         "-3",
         "-3",
         "-3",
         "-3",
         "-3",
         "-3",
         "-3",
         "-3",
         "-3",
         "-3",
         "-3",
         "-3",
         "-3",
         "-3",
         "-3",
         "-3",
         "-3",
         "-3",
         "-3",
         "4",
         "-5",
         "-5",
         "-5",
         "-5",
         "-5",
         "-5",
         "-5",
         "-5",
         "-5",
         "-5",
         "-5",
         "-5",
         "-5",
         "-5",
         "-5",
         "-5",
         "-5",
         "-5",
         "-5",
         "-5",
         "-5",
         "-5",
         "-5",
         "-5",
         "-5",
         "-5",
         "-5",
         "-5",
         "-5",
         "-5",
         "-5",
         "-5",
         "-5",
         "-5",
         "-5",
         "-5",
         "-5",
         "-5",
         "-5",
         "-5",
         "-5",
         "-5",
         "-5",
         "-5",
         "-5",
         "-5",
         "-5",
         "-5",
         "-5",
         "-5",
         "-5",
         "-5",
         "-5",
         "-5",
         "-5",
         "-5",
         "-5",
         "-5",
         "-5",
         "1",
         "4",
         "2",
         "1",
         "-5",
         "-5",
         "-5",
         "200607",
         "0",
         "0",
         "0",
         "0",
         "-5",
         "-5",
         "-5",
         "-5",
         "-5",
         "-5",
         "-5",
         "-5",
         "-5",
         "-5",
         "-5",
         "-5",
         "-5",
         "-5",
         "-5",
         "-5",
         "-5",
         "-5",
         "-5",
         "-5",
         "-5",
         "-5",
         "-5",
         "-5",
         "-5",
         "-5",
         "-5",
         "-5",
         "-5",
         "-5",
         "-5",
         "-5",
         "-5",
         "-5",
         "-5",
         "-5",
         "-5",
         "-5",
         "-5",
         "-5",
         "26.6883",
         "26.6638",
         "29.5436",
         "27.5938",
         "28.6822",
         "32.1246",
         "0",
         "1",
         "-5",
         "1",
         "2004",
         "0",
         "0",
         "-3",
         "-3",
         "-3",
         "-3",
         "-3",
         "-3",
         "-3",
         "-5",
         "3",
         "1",
         "5",
         "2004",
         "1",
         "1",
         "1",
         "-5",
         "0",
         "4",
         "3",
         "1",
         "2",
         "2",
         "-5",
         "2007",
         "1",
         "44",
         "3",
         "47",
         "3",
         "1",
         "1",
         "1",
         "3",
         "0",
         "0",
         "-9",
         "-9",
         "-9",
         "-5",
         "1",
         "1",
         "1",
         "1",
         "0",
         "0",
         "-9",
         "-9",
         "1",
         "-5",
         "1",
         "10",
         "2011",
         "-5",
         "-5",
         "2",
         "2",
         "1",
         "9",
         "4",
         "1",
         "7",
         "5",
         "29",
         "-5",
         "9",
         "-5",
         "-5",
         "3000",
         "-5",
         "-3",
         "-5",
         "-5",
         "-5",
         "0",
         "-3",
         "-3",
         "-33.0",
         "-33.0",
         "-33.0",
         "29",
         "-5",
         "10",
         "2",
         "2",
         "2",
         "2",
         "1.29",
         "4",
         "2",
         "3",
         "-3",
         "-5",
         "-3",
         "0",
         "-5",
         "0",
         "2",
         "0",
         "0",
         "0",
         "0",
         "1",
         "-5",
         "0",
         "-5",
         "0",
         "0",
         "0",
         "0",
         "0",
         "0",
         "0",
         "0",
         "0",
         "-5",
         "-5",
         "-5",
         "27.5938",
         "28.6822",
         "32.1246",
         "2",
         "-5",
         "-5",
         "-5",
         "-5",
         "-5",
         "-5",
         "-5",
         "2700",
         "2800",
         "2500",
         "2500",
         "0",
         "0",
         "0",
         "0",
         "0",
         "-5",
         "-5",
         "-5",
         "-5",
         "-5",
         "-5",
         "-5",
         "-5",
         "-5",
         "-5",
         "-5",
         "-5",
         "0",
         "-5",
         "-5",
         "-5",
         "-5",
         "-5",
         "-5",
         "-5",
         "-5",
         "-5",
         "0",
         "-5",
         "-5",
         "-5",
         "-5",
         "-5",
         "-5",
         "-5",
         "-5",
         "-5",
         "1",
         "-5",
         "-5",
         "-5",
         "-5",
         "-5",
         "-5",
         "-5",
         "-5",
         "-5",
         "-5",
         "-5",
         "-5",
         "-5",
         "-5",
         "-5",
         "-5",
         "-5",
         "-5",
         "-5",
         "-5",
         "-5",
         "-5",
         "-5",
         "-5",
         "-5",
         "-5",
         "-5",
         "33.1941",
         "33.3381",
         "35.2297",
         "34.5094",
         "37.4602",
         "33.1309",
         "34.9606",
         "39.6569",
         "1",
         "3",
         "4",
         "2",
         "2",
         "-5",
         "14",
         "0",
         "-3",
         "-5",
         "-5",
         "1",
         "1",
         "2004",
         "3",
         "2007",
         "1",
         "1",
         "0",
         "-5",
         "0",
         "-3",
         "-3",
         "1",
         "-5",
         "-5",
         "-3",
         "-3",
         "-3",
         "-3",
         "-3",
         "-5",
         "-3",
         "-3",
         "-5",
         "-3",
         "-3",
         "-5",
         "-3",
         "-3",
         "-5",
         "-3",
         "-3",
         "-5",
         "-3",
         "-3",
         "-5",
         "-3",
         "-3",
         "-3",
         "-3",
         "-3",
         "-3",
         "-3",
         "-3",
         "-3",
         "-5",
         "-5",
         "-5",
         "-5",
         "-5",
         "-5",
         "0",
         "0",
         "0",
         "0",
         "0",
         "0",
         "0",
         "51",
         "51",
         "-5",
         "3.0",
         "2.5",
         "-9.0",
         "-3.0",
         "48",
         "0",
         "-5",
         "3.0",
         "-9.0",
         "-5",
         "0",
         "-3.0",
         "0",
         "-5",
         "27",
         "2.75",
         "8",
         "-5",
         "8",
         "2.25",
         "2",
         "-5",
         "8",
         "3.0",
         "2",
         "-5",
         "3",
         "4.0",
         "1",
         "-5",
         "0",
         "-3.0",
         "0",
         "-5",
         "0",
         "-3.0",
         "0",
         "-5",
         "27",
         "2.75",
         "8",
         "-5",
         "0",
         "-3.0",
         "-5",
         "-5",
         "0",
         "-3.0",
         "0",
         "-5",
         "-5",
         "3.0",
         "4",
         "-5",
         "-5",
         "3.0",
         "13",
         "-5",
         "-5",
         "-3.0",
         "0",
         "-5",
         "-5",
         "3.0",
         "11",
         "-5",
         "-5",
         "3.0",
         "13",
         "17",
         "-5",
         "29",
         "-5",
         "17",
         "-5",
         "-3",
         "-5",
         "1A",
         "4A",
         "1A",
         "-3",
         "-5",
         "4A",
         "-3",
         "4A",
         "4A",
         "0",
         "2",
         "0",
         "2",
         "-5",
         "-5",
         "-5",
         "-5",
         "-5",
         "2",
         "0",
         "-5",
         "-5",
         "-5",
         "-5",
         "-5",
         "-5",
         "-5",
         "2",
         "3",
         "2",
         "2",
         "3",
         "2",
         "2",
         "4",
         "4",
         "3",
         "3",
         "2",
         "3",
         "4",
         "2",
         "3",
         "2",
         "2",
         "1",
         "2",
         "1",
         "1",
         "1",
         "1",
         "1",
         "1",
         "1",
         "1",
         "0",
         "1",
         "0",
         "0",
         "0",
         "3",
         "2",
         "2",
         "1",
         "1",
         "1",
         "1",
         "2",
         "0",
         "-5",
         "-5",
         "-5",
         "-5",
         "-5",
         "10",
         "3",
         "1",
         "1",
         "2",
         "0",
         "-5",
         "-5",
         "-5",
         "-5",
         "-5",
         "10",
         "3",
         "1",
         "1",
         "2",
         "0",
         "-5",
         "-5",
         "-5",
         "-5",
         "-5",
         "10",
         "2",
         "0",
         "0",
         "2",
         "2",
         "2",
         "2",
         "1",
         "1",
         "1",
         "1",
         "2",
         "1",
         "2",
         "4",
         "5",
         "5",
         "2",
         "3",
         "3",
         "1",
         "1",
         "2",
         "2",
         "0",
         "-3",
         "-3",
         "-3",
         "-3",
         "-3",
         "-3",
         "-3",
         "-3",
         "1",
         "1",
         "0",
         "1",
         "0",
         "1",
         "1",
         "1",
         "1",
         "1",
         "1",
         "1",
         "0",
         "0",
         "1",
         "1",
         "0",
         "0",
         "0",
         "0",
         "0",
         "0",
         "0",
         "0",
         "0",
         "0",
         "0",
         "0",
         "1",
         "4",
         "1",
         "0",
         "1",
         "2",
         "4",
         "2",
         "1",
         "1",
         "2",
         "2",
         "2",
         "2",
         "2",
         "2",
         "2",
         "2",
         "0",
         "1",
         "0",
         "0",
         "0",
         "0",
         "1",
         "0",
         "0",
         "0",
         "0",
         "1",
         "0",
         "0",
         "0",
         "0",
         "1",
         "0",
         "0",
         "0",
         "1",
         "0",
         "0",
         "0",
         "0",
         "0",
         "1",
         "0",
         "0",
         "0",
         "0",
         "1",
         "0",
         "0",
         "0",
         "0",
         "1",
         "0",
         "0",
         "0",
         "0",
         "0",
         "0",
         "0",
         "1",
         "1",
         "0",
         "1",
         "0",
         "2",
         "2",
         "2",
         "2",
         "3",
         "3",
         "4",
         "1",
         "1",
         "1",
         "5",
         "4",
         "4",
         "1",
         "5",
         "5",
         "2",
         "2",
         "3",
         "2",
         "2",
         "4",
         "2",
         "3",
         "1",
         "4",
         "2",
         "1",
         "4",
         "1",
         "1",
         "2",
         "1",
         "1",
         "2",
         "3",
         "4",
         "4",
         "3",
         "3",
         "2",
         "3",
         "3",
         "2",
         "3",
         "2",
         "2",
         "2",
         "2",
         "3",
         "2",
         "3",
         "4",
         "4",
         "4",
         "1",
         "7",
         "1",
         "1",
         "0",
         "0",
         "0",
         "1",
         "0",
         "0",
         "0",
         "0",
         "0",
         "0",
         "0",
         "0",
         "-3",
         "-3",
         "-3",
         "-3",
         "-3",
         "-3",
         "-3",
         "-3",
         "-3",
         "-5",
         "-5",
         "7",
         "7",
         "1",
         "1",
         "-1",
         "1",
         "-1",
         "1",
         "-3",
         "0",
         "-5",
         "4",
         "2",
         "2",
         "1",
         "1",
         "1",
         "1",
         "1",
         "0",
         "0",
         "0",
         "0",
         "1",
         "0",
         "0",
         "1",
         "-3",
         "-3",
         "-3",
         "-3",
         "-3",
         "-3",
         "-3",
         "-5",
         "-5",
         "-5",
         "-5",
         "5",
         "7",
         "1",
         "1",
         "1",
         "1",
         "1",
         "1",
         "1",
         "1",
         "1",
         "1",
         "4",
         "4",
         "4",
         "4",
         "2",
         "2",
         "3",
         "3",
         "2",
         "3",
         "2",
         "1",
         "3",
         "3",
         "2",
         "1",
         "2",
         "2",
         "2",
         "2",
         "2",
         "2",
         "1",
         "3",
         "4",
         "3",
         "3",
         "3",
         "3",
         "3",
         "3",
         "3",
         "3",
         "4",
         "3",
         "4",
         "3",
         "3",
         "4",
         "4",
         "3",
         "4",
         "3",
         "3",
         "4",
         "3",
         "3",
         "3",
         "1",
         "2",
         "3",
         "3",
         "3",
         "3",
         "2",
         "2",
         "3",
         "3",
         "3",
         "2",
         "2",
         "3",
         "2",
         "2",
         "1",
         "1",
         "1",
         "0",
         "0",
         "0",
         "0",
         "3",
         "2",
         "1",
         "1",
         "3",
         "1",
         "3",
         "3",
         "1",
         "4",
         "1",
         "1",
         "1",
         "3",
         "3",
         "1",
         "1",
         "3",
         "3",
         "1",
         "1",
         "3",
         "3",
         "3",
         "3",
         "3",
         "4",
         "4",
         "1",
         "2",
         "2",
         "1",
         "1",
         "2",
         "2",
         "1",
         "1",
         "3",
         "1",
         "3",
         "4",
         "1",
         "1",
         "1",
         "2",
         "1",
         "2",
         "1",
         "0",
         "-3",
         "-3",
         "-3",
         "-3",
         "-3",
         "-3",
         "-3",
         "-3",
         "-3",
         "-3",
         "-3",
         "-3",
         "-3",
         "-3",
         "-3",
         "-3",
         "-3",
         "-3",
         "1",
         "1",
         "1",
         "1",
         "1",
         "1",
         "1",
         "1",
         "1",
         "2",
         "1",
         "3",
         "1",
         "1",
         "1",
         "4",
         "1",
         "2",
         "4",
         "1",
         "4",
         "1",
         "1",
         "1",
         "1",
         "4",
         "3",
         "3",
         "1",
         "4",
         "2",
         "2",
         "2",
         "2",
         "2",
         "6",
         "3",
         "6",
         "2",
         "3",
         "4",
         "2",
         "3",
         "4",
         "5",
         "5",
         "3",
         "3",
         "3",
         "4",
         "1",
         "4",
         "3",
         "3",
         "3",
         "2",
         "2",
         "4",
         "4",
         "1",
         "1",
         "1",
         "4",
         "3",
         "3",
         "2",
         "3",
         "2",
         "2",
         "2",
         "2",
         "2",
         "2",
         "2",
         "2",
         "2",
         "3",
         "2",
         "2",
         "2",
         "1",
         "0",
         "0",
         "0",
         "0",
         "0",
         "0",
         "8",
         "8",
         "8",
         "1",
         "1",
         "1",
         "1",
         "1",
         "1",
         "-3",
         "1",
         "-3",
         "-3",
         "-3",
         "-3",
         "-3",
         "-3",
         "-3",
         "-3",
         "-3",
         "-3",
         "-3",
         "-3",
         "2",
         "1",
         "0",
         "0",
         "0",
         "0",
         "0",
         "1",
         "1",
         "1",
         "1",
         "0",
         "0",
         "0",
         "0",
         "1",
         "3",
         "2",
         "2",
         "3",
         "1",
         "2",
         "2",
         "2",
         "2",
         "2",
         "3",
         "3",
         "2",
         "2",
         "2",
         "1",
         "1",
         "1",
         "3",
         "3",
         "-3",
         "-3",
         "-3",
         "-3",
         "-3",
         "-3",
         "-5",
         "-5",
         "9",
         "2",
         "2",
         "2",
         "1",
         "0",
         "1",
         "0",
         "1",
         "0",
         "1",
         "0",
         "0",
         "2",
         "2",
         "3",
         "3",
         "2",
         "1",
         "2",
         "3",
         "2",
         "2",
         "2",
         "1",
         "1",
         "5",
         "-8",
         "-8",
         "-8",
         "-8",
         "-8",
         "-8",
         "-8",
         "-8",
         "-8",
         "-8",
         "-8",
         "-8",
         "-8",
         "-8",
         "-8",
         "-8",
         "-8",
         "-8",
         "-8",
         "-8",
         "-8",
         "-8",
         "-8",
         "-8",
         "-8",
         "-8",
         "-8",
         "-8",
         "-8",
         "-8",
         "-8",
         "-8",
         "-8",
         "-8",
         "-8",
         "-8",
         "-8",
         "-8",
         "-8",
         "-8",
         "-8",
         "-8",
         "-8",
         "-8",
         "-8",
         "-8",
         "-8",
         "-8",
         "-8",
         "-8",
         "-8",
         "-8",
         "-8",
         "-8",
         "-8",
         "-8",
         "-8",
         "-8",
         "-8",
         "-8",
         "-8",
         "-8",
         "-8",
         "-8",
         "-8",
         "-8",
         "-8",
         "-8",
         "-8",
         "-8",
         "-8",
         "-8",
         "-8",
         "-8",
         "-8",
         "-8",
         "-8",
         "-8",
         "-8",
         "-8",
         "-8",
         "-8",
         "-8",
         "-8",
         "-8",
         "-8",
         "-8",
         "-8",
         "-8",
         "-8",
         "-8",
         "-8",
         "-8",
         "-8",
         "-8",
         "-8",
         "-8",
         "-8",
         "-8",
         "-8",
         "-8",
         "-8",
         "-8",
         "-8",
         "-8",
         "-8",
         "-8",
         "-8",
         "-8",
         "-8",
         "-5",
         "-5",
         "-8",
         "-8",
         "-8",
         "-8",
         "-8",
         "-8",
         "-5",
         "-8",
         "-8",
         "-8",
         "-8",
         "-8",
         "-8",
         "-8",
         "-8",
         "-8",
         "-8",
         "-8",
         "-8",
         "-8",
         "-8",
         "-8",
         "-8",
         "-8",
         "-8",
         "-8",
         "-8",
         "-8",
         "-8",
         "-8",
         "-8",
         "-8",
         "-8",
         "-8",
         "-8",
         "-8",
         "-8",
         "-8",
         "-8",
         "-8",
         "-8",
         "-8",
         "-8",
         "-8",
         "-8",
         "-8",
         "-8",
         "-8",
         "-8",
         "-8",
         "-8",
         "-8",
         "-8",
         "-8",
         "-8",
         "-8",
         "-8",
         "-8",
         "-5",
         "-8",
         "-8",
         "-8",
         "-8",
         "-8",
         "-5",
         "-8",
         "-8",
         "-8",
         "-8",
         "-8",
         "-8",
         "-8",
         "-8",
         "-8",
         "-8",
         "-8",
         "-8",
         "-5",
         "-5",
         "-8",
         "-8",
         "-8",
         "-8",
         "-8",
         "-8",
         "-8",
         "-8",
         "-8",
         "-8",
         "-8",
         "-8",
         "-8",
         "-8",
         "-8",
         "-8",
         "-8",
         "-8",
         "-8",
         "-8",
         "-8",
         "-8",
         "-8",
         "-8",
         "-8",
         "-8",
         "-8",
         "-8",
         "-8",
         "-8",
         "-8",
         "-8",
         "-8",
         "-8",
         "-5",
         "-8",
         "-8",
         "-8",
         "-8",
         "-8",
         "-8",
         "-5",
         "-8",
         "-8",
         "-8",
         "-8",
         "-8",
         "-8",
         "-8",
         "-8",
         "-8",
         "-8",
         "-5",
         "-8",
         "-8",
         "-8",
         "-8",
         "-8",
         "2",
         "0",
         "-5",
         "-5",
         "-5",
         "-5",
         "-5",
         "-5",
         "-5",
         "0",
         "-5",
         "1",
         "1",
         "1",
         "1",
         "-3",
         "-3",
         "-3",
         "-3",
         "-3",
         "-3",
         "-3",
         "-3",
         "-3",
         "-3",
         "-3",
         "-3",
         "-3",
         "-3",
         "-3",
         "-3",
         "-3",
         "-3",
         "-5",
         "-5",
         "-5",
         "-5",
         "5",
         "7",
         "1",
         "1",
         "1",
         "1",
         "1",
         "1",
         "1",
         "1",
         "1",
         "1",
         "-5",
         "-5",
         "-5",
         "-5",
         "-5",
         "-5",
         "-5",
         "-5",
         "-5",
         "-5",
         "-5",
         "-5",
         "-5",
         "-5",
         "-5",
         "-5",
         "-5",
         "-5",
         "-5",
         "-5",
         "-5",
         "-5",
         "-5",
         "-5",
         "-5",
         "-5",
         "-5",
         "-5",
         "-5",
         "-5",
         "-5",
         "-5",
         "-5",
         "-5",
         "-5",
         "1",
         "1",
         "-5",
         "2",
         "1",
         "-3",
         "-3",
         "-3",
         "-3",
         "-3",
         "-3",
         "-3",
         "1",
         "1",
         "-3",
         "-3",
         "-3",
         "-3",
         "-3",
         "-3",
         "-3",
         "-3",
         "-3",
         "-3",
         "-3",
         "-3",
         "-3",
         "-5",
         "-5",
         "-5",
         "2",
         "-3",
         "-3",
         "-3",
         "-3",
         "-3",
         "-3",
         "-3",
         "-3",
         "-3",
         "-3",
         "-3",
         "-3",
         "-3",
         "-5",
         "-5",
         "1",
         "1",
         "1",
         "1",
         "0",
         "0",
         "4",
         "2",
         "0",
         "1",
         "0",
         "1",
         "3",
         "2",
         "4",
         "3",
         "3",
         "3",
         "3",
         "1",
         "1",
         "2",
         "-5",
         "-5",
         "-5",
         "-5",
         "-5",
         "-5",
         "-5",
         "-5",
         "-5",
         "-5",
         "-5",
         "-3",
         "-3",
         "-3",
         "-3",
         "-3",
         "-3",
         "-3",
         "-3",
         "0",
         "0",
         "0",
         "0",
         "0",
         "0",
         "0",
         "1",
         "0",
         "0",
         "0",
         "0",
         "0",
         "-5",
         "-5",
         "0",
         "0",
         "0",
         "0",
         "0",
         "1",
         "0",
         "0",
         "-5",
         "-3",
         "-3",
         "-5",
         "1",
         "-3",
         "-3",
         "-3",
         "-3",
         "-3",
         "-3",
         "-3",
         "-3",
         "-3",
         "-3",
         "-3",
         "-5",
         "1",
         "-3",
         "-5",
         "-5",
         "-5",
         "-5",
         "-3",
         "-5",
         "-3",
         "-5",
         "-3",
         "-3",
         "-3",
         "-3",
         "-3",
         "-3",
         "-3",
         "-3",
         "-5",
         "-5",
         "-3",
         "-5",
         "-3",
         "-3",
         "-3",
         "-3",
         "-5",
         "-3",
         "-5",
         "-5",
         "-5",
         "-5",
         "-3",
         "-5",
         "-3",
         "-5",
         "-3",
         "-3",
         "-3",
         "-3",
         "-3",
         "-3",
         "-3",
         "-3",
         "-5",
         "0",
         "-3",
         "-3",
         "-3",
         "-5",
         "-3",
         "-3",
         "-3",
         "-5",
         "0",
         "-3",
         "-3",
         "-3",
         "-5",
         "-3",
         "-3",
         "-3",
         "-5",
         "-5",
         "2",
         "0",
         "-5",
         "2",
         "0",
         "1",
         "-5",
         "-5",
         "9",
         "1",
         "-5",
         "-5",
         "-3",
         "0",
         "-5",
         "-3",
         "-5",
         "-5",
         "-3",
         "-5",
         "2",
         "-5",
         "1",
         "-5",
         "1",
         "-5",
         "0",
         "-5",
         "1",
         "0",
         "-5",
         "0",
         "-5",
         "0",
         "-5",
         "0",
         "1",
         "0",
         "0",
         "0",
         "0",
         "0",
         "1",
         "0",
         "0",
         "2",
         "0",
         "1",
         "0",
         "0",
         "1",
         "0",
         "0",
         "0",
         "0",
         "0",
         "0",
         "0",
         "1",
         "0",
         "0",
         "0",
         "0",
         "0",
         "1",
         "0",
         "0",
         "1",
         "0",
         "0",
         "0",
         "0",
         "0",
         "-3",
         "-3",
         "-5",
         "-3",
         "-5",
         "-5",
         "-5",
         "-5",
         "-5",
         "-5",
         "-5",
         "-3",
         "-5",
         "2011",
         "1",
         "-3",
         "1",
         "1",
         "0",
         "1",
         "0",
         "1",
         "3",
         "2",
         "2",
         "3",
         "-3",
         "-3",
         "-3",
         "-3",
         "-3",
         "-3",
         "-3",
         "-3",
         "-3",
         "-5",
         "0",
         "-5",
         "-3",
         "-5",
         "-3",
         "-3",
         "-3",
         "-3",
         "1",
         "3",
         "3",
         "0",
         "-3",
         "-3",
         "0",
         "-3",
         "-3",
         "-3",
         "-3",
         "-3",
         "-3",
         "-3",
         "-3",
         "-3",
         "-3",
         "-3",
         "0",
         "-3",
         "-3",
         "-3",
         "-3",
         "-5",
         "-3",
         "-3",
         "-3",
         "-3",
         "-3",
         "-3",
         "1",
         "1",
         "0",
         "1",
         "2011",
         "0",
         "0",
         "-5",
         "-5",
         "2011",
         "2",
         "-3",
         "-3",
         "-3",
         "-3",
         "1",
         "0",
         "25",
         "-3",
         "2",
         "0",
         "3",
         "5",
         "2",
         "4",
         "4",
         "4",
         "4",
         "1",
         "-3",
         "-5",
         "2",
         "0",
         "0",
         "0",
         "0",
         "1",
         "1",
         "0",
         "-3",
         "-3",
         "-3",
         "-3",
         "-3",
         "-3",
         "-3",
         "-3",
         "-3",
         "-3",
         "20",
         "20",
         "3",
         "-3",
         "3",
         "-3",
         "0",
         "-3",
         "-3",
         "-3",
         "0",
         "0",
         "0",
         "0",
         "1",
         "0",
         "0",
         "0",
         "0",
         "0",
         "1",
         "1",
         "-5",
         "-5",
         "9",
         "-5",
         "-3",
         "-5",
         "-5",
         "-5",
         "0",
         "-3",
         "0",
         "0",
         "-5",
         "-5",
         "-5",
         "-5",
         "-5",
         "-5",
         "-5",
         "-3",
         "-3",
         "-3",
         "-3",
         "-5",
         "-5",
         "-5",
         "0",
         "0",
         "-5",
         "-5",
         "-5",
         "-5",
         "1",
         "0",
         "3",
         "0",
         "1",
         "1",
         "0",
         "0",
         "0",
         "1",
         "0",
         "0",
         "0",
         "0",
         "-5",
         "3",
         "-5",
         "-3",
         "0",
         "0",
         "-9",
         "0",
         "-3",
         "-3",
         "-3",
         "-3",
         "-3",
         "-3",
         "-3",
         "0",
         "2",
         "0",
         "3",
         "1",
         "1",
         "0",
         "1",
         "0",
         "0",
         "0",
         "1",
         "0",
         "1",
         "0",
         "0",
         "0",
         "0",
         "0",
         "0",
         "0",
         "1",
         "2",
         "1",
         "1",
         "2",
         "1",
         "1",
         "2",
         "1",
         "1",
         "-3",
         "-5",
         "-3",
         "-3",
         "-9",
         "-3",
         "-3",
         "-5",
         "-5",
         "-5",
         "-5",
         "-5",
         "-5",
         "-5",
         "-5",
         "-5",
         "2",
         "2",
         "3",
         "3",
         "2",
         "3",
         "2",
         "3",
         "3",
         "3",
         "3",
         "2",
         "-3",
         "-9",
         "1",
         "1",
         "8",
         "-9",
         "-9",
         "-9",
         "-9",
         "-9",
         "-9",
         "-9",
         "-9",
         "-9",
         "-9",
         "-9",
         "-9",
         "5",
         "0",
         "1",
         "1953",
         "1964",
         "0",
         "-5",
         "-5",
         "-5",
         "-5",
         "-5",
         "-5",
         "-5",
         "3",
         "13",
         "-5",
         "-5",
         "3",
         "13",
         "-5",
         "-5",
         "3",
         "2",
         "0",
         "-3",
         "-3",
         "-3",
         "-3",
         "-3",
         "-3",
         "-3",
         "-3",
         "-3",
         "-3",
         "-3",
         "-3",
         "-3",
         "0",
         "-5",
         "3",
         "1",
         "2",
         "2",
         "1",
         "1",
         "1",
         "1",
         "0",
         "0",
         "0",
         "0",
         "0",
         "8",
         "5",
         "-9",
         "1",
         "7",
         "1",
         "8",
         "1",
         "-3",
         "1",
         "-5",
         "-5",
         "9",
         "3",
         "-9",
         "0",
         "-5",
         "-5",
         "-3",
         "1",
         "1",
         "0",
         "1",
         "0",
         "0",
         "-3",
         "-3",
         "-3",
         "-3",
         "-3",
         "-3",
         "-3",
         "-3",
         "-3",
         "-3",
         "-3",
         "-3",
         "-3",
         "-3",
         "0",
         "-3",
         "-3",
         "-3",
         "-3",
         "-3",
         "-3",
         "-3",
         "-3",
         "0",
         "1",
         "1",
         "1",
         "1",
         "1",
         "1",
         "1",
         "2",
         "1",
         "1",
         "1",
         "1",
         "1",
         "1",
         "1",
         "1",
         "2",
         "2",
         "2",
         "1",
         "0",
         "1",
         "1",
         "1",
         "0",
         "2",
         "2",
         "3",
         "1",
         "3",
         "3",
         "2",
         "3",
         "3",
         "2",
         "4",
         "4",
         "4",
         "3",
         "3",
         "4",
         "2",
         "2",
         "4",
         "3",
         "3",
         "3",
         "2",
         "3",
         "1",
         "1",
         "1",
         "1",
         "1",
         "1",
         "1",
         "1",
         "-3",
         "-3",
         "-3",
         "-3",
         "1",
         "1",
         "2",
         "1",
         "0",
         "-3",
         "-3",
         "-3",
         "-3",
         "-3",
         "-3",
         "6",
         "1",
         "3",
         "1",
         "1",
         "1",
         "0",
         "1",
         "2",
         "1",
         "1",
         "-6",
         "1",
         "1",
         "1",
         "2",
         "2",
         "1",
         "2",
         "3",
         "2",
         "3",
         "2",
         "2",
         "2",
         "4",
         "4",
         "4",
         "-1",
         "-1",
         "-1",
         "-1",
         "-1",
         "4",
         "2",
         "7",
         "2",
         "1",
         "1",
         "2",
         "3",
         "2",
         "2",
         "3",
         "2",
         "2",
         "2",
         "2",
         "2",
         "2",
         "2",
         "7",
         "1",
         "0",
         "1",
         "0",
         "1",
         "0",
         "-9",
         "1",
         "0",
         "0",
         "0",
         "1",
         "0",
         "0",
         "4",
         "11",
         "1",
         "0",
         "-3",
         "-3",
         "-3",
         "-3",
         "-3",
         "200206",
         "1",
         "2",
         "1",
         "1",
         "1",
         "0",
         "1",
         "-3",
         "-3",
         "-3",
         "-3",
         "1",
         "2",
         "2",
         "0",
         "0",
         "-3",
         "-3",
         "-3",
         "-3",
         "-3",
         "5",
         "1",
         "1",
         "5",
         "1",
         "-3",
         "-3",
         "-3",
         "6",
         "2",
         "2",
         "2",
         "1",
         "2",
         "0",
         "-5",
         "-5",
         "-5",
         "-5",
         "-5",
         "1942",
         "0",
         "25",
         "25",
         "25",
         "1",
         "1",
         "0",
         "0",
         "1",
         "0",
         "0",
         "0",
         "0",
         "1",
         "2",
         "-3",
         "-3",
         "5",
         "5",
         "1",
         "5",
         "4",
         "3",
         "3",
         "1",
         "2",
         "2",
         "2",
         "3",
         "2",
         "6",
         "4",
         "3",
         "1",
         "24",
         "1",
         "1",
         "1",
         "1",
         "1",
         "1",
         "1",
         "10",
         "0",
         "-3",
         "3",
         "1",
         "2",
         "2",
         "1",
         "1",
         "1",
         "1",
         "200204",
         "1",
         "1",
         "1",
         "1",
         "1",
         "0",
         "0",
         "0",
         "0",
         "0",
         "0",
         "1",
         "1",
         "2",
         "0",
         "0",
         "-3",
         "-3",
         "-3",
         "-3",
         "-3",
         "5",
         "2",
         "1",
         "5",
         "1",
         "-3",
         "-3",
         "1",
         "7",
         "1",
         "0",
         "-5",
         "-5",
         "-5",
         "-5",
         "-5",
         "1964",
         "0",
         "10",
         "-9",
         "10",
         "1",
         "1",
         "0",
         "0",
         "1",
         "0",
         "0",
         "0",
         "0",
         "-9",
         "-9",
         "-3",
         "-3",
         "-9",
         "-9",
         "1",
         "4",
         "1",
         "1",
         "1",
         "1",
         "1",
         "3",
         "1",
         "1",
         "1",
         "3",
         "2",
         "1",
         "1",
         "0",
         "0",
         "1",
         "0",
         "1",
         "0",
         "1",
         "0",
         "10",
         "1",
         "0",
         "1",
         "0",
         "1",
         "2",
         "1",
         "2",
         "1",
         "1",
         "2",
         "3",
         "200205",
         "1",
         "-5",
         "1",
         "6",
         "1",
         "6",
         "5",
         "8",
         "-5",
         "-5",
         "-5",
         "-5",
         "-5",
         "-5",
         "-5",
         "-5",
         "-5",
         "-5",
         "-5",
         "-5",
         "-5",
         "-5",
         "-5",
         "-5",
         "-5",
         "-5",
         "-5",
         "-5",
         "-5",
         "-5",
         "-5",
         "-5",
         "-5",
         "-5",
         "-5",
         "-5",
         "-5",
         "-5",
         "-5",
         "-5",
         "-5",
         "-5",
         "-5",
         "-5",
         "-5",
         "-5",
         "-5",
         "-5",
         "-5",
         "-5",
         "-5",
         "-5",
         "-5",
         "-5",
         "-5",
         "-5",
         "-5",
         "-5",
         "-5",
         "-5",
         "-5",
         "-5",
         "-5",
         "-5",
         "-5",
         "-5",
         "-5",
         "-5",
         "-5",
         "-5",
         "-5",
         "-5",
         "-5",
         "-5",
         "-5",
         "-5",
         "-5",
         "-5",
         "-5",
         "-5",
         "-5",
         "-5",
         "-5",
         "-5",
         "-5",
         "1",
         "2",
         "3",
         "180",
         "9",
         "40",
         "8",
         "1",
         "2",
         "-3",
         "90",
         "-3",
         "-9",
         "-3",
         "-9",
         "-3",
         "-3",
         "3",
         "-9",
         "-9",
         "-9",
         "-9",
         "-9",
         "-9",
         "-9",
         "-9",
         "-9",
         "-9",
         "-9",
         "2",
         "2",
         "1",
         "1",
         "3",
         "1",
         "1",
         "3",
         "3",
         "2",
         "2",
         "2",
         "2",
         "1",
         "1",
         "3",
         "2",
         "3",
         "2",
         "-9",
         "-9",
         "-9",
         "0",
         "0",
         "0",
         "0",
         "0",
         "0",
         "1",
         "0",
         "0",
         "1",
         "1",
         "0",
         "1",
         "0",
         "1",
         "0",
         "1",
         "1",
         "0",
         "0",
         "1",
         "1",
         "0",
         "0",
         "0",
         "0",
         "1",
         "1",
         "1",
         "1",
         "1",
         "0",
         "0",
         "0",
         "0",
         "0",
         "1",
         "0",
         "0",
         "1",
         "0",
         "1",
         "0",
         "0",
         "0",
         "0",
         "2",
         "-5",
         "-5",
         "0",
         "16",
         "12",
         "3",
         "1",
         "16",
         "10",
         "0",
         "14",
         "2",
         "11",
         "10",
         "25",
         "100",
         "-3",
         "100",
         "0",
         "37215",
         "67639",
         "1",
         "1",
         "0",
         "1",
         "0",
         "0",
         "0",
         "0",
         "0",
         "0",
         "1",
         "1",
         "1",
         "1",
         "1",
         "-3",
         "-3",
         "-3",
         "-3",
         "1",
         "-3",
         "-3",
         "-3",
         "-3",
         "2",
         "-3",
         "-3",
         "-3",
         "-3",
         "2",
         "-3",
         "-3",
         "-3",
         "-3",
         "1",
         "-3",
         "-3",
         "-3",
         "-3",
         "1",
         "-3",
         "-3",
         "-3",
         "-3",
         "1",
         "1",
         "0",
         "1",
         "-9",
         "1",
         "1",
         "1",
         "1",
         "1",
         "1",
         "1",
         "1",
         "0",
         "0",
         "0",
         "0",
         "0",
         "1",
         "0",
         "0",
         "0",
         "0",
         "0",
         "0",
         "1",
         "1",
         "1",
         "0",
         "0",
         "1",
         "1",
         "0",
         "0",
         "0",
         "1",
         "1",
         "1",
         "1",
         "1",
         "1",
         "1",
         "1",
         "1",
         "1",
         "1",
         "1",
         "1",
         "1",
         "1",
         "1",
         "1",
         "1",
         "1",
         "0",
         "1",
         "0",
         "1",
         "1",
         "0",
         "1",
         "0",
         "1",
         "1",
         "1",
         "1",
         "1",
         "1",
         "1",
         "1",
         "1",
         "1",
         "3",
         "3",
         "3",
         "3",
         "3",
         "2",
         "3",
         "3",
         "2",
         "2",
         "2",
         "2",
         "3",
         "3",
         "1",
         "1",
         "2",
         "1",
         "1",
         "3",
         "2",
         "4",
         "4",
         "4",
         "4",
         "4",
         "4",
         "4",
         "4",
         "3",
         "3",
         "3",
         "1",
         "1",
         "4",
         "4",
         "1",
         "1",
         "1",
         "1",
         "1",
         "1",
         "1",
         "1",
         "1",
         "1",
         "1",
         "4",
         "4",
         "4",
         "3",
         "3",
         "200205",
         "-5",
         "180",
         "3",
         "0",
         "-3",
         "0",
         "-3",
         "0",
         "-3",
         "1",
         "0",
         "0",
         "0",
         "0",
         "0",
         "2",
         "2",
         "3",
         "1",
         "4",
         "4",
         "3",
         "4",
         "3",
         "4",
         "1",
         "7",
         "6",
         "6",
         "6",
         "2",
         "2",
         "4",
         "7",
         "1",
         "0",
         "0",
         "0",
         "0",
         "0",
         "1",
         "2",
         "4",
         "4",
         "2",
         "1",
         "2",
         "3",
         "3",
         "1",
         "1",
         "3",
         "3",
         "3",
         "3",
         "1",
         "1",
         "1",
         "1",
         "1",
         "1",
         "1",
         "1",
         "0",
         "1",
         "1",
         "0",
         "0",
         "50",
         "3",
         "3",
         "3",
         "2",
         "1",
         "2",
         "45",
         "45",
         "10",
         "4",
         "4",
         "3",
         "1",
         "3",
         "4",
         "1",
         "3",
         "5",
         "2",
         "1",
         "2",
         "1",
         "0",
         "1",
         "1",
         "1",
         "1",
         "-5",
         "7",
         "24",
         "8",
         "0",
         "45",
         "0",
         "0",
         "-3",
         "-3",
         "-3",
         "-3",
         "-3",
         "-3",
         "-3",
         "-3",
         "-3",
         "-3",
         "-3",
         "-3",
         "-3",
         "-3",
         "-3",
         "-3",
         "-5",
         "1",
         "1",
         "-5",
         "2",
         "-5",
         "9",
         "-5",
         "7",
         "-5",
         "1",
         "-5",
         "1",
         "3",
         "0",
         "5",
         "0",
         "92",
         "3",
         "0",
         "0",
         "0",
         "0",
         "90",
         "8",
         "1",
         "1",
         "100",
         "3",
         "20",
         "47",
         "30",
         "4",
         "4",
         "4",
         "4",
         "4",
         "4",
         "4",
         "1",
         "4",
         "5",
         "4",
         "4",
         "1",
         "4",
         "4",
         "1",
         "1",
         "4",
         "4",
         "4",
         "4",
         "4",
         "4",
         "4",
         "4",
         "5",
         "4",
         "4",
         "4",
         "4",
         "4",
         "4",
         "4",
         "200404",
         "1",
         "108",
         "0",
         "1",
         "1",
         "1",
         "0",
         "1",
         "1",
         "1",
         "1",
         "2",
         "0",
         "0",
         "-3",
         "-3",
         "0",
         "-3",
         "-3",
         "1",
         "1",
         "0",
         "0",
         "-3",
         "-3",
         "0",
         "-3",
         "1",
         "3",
         "0",
         "1",
         "1",
         "1",
         "1",
         "0",
         "1",
         "1",
         "1",
         "3",
         "1",
         "1",
         "1",
         "1",
         "3",
         "1",
         "1",
         "1",
         "0",
         "-3",
         "-3",
         "-3",
         "-3",
         "0",
         "-3",
         "-3",
         "-3",
         "-3",
         "0",
         "-3",
         "-3",
         "-3",
         "-3",
         "1",
         "3",
         "1",
         "1",
         "1",
         "1",
         "3",
         "1",
         "1",
         "1",
         "1",
         "3",
         "0",
         "0",
         "1",
         "1",
         "3",
         "1",
         "1",
         "1",
         "1",
         "3",
         "1",
         "1",
         "1",
         "0",
         "-3",
         "-3",
         "-3",
         "-3",
         "1",
         "3",
         "1",
         "1",
         "1",
         "0",
         "-3",
         "-3",
         "-3",
         "-3",
         "1",
         "3",
         "1",
         "1",
         "1",
         "1",
         "1",
         "1",
         "1",
         "1",
         "1",
         "3",
         "1",
         "1",
         "1",
         "0",
         "-3",
         "-3",
         "-3",
         "-3",
         "0",
         "-3",
         "-3",
         "-3",
         "-3",
         "1",
         "0",
         "1",
         "1",
         "0",
         "1",
         "0",
         "1",
         "0",
         "0",
         "0",
         "0",
         "0",
         "0",
         "0",
         "0",
         "0",
         "1",
         "2",
         "2",
         "3",
         "2",
         "0",
         "-3",
         "5",
         "2",
         "-3",
         "-3",
         "-3",
         "-3",
         "-3",
         "5",
         "14",
         "20",
         "2",
         "4",
         "200",
         "3",
         "0",
         "1",
         "1",
         "0",
         "0",
         "0",
         "0",
         "0",
         "1",
         "6",
         "3",
         "1",
         "1",
         "1",
         "0",
         "1",
         "1",
         "200204",
         "0",
         "0",
         "0",
         "0",
         "0",
         "1",
         "0",
         "0",
         "1",
         "1",
         "2",
         "3",
         "4",
         "4",
         "4",
         "0",
         "0",
         "0",
         "0",
         "1",
         "0",
         "0",
         "0",
         "0",
         "0",
         "0",
         "0",
         "0",
         "0",
         "1",
         "1",
         "0",
         "0",
         "0",
         "0",
         "0",
         "1",
         "1",
         "4",
         "0",
         "0",
         "0",
         "1",
         "1",
         "1",
         "1",
         "1",
         "1",
         "0",
         "0",
         "0",
         "1",
         "1",
         "1",
         "1",
         "1",
         "1",
         "1",
         "0",
         "0"
        ],
        [
         "2",
         "101104",
         "-5",
         "101",
         "1",
         "1011",
         "101",
         "1",
         "1",
         "-5",
         "101",
         "1111",
         "11111",
         "11111",
         "1",
         "1",
         "589.7248",
         "-5",
         "2",
         "-5",
         "7",
         "-5",
         "-5",
         "-5",
         "-5",
         "-5",
         "-5",
         "-5",
         "-5",
         "-5",
         "1",
         "1",
         "4",
         "-5",
         "198601",
         "-5",
         "7",
         "1",
         "4",
         "1",
         "1",
         "1",
         "3",
         "2",
         "2",
         "2",
         "2",
         "5",
         "5",
         "10",
         "-0.85",
         "1",
         "-0.68",
         "1",
         "0",
         "-3",
         "0",
         "2",
         "-9",
         "-1",
         "7",
         "-1",
         "10",
         "2",
         "1",
         "-5",
         "200204",
         "3",
         "-5",
         "-5",
         "1",
         "2",
         "1",
         "1",
         "1",
         "0",
         "-5",
         "-5",
         "0",
         "66.5",
         "4",
         "66.24",
         "42.68",
         "54.15",
         "635.82",
         "654.43",
         "56.717",
         "66.44",
         "4",
         "1.0",
         "1.0",
         "1.0",
         "0.974",
         "0.02",
         "-5",
         "-5",
         "-5",
         "-5",
         "-5",
         "-5",
         "-5",
         "43.536",
         "64.46",
         "4",
         "1.0",
         "0.992",
         "0.406",
         "-0.154",
         "-0.933",
         "-0.072",
         "-0.426",
         "0.326",
         "0.743",
         "0.996",
         "-5",
         "-5",
         "-5",
         "-5",
         "-5",
         "-5",
         "-5",
         "-5",
         "7",
         "-5",
         "7",
         "-5",
         "7",
         "0",
         "1",
         "2",
         "2",
         "2",
         "2",
         "2",
         "1",
         "2",
         "2",
         "0",
         "0",
         "2",
         "-9",
         "1",
         "0",
         "0",
         "-5",
         "7",
         "3",
         "-5",
         "7",
         "5",
         "-1.09",
         "-0.914",
         "-5",
         "6",
         "-9",
         "1",
         "1",
         "1",
         "1",
         "1",
         "3",
         "5",
         "-0.269",
         "-9.0",
         "-0.051",
         "-5",
         "-5",
         "-5",
         "-5",
         "0",
         "-5",
         "-5",
         "0",
         "0",
         "0",
         "0",
         "0",
         "0",
         "0",
         "0",
         "0",
         "0",
         "0",
         "0",
         "0",
         "709.4246",
         "725.6926",
         "-5",
         "-5",
         "2",
         "-5",
         "7",
         "-5",
         "-5",
         "-5",
         "-5",
         "-5",
         "-5",
         "-5",
         "-5",
         "-5",
         "1",
         "1",
         "-5",
         "198601",
         "1",
         "2",
         "2",
         "2",
         "5",
         "5",
         "-5",
         "-5",
         "-0.86",
         "1",
         "-5",
         "-5",
         "-0.69",
         "1",
         "6",
         "6",
         "-9",
         "-9",
         "-5",
         "1",
         "1",
         "1",
         "1",
         "1",
         "1",
         "0",
         "0",
         "0",
         "0",
         "0",
         "0",
         "-5",
         "-5",
         "0",
         "5",
         "-5",
         "-5",
         "-5",
         "-5",
         "-5",
         "-5",
         "-5",
         "12",
         "66.01",
         "70.14",
         "64.26",
         "-5",
         "-5",
         "-5",
         "-5",
         "-5",
         "-5",
         "4",
         "69.64",
         "1.0",
         "1.0",
         "1.0",
         "1.0",
         "0.1",
         "4.13",
         "-5",
         "-5",
         "200404",
         "-5",
         "6",
         "5",
         "2",
         "0",
         "2",
         "5",
         "11",
         "-0.215",
         "0",
         "0",
         "-5",
         "-5",
         "0",
         "0",
         "0",
         "0",
         "0",
         "0",
         "0",
         "0",
         "-5",
         "0",
         "4",
         "730.242",
         "30",
         "-5",
         "-5",
         "-5",
         "-5",
         "-5",
         "-5",
         "-5",
         "-5",
         "-5",
         "-5",
         "-5",
         "-5",
         "-5",
         "-5",
         "-5",
         "-5",
         "-5",
         "-5",
         "-5",
         "-5",
         "-5",
         "-5",
         "-5",
         "-5",
         "-5",
         "-5",
         "-5",
         "-5",
         "-5",
         "-5",
         "-5",
         "-5",
         "-5",
         "-5",
         "-5",
         "-5",
         "-5",
         "-5",
         "-5",
         "-5",
         "-5",
         "-5",
         "-5",
         "-5",
         "-5",
         "-5",
         "-5",
         "-5",
         "-5",
         "-5",
         "-5",
         "-5",
         "-5",
         "-5",
         "-5",
         "-5",
         "-5",
         "-5",
         "-5",
         "-5",
         "-5",
         "-5",
         "-5",
         "-5",
         "-5",
         "-5",
         "-5",
         "-5",
         "-5",
         "-5",
         "-5",
         "-5",
         "-5",
         "-5",
         "-5",
         "-5",
         "-5",
         "-5",
         "-5",
         "-5",
         "-5",
         "-5",
         "-5",
         "-5",
         "-5",
         "-5",
         "-5",
         "-5",
         "-5",
         "-5",
         "-5",
         "-5",
         "-5",
         "-5",
         "-5",
         "-5",
         "-5",
         "-5",
         "-5",
         "-5",
         "-5",
         "5",
         "-5",
         "-5",
         "-5",
         "-5",
         "-5",
         "-5",
         "-5",
         "-5",
         "-5",
         "-5",
         "-5",
         "-5",
         "-5",
         "-5",
         "-5",
         "-5",
         "-5",
         "-5",
         "-5",
         "-5",
         "-5",
         "-5",
         "-5",
         "-5",
         "-5",
         "-5",
         "-5",
         "-5",
         "-5",
         "-5",
         "-5",
         "-5",
         "-5",
         "-5",
         "-5",
         "-5",
         "-5",
         "-5",
         "-5",
         "-5",
         "-5",
         "-5",
         "-5",
         "-5",
         "-5",
         "-5",
         "-5",
         "-5",
         "-5",
         "-5",
         "-5",
         "-5",
         "-5",
         "-5",
         "-5",
         "-5",
         "-5",
         "-5",
         "-5",
         "-5",
         "-5",
         "-5",
         "-5",
         "-5",
         "-5",
         "4",
         "4",
         "-5",
         "-5",
         "-5",
         "-5",
         "-5",
         "-5",
         "-5",
         "-5",
         "-5",
         "-5",
         "-5",
         "-5",
         "-5",
         "-5",
         "-5",
         "-5",
         "-5",
         "-5",
         "-5",
         "-5",
         "-5",
         "-5",
         "-5",
         "-5",
         "-5",
         "-5",
         "-5",
         "-5",
         "-5",
         "-5",
         "-5",
         "-5",
         "-5",
         "-5",
         "-5",
         "-5",
         "-5",
         "-5",
         "-5",
         "-5",
         "-5",
         "-5",
         "-5",
         "-5",
         "-5",
         "-5",
         "-5",
         "-5",
         "-5",
         "-5",
         "-5",
         "-5",
         "-5",
         "-5",
         "-5",
         "-5",
         "-5",
         "-5",
         "-5",
         "-5",
         "-5",
         "-5",
         "-5",
         "-5",
         "-5",
         "-5",
         "-5",
         "-5",
         "-5",
         "-5",
         "-5",
         "-5",
         "-5",
         "-5",
         "-5",
         "-5",
         "-5",
         "-5",
         "-5",
         "-5",
         "-5",
         "-5",
         "-5",
         "-5",
         "-5",
         "-5",
         "-5",
         "-5",
         "-5",
         "-5",
         "-5",
         "-5",
         "755.4681",
         "660.0555",
         "713.1807",
         "662.1222",
         "-5",
         "1",
         "2",
         "1",
         "-5",
         "0",
         "0",
         "0",
         "12",
         "-5",
         "1",
         "1",
         "1",
         "6",
         "5",
         "2004",
         "-3",
         "-5",
         "-5",
         "-5",
         "-5",
         "0",
         "2",
         "-3",
         "-3",
         "-5",
         "-5",
         "-5",
         "-5",
         "-5",
         "-3",
         "-3",
         "-3",
         "-3",
         "-3",
         "-3",
         "-3",
         "-3",
         "-3",
         "-3",
         "-3",
         "-3",
         "-3",
         "-3",
         "-3",
         "-3",
         "-3",
         "-3",
         "-3",
         "-3",
         "1",
         "1",
         "3",
         "3",
         "3",
         "3",
         "9",
         "3",
         "9",
         "1",
         "-5",
         "-5",
         "-5",
         "-5",
         "-5",
         "1",
         "1",
         "1",
         "1",
         "1",
         "-5",
         "1",
         "1",
         "0",
         "0",
         "1",
         "2",
         "1",
         "0",
         "2",
         "3",
         "4",
         "2",
         "-5",
         "5",
         "9",
         "9",
         "0",
         "0",
         "-5",
         "0",
         "0",
         "0",
         "0",
         "0",
         "0",
         "0",
         "0",
         "1",
         "1",
         "1",
         "1",
         "1",
         "1",
         "1",
         "1",
         "1",
         "0",
         "0",
         "0",
         "1",
         "1",
         "1",
         "1",
         "1",
         "-5",
         "-5",
         "-5",
         "-5",
         "-5",
         "-5",
         "-5",
         "0",
         "1",
         "4",
         "1",
         "1",
         "1",
         "1",
         "7",
         "7",
         "-5",
         "-5",
         "7",
         "4",
         "1",
         "-3",
         "-5",
         "-5",
         "-5",
         "-3",
         "-3",
         "-3",
         "-5",
         "-5",
         "-5",
         "-3",
         "-3",
         "-3",
         "-3",
         "-3",
         "12",
         "3",
         "9",
         "-3",
         "-3",
         "-3",
         "-3",
         "-3",
         "-3",
         "-3",
         "-3",
         "-3",
         "-3",
         "-3",
         "-3",
         "-3",
         "-3",
         "-3",
         "-3",
         "-3",
         "-3",
         "-3",
         "-3",
         "-3",
         "-3",
         "-3",
         "-3",
         "-3",
         "4",
         "-5",
         "-5",
         "-5",
         "-5",
         "-5",
         "-5",
         "-5",
         "-5",
         "-5",
         "-5",
         "-5",
         "-5",
         "-5",
         "-5",
         "-5",
         "-5",
         "-5",
         "-5",
         "-5",
         "-5",
         "-5",
         "-5",
         "-5",
         "-5",
         "-5",
         "-5",
         "-5",
         "-5",
         "-5",
         "-5",
         "-5",
         "-5",
         "-5",
         "-5",
         "-5",
         "-5",
         "-5",
         "-5",
         "-5",
         "-5",
         "-5",
         "-5",
         "-5",
         "-5",
         "-5",
         "-5",
         "-5",
         "-5",
         "-5",
         "-5",
         "-5",
         "-5",
         "-5",
         "-5",
         "-5",
         "-5",
         "-5",
         "-5",
         "-5",
         "1",
         "4",
         "2",
         "0",
         "-5",
         "-5",
         "-5",
         "200603",
         "0",
         "0",
         "0",
         "0",
         "-5",
         "-5",
         "-5",
         "-5",
         "-5",
         "-5",
         "-5",
         "-5",
         "-5",
         "-5",
         "-5",
         "-5",
         "-5",
         "-5",
         "-5",
         "-5",
         "-5",
         "-5",
         "-5",
         "-5",
         "-5",
         "-5",
         "-5",
         "-5",
         "-5",
         "-5",
         "-5",
         "-5",
         "-5",
         "-5",
         "-5",
         "-5",
         "-5",
         "-5",
         "-5",
         "-5",
         "-5",
         "-5",
         "-5",
         "-5",
         "651.1079",
         "649.7293",
         "695.9404",
         "658.0617",
         "666.7643",
         "716.6831",
         "0",
         "1",
         "-5",
         "1",
         "2004",
         "0",
         "0",
         "-3",
         "-3",
         "-3",
         "-3",
         "-3",
         "-3",
         "-3",
         "-5",
         "3",
         "1",
         "5",
         "2004",
         "1",
         "1",
         "1",
         "-5",
         "0",
         "2",
         "3",
         "1",
         "1",
         "1",
         "-5",
         "2004",
         "1",
         "45",
         "3",
         "48",
         "1",
         "1",
         "0",
         "0",
         "1",
         "0",
         "0",
         "1",
         "0",
         "0",
         "-5",
         "1",
         "0",
         "0",
         "1",
         "0",
         "0",
         "1",
         "0",
         "0",
         "-5",
         "2",
         "6",
         "2008",
         "-5",
         "-5",
         "4",
         "2",
         "1",
         "6",
         "3",
         "1",
         "1",
         "2",
         "27",
         "-5",
         "9",
         "-5",
         "-5",
         "37000",
         "-5",
         "70000",
         "-5",
         "-5",
         "-5",
         "1",
         "40000",
         "400",
         "-0.4032",
         "-1.686",
         "-0.8841",
         "-1",
         "-5",
         "-1",
         "5",
         "5",
         "-9",
         "-3",
         "0.65",
         "4",
         "4",
         "2",
         "-3",
         "-5",
         "-3",
         "0",
         "-5",
         "0",
         "1",
         "30",
         "30",
         "30",
         "0",
         "1",
         "-5",
         "0",
         "-5",
         "0",
         "0",
         "0",
         "0",
         "0",
         "0",
         "0",
         "0",
         "0",
         "-5",
         "-5",
         "-5",
         "658.0617",
         "666.7643",
         "716.6831",
         "2",
         "-5",
         "-5",
         "-5",
         "-5",
         "-5",
         "-5",
         "-5",
         "17000",
         "14000",
         "14500",
         "17000",
         "0",
         "0",
         "0",
         "9000",
         "0",
         "-5",
         "-5",
         "-5",
         "-5",
         "-5",
         "-5",
         "-5",
         "-5",
         "-5",
         "-5",
         "-5",
         "-5",
         "0",
         "-5",
         "-5",
         "-5",
         "-5",
         "-5",
         "-5",
         "-5",
         "-5",
         "-5",
         "1",
         "-5",
         "-5",
         "-5",
         "-5",
         "-5",
         "-5",
         "-5",
         "-5",
         "-5",
         "4",
         "-5",
         "-5",
         "-5",
         "-5",
         "-5",
         "-5",
         "-5",
         "-5",
         "-5",
         "-5",
         "-5",
         "-5",
         "-5",
         "-5",
         "-5",
         "-5",
         "-5",
         "-5",
         "-5",
         "-5",
         "-5",
         "-5",
         "-5",
         "-5",
         "-5",
         "-5",
         "-5",
         "869.4978",
         "826.3923",
         "888.7478",
         "893.5532",
         "971.6948",
         "829.1755",
         "880.5354",
         "819.3783",
         "1",
         "1",
         "2",
         "2",
         "2",
         "-5",
         "41",
         "0",
         "-3",
         "-5",
         "-5",
         "1",
         "2",
         "2004",
         "3",
         "2008",
         "1",
         "1",
         "0",
         "-5",
         "1",
         "3",
         "0",
         "1",
         "-5",
         "-5",
         "1",
         "2",
         "2004",
         "-3",
         "-3",
         "-5",
         "-3",
         "-3",
         "-5",
         "-3",
         "-3",
         "-5",
         "-3",
         "-3",
         "-5",
         "2008",
         "50",
         "-5",
         "2008",
         "50",
         "-5",
         "9",
         "0",
         "0",
         "0",
         "0",
         "45",
         "-3",
         "-3",
         "45",
         "-5",
         "-5",
         "-5",
         "-5",
         "-5",
         "-5",
         "0",
         "0",
         "0",
         "0",
         "0",
         "0",
         "0",
         "132",
         "132",
         "-5",
         "3.25",
         "3.25",
         "3.25",
         "-3.0",
         "36",
         "32",
         "-5",
         "2.75",
         "3.25",
         "-5",
         "4",
         "3.25",
         "1",
         "-5",
         "4",
         "3.25",
         "1",
         "-5",
         "4",
         "3.25",
         "1",
         "-5",
         "8",
         "2.5",
         "2",
         "-5",
         "4",
         "4.0",
         "1",
         "-5",
         "0",
         "-3.0",
         "0",
         "-5",
         "0",
         "-3.0",
         "0",
         "-5",
         "0",
         "-3.0",
         "0",
         "-5",
         "0",
         "-3.0",
         "-5",
         "-5",
         "0",
         "-3.0",
         "0",
         "-5",
         "-5",
         "3.25",
         "30",
         "-5",
         "-5",
         "3.0",
         "6",
         "-5",
         "-5",
         "4.0",
         "2",
         "-5",
         "-5",
         "3.0",
         "4",
         "-5",
         "-5",
         "3.25",
         "8",
         "27",
         "-5",
         "-9",
         "-5",
         "51",
         "-5",
         "53",
         "-5",
         "00",
         "-9",
         "00",
         "00",
         "-5",
         "00",
         "-3",
         "-1",
         "00",
         "0",
         "0",
         "0",
         "0",
         "-5",
         "-5",
         "-5",
         "-5",
         "-5",
         "2",
         "0",
         "-5",
         "-5",
         "-5",
         "-5",
         "-5",
         "-5",
         "-5",
         "3",
         "3",
         "3",
         "2",
         "3",
         "2",
         "3",
         "3",
         "3",
         "-9",
         "2",
         "3",
         "2",
         "2",
         "2",
         "3",
         "2",
         "2",
         "2",
         "2",
         "1",
         "2",
         "1",
         "1",
         "1",
         "1",
         "2",
         "1",
         "1",
         "1",
         "0",
         "0",
         "0",
         "2",
         "1",
         "2",
         "1",
         "1",
         "1",
         "1",
         "2",
         "0",
         "-5",
         "-5",
         "-5",
         "-5",
         "-5",
         "10",
         "2",
         "1",
         "1",
         "2",
         "0",
         "-5",
         "-5",
         "-5",
         "-5",
         "-5",
         "10",
         "3",
         "1",
         "1",
         "1",
         "0",
         "-5",
         "-5",
         "-5",
         "-5",
         "-5",
         "10",
         "2",
         "1",
         "1",
         "2",
         "3",
         "3",
         "3",
         "1",
         "3",
         "2",
         "2",
         "-9",
         "2",
         "1",
         "4",
         "4",
         "5",
         "-9",
         "5",
         "3",
         "4",
         "1",
         "1",
         "1",
         "0",
         "-3",
         "-3",
         "-3",
         "-3",
         "-3",
         "-3",
         "-3",
         "-3",
         "1",
         "1",
         "0",
         "0",
         "0",
         "0",
         "-9",
         "1",
         "1",
         "1",
         "1",
         "0",
         "0",
         "0",
         "1",
         "1",
         "0",
         "0",
         "0",
         "0",
         "0",
         "0",
         "0",
         "0",
         "0",
         "0",
         "0",
         "0",
         "-9",
         "18",
         "5",
         "4",
         "1",
         "5",
         "4",
         "1",
         "1",
         "2",
         "2",
         "2",
         "2",
         "2",
         "2",
         "3",
         "2",
         "2",
         "0",
         "1",
         "0",
         "0",
         "0",
         "0",
         "1",
         "0",
         "0",
         "0",
         "0",
         "1",
         "0",
         "0",
         "0",
         "0",
         "1",
         "0",
         "0",
         "0",
         "0",
         "1",
         "0",
         "0",
         "0",
         "1",
         "0",
         "0",
         "0",
         "0",
         "0",
         "1",
         "0",
         "0",
         "0",
         "0",
         "1",
         "0",
         "0",
         "0",
         "0",
         "0",
         "0",
         "0",
         "0",
         "1",
         "0",
         "1",
         "0",
         "2",
         "3",
         "3",
         "2",
         "1",
         "3",
         "1",
         "3",
         "1",
         "3",
         "5",
         "4",
         "4",
         "1",
         "1",
         "5",
         "3",
         "2",
         "2",
         "2",
         "1",
         "6",
         "0",
         "2",
         "1",
         "2",
         "2",
         "1",
         "4",
         "1",
         "1",
         "1",
         "1",
         "1",
         "2",
         "2",
         "2",
         "4",
         "3",
         "3",
         "2",
         "3",
         "3",
         "2",
         "3",
         "2",
         "2",
         "2",
         "2",
         "3",
         "3",
         "3",
         "4",
         "5",
         "1",
         "1",
         "-1",
         "1",
         "1",
         "1",
         "1",
         "0",
         "0",
         "0",
         "0",
         "0",
         "1",
         "0",
         "0",
         "0",
         "0",
         "-3",
         "-3",
         "-3",
         "-3",
         "-3",
         "-3",
         "-3",
         "-3",
         "-3",
         "-5",
         "-5",
         "5",
         "5",
         "1",
         "1",
         "-1",
         "-1",
         "-1",
         "-1",
         "-1",
         "1",
         "-5",
         "-3",
         "-3",
         "-3",
         "-3",
         "-3",
         "-3",
         "-3",
         "-3",
         "0",
         "0",
         "0",
         "0",
         "0",
         "1",
         "0",
         "1",
         "-3",
         "-3",
         "-3",
         "-3",
         "-3",
         "-3",
         "-3",
         "-5",
         "-5",
         "-5",
         "-5",
         "2",
         "4",
         "0",
         "1",
         "1",
         "1",
         "1",
         "0",
         "1",
         "1",
         "1",
         "0",
         "4",
         "2",
         "3",
         "-9",
         "3",
         "3",
         "4",
         "1",
         "2",
         "2",
         "2",
         "1",
         "1",
         "2",
         "2",
         "2",
         "3",
         "1",
         "3",
         "1",
         "1",
         "3",
         "2",
         "3",
         "3",
         "2",
         "2",
         "2",
         "3",
         "2",
         "3",
         "2",
         "2",
         "3",
         "2",
         "2",
         "2",
         "3",
         "3",
         "3",
         "2",
         "3",
         "3",
         "3",
         "2",
         "3",
         "2",
         "2",
         "1",
         "2",
         "1",
         "3",
         "1",
         "2",
         "2",
         "2",
         "2",
         "2",
         "2",
         "1",
         "1",
         "2",
         "2",
         "-9",
         "1",
         "0",
         "-3",
         "-3",
         "-3",
         "-3",
         "-3",
         "3",
         "2",
         "1",
         "1",
         "3",
         "1",
         "1",
         "3",
         "1",
         "3",
         "3",
         "1",
         "1",
         "1",
         "3",
         "3",
         "1",
         "3",
         "3",
         "1",
         "1",
         "2",
         "3",
         "3",
         "2",
         "2",
         "4",
         "4",
         "1",
         "2",
         "2",
         "1",
         "1",
         "2",
         "2",
         "1",
         "1",
         "3",
         "1",
         "3",
         "4",
         "2",
         "2",
         "2",
         "2",
         "2",
         "2",
         "2",
         "0",
         "-3",
         "-3",
         "-3",
         "-3",
         "-3",
         "-3",
         "-3",
         "-3",
         "-3",
         "-3",
         "-3",
         "-3",
         "-3",
         "-3",
         "-3",
         "-3",
         "-3",
         "-3",
         "1",
         "1",
         "1",
         "1",
         "1",
         "1",
         "1",
         "1",
         "1",
         "1",
         "1",
         "2",
         "2",
         "1",
         "1",
         "2",
         "1",
         "2",
         "2",
         "1",
         "3",
         "3",
         "1",
         "2",
         "1",
         "2",
         "2",
         "1",
         "1",
         "3",
         "1",
         "1",
         "1",
         "1",
         "2",
         "6",
         "3",
         "5",
         "3",
         "3",
         "4",
         "1",
         "1",
         "4",
         "3",
         "4",
         "3",
         "2",
         "2",
         "2",
         "2",
         "2",
         "2",
         "2",
         "3",
         "3",
         "1",
         "2",
         "2",
         "4",
         "1",
         "1",
         "2",
         "3",
         "3",
         "2",
         "3",
         "3",
         "2",
         "3",
         "2",
         "2",
         "2",
         "1",
         "3",
         "3",
         "3",
         "3",
         "2",
         "3",
         "2",
         "1",
         "0",
         "0",
         "0",
         "1",
         "0",
         "6",
         "4",
         "4",
         "1",
         "1",
         "1",
         "1",
         "1",
         "1",
         "-3",
         "3",
         "-3",
         "-3",
         "-3",
         "-3",
         "-3",
         "-3",
         "-3",
         "-3",
         "-3",
         "-3",
         "-3",
         "-3",
         "3",
         "1",
         "0",
         "0",
         "0",
         "0",
         "0",
         "1",
         "1",
         "1",
         "1",
         "0",
         "0",
         "0",
         "0",
         "1",
         "2",
         "2",
         "3",
         "3",
         "1",
         "2",
         "1",
         "2",
         "3",
         "3",
         "3",
         "3",
         "2",
         "2",
         "2",
         "2",
         "3",
         "1",
         "3",
         "2",
         "-3",
         "-3",
         "-3",
         "-3",
         "-3",
         "-3",
         "-5",
         "-5",
         "6",
         "2",
         "1",
         "-3",
         "1",
         "0",
         "1",
         "0",
         "0",
         "0",
         "0",
         "0",
         "0",
         "2",
         "2",
         "2",
         "2",
         "2",
         "2",
         "2",
         "3",
         "2",
         "1",
         "1",
         "2",
         "2",
         "3",
         "-8",
         "-8",
         "-8",
         "-8",
         "-8",
         "-8",
         "-8",
         "-8",
         "-8",
         "-8",
         "-8",
         "-8",
         "-8",
         "-8",
         "-8",
         "-8",
         "-8",
         "-8",
         "-8",
         "-8",
         "-8",
         "-8",
         "-8",
         "-8",
         "-8",
         "-8",
         "-8",
         "-8",
         "-8",
         "-8",
         "-8",
         "-8",
         "-8",
         "-8",
         "-8",
         "-8",
         "-8",
         "-8",
         "-8",
         "-8",
         "-8",
         "-8",
         "-8",
         "-8",
         "-8",
         "-8",
         "-8",
         "-8",
         "-8",
         "-8",
         "-8",
         "-8",
         "-8",
         "-8",
         "-8",
         "-8",
         "-8",
         "-8",
         "-8",
         "-8",
         "-8",
         "-8",
         "-8",
         "-8",
         "-8",
         "-8",
         "-8",
         "-8",
         "-8",
         "-8",
         "-8",
         "-8",
         "-8",
         "-8",
         "-8",
         "-8",
         "-8",
         "-8",
         "-8",
         "-8",
         "-8",
         "-8",
         "-8",
         "-8",
         "-8",
         "-8",
         "-8",
         "-8",
         "-8",
         "-8",
         "-8",
         "-8",
         "-8",
         "-8",
         "-8",
         "-8",
         "-8",
         "-8",
         "-8",
         "-8",
         "-8",
         "-8",
         "-8",
         "-8",
         "-8",
         "-8",
         "-8",
         "-8",
         "-8",
         "-8",
         "-5",
         "-5",
         "-8",
         "-8",
         "-8",
         "-8",
         "-8",
         "-8",
         "-5",
         "-8",
         "-8",
         "-8",
         "-8",
         "-8",
         "-8",
         "-8",
         "-8",
         "-8",
         "-8",
         "-8",
         "-8",
         "-8",
         "-8",
         "-8",
         "-8",
         "-8",
         "-8",
         "-8",
         "-8",
         "-8",
         "-8",
         "-8",
         "-8",
         "-8",
         "-8",
         "-8",
         "-8",
         "-8",
         "-8",
         "-8",
         "-8",
         "-8",
         "-8",
         "-8",
         "-8",
         "-8",
         "-8",
         "-8",
         "-8",
         "-8",
         "-8",
         "-8",
         "-8",
         "-8",
         "-8",
         "-8",
         "-8",
         "-8",
         "-8",
         "-8",
         "-5",
         "-8",
         "-8",
         "-8",
         "-8",
         "-8",
         "-5",
         "-8",
         "-8",
         "-8",
         "-8",
         "-8",
         "-8",
         "-8",
         "-8",
         "-8",
         "-8",
         "-8",
         "-8",
         "-5",
         "-5",
         "-8",
         "-8",
         "-8",
         "-8",
         "-8",
         "-8",
         "-8",
         "-8",
         "-8",
         "-8",
         "-8",
         "-8",
         "-8",
         "-8",
         "-8",
         "-8",
         "-8",
         "-8",
         "-8",
         "-8",
         "-8",
         "-8",
         "-8",
         "-8",
         "-8",
         "-8",
         "-8",
         "-8",
         "-8",
         "-8",
         "-8",
         "-8",
         "-8",
         "-8",
         "-5",
         "-8",
         "-8",
         "-8",
         "-8",
         "-8",
         "-8",
         "-5",
         "-8",
         "-8",
         "-8",
         "-8",
         "-8",
         "-8",
         "-8",
         "-8",
         "-8",
         "-8",
         "-5",
         "-8",
         "-8",
         "-8",
         "-8",
         "-8",
         "2",
         "0",
         "-5",
         "-5",
         "-5",
         "-5",
         "-5",
         "-5",
         "-5",
         "1",
         "-5",
         "-3",
         "-3",
         "-3",
         "-3",
         "-3",
         "-3",
         "-3",
         "-3",
         "-3",
         "-3",
         "-3",
         "-3",
         "-3",
         "-3",
         "-3",
         "-3",
         "-3",
         "-3",
         "-3",
         "-3",
         "-3",
         "-3",
         "-5",
         "-5",
         "-5",
         "-5",
         "2",
         "4",
         "0",
         "1",
         "1",
         "1",
         "1",
         "0",
         "1",
         "1",
         "1",
         "0",
         "-5",
         "-5",
         "-5",
         "-5",
         "-5",
         "-5",
         "-5",
         "-5",
         "-5",
         "-5",
         "-5",
         "-5",
         "-5",
         "-5",
         "-5",
         "-5",
         "-5",
         "-5",
         "-5",
         "-5",
         "-5",
         "-5",
         "-5",
         "-5",
         "-5",
         "-5",
         "-5",
         "-5",
         "-5",
         "-5",
         "-5",
         "-5",
         "-5",
         "-5",
         "-5",
         "1",
         "1",
         "-5",
         "3",
         "1",
         "-3",
         "-3",
         "-3",
         "-3",
         "-3",
         "-3",
         "-3",
         "1",
         "1",
         "-3",
         "-3",
         "-3",
         "-3",
         "-3",
         "-3",
         "-3",
         "-3",
         "-3",
         "-3",
         "-3",
         "-3",
         "-3",
         "-5",
         "-5",
         "-5",
         "1",
         "-3",
         "-3",
         "-3",
         "-3",
         "-3",
         "-3",
         "-3",
         "-3",
         "-3",
         "-3",
         "-3",
         "-3",
         "-3",
         "-5",
         "-5",
         "1",
         "1",
         "1",
         "1",
         "1",
         "0",
         "3",
         "10",
         "0",
         "1",
         "1",
         "3",
         "3",
         "3",
         "4",
         "2",
         "2",
         "2",
         "2",
         "1",
         "1",
         "1",
         "-5",
         "-5",
         "-5",
         "-5",
         "-5",
         "-5",
         "-5",
         "-5",
         "-5",
         "-5",
         "-5",
         "-3",
         "-3",
         "-3",
         "-3",
         "-3",
         "-3",
         "-3",
         "-3",
         "-3",
         "-3",
         "-3",
         "-3",
         "-3",
         "-3",
         "-3",
         "-3",
         "-3",
         "-3",
         "-3",
         "-3",
         "1",
         "-5",
         "-5",
         "1",
         "1",
         "0",
         "0",
         "0",
         "0",
         "0",
         "0",
         "-5",
         "6",
         "0",
         "-5",
         "6",
         "-3",
         "-3",
         "-3",
         "-3",
         "-3",
         "-3",
         "-3",
         "-3",
         "-3",
         "-3",
         "-3",
         "-5",
         "1",
         "-3",
         "-5",
         "-5",
         "-5",
         "-5",
         "-3",
         "-5",
         "-3",
         "-5",
         "-3",
         "-3",
         "-3",
         "-3",
         "-3",
         "-3",
         "-3",
         "-3",
         "-5",
         "-5",
         "-3",
         "-5",
         "-3",
         "-3",
         "-3",
         "-3",
         "-5",
         "-3",
         "-5",
         "-5",
         "-5",
         "-5",
         "-3",
         "-5",
         "-3",
         "-5",
         "-3",
         "-3",
         "-3",
         "-3",
         "-3",
         "-3",
         "-3",
         "-3",
         "-5",
         "1",
         "0",
         "0",
         "0",
         "-5",
         "1",
         "2",
         "0",
         "-5",
         "1",
         "0",
         "0",
         "0",
         "-5",
         "1",
         "2",
         "1",
         "-5",
         "-5",
         "3",
         "0",
         "-5",
         "0",
         "-3",
         "-3",
         "-5",
         "-5",
         "7",
         "1",
         "-5",
         "-5",
         "-3",
         "0",
         "-5",
         "-3",
         "-5",
         "-5",
         "-3",
         "-5",
         "2",
         "-5",
         "1",
         "-5",
         "1",
         "-5",
         "0",
         "-5",
         "1",
         "0",
         "-5",
         "0",
         "-5",
         "0",
         "-5",
         "0",
         "1",
         "0",
         "0",
         "0",
         "0",
         "1",
         "1",
         "0",
         "0",
         "1",
         "1",
         "1",
         "0",
         "0",
         "0",
         "0",
         "0",
         "0",
         "0",
         "0",
         "1",
         "0",
         "0",
         "0",
         "0",
         "0",
         "0",
         "0",
         "1",
         "1",
         "0",
         "0",
         "0",
         "0",
         "0",
         "0",
         "0",
         "-3",
         "-3",
         "-5",
         "-3",
         "-5",
         "-5",
         "-5",
         "-5",
         "-5",
         "-5",
         "-5",
         "-3",
         "-5",
         "2008",
         "1",
         "-3",
         "1",
         "0",
         "0",
         "1",
         "1",
         "0",
         "2",
         "2",
         "2",
         "2",
         "-3",
         "-3",
         "-3",
         "-3",
         "-3",
         "-3",
         "-3",
         "-3",
         "-3",
         "-5",
         "1",
         "-5",
         "1",
         "-5",
         "1",
         "1",
         "1",
         "1",
         "1",
         "3",
         "3",
         "0",
         "-3",
         "-3",
         "0",
         "-3",
         "-3",
         "-3",
         "-3",
         "-3",
         "-3",
         "-3",
         "-3",
         "-3",
         "-3",
         "-3",
         "0",
         "-3",
         "-3",
         "-3",
         "-3",
         "-5",
         "-3",
         "-3",
         "-3",
         "-3",
         "-3",
         "-3",
         "1",
         "-3",
         "-3",
         "7",
         "-3",
         "1",
         "0",
         "-5",
         "-5",
         "2012",
         "2",
         "-3",
         "-3",
         "-3",
         "-3",
         "1",
         "1",
         "55",
         "-3",
         "2",
         "1",
         "2",
         "3",
         "1",
         "4",
         "2",
         "1",
         "2",
         "7",
         "0",
         "-5",
         "2",
         "0",
         "1",
         "-9",
         "0",
         "2",
         "1",
         "0",
         "2",
         "2",
         "2",
         "4",
         "4",
         "4",
         "2",
         "4",
         "4",
         "0",
         "49",
         "50",
         "1",
         "2",
         "2",
         "2",
         "1",
         "5",
         "2",
         "4",
         "1",
         "1",
         "0",
         "0",
         "0",
         "1",
         "1",
         "0",
         "0",
         "1",
         "1",
         "0",
         "-5",
         "-5",
         "-3",
         "-5",
         "-3",
         "-5",
         "-5",
         "-5",
         "1",
         "6",
         "0",
         "0",
         "-5",
         "-5",
         "-5",
         "-5",
         "-5",
         "-5",
         "-5",
         "-3",
         "-3",
         "-3",
         "-3",
         "-5",
         "-5",
         "-5",
         "0",
         "0",
         "-5",
         "-5",
         "-5",
         "-5",
         "1",
         "0",
         "0",
         "0",
         "0",
         "0",
         "0",
         "1",
         "0",
         "-3",
         "-3",
         "0",
         "0",
         "0",
         "-5",
         "10",
         "-5",
         "13",
         "0",
         "0",
         "0",
         "-3",
         "0",
         "0",
         "1",
         "-3",
         "2",
         "-3",
         "-3",
         "60000",
         "3",
         "55000",
         "4",
         "1",
         "1",
         "1",
         "0",
         "-3",
         "-3",
         "-3",
         "-3",
         "-3",
         "-3",
         "-3",
         "-3",
         "-3",
         "-3",
         "-3",
         "-3",
         "-3",
         "-3",
         "5",
         "1",
         "1",
         "3",
         "1",
         "1",
         "1",
         "1",
         "1",
         "-3",
         "-5",
         "-3",
         "-3",
         "2008",
         "2010",
         "-3",
         "-5",
         "-5",
         "-5",
         "-5",
         "-5",
         "-5",
         "-5",
         "-5",
         "-5",
         "3",
         "2",
         "2",
         "2",
         "1",
         "3",
         "3",
         "1",
         "3",
         "3",
         "3",
         "1",
         "-3",
         "1",
         "2",
         "1",
         "2",
         "1",
         "0",
         "0",
         "0",
         "0",
         "0",
         "0",
         "0",
         "0",
         "0",
         "0",
         "0",
         "1",
         "-1",
         "1",
         "1965",
         "1963",
         "0",
         "-5",
         "-5",
         "-5",
         "-5",
         "-5",
         "-5",
         "-5",
         "1",
         "-3",
         "-5",
         "-5",
         "1",
         "-3",
         "-5",
         "-5",
         "1",
         "-3",
         "0",
         "-3",
         "-3",
         "-3",
         "-3",
         "-3",
         "-3",
         "-3",
         "-3",
         "-3",
         "-3",
         "-3",
         "-3",
         "-3",
         "1",
         "-5",
         "-3",
         "-3",
         "-3",
         "-3",
         "-3",
         "-3",
         "-3",
         "-3",
         "-3",
         "-3",
         "-3",
         "-3",
         "-3",
         "-1",
         "2",
         "2",
         "1",
         "1",
         "2",
         "2",
         "1",
         "-3",
         "1",
         "-5",
         "-5",
         "5",
         "1",
         "-3",
         "1",
         "-5",
         "-5",
         "5",
         "0",
         "1",
         "0",
         "1",
         "2",
         "0",
         "-3",
         "-3",
         "-3",
         "-3",
         "-3",
         "-3",
         "-3",
         "-3",
         "-3",
         "-3",
         "-3",
         "-3",
         "-3",
         "-3",
         "0",
         "-3",
         "-3",
         "-3",
         "-3",
         "-3",
         "-3",
         "-3",
         "-3",
         "0",
         "1",
         "1",
         "1",
         "1",
         "1",
         "1",
         "-1",
         "1",
         "1",
         "2",
         "1",
         "1",
         "1",
         "1",
         "1",
         "1",
         "1",
         "1",
         "1",
         "2",
         "0",
         "0",
         "0",
         "0",
         "0",
         "4",
         "4",
         "4",
         "4",
         "-1",
         "2",
         "-1",
         "1",
         "1",
         "3",
         "1",
         "1",
         "3",
         "1",
         "1",
         "4",
         "4",
         "1",
         "4",
         "3",
         "4",
         "3",
         "2",
         "2",
         "1",
         "1",
         "1",
         "1",
         "1",
         "1",
         "1",
         "1",
         "1",
         "1",
         "1",
         "1",
         "1",
         "1",
         "1",
         "2",
         "0",
         "-3",
         "-3",
         "-3",
         "-3",
         "-3",
         "-3",
         "17",
         "-1",
         "3",
         "1",
         "1",
         "1",
         "-1",
         "-1",
         "6",
         "1",
         "1",
         "3",
         "-3",
         "-3",
         "-3",
         "-3",
         "-3",
         "1",
         "1",
         "4",
         "1",
         "1",
         "1",
         "1",
         "2",
         "2",
         "2",
         "2",
         "-1",
         "-1",
         "2",
         "2",
         "2",
         "3",
         "1",
         "7",
         "2",
         "2",
         "2",
         "3",
         "3",
         "2",
         "3",
         "3",
         "1",
         "2",
         "2",
         "2",
         "2",
         "3",
         "3",
         "6",
         "0",
         "-3",
         "-3",
         "-3",
         "-3",
         "-3",
         "-3",
         "-3",
         "-3",
         "-3",
         "-3",
         "-3",
         "-3",
         "-3",
         "-3",
         "10",
         "2",
         "0",
         "-3",
         "-3",
         "-3",
         "-3",
         "-3",
         "200207",
         "1",
         "1",
         "1",
         "1",
         "0",
         "1",
         "0",
         "0",
         "0",
         "0",
         "0",
         "0",
         "-1",
         "2",
         "0",
         "1",
         "0",
         "0",
         "0",
         "1",
         "0",
         "3",
         "2",
         "1",
         "3",
         "1",
         "0",
         "0",
         "1",
         "5",
         "2",
         "3",
         "2",
         "1",
         "2",
         "0",
         "-5",
         "-5",
         "-5",
         "-5",
         "-5",
         "1950",
         "0",
         "25",
         "25",
         "27",
         "1",
         "1",
         "0",
         "0",
         "1",
         "0",
         "0",
         "0",
         "0",
         "1",
         "2",
         "-3",
         "-3",
         "-9",
         "5",
         "3",
         "5",
         "5",
         "3",
         "3",
         "1",
         "1",
         "1",
         "3",
         "6",
         "3",
         "6",
         "3",
         "3",
         "1",
         "6",
         "0",
         "1",
         "1",
         "1",
         "1",
         "1",
         "1",
         "5",
         "0",
         "-3",
         "0",
         "-3",
         "2",
         "2",
         "2",
         "2",
         "2",
         "2",
         "200204",
         "1",
         "1",
         "1",
         "1",
         "1",
         "0",
         "0",
         "0",
         "0",
         "0",
         "0",
         "0",
         "2",
         "2",
         "0",
         "0",
         "-3",
         "-3",
         "-3",
         "-3",
         "-3",
         "5",
         "2",
         "2",
         "5",
         "1",
         "0",
         "0",
         "1",
         "5",
         "2",
         "0",
         "-5",
         "-5",
         "-5",
         "-5",
         "-5",
         "1964",
         "0",
         "14",
         "14",
         "13",
         "1",
         "1",
         "0",
         "0",
         "1",
         "0",
         "1",
         "0",
         "0",
         "3",
         "1",
         "3",
         "-3",
         "5",
         "5",
         "4",
         "5",
         "2",
         "2",
         "2",
         "2",
         "2",
         "2",
         "2",
         "1",
         "2",
         "3",
         "3",
         "3",
         "1",
         "3",
         "0",
         "1",
         "1",
         "1",
         "0",
         "1",
         "1",
         "2",
         "0",
         "-3",
         "0",
         "-3",
         "1",
         "2",
         "1",
         "1",
         "2",
         "2",
         "2",
         "3",
         "200208",
         "1",
         "-5",
         "1",
         "6",
         "1",
         "6",
         "5",
         "8",
         "-5",
         "-5",
         "-5",
         "-5",
         "-5",
         "-5",
         "-5",
         "-5",
         "-5",
         "-5",
         "-5",
         "-5",
         "-5",
         "-5",
         "-5",
         "-5",
         "-5",
         "-5",
         "-5",
         "-5",
         "-5",
         "-5",
         "-5",
         "-5",
         "-5",
         "-5",
         "-5",
         "-5",
         "-5",
         "-5",
         "-5",
         "-5",
         "-5",
         "-5",
         "-5",
         "-5",
         "-5",
         "-5",
         "-5",
         "-5",
         "-5",
         "-5",
         "-5",
         "-5",
         "-5",
         "-5",
         "-5",
         "-5",
         "-5",
         "-5",
         "-5",
         "-5",
         "-5",
         "-5",
         "-5",
         "-5",
         "-5",
         "-5",
         "-5",
         "-5",
         "-5",
         "-5",
         "-5",
         "-5",
         "-5",
         "-5",
         "-5",
         "-5",
         "-5",
         "-5",
         "-5",
         "-5",
         "-5",
         "-5",
         "-5",
         "-5",
         "-5",
         "1",
         "2",
         "3",
         "180",
         "9",
         "40",
         "8",
         "1",
         "2",
         "-3",
         "90",
         "-3",
         "-9",
         "-3",
         "-9",
         "-3",
         "-3",
         "3",
         "-9",
         "-9",
         "-9",
         "-9",
         "-9",
         "-9",
         "-9",
         "-9",
         "-9",
         "-9",
         "-9",
         "2",
         "2",
         "1",
         "1",
         "3",
         "1",
         "1",
         "3",
         "3",
         "2",
         "2",
         "2",
         "2",
         "1",
         "1",
         "3",
         "2",
         "3",
         "2",
         "-9",
         "-9",
         "-9",
         "0",
         "0",
         "0",
         "0",
         "0",
         "0",
         "1",
         "0",
         "0",
         "1",
         "1",
         "0",
         "1",
         "0",
         "1",
         "0",
         "1",
         "1",
         "0",
         "0",
         "1",
         "1",
         "0",
         "0",
         "0",
         "0",
         "1",
         "1",
         "1",
         "1",
         "1",
         "0",
         "0",
         "0",
         "0",
         "0",
         "1",
         "0",
         "0",
         "1",
         "0",
         "1",
         "0",
         "0",
         "0",
         "0",
         "2",
         "-5",
         "-5",
         "0",
         "16",
         "12",
         "3",
         "1",
         "16",
         "10",
         "0",
         "14",
         "2",
         "11",
         "10",
         "25",
         "100",
         "-3",
         "100",
         "0",
         "37215",
         "67639",
         "1",
         "1",
         "0",
         "1",
         "0",
         "0",
         "0",
         "0",
         "0",
         "0",
         "1",
         "1",
         "1",
         "1",
         "1",
         "-3",
         "-3",
         "-3",
         "-3",
         "1",
         "-3",
         "-3",
         "-3",
         "-3",
         "2",
         "-3",
         "-3",
         "-3",
         "-3",
         "2",
         "-3",
         "-3",
         "-3",
         "-3",
         "1",
         "-3",
         "-3",
         "-3",
         "-3",
         "1",
         "-3",
         "-3",
         "-3",
         "-3",
         "1",
         "1",
         "0",
         "1",
         "-9",
         "1",
         "1",
         "1",
         "1",
         "1",
         "1",
         "1",
         "1",
         "0",
         "0",
         "0",
         "0",
         "0",
         "1",
         "0",
         "0",
         "0",
         "0",
         "0",
         "0",
         "1",
         "1",
         "1",
         "0",
         "0",
         "1",
         "1",
         "0",
         "0",
         "0",
         "1",
         "1",
         "1",
         "1",
         "1",
         "1",
         "1",
         "1",
         "1",
         "1",
         "1",
         "1",
         "1",
         "1",
         "1",
         "1",
         "1",
         "1",
         "1",
         "0",
         "1",
         "0",
         "1",
         "1",
         "0",
         "1",
         "0",
         "1",
         "1",
         "1",
         "1",
         "1",
         "1",
         "1",
         "1",
         "1",
         "1",
         "3",
         "3",
         "3",
         "3",
         "3",
         "2",
         "3",
         "3",
         "2",
         "2",
         "2",
         "2",
         "3",
         "3",
         "1",
         "1",
         "2",
         "1",
         "1",
         "3",
         "2",
         "4",
         "4",
         "4",
         "4",
         "4",
         "4",
         "4",
         "4",
         "3",
         "3",
         "3",
         "1",
         "1",
         "4",
         "4",
         "1",
         "1",
         "1",
         "1",
         "1",
         "1",
         "1",
         "1",
         "1",
         "1",
         "1",
         "4",
         "4",
         "4",
         "3",
         "3",
         "200205",
         "-5",
         "180",
         "3",
         "0",
         "-3",
         "0",
         "-3",
         "0",
         "-3",
         "1",
         "0",
         "0",
         "0",
         "0",
         "0",
         "2",
         "2",
         "3",
         "1",
         "4",
         "4",
         "3",
         "4",
         "3",
         "4",
         "1",
         "7",
         "6",
         "6",
         "6",
         "2",
         "2",
         "4",
         "7",
         "1",
         "0",
         "0",
         "0",
         "0",
         "0",
         "1",
         "2",
         "4",
         "4",
         "2",
         "1",
         "2",
         "3",
         "3",
         "1",
         "1",
         "3",
         "3",
         "3",
         "3",
         "1",
         "1",
         "1",
         "1",
         "1",
         "1",
         "1",
         "1",
         "0",
         "1",
         "1",
         "0",
         "0",
         "50",
         "3",
         "3",
         "3",
         "2",
         "1",
         "2",
         "45",
         "45",
         "10",
         "4",
         "4",
         "3",
         "1",
         "3",
         "4",
         "1",
         "3",
         "5",
         "2",
         "1",
         "2",
         "1",
         "0",
         "1",
         "1",
         "1",
         "1",
         "-5",
         "7",
         "24",
         "8",
         "0",
         "45",
         "0",
         "0",
         "-3",
         "-3",
         "-3",
         "-3",
         "-3",
         "-3",
         "-3",
         "-3",
         "-3",
         "-3",
         "-3",
         "-3",
         "-3",
         "-3",
         "-3",
         "-3",
         "-5",
         "1",
         "1",
         "-5",
         "2",
         "-5",
         "9",
         "-5",
         "7",
         "-5",
         "1",
         "-5",
         "1",
         "3",
         "0",
         "5",
         "0",
         "92",
         "3",
         "0",
         "0",
         "0",
         "0",
         "90",
         "8",
         "1",
         "1",
         "100",
         "3",
         "20",
         "47",
         "30",
         "4",
         "4",
         "4",
         "4",
         "4",
         "4",
         "4",
         "1",
         "4",
         "5",
         "4",
         "4",
         "1",
         "4",
         "4",
         "1",
         "1",
         "4",
         "4",
         "4",
         "4",
         "4",
         "4",
         "4",
         "4",
         "5",
         "4",
         "4",
         "4",
         "4",
         "4",
         "4",
         "4",
         "200404",
         "1",
         "108",
         "0",
         "1",
         "1",
         "1",
         "0",
         "1",
         "1",
         "1",
         "1",
         "2",
         "0",
         "0",
         "-3",
         "-3",
         "0",
         "-3",
         "-3",
         "1",
         "1",
         "0",
         "0",
         "-3",
         "-3",
         "0",
         "-3",
         "1",
         "3",
         "0",
         "1",
         "1",
         "1",
         "1",
         "0",
         "1",
         "1",
         "1",
         "3",
         "1",
         "1",
         "1",
         "1",
         "3",
         "1",
         "1",
         "1",
         "0",
         "-3",
         "-3",
         "-3",
         "-3",
         "0",
         "-3",
         "-3",
         "-3",
         "-3",
         "0",
         "-3",
         "-3",
         "-3",
         "-3",
         "1",
         "3",
         "1",
         "1",
         "1",
         "1",
         "3",
         "1",
         "1",
         "1",
         "1",
         "3",
         "0",
         "0",
         "1",
         "1",
         "3",
         "1",
         "1",
         "1",
         "1",
         "3",
         "1",
         "1",
         "1",
         "0",
         "-3",
         "-3",
         "-3",
         "-3",
         "1",
         "3",
         "1",
         "1",
         "1",
         "0",
         "-3",
         "-3",
         "-3",
         "-3",
         "1",
         "3",
         "1",
         "1",
         "1",
         "1",
         "1",
         "1",
         "1",
         "1",
         "1",
         "3",
         "1",
         "1",
         "1",
         "0",
         "-3",
         "-3",
         "-3",
         "-3",
         "0",
         "-3",
         "-3",
         "-3",
         "-3",
         "1",
         "0",
         "1",
         "1",
         "0",
         "1",
         "0",
         "1",
         "0",
         "0",
         "0",
         "0",
         "0",
         "0",
         "0",
         "0",
         "0",
         "1",
         "2",
         "2",
         "3",
         "2",
         "0",
         "-3",
         "5",
         "2",
         "-3",
         "-3",
         "-3",
         "-3",
         "-3",
         "5",
         "14",
         "20",
         "2",
         "4",
         "200",
         "3",
         "0",
         "1",
         "1",
         "0",
         "0",
         "0",
         "0",
         "0",
         "1",
         "6",
         "3",
         "1",
         "1",
         "1",
         "0",
         "1",
         "1",
         "200204",
         "0",
         "0",
         "0",
         "0",
         "0",
         "1",
         "0",
         "0",
         "1",
         "1",
         "2",
         "3",
         "4",
         "4",
         "4",
         "0",
         "0",
         "0",
         "0",
         "1",
         "0",
         "0",
         "0",
         "0",
         "0",
         "0",
         "0",
         "0",
         "0",
         "1",
         "1",
         "0",
         "0",
         "0",
         "0",
         "0",
         "1",
         "1",
         "4",
         "0",
         "0",
         "0",
         "1",
         "1",
         "1",
         "1",
         "1",
         "1",
         "0",
         "0",
         "0",
         "1",
         "1",
         "1",
         "1",
         "1",
         "1",
         "1",
         "0",
         "0"
        ],
        [
         "3",
         "101105",
         "-5",
         "101",
         "1",
         "1011",
         "101",
         "1",
         "1",
         "-5",
         "101",
         "1111",
         "11111",
         "11111",
         "1",
         "1",
         "235.7822",
         "-5",
         "2",
         "-5",
         "3",
         "-5",
         "-5",
         "-5",
         "-5",
         "-5",
         "-5",
         "-5",
         "-5",
         "-5",
         "1",
         "1",
         "4",
         "-5",
         "198607",
         "-5",
         "-9",
         "-9",
         "-4",
         "5",
         "-4",
         "-4",
         "-4",
         "2",
         "2",
         "2",
         "-4",
         "4",
         "6",
         "2",
         "-0.8",
         "1",
         "-0.89",
         "1",
         "98",
         "98",
         "-4",
         "1",
         "-4",
         "5",
         "6",
         "15",
         "10",
         "2",
         "1",
         "-5",
         "200204",
         "3",
         "-5",
         "-5",
         "1",
         "0",
         "0",
         "1",
         "1",
         "0",
         "-5",
         "-5",
         "0",
         "46.46",
         "2",
         "35.33",
         "27.86",
         "30.17",
         "442.25",
         "511.11",
         "29.603",
         "44.68",
         "2",
         "0.972",
         "0.298",
         "0.002",
         "0.001",
         "0.0",
         "-5",
         "-5",
         "-5",
         "-5",
         "-5",
         "-5",
         "-5",
         "27.854",
         "48.69",
         "2",
         "0.999",
         "0.276",
         "0.0",
         "1.03",
         "1.146",
         "-9.0",
         "1.579",
         "1.449",
         "-9.0",
         "-0.137",
         "-5",
         "-5",
         "-5",
         "-5",
         "-5",
         "-5",
         "-5",
         "-5",
         "3",
         "-5",
         "3",
         "-5",
         "-9",
         "-9",
         "3",
         "2",
         "2",
         "3",
         "2",
         "2",
         "2",
         "2",
         "2",
         "1",
         "1",
         "0",
         "11",
         "99",
         "0",
         "0",
         "-5",
         "7",
         "3",
         "-5",
         "7",
         "3",
         "-9.0",
         "-9.0",
         "-5",
         "6",
         "-9",
         "1",
         "1",
         "1",
         "1",
         "1",
         "3",
         "5",
         "-0.269",
         "-9.0",
         "-0.051",
         "-5",
         "-5",
         "-5",
         "-5",
         "0",
         "-5",
         "-5",
         "0",
         "1",
         "0",
         "0",
         "0",
         "1",
         "1",
         "0",
         "1",
         "0",
         "0",
         "0",
         "0",
         "199.7193",
         "205.1919",
         "-5",
         "-5",
         "2",
         "-5",
         "3",
         "-5",
         "-5",
         "-5",
         "-5",
         "-5",
         "-5",
         "-5",
         "-5",
         "-5",
         "1",
         "1",
         "-5",
         "198607",
         "5",
         "2",
         "2",
         "2",
         "4",
         "6",
         "-5",
         "-5",
         "-0.81",
         "1",
         "-5",
         "-5",
         "-0.9",
         "1",
         "6",
         "4",
         "-1",
         "-1",
         "-5",
         "1",
         "1",
         "1",
         "1",
         "1",
         "1",
         "0",
         "0",
         "0",
         "0",
         "0",
         "0",
         "-5",
         "-5",
         "0",
         "5",
         "-5",
         "-5",
         "-5",
         "-5",
         "-5",
         "-5",
         "-5",
         "12",
         "32.56",
         "41.21",
         "45.59",
         "-5",
         "-5",
         "-5",
         "-5",
         "-5",
         "-5",
         "2",
         "44.3",
         "1.0",
         "0.96",
         "0.24",
         "0.01",
         "0.0",
         "8.65",
         "-5",
         "-5",
         "200404",
         "-5",
         "4",
         "4",
         "1",
         "5",
         "99",
         "3",
         "11",
         "0.238",
         "0",
         "0",
         "-5",
         "-5",
         "0",
         "1",
         "0",
         "0",
         "0",
         "0",
         "0",
         "0",
         "-5",
         "0",
         "4",
         "280.0837",
         "32",
         "-5",
         "-5",
         "-5",
         "-5",
         "-5",
         "-5",
         "-5",
         "-5",
         "-5",
         "-5",
         "-5",
         "-5",
         "-5",
         "-5",
         "-5",
         "-5",
         "-5",
         "-5",
         "-5",
         "-5",
         "-5",
         "-5",
         "-5",
         "-5",
         "-5",
         "-5",
         "-5",
         "-5",
         "-5",
         "-5",
         "-5",
         "-5",
         "-5",
         "-5",
         "-5",
         "-5",
         "-5",
         "-5",
         "-5",
         "-5",
         "-5",
         "-5",
         "-5",
         "-5",
         "-5",
         "-5",
         "-5",
         "-5",
         "-5",
         "-5",
         "-5",
         "-5",
         "-5",
         "-5",
         "-5",
         "-5",
         "-5",
         "-5",
         "-5",
         "-5",
         "-5",
         "-5",
         "-5",
         "-5",
         "-5",
         "-5",
         "-5",
         "-5",
         "-5",
         "-5",
         "-5",
         "-5",
         "-5",
         "-5",
         "-5",
         "-5",
         "-5",
         "-5",
         "-5",
         "-5",
         "-5",
         "-5",
         "-5",
         "-5",
         "-5",
         "-5",
         "-5",
         "-5",
         "-5",
         "-5",
         "-5",
         "-5",
         "-5",
         "-5",
         "-5",
         "-5",
         "-5",
         "-5",
         "-5",
         "-5",
         "-5",
         "5",
         "-5",
         "-5",
         "-5",
         "-5",
         "-5",
         "-5",
         "-5",
         "-5",
         "-5",
         "-5",
         "-5",
         "-5",
         "-5",
         "-5",
         "-5",
         "-5",
         "-5",
         "-5",
         "-5",
         "-5",
         "-5",
         "-5",
         "-5",
         "-5",
         "-5",
         "-5",
         "-5",
         "-5",
         "-5",
         "-5",
         "-5",
         "-5",
         "-5",
         "-5",
         "-5",
         "-5",
         "-5",
         "-5",
         "-5",
         "-5",
         "-5",
         "-5",
         "-5",
         "-5",
         "-5",
         "-5",
         "-5",
         "-5",
         "-5",
         "-5",
         "-5",
         "-5",
         "-5",
         "-5",
         "-5",
         "-5",
         "-5",
         "-5",
         "-5",
         "-5",
         "-5",
         "-5",
         "-5",
         "-5",
         "-5",
         "2",
         "4",
         "-5",
         "-5",
         "-5",
         "-5",
         "-5",
         "-5",
         "-5",
         "-5",
         "-5",
         "-5",
         "-5",
         "-5",
         "-5",
         "-5",
         "-5",
         "-5",
         "-5",
         "-5",
         "-5",
         "-5",
         "-5",
         "-5",
         "-5",
         "-5",
         "-5",
         "-5",
         "-5",
         "-5",
         "-5",
         "-5",
         "-5",
         "-5",
         "-5",
         "-5",
         "-5",
         "-5",
         "-5",
         "-5",
         "-5",
         "-5",
         "-5",
         "-5",
         "-5",
         "-5",
         "-5",
         "-5",
         "-5",
         "-5",
         "-5",
         "-5",
         "-5",
         "-5",
         "-5",
         "-5",
         "-5",
         "-5",
         "-5",
         "-5",
         "-5",
         "-5",
         "-5",
         "-5",
         "-5",
         "-5",
         "-5",
         "-5",
         "-5",
         "-5",
         "-5",
         "-5",
         "-5",
         "-5",
         "-5",
         "-5",
         "-5",
         "-5",
         "-5",
         "-5",
         "-5",
         "-5",
         "-5",
         "-5",
         "-5",
         "-5",
         "-5",
         "-5",
         "-5",
         "-5",
         "-5",
         "-5",
         "-5",
         "-5",
         "245.5287",
         "198.5202",
         "227.0875",
         "212.3764",
         "-5",
         "1",
         "2",
         "4",
         "-5",
         "0",
         "0",
         "0",
         "12",
         "-5",
         "1",
         "1",
         "2",
         "5",
         "5",
         "2004",
         "-3",
         "-5",
         "-5",
         "-5",
         "-5",
         "0",
         "2",
         "-3",
         "-3",
         "-5",
         "-5",
         "-5",
         "-5",
         "-5",
         "-3",
         "-3",
         "-3",
         "-3",
         "-3",
         "-3",
         "-3",
         "-3",
         "-3",
         "-3",
         "-3",
         "-3",
         "-3",
         "-3",
         "-3",
         "-3",
         "-3",
         "-3",
         "-3",
         "-3",
         "0",
         "1",
         "1",
         "0",
         "1",
         "-3",
         "-3",
         "-3",
         "-3",
         "1",
         "-5",
         "-5",
         "-5",
         "-5",
         "-5",
         "1",
         "1",
         "2",
         "1",
         "4",
         "-5",
         "-3",
         "-3",
         "-3",
         "-3",
         "4",
         "98",
         "2",
         "0",
         "4",
         "15",
         "1",
         "1",
         "-5",
         "4",
         "0",
         "0",
         "0",
         "0",
         "-5",
         "0",
         "0",
         "0",
         "0",
         "0",
         "0",
         "0",
         "0",
         "0",
         "0",
         "0",
         "0",
         "0",
         "0",
         "0",
         "0",
         "0",
         "0",
         "0",
         "0",
         "2",
         "2",
         "2",
         "2",
         "0",
         "-5",
         "-5",
         "-5",
         "-5",
         "-5",
         "-5",
         "-5",
         "0",
         "-3",
         "-3",
         "7",
         "11",
         "9",
         "5",
         "3",
         "2",
         "-5",
         "-5",
         "6",
         "4",
         "1",
         "15",
         "-5",
         "-5",
         "-5",
         "2",
         "0",
         "15",
         "-5",
         "-5",
         "-5",
         "2",
         "-3",
         "-3",
         "-3",
         "28",
         "12",
         "5",
         "9",
         "-3",
         "-3",
         "-3",
         "-3",
         "-3",
         "-3",
         "-3",
         "-3",
         "-3",
         "-3",
         "-3",
         "-3",
         "-3",
         "-3",
         "-3",
         "-3",
         "-3",
         "-3",
         "-3",
         "-3",
         "-3",
         "-3",
         "-3",
         "-3",
         "-3",
         "3",
         "-5",
         "-5",
         "-5",
         "-5",
         "-5",
         "-5",
         "-5",
         "-5",
         "-5",
         "-5",
         "-5",
         "-5",
         "-5",
         "-5",
         "-5",
         "-5",
         "-5",
         "-5",
         "-5",
         "-5",
         "-5",
         "-5",
         "-5",
         "-5",
         "-5",
         "-5",
         "-5",
         "-5",
         "-5",
         "-5",
         "-5",
         "-5",
         "-5",
         "-5",
         "-5",
         "-5",
         "-5",
         "-5",
         "-5",
         "-5",
         "-5",
         "-5",
         "-5",
         "-5",
         "-5",
         "-5",
         "-5",
         "-5",
         "-5",
         "-5",
         "-5",
         "-5",
         "-5",
         "-5",
         "-5",
         "-5",
         "-5",
         "-5",
         "-5",
         "1",
         "4",
         "2",
         "0",
         "-5",
         "-5",
         "-5",
         "200603",
         "0",
         "0",
         "0",
         "0",
         "-5",
         "-5",
         "-5",
         "-5",
         "-5",
         "-5",
         "-5",
         "-5",
         "-5",
         "-5",
         "-5",
         "-5",
         "-5",
         "-5",
         "-5",
         "-5",
         "-5",
         "-5",
         "-5",
         "-5",
         "-5",
         "-5",
         "-5",
         "-5",
         "-5",
         "-5",
         "-5",
         "-5",
         "-5",
         "-5",
         "-5",
         "-5",
         "-5",
         "-5",
         "-5",
         "-5",
         "-5",
         "-5",
         "-5",
         "-5",
         "250.128",
         "248.753",
         "264.2911",
         "263.0261",
         "271.4467",
         "291.3587",
         "0",
         "5",
         "-5",
         "1",
         "2004",
         "0",
         "0",
         "-3",
         "-3",
         "-3",
         "-3",
         "-3",
         "-3",
         "-3",
         "-5",
         "2",
         "1",
         "2",
         "2005",
         "2",
         "1",
         "4",
         "-5",
         "0",
         "3",
         "2",
         "2",
         "1",
         "4",
         "-5",
         "2005",
         "0",
         "-3",
         "15",
         "-3",
         "3",
         "2",
         "1",
         "0",
         "0",
         "2",
         "1",
         "0",
         "0",
         "0",
         "-5",
         "1",
         "1",
         "0",
         "0",
         "1",
         "1",
         "0",
         "0",
         "0",
         "-5",
         "5",
         "4",
         "2009",
         "-5",
         "-5",
         "3",
         "3",
         "2",
         "5",
         "0",
         "1",
         "4",
         "3",
         "39",
         "-5",
         "15",
         "-5",
         "-5",
         "1500",
         "-5",
         "-3",
         "-5",
         "-5",
         "-5",
         "0",
         "-3",
         "-3",
         "0.9749",
         "1.2506",
         "1.1835",
         "29",
         "-5",
         "15",
         "3",
         "5",
         "5",
         "4",
         "-0.68",
         "1",
         "2",
         "3",
         "-3",
         "-5",
         "20",
         "1",
         "-5",
         "3",
         "2",
         "0",
         "0",
         "0",
         "0",
         "1",
         "-5",
         "0",
         "-5",
         "0",
         "0",
         "0",
         "0",
         "0",
         "0",
         "0",
         "0",
         "0",
         "-5",
         "-5",
         "-5",
         "263.0261",
         "271.4467",
         "291.3587",
         "1",
         "-5",
         "-5",
         "-5",
         "-5",
         "-5",
         "-5",
         "-5",
         "13500",
         "17000",
         "3500",
         "13500",
         "0",
         "0",
         "4700",
         "0",
         "0",
         "-5",
         "-5",
         "-5",
         "-5",
         "-5",
         "-5",
         "-5",
         "-5",
         "-5",
         "-5",
         "-5",
         "-5",
         "1",
         "-5",
         "-5",
         "-5",
         "-5",
         "-5",
         "-5",
         "-5",
         "-5",
         "-5",
         "0",
         "-5",
         "-5",
         "-5",
         "-5",
         "-5",
         "-5",
         "-5",
         "-5",
         "-5",
         "2",
         "-5",
         "-5",
         "-5",
         "-5",
         "-5",
         "-5",
         "-5",
         "-5",
         "-5",
         "-5",
         "-5",
         "-5",
         "-5",
         "-5",
         "-5",
         "-5",
         "-5",
         "-5",
         "-5",
         "-5",
         "-5",
         "-5",
         "-5",
         "-5",
         "-5",
         "-5",
         "-5",
         "333.3753",
         "341.3079",
         "361.6603",
         "366.4275",
         "414.7672",
         "338.1122",
         "361.9548",
         "351.1915",
         "1",
         "1",
         "3",
         "3",
         "3",
         "-5",
         "23",
         "1",
         "20",
         "-5",
         "-5",
         "9",
         "6",
         "2008",
         "54",
         "2012",
         "0",
         "1",
         "1",
         "-5",
         "1",
         "1",
         "0",
         "4",
         "-5",
         "-5",
         "9",
         "6",
         "2008",
         "2009",
         "51",
         "-5",
         "2009",
         "51",
         "-5",
         "-3",
         "-3",
         "-5",
         "-3",
         "-3",
         "-5",
         "-3",
         "-3",
         "-5",
         "-3",
         "-3",
         "-5",
         "-3",
         "0",
         "1",
         "0",
         "1",
         "-3",
         "-3",
         "-3",
         "15",
         "-5",
         "-5",
         "-5",
         "-5",
         "-5",
         "-5",
         "0",
         "3",
         "1",
         "0",
         "0",
         "1",
         "3",
         "90",
         "72",
         "-5",
         "2.5",
         "2.5",
         "3.0",
         "-3.0",
         "60",
         "9",
         "-5",
         "2.5",
         "2.0",
         "-5",
         "6",
         "3.75",
         "3",
         "-5",
         "15",
         "3.75",
         "6",
         "-5",
         "15",
         "3.75",
         "6",
         "-5",
         "0",
         "-3.0",
         "0",
         "-5",
         "0",
         "-3.0",
         "0",
         "-5",
         "0",
         "-3.0",
         "0",
         "-5",
         "0",
         "-3.0",
         "0",
         "-5",
         "0",
         "-3.0",
         "0",
         "-5",
         "0",
         "-3.0",
         "-5",
         "-5",
         "48",
         "2.5",
         "23",
         "-5",
         "-5",
         "2.25",
         "30",
         "-5",
         "-5",
         "3.5",
         "9",
         "-5",
         "-5",
         "2.5",
         "23",
         "-5",
         "-5",
         "3.75",
         "8",
         "-5",
         "-5",
         "2.5",
         "32",
         "29",
         "-5",
         "-1",
         "-5",
         "-9",
         "-5",
         "-9",
         "-5",
         "4A",
         "-1",
         "-9",
         "-9",
         "-5",
         "4A",
         "00",
         "4B",
         "00",
         "0",
         "1",
         "0",
         "1",
         "-5",
         "-5",
         "-5",
         "-5",
         "-5",
         "2",
         "0",
         "-5",
         "-5",
         "-5",
         "-5",
         "-5",
         "-5",
         "-5",
         "-9",
         "2",
         "-9",
         "-9",
         "1",
         "2",
         "2",
         "-9",
         "-9",
         "-9",
         "2",
         "-9",
         "2",
         "-9",
         "1",
         "-9",
         "2",
         "2",
         "-9",
         "2",
         "1",
         "1",
         "1",
         "1",
         "1",
         "1",
         "1",
         "0",
         "-9",
         "1",
         "0",
         "0",
         "-9",
         "2",
         "1",
         "3",
         "1",
         "1",
         "1",
         "1",
         "-9",
         "-9",
         "-5",
         "-5",
         "-5",
         "-5",
         "-5",
         "10",
         "3",
         "1",
         "-9",
         "2",
         "-9",
         "-5",
         "-5",
         "-5",
         "-5",
         "-5",
         "10",
         "3",
         "0",
         "-9",
         "-9",
         "0",
         "-5",
         "-5",
         "-5",
         "-5",
         "-5",
         "10",
         "3",
         "1",
         "1",
         "2",
         "1",
         "1",
         "4",
         "1",
         "2",
         "1",
         "1",
         "1",
         "1",
         "3",
         "5",
         "2",
         "-9",
         "4",
         "3",
         "-9",
         "2",
         "3",
         "2",
         "-9",
         "0",
         "-3",
         "-3",
         "-3",
         "-3",
         "-3",
         "-3",
         "-3",
         "-3",
         "1",
         "1",
         "0",
         "0",
         "1",
         "1",
         "1",
         "1",
         "1",
         "1",
         "0",
         "0",
         "1",
         "1",
         "0",
         "1",
         "0",
         "0",
         "1",
         "1",
         "1",
         "0",
         "1",
         "0",
         "0",
         "0",
         "0",
         "0",
         "4",
         "7",
         "4",
         "5",
         "2",
         "3",
         "4",
         "1",
         "-9",
         "2",
         "2",
         "2",
         "3",
         "2",
         "2",
         "3",
         "-9",
         "2",
         "0",
         "1",
         "0",
         "0",
         "0",
         "0",
         "1",
         "0",
         "0",
         "0",
         "0",
         "0",
         "1",
         "0",
         "0",
         "0",
         "1",
         "0",
         "0",
         "0",
         "0",
         "1",
         "0",
         "0",
         "0",
         "0",
         "1",
         "0",
         "0",
         "0",
         "0",
         "1",
         "0",
         "0",
         "0",
         "0",
         "1",
         "0",
         "0",
         "0",
         "0",
         "0",
         "0",
         "0",
         "0",
         "0",
         "0",
         "0",
         "-9",
         "14",
         "5",
         "3",
         "1",
         "1",
         "3",
         "4",
         "1",
         "1",
         "1",
         "5",
         "4",
         "5",
         "2",
         "4",
         "5",
         "3",
         "2",
         "2",
         "-9",
         "6",
         "6",
         "1",
         "3",
         "1",
         "3",
         "3",
         "3",
         "4",
         "4",
         "4",
         "-9",
         "-9",
         "-9",
         "1",
         "1",
         "2",
         "1",
         "3",
         "3",
         "3",
         "3",
         "3",
         "3",
         "3",
         "3",
         "1",
         "3",
         "3",
         "3",
         "3",
         "3",
         "4",
         "1",
         "1",
         "1",
         "5",
         "1",
         "2",
         "1",
         "0",
         "0",
         "1",
         "0",
         "1",
         "1",
         "0",
         "0",
         "0",
         "0",
         "1",
         "1",
         "-3",
         "-3",
         "-3",
         "-3",
         "-3",
         "-3",
         "-3",
         "-3",
         "-5",
         "-5",
         "3",
         "4",
         "1",
         "1",
         "6",
         "1",
         "1",
         "1",
         "1",
         "1",
         "-5",
         "-3",
         "-3",
         "-3",
         "-3",
         "-3",
         "-3",
         "-3",
         "-3",
         "0",
         "0",
         "0",
         "0",
         "0",
         "0",
         "1",
         "1",
         "-3",
         "-3",
         "-3",
         "-3",
         "-3",
         "-3",
         "-3",
         "-5",
         "-5",
         "-5",
         "-5",
         "2",
         "2",
         "1",
         "0",
         "1",
         "1",
         "1",
         "1",
         "1",
         "0",
         "1",
         "0",
         "4",
         "4",
         "4",
         "-9",
         "-9",
         "2",
         "2",
         "3",
         "3",
         "3",
         "3",
         "1",
         "1",
         "3",
         "2",
         "3",
         "2",
         "2",
         "2",
         "2",
         "2",
         "1",
         "1",
         "3",
         "4",
         "3",
         "3",
         "4",
         "4",
         "3",
         "4",
         "4",
         "4",
         "4",
         "4",
         "3",
         "4",
         "4",
         "3",
         "4",
         "1",
         "3",
         "4",
         "-9",
         "4",
         "4",
         "3",
         "3",
         "2",
         "3",
         "3",
         "3",
         "3",
         "2",
         "2",
         "3",
         "3",
         "3",
         "3",
         "1",
         "1",
         "2",
         "1",
         "3",
         "1",
         "1",
         "1",
         "0",
         "0",
         "0",
         "0",
         "3",
         "1",
         "3",
         "2",
         "4",
         "-9",
         "1",
         "-9",
         "-9",
         "-9",
         "-9",
         "1",
         "-9",
         "3",
         "2",
         "-9",
         "-9",
         "-9",
         "-9",
         "-9",
         "4",
         "3",
         "2",
         "2",
         "3",
         "4",
         "4",
         "2",
         "1",
         "2",
         "2",
         "1",
         "1",
         "1",
         "2",
         "1",
         "1",
         "4",
         "1",
         "4",
         "4",
         "2",
         "2",
         "2",
         "1",
         "1",
         "2",
         "1",
         "1",
         "4",
         "0",
         "0",
         "1",
         "1",
         "0",
         "0",
         "0",
         "0",
         "0",
         "0",
         "1",
         "0",
         "0",
         "0",
         "0",
         "0",
         "1",
         "1",
         "1",
         "1",
         "1",
         "2",
         "1",
         "1",
         "1",
         "1",
         "1",
         "1",
         "1",
         "1",
         "1",
         "1",
         "1",
         "1",
         "2",
         "3",
         "1",
         "4",
         "2",
         "2",
         "3",
         "2",
         "3",
         "1",
         "1",
         "1",
         "1",
         "1",
         "1",
         "1",
         "1",
         "1",
         "4",
         "3",
         "4",
         "2",
         "6",
         "6",
         "1",
         "2",
         "2",
         "3",
         "4",
         "3",
         "2",
         "2",
         "3",
         "2",
         "1",
         "2",
         "2",
         "4",
         "1",
         "1",
         "4",
         "4",
         "2",
         "2",
         "1",
         "1",
         "3",
         "3",
         "2",
         "3",
         "3",
         "3",
         "3",
         "3",
         "1",
         "3",
         "2",
         "3",
         "3",
         "3",
         "3",
         "3",
         "3",
         "3",
         "1",
         "0",
         "0",
         "1",
         "0",
         "0",
         "6",
         "6",
         "6",
         "1",
         "1",
         "6",
         "6",
         "1",
         "1",
         "-3",
         "1",
         "-3",
         "-3",
         "-3",
         "-3",
         "-3",
         "-3",
         "-3",
         "-3",
         "-3",
         "-3",
         "-3",
         "-3",
         "2",
         "1",
         "0",
         "0",
         "1",
         "1",
         "1",
         "1",
         "1",
         "0",
         "0",
         "0",
         "0",
         "0",
         "0",
         "2",
         "1",
         "2",
         "3",
         "3",
         "3",
         "2",
         "3",
         "2",
         "3",
         "3",
         "3",
         "3",
         "3",
         "3",
         "3",
         "2",
         "3",
         "2",
         "3",
         "2",
         "-3",
         "-3",
         "-3",
         "-3",
         "-3",
         "-3",
         "-5",
         "-5",
         "-3",
         "1",
         "6",
         "3",
         "0",
         "-3",
         "-3",
         "-3",
         "-3",
         "-3",
         "-3",
         "-3",
         "-3",
         "3",
         "3",
         "2",
         "3",
         "3",
         "3",
         "3",
         "3",
         "2",
         "2",
         "2",
         "5",
         "4",
         "4",
         "-8",
         "-8",
         "-8",
         "-8",
         "-8",
         "-8",
         "-8",
         "-8",
         "-8",
         "-8",
         "-8",
         "-8",
         "-8",
         "-8",
         "-8",
         "-8",
         "-8",
         "-8",
         "-8",
         "-8",
         "-8",
         "-8",
         "-8",
         "-8",
         "-8",
         "-8",
         "-8",
         "-8",
         "-8",
         "-8",
         "-8",
         "-8",
         "-8",
         "-8",
         "-8",
         "-8",
         "-8",
         "-8",
         "-8",
         "-8",
         "-8",
         "-8",
         "-8",
         "-8",
         "-8",
         "-8",
         "-8",
         "-8",
         "-8",
         "-8",
         "-8",
         "-8",
         "-8",
         "-8",
         "-8",
         "-8",
         "-8",
         "-8",
         "-8",
         "-8",
         "-8",
         "-8",
         "-8",
         "-8",
         "-8",
         "-8",
         "-8",
         "-8",
         "-8",
         "-8",
         "-8",
         "-8",
         "-8",
         "-8",
         "-8",
         "-8",
         "-8",
         "-8",
         "-8",
         "-8",
         "-8",
         "-8",
         "-8",
         "-8",
         "-8",
         "-8",
         "-8",
         "-8",
         "-8",
         "-8",
         "-8",
         "-8",
         "-8",
         "-8",
         "-8",
         "-8",
         "-8",
         "-8",
         "-8",
         "-8",
         "-8",
         "-8",
         "-8",
         "-8",
         "-8",
         "-8",
         "-8",
         "-8",
         "-8",
         "-8",
         "-5",
         "-5",
         "-8",
         "-8",
         "-8",
         "-8",
         "-8",
         "-8",
         "-5",
         "-8",
         "-8",
         "-8",
         "-8",
         "-8",
         "-8",
         "-8",
         "-8",
         "-8",
         "-8",
         "-8",
         "-8",
         "-8",
         "-8",
         "-8",
         "-8",
         "-8",
         "-8",
         "-8",
         "-8",
         "-8",
         "-8",
         "-8",
         "-8",
         "-8",
         "-8",
         "-8",
         "-8",
         "-8",
         "-8",
         "-8",
         "-8",
         "-8",
         "-8",
         "-8",
         "-8",
         "-8",
         "-8",
         "-8",
         "-8",
         "-8",
         "-8",
         "-8",
         "-8",
         "-8",
         "-8",
         "-8",
         "-8",
         "-8",
         "-8",
         "-8",
         "-5",
         "-8",
         "-8",
         "-8",
         "-8",
         "-8",
         "-5",
         "-8",
         "-8",
         "-8",
         "-8",
         "-8",
         "-8",
         "-8",
         "-8",
         "-8",
         "-8",
         "-8",
         "-8",
         "-5",
         "-5",
         "-8",
         "-8",
         "-8",
         "-8",
         "-8",
         "-8",
         "-8",
         "-8",
         "-8",
         "-8",
         "-8",
         "-8",
         "-8",
         "-8",
         "-8",
         "-8",
         "-8",
         "-8",
         "-8",
         "-8",
         "-8",
         "-8",
         "-8",
         "-8",
         "-8",
         "-8",
         "-8",
         "-8",
         "-8",
         "-8",
         "-8",
         "-8",
         "-8",
         "-8",
         "-5",
         "-8",
         "-8",
         "-8",
         "-8",
         "-8",
         "-8",
         "-5",
         "-8",
         "-8",
         "-8",
         "-8",
         "-8",
         "-8",
         "-8",
         "-8",
         "-8",
         "-8",
         "-5",
         "-8",
         "-8",
         "-8",
         "-8",
         "-8",
         "2",
         "0",
         "-5",
         "-5",
         "-5",
         "-5",
         "-5",
         "-5",
         "-5",
         "1",
         "-5",
         "-3",
         "-3",
         "-3",
         "-3",
         "-3",
         "-3",
         "-3",
         "-3",
         "-3",
         "-3",
         "-3",
         "-3",
         "-3",
         "-3",
         "-3",
         "-3",
         "-3",
         "-3",
         "-3",
         "-3",
         "-3",
         "-3",
         "-5",
         "-5",
         "-5",
         "-5",
         "2",
         "2",
         "1",
         "0",
         "1",
         "1",
         "1",
         "1",
         "1",
         "0",
         "1",
         "0",
         "-5",
         "-5",
         "-5",
         "-5",
         "-5",
         "-5",
         "-5",
         "-5",
         "-5",
         "-5",
         "-5",
         "-5",
         "-5",
         "-5",
         "-5",
         "-5",
         "-5",
         "-5",
         "-5",
         "-5",
         "-5",
         "-5",
         "-5",
         "-5",
         "-5",
         "-5",
         "-5",
         "-5",
         "-5",
         "-5",
         "-5",
         "-5",
         "-5",
         "-5",
         "-5",
         "1",
         "3",
         "-5",
         "1",
         "0",
         "0",
         "1",
         "0",
         "1",
         "1",
         "0",
         "0",
         "-3",
         "1",
         "-3",
         "-3",
         "-3",
         "-3",
         "-3",
         "-3",
         "-3",
         "-3",
         "-3",
         "-3",
         "-3",
         "-3",
         "-3",
         "-5",
         "-5",
         "-5",
         "1",
         "0",
         "1",
         "0",
         "0",
         "0",
         "0",
         "1",
         "0",
         "0",
         "0",
         "0",
         "0",
         "0",
         "-5",
         "-5",
         "1",
         "1",
         "1",
         "1",
         "0",
         "0",
         "2",
         "14",
         "0",
         "0",
         "0",
         "3",
         "2",
         "3",
         "2",
         "3",
         "1",
         "1",
         "1",
         "1",
         "1",
         "2",
         "-5",
         "-5",
         "-5",
         "-5",
         "-5",
         "-5",
         "-5",
         "-5",
         "-5",
         "-5",
         "-5",
         "0",
         "1",
         "0",
         "1",
         "0",
         "0",
         "0",
         "0",
         "-3",
         "-3",
         "-3",
         "-3",
         "-3",
         "-3",
         "-3",
         "-3",
         "-3",
         "-3",
         "-3",
         "-3",
         "-3",
         "-5",
         "-5",
         "0",
         "0",
         "0",
         "0",
         "1",
         "1",
         "0",
         "0",
         "-5",
         "-3",
         "-3",
         "-5",
         "-3",
         "1",
         "1",
         "0",
         "0",
         "0",
         "0",
         "0",
         "0",
         "0",
         "0",
         "0",
         "-5",
         "1",
         "1",
         "-5",
         "-5",
         "-5",
         "-5",
         "2003",
         "-5",
         "4",
         "-5",
         "1",
         "1",
         "0",
         "0",
         "0",
         "0",
         "1",
         "1",
         "-5",
         "-5",
         "-3",
         "-5",
         "-3",
         "0",
         "1",
         "1",
         "-5",
         "-3",
         "-5",
         "-5",
         "-5",
         "-5",
         "2003",
         "-5",
         "4",
         "-5",
         "1",
         "1",
         "0",
         "3",
         "3",
         "3",
         "3",
         "3",
         "-5",
         "-3",
         "-3",
         "-3",
         "-3",
         "-5",
         "-3",
         "-3",
         "-3",
         "-5",
         "1",
         "0",
         "0",
         "1",
         "-5",
         "2",
         "1",
         "1",
         "-5",
         "-5",
         "5",
         "1",
         "-5",
         "0",
         "-3",
         "-3",
         "-5",
         "-5",
         "6",
         "1",
         "-5",
         "-5",
         "-3",
         "0",
         "-5",
         "-3",
         "-5",
         "-5",
         "-3",
         "-5",
         "-3",
         "-5",
         "1",
         "-5",
         "1",
         "-5",
         "0",
         "-5",
         "0",
         "0",
         "-5",
         "0",
         "-5",
         "0",
         "-5",
         "0",
         "1",
         "0",
         "0",
         "0",
         "1",
         "0",
         "0",
         "0",
         "0",
         "1",
         "0",
         "0",
         "0",
         "0",
         "0",
         "0",
         "0",
         "0",
         "0",
         "0",
         "0",
         "1",
         "0",
         "1",
         "0",
         "0",
         "1",
         "0",
         "0",
         "0",
         "1",
         "0",
         "0",
         "0",
         "0",
         "1",
         "0",
         "-3",
         "-3",
         "-5",
         "-3",
         "-5",
         "-5",
         "-5",
         "-5",
         "-5",
         "-5",
         "-5",
         "-3",
         "-5",
         "2012",
         "-3",
         "2",
         "0",
         "0",
         "0",
         "0",
         "0",
         "0",
         "1",
         "1",
         "1",
         "2",
         "-3",
         "-3",
         "-3",
         "-3",
         "-3",
         "-3",
         "-3",
         "-3",
         "-3",
         "-5",
         "0",
         "-5",
         "-3",
         "-5",
         "-3",
         "-3",
         "-3",
         "-3",
         "1",
         "1",
         "3",
         "1",
         "1",
         "2",
         "0",
         "-3",
         "-3",
         "-3",
         "-3",
         "-3",
         "-3",
         "-3",
         "-3",
         "-3",
         "-3",
         "-3",
         "0",
         "-3",
         "-3",
         "-3",
         "-3",
         "-5",
         "-3",
         "-3",
         "-3",
         "-3",
         "-3",
         "-3",
         "1",
         "1",
         "0",
         "3",
         "-3",
         "0",
         "1",
         "-5",
         "-5",
         "2011",
         "1",
         "0",
         "0",
         "0",
         "0",
         "-3",
         "0",
         "32",
         "-3",
         "1",
         "-3",
         "5",
         "5",
         "5",
         "4",
         "5",
         "4",
         "5",
         "1",
         "-3",
         "-5",
         "2",
         "0",
         "0",
         "0",
         "1",
         "1",
         "1",
         "1",
         "1",
         "1",
         "1",
         "1",
         "1",
         "1",
         "1",
         "1",
         "1",
         "1",
         "4",
         "25",
         "2",
         "2",
         "2",
         "2",
         "0",
         "-3",
         "-3",
         "-3",
         "0",
         "1",
         "0",
         "0",
         "0",
         "1",
         "0",
         "1",
         "0",
         "0",
         "0",
         "0",
         "-5",
         "-5",
         "5",
         "-5",
         "-3",
         "-5",
         "-5",
         "-5",
         "0",
         "-3",
         "1",
         "2",
         "-5",
         "-5",
         "-5",
         "-5",
         "-5",
         "-5",
         "-5",
         "0",
         "0",
         "-3",
         "-3",
         "-5",
         "-5",
         "-5",
         "0",
         "0",
         "-5",
         "-5",
         "-5",
         "-5",
         "1",
         "0",
         "0",
         "2",
         "1",
         "0",
         "0",
         "0",
         "0",
         "1",
         "1",
         "1",
         "2",
         "1",
         "-5",
         "2",
         "-5",
         "-3",
         "1",
         "1",
         "1000",
         "0",
         "-3",
         "-3",
         "-3",
         "-3",
         "-3",
         "-3",
         "-3",
         "0",
         "2",
         "0",
         "3",
         "1",
         "1",
         "0",
         "1",
         "0",
         "0",
         "0",
         "1",
         "0",
         "0",
         "0",
         "0",
         "0",
         "0",
         "0",
         "0",
         "0",
         "1",
         "4",
         "1",
         "1",
         "1",
         "1",
         "3",
         "1",
         "2",
         "1",
         "-3",
         "-5",
         "-3",
         "-3",
         "-3",
         "-3",
         "-3",
         "-5",
         "-5",
         "-5",
         "-5",
         "-5",
         "-5",
         "-5",
         "-5",
         "-5",
         "3",
         "3",
         "3",
         "2",
         "3",
         "3",
         "2",
         "2",
         "3",
         "3",
         "3",
         "-4",
         "-4",
         "-4",
         "-4",
         "-4",
         "-4",
         "-4",
         "-4",
         "-4",
         "-4",
         "-4",
         "-4",
         "-4",
         "-4",
         "-4",
         "-4",
         "-4",
         "-4",
         "-4",
         "-4",
         "-4",
         "-4",
         "-4",
         "-4",
         "-5",
         "-5",
         "-5",
         "-5",
         "-5",
         "-5",
         "-5",
         "-4",
         "-4",
         "-5",
         "-5",
         "-4",
         "-4",
         "-5",
         "-5",
         "-4",
         "-4",
         "-4",
         "-4",
         "-4",
         "-4",
         "-4",
         "-4",
         "-4",
         "-4",
         "-4",
         "-4",
         "-4",
         "-4",
         "-4",
         "-4",
         "-4",
         "-5",
         "-4",
         "-4",
         "-4",
         "-4",
         "-4",
         "-4",
         "-4",
         "-4",
         "-4",
         "-4",
         "-4",
         "-4",
         "-4",
         "-4",
         "-4",
         "-4",
         "-4",
         "-4",
         "-4",
         "-4",
         "-4",
         "-4",
         "-4",
         "-5",
         "-5",
         "-4",
         "-4",
         "-4",
         "-4",
         "-5",
         "-5",
         "-4",
         "-4",
         "-4",
         "-4",
         "-4",
         "-4",
         "-4",
         "-4",
         "-4",
         "-4",
         "-4",
         "-4",
         "-4",
         "-4",
         "-4",
         "-4",
         "-4",
         "-4",
         "-4",
         "-4",
         "-4",
         "-4",
         "-4",
         "-4",
         "-4",
         "-4",
         "-4",
         "-4",
         "-4",
         "-4",
         "-4",
         "-4",
         "-4",
         "-4",
         "-4",
         "-4",
         "-4",
         "-4",
         "-4",
         "-4",
         "-4",
         "-4",
         "-4",
         "-4",
         "-4",
         "-4",
         "-4",
         "-4",
         "-4",
         "-4",
         "-4",
         "-4",
         "-4",
         "-4",
         "-4",
         "-4",
         "-4",
         "-4",
         "-4",
         "-4",
         "-4",
         "-4",
         "-4",
         "-4",
         "-4",
         "-4",
         "-4",
         "-4",
         "-4",
         "-4",
         "-4",
         "-4",
         "-4",
         "-4",
         "-4",
         "-4",
         "-4",
         "-4",
         "-4",
         "-4",
         "-4",
         "-4",
         "-4",
         "-4",
         "-4",
         "-4",
         "-4",
         "-4",
         "-4",
         "-4",
         "-4",
         "-4",
         "-4",
         "-4",
         "-4",
         "-4",
         "-4",
         "-4",
         "-4",
         "-4",
         "-4",
         "-4",
         "-4",
         "-4",
         "-4",
         "-4",
         "-4",
         "-4",
         "-4",
         "-4",
         "-4",
         "-4",
         "-4",
         "-4",
         "-4",
         "-4",
         "-4",
         "-4",
         "-4",
         "-4",
         "-4",
         "-4",
         "-4",
         "-4",
         "-4",
         "-4",
         "-4",
         "-4",
         "-4",
         "-4",
         "-4",
         "-4",
         "-4",
         "-4",
         "-4",
         "-4",
         "-4",
         "-4",
         "-4",
         "-4",
         "-4",
         "-4",
         "-4",
         "-4",
         "-4",
         "-4",
         "-4",
         "-4",
         "-4",
         "-4",
         "-4",
         "-4",
         "-4",
         "-4",
         "-4",
         "-4",
         "-4",
         "-4",
         "-4",
         "-4",
         "-4",
         "-4",
         "-4",
         "-4",
         "-4",
         "-4",
         "-4",
         "-4",
         "-4",
         "-4",
         "-4",
         "-4",
         "-4",
         "-4",
         "-4",
         "-4",
         "-4",
         "-4",
         "-4",
         "1",
         "1",
         "1",
         "1",
         "1",
         "0",
         "0",
         "0",
         "0",
         "0",
         "0",
         "0",
         "3",
         "2",
         "0",
         "0",
         "-3",
         "-3",
         "-3",
         "-3",
         "-3",
         "4",
         "2",
         "1",
         "4",
         "2",
         "-3",
         "-3",
         "-3",
         "3",
         "3",
         "3",
         "3",
         "4",
         "2",
         "0",
         "-5",
         "-5",
         "-5",
         "-5",
         "-5",
         "1976",
         "0",
         "3",
         "3",
         "2",
         "1",
         "1",
         "0",
         "0",
         "1",
         "0",
         "0",
         "0",
         "0",
         "2",
         "1",
         "-3",
         "-3",
         "5",
         "-3",
         "1",
         "4",
         "4",
         "3",
         "3",
         "1",
         "1",
         "2",
         "2",
         "6",
         "2",
         "1",
         "3",
         "5",
         "6",
         "15",
         "0",
         "1",
         "1",
         "1",
         "1",
         "1",
         "1",
         "6",
         "3",
         "1",
         "3",
         "0",
         "2",
         "2",
         "1",
         "1",
         "1",
         "1",
         "200204",
         "1",
         "1",
         "-9",
         "1",
         "1",
         "0",
         "0",
         "0",
         "-3",
         "-3",
         "-3",
         "0",
         "-1",
         "2",
         "1",
         "0",
         "-3",
         "-3",
         "-3",
         "-3",
         "-3",
         "4",
         "2",
         "1",
         "5",
         "1",
         "-3",
         "-3",
         "-3",
         "3",
         "2",
         "0",
         "-5",
         "-5",
         "-5",
         "-5",
         "-5",
         "1967",
         "0",
         "13",
         "13",
         "13",
         "1",
         "1",
         "0",
         "0",
         "1",
         "0",
         "0",
         "0",
         "0",
         "1",
         "3",
         "-3",
         "-3",
         "5",
         "-3",
         "1",
         "2",
         "3",
         "1",
         "1",
         "1",
         "1",
         "1",
         "1",
         "1",
         "1",
         "4",
         "3",
         "1",
         "1",
         "30",
         "0",
         "1",
         "1",
         "1",
         "0",
         "0",
         "0",
         "1",
         "0",
         "-3",
         "3",
         "0",
         "1",
         "2",
         "1",
         "2",
         "2",
         "1",
         "2",
         "3",
         "200204",
         "1",
         "-5",
         "1",
         "6",
         "1",
         "6",
         "5",
         "8",
         "-5",
         "-5",
         "-5",
         "-5",
         "-5",
         "-5",
         "-5",
         "-5",
         "-5",
         "-5",
         "-5",
         "-5",
         "-5",
         "-5",
         "-5",
         "-5",
         "-5",
         "-5",
         "-5",
         "-5",
         "-5",
         "-5",
         "-5",
         "-5",
         "-5",
         "-5",
         "-5",
         "-5",
         "-5",
         "-5",
         "-5",
         "-5",
         "-5",
         "-5",
         "-5",
         "-5",
         "-5",
         "-5",
         "-5",
         "-5",
         "-5",
         "-5",
         "-5",
         "-5",
         "-5",
         "-5",
         "-5",
         "-5",
         "-5",
         "-5",
         "-5",
         "-5",
         "-5",
         "-5",
         "-5",
         "-5",
         "-5",
         "-5",
         "-5",
         "-5",
         "-5",
         "-5",
         "-5",
         "-5",
         "-5",
         "-5",
         "-5",
         "-5",
         "-5",
         "-5",
         "-5",
         "-5",
         "-5",
         "-5",
         "-5",
         "-5",
         "-5",
         "1",
         "2",
         "3",
         "180",
         "9",
         "40",
         "8",
         "1",
         "2",
         "-3",
         "90",
         "-3",
         "-9",
         "-3",
         "-9",
         "-3",
         "-3",
         "3",
         "-9",
         "-9",
         "-9",
         "-9",
         "-9",
         "-9",
         "-9",
         "-9",
         "-9",
         "-9",
         "-9",
         "2",
         "2",
         "1",
         "1",
         "3",
         "1",
         "1",
         "3",
         "3",
         "2",
         "2",
         "2",
         "2",
         "1",
         "1",
         "3",
         "2",
         "3",
         "2",
         "-9",
         "-9",
         "-9",
         "0",
         "0",
         "0",
         "0",
         "0",
         "0",
         "1",
         "0",
         "0",
         "1",
         "1",
         "0",
         "1",
         "0",
         "1",
         "0",
         "1",
         "1",
         "0",
         "0",
         "1",
         "1",
         "0",
         "0",
         "0",
         "0",
         "1",
         "1",
         "1",
         "1",
         "1",
         "0",
         "0",
         "0",
         "0",
         "0",
         "1",
         "0",
         "0",
         "1",
         "0",
         "1",
         "0",
         "0",
         "0",
         "0",
         "2",
         "-5",
         "-5",
         "0",
         "16",
         "12",
         "3",
         "1",
         "16",
         "10",
         "0",
         "14",
         "2",
         "11",
         "10",
         "25",
         "100",
         "-3",
         "100",
         "0",
         "37215",
         "67639",
         "1",
         "1",
         "0",
         "1",
         "0",
         "0",
         "0",
         "0",
         "0",
         "0",
         "1",
         "1",
         "1",
         "1",
         "1",
         "-3",
         "-3",
         "-3",
         "-3",
         "1",
         "-3",
         "-3",
         "-3",
         "-3",
         "2",
         "-3",
         "-3",
         "-3",
         "-3",
         "2",
         "-3",
         "-3",
         "-3",
         "-3",
         "1",
         "-3",
         "-3",
         "-3",
         "-3",
         "1",
         "-3",
         "-3",
         "-3",
         "-3",
         "1",
         "1",
         "0",
         "1",
         "-9",
         "1",
         "1",
         "1",
         "1",
         "1",
         "1",
         "1",
         "1",
         "0",
         "0",
         "0",
         "0",
         "0",
         "1",
         "0",
         "0",
         "0",
         "0",
         "0",
         "0",
         "1",
         "1",
         "1",
         "0",
         "0",
         "1",
         "1",
         "0",
         "0",
         "0",
         "1",
         "1",
         "1",
         "1",
         "1",
         "1",
         "1",
         "1",
         "1",
         "1",
         "1",
         "1",
         "1",
         "1",
         "1",
         "1",
         "1",
         "1",
         "1",
         "0",
         "1",
         "0",
         "1",
         "1",
         "0",
         "1",
         "0",
         "1",
         "1",
         "1",
         "1",
         "1",
         "1",
         "1",
         "1",
         "1",
         "1",
         "3",
         "3",
         "3",
         "3",
         "3",
         "2",
         "3",
         "3",
         "2",
         "2",
         "2",
         "2",
         "3",
         "3",
         "1",
         "1",
         "2",
         "1",
         "1",
         "3",
         "2",
         "4",
         "4",
         "4",
         "4",
         "4",
         "4",
         "4",
         "4",
         "3",
         "3",
         "3",
         "1",
         "1",
         "4",
         "4",
         "1",
         "1",
         "1",
         "1",
         "1",
         "1",
         "1",
         "1",
         "1",
         "1",
         "1",
         "4",
         "4",
         "4",
         "3",
         "3",
         "200205",
         "-5",
         "180",
         "3",
         "0",
         "-3",
         "0",
         "-3",
         "0",
         "-3",
         "1",
         "0",
         "0",
         "0",
         "0",
         "0",
         "2",
         "2",
         "3",
         "1",
         "4",
         "4",
         "3",
         "4",
         "3",
         "4",
         "1",
         "7",
         "6",
         "6",
         "6",
         "2",
         "2",
         "4",
         "7",
         "1",
         "0",
         "0",
         "0",
         "0",
         "0",
         "1",
         "2",
         "4",
         "4",
         "2",
         "1",
         "2",
         "3",
         "3",
         "1",
         "1",
         "3",
         "3",
         "3",
         "3",
         "1",
         "1",
         "1",
         "1",
         "1",
         "1",
         "1",
         "1",
         "0",
         "1",
         "1",
         "0",
         "0",
         "50",
         "3",
         "3",
         "3",
         "2",
         "1",
         "2",
         "45",
         "45",
         "10",
         "4",
         "4",
         "3",
         "1",
         "3",
         "4",
         "1",
         "3",
         "5",
         "2",
         "1",
         "2",
         "1",
         "0",
         "1",
         "1",
         "1",
         "1",
         "-5",
         "7",
         "24",
         "8",
         "0",
         "45",
         "0",
         "0",
         "-3",
         "-3",
         "-3",
         "-3",
         "-3",
         "-3",
         "-3",
         "-3",
         "-3",
         "-3",
         "-3",
         "-3",
         "-3",
         "-3",
         "-3",
         "-3",
         "-5",
         "1",
         "1",
         "-5",
         "2",
         "-5",
         "9",
         "-5",
         "7",
         "-5",
         "1",
         "-5",
         "1",
         "3",
         "0",
         "5",
         "0",
         "92",
         "3",
         "0",
         "0",
         "0",
         "0",
         "90",
         "8",
         "1",
         "1",
         "100",
         "3",
         "20",
         "47",
         "30",
         "4",
         "4",
         "4",
         "4",
         "4",
         "4",
         "4",
         "1",
         "4",
         "5",
         "4",
         "4",
         "1",
         "4",
         "4",
         "1",
         "1",
         "4",
         "4",
         "4",
         "4",
         "4",
         "4",
         "4",
         "4",
         "5",
         "4",
         "4",
         "4",
         "4",
         "4",
         "4",
         "4",
         "200404",
         "1",
         "108",
         "0",
         "1",
         "1",
         "1",
         "0",
         "1",
         "1",
         "1",
         "1",
         "2",
         "0",
         "0",
         "-3",
         "-3",
         "0",
         "-3",
         "-3",
         "1",
         "1",
         "0",
         "0",
         "-3",
         "-3",
         "0",
         "-3",
         "1",
         "3",
         "0",
         "1",
         "1",
         "1",
         "1",
         "0",
         "1",
         "1",
         "1",
         "3",
         "1",
         "1",
         "1",
         "1",
         "3",
         "1",
         "1",
         "1",
         "0",
         "-3",
         "-3",
         "-3",
         "-3",
         "0",
         "-3",
         "-3",
         "-3",
         "-3",
         "0",
         "-3",
         "-3",
         "-3",
         "-3",
         "1",
         "3",
         "1",
         "1",
         "1",
         "1",
         "3",
         "1",
         "1",
         "1",
         "1",
         "3",
         "0",
         "0",
         "1",
         "1",
         "3",
         "1",
         "1",
         "1",
         "1",
         "3",
         "1",
         "1",
         "1",
         "0",
         "-3",
         "-3",
         "-3",
         "-3",
         "1",
         "3",
         "1",
         "1",
         "1",
         "0",
         "-3",
         "-3",
         "-3",
         "-3",
         "1",
         "3",
         "1",
         "1",
         "1",
         "1",
         "1",
         "1",
         "1",
         "1",
         "1",
         "3",
         "1",
         "1",
         "1",
         "0",
         "-3",
         "-3",
         "-3",
         "-3",
         "0",
         "-3",
         "-3",
         "-3",
         "-3",
         "1",
         "0",
         "1",
         "1",
         "0",
         "1",
         "0",
         "1",
         "0",
         "0",
         "0",
         "0",
         "0",
         "0",
         "0",
         "0",
         "0",
         "1",
         "2",
         "2",
         "3",
         "2",
         "0",
         "-3",
         "5",
         "2",
         "-3",
         "-3",
         "-3",
         "-3",
         "-3",
         "5",
         "14",
         "20",
         "2",
         "4",
         "200",
         "3",
         "0",
         "1",
         "1",
         "0",
         "0",
         "0",
         "0",
         "0",
         "1",
         "6",
         "3",
         "1",
         "1",
         "1",
         "0",
         "1",
         "1",
         "200204",
         "0",
         "0",
         "0",
         "0",
         "0",
         "1",
         "0",
         "0",
         "1",
         "1",
         "2",
         "3",
         "4",
         "4",
         "4",
         "0",
         "0",
         "0",
         "0",
         "1",
         "0",
         "0",
         "0",
         "0",
         "0",
         "0",
         "0",
         "0",
         "0",
         "1",
         "1",
         "0",
         "0",
         "0",
         "0",
         "0",
         "1",
         "1",
         "4",
         "0",
         "0",
         "0",
         "1",
         "1",
         "1",
         "1",
         "1",
         "1",
         "0",
         "0",
         "0",
         "1",
         "1",
         "1",
         "1",
         "1",
         "1",
         "1",
         "0",
         "0"
        ],
        [
         "4",
         "101106",
         "-5",
         "101",
         "1",
         "1011",
         "101",
         "1",
         "1",
         "-5",
         "101",
         "1111",
         "11111",
         "11111",
         "1",
         "1",
         "178.9513",
         "-5",
         "2",
         "-5",
         "4",
         "-5",
         "-5",
         "-5",
         "-5",
         "-5",
         "-5",
         "-5",
         "-5",
         "-5",
         "0",
         "2",
         "2",
         "-5",
         "198511",
         "-5",
         "4",
         "2",
         "2",
         "1",
         "1",
         "3",
         "2",
         "1",
         "1",
         "1",
         "2",
         "8",
         "5",
         "6",
         "-1.41",
         "1",
         "-1.28",
         "1",
         "0",
         "-3",
         "0",
         "1",
         "2",
         "5",
         "2",
         "15",
         "16",
         "3",
         "1",
         "-5",
         "200204",
         "3",
         "-5",
         "-5",
         "1",
         "2",
         "1",
         "1",
         "1",
         "1",
         "-5",
         "-5",
         "0",
         "36.17",
         "1",
         "29.97",
         "13.07",
         "25.26",
         "403.22",
         "379.17",
         "24.673",
         "40.57",
         "1",
         "0.906",
         "0.029",
         "0.0",
         "0.0",
         "0.0",
         "-5",
         "-5",
         "-5",
         "-5",
         "-5",
         "-5",
         "-5",
         "13.732",
         "33.53",
         "1",
         "0.098",
         "0.0",
         "0.0",
         "0.121",
         "0.143",
         "0.213",
         "0.388",
         "0.326",
         "-2.651",
         "-0.435",
         "-5",
         "-5",
         "-5",
         "-5",
         "-5",
         "-5",
         "-5",
         "-5",
         "4",
         "-5",
         "4",
         "-5",
         "4",
         "0",
         "3",
         "2",
         "2",
         "2",
         "2",
         "2",
         "2",
         "2",
         "2",
         "0",
         "0",
         "0",
         "10",
         "4",
         "1",
         "3",
         "-5",
         "7",
         "3",
         "-5",
         "7",
         "5",
         "-0.348",
         "-0.567",
         "-5",
         "6",
         "-9",
         "1",
         "1",
         "1",
         "1",
         "1",
         "3",
         "5",
         "-0.269",
         "-2.191",
         "-0.051",
         "-5",
         "-5",
         "-5",
         "-5",
         "0",
         "-5",
         "-5",
         "0",
         "0",
         "0",
         "0",
         "0",
         "0",
         "0",
         "0",
         "0",
         "0",
         "0",
         "0",
         "0",
         "152.9769",
         "155.6312",
         "-5",
         "-5",
         "2",
         "-5",
         "4",
         "-5",
         "-5",
         "-5",
         "-5",
         "-5",
         "-5",
         "-5",
         "-5",
         "-5",
         "0",
         "2",
         "-5",
         "198511",
         "1",
         "1",
         "1",
         "1",
         "8",
         "5",
         "-5",
         "-5",
         "-1.41",
         "1",
         "-5",
         "-5",
         "-1.28",
         "1",
         "7",
         "4",
         "15",
         "16",
         "-5",
         "1",
         "1",
         "1",
         "1",
         "1",
         "1",
         "0",
         "0",
         "0",
         "0",
         "0",
         "0",
         "-5",
         "-5",
         "0",
         "5",
         "-5",
         "-5",
         "-5",
         "-5",
         "-5",
         "-5",
         "-5",
         "12",
         "27.69",
         "30.45",
         "38.79",
         "-5",
         "-5",
         "-5",
         "-5",
         "-5",
         "-5",
         "1",
         "33.02",
         "0.95",
         "0.12",
         "0.0",
         "0.0",
         "0.0",
         "2.76",
         "-5",
         "-5",
         "200404",
         "-5",
         "5",
         "5",
         "0",
         "6",
         "1",
         "3",
         "12",
         "1.024",
         "0",
         "0",
         "-5",
         "-5",
         "0",
         "0",
         "0",
         "0",
         "0",
         "0",
         "0",
         "0",
         "-5",
         "0",
         "4",
         "287.2398",
         "32",
         "-5",
         "-5",
         "-5",
         "-5",
         "-5",
         "-5",
         "-5",
         "-5",
         "-5",
         "-5",
         "-5",
         "-5",
         "-5",
         "-5",
         "-5",
         "-5",
         "-5",
         "-5",
         "-5",
         "-5",
         "-5",
         "-5",
         "-5",
         "-5",
         "-5",
         "-5",
         "-5",
         "-5",
         "-5",
         "-5",
         "-5",
         "-5",
         "-5",
         "-5",
         "-5",
         "-5",
         "-5",
         "-5",
         "-5",
         "-5",
         "-5",
         "-5",
         "-5",
         "-5",
         "-5",
         "-5",
         "-5",
         "-5",
         "-5",
         "-5",
         "-5",
         "-5",
         "-5",
         "-5",
         "-5",
         "-5",
         "-5",
         "-5",
         "-5",
         "-5",
         "-5",
         "-5",
         "-5",
         "-5",
         "-5",
         "-5",
         "-5",
         "-5",
         "-5",
         "-5",
         "-5",
         "-5",
         "-5",
         "-5",
         "-5",
         "-5",
         "-5",
         "-5",
         "-5",
         "-5",
         "-5",
         "-5",
         "-5",
         "-5",
         "-5",
         "-5",
         "-5",
         "-5",
         "-5",
         "-5",
         "-5",
         "-5",
         "-5",
         "-5",
         "-5",
         "-5",
         "-5",
         "-5",
         "-5",
         "-5",
         "-5",
         "5",
         "-5",
         "-5",
         "-5",
         "-5",
         "-5",
         "-5",
         "-5",
         "-5",
         "-5",
         "-5",
         "-5",
         "-5",
         "-5",
         "-5",
         "-5",
         "-5",
         "-5",
         "-5",
         "-5",
         "-5",
         "-5",
         "-5",
         "-5",
         "-5",
         "-5",
         "-5",
         "-5",
         "-5",
         "-5",
         "-5",
         "-5",
         "-5",
         "-5",
         "-5",
         "-5",
         "-5",
         "-5",
         "-5",
         "-5",
         "-5",
         "-5",
         "-5",
         "-5",
         "-5",
         "-5",
         "-5",
         "-5",
         "-5",
         "-5",
         "-5",
         "-5",
         "-5",
         "-5",
         "-5",
         "-5",
         "-5",
         "-5",
         "-5",
         "-5",
         "-5",
         "-5",
         "-5",
         "-5",
         "-5",
         "-5",
         "2",
         "4",
         "-5",
         "-5",
         "-5",
         "-5",
         "-5",
         "-5",
         "-5",
         "-5",
         "-5",
         "-5",
         "-5",
         "-5",
         "-5",
         "-5",
         "-5",
         "-5",
         "-5",
         "-5",
         "-5",
         "-5",
         "-5",
         "-5",
         "-5",
         "-5",
         "-5",
         "-5",
         "-5",
         "-5",
         "-5",
         "-5",
         "-5",
         "-5",
         "-5",
         "-5",
         "-5",
         "-5",
         "-5",
         "-5",
         "-5",
         "-5",
         "-5",
         "-5",
         "-5",
         "-5",
         "-5",
         "-5",
         "-5",
         "-5",
         "-5",
         "-5",
         "-5",
         "-5",
         "-5",
         "-5",
         "-5",
         "-5",
         "-5",
         "-5",
         "-5",
         "-5",
         "-5",
         "-5",
         "-5",
         "-5",
         "-5",
         "-5",
         "-5",
         "-5",
         "-5",
         "-5",
         "-5",
         "-5",
         "-5",
         "-5",
         "-5",
         "-5",
         "-5",
         "-5",
         "-5",
         "-5",
         "-5",
         "-5",
         "-5",
         "-5",
         "-5",
         "-5",
         "-5",
         "-5",
         "-5",
         "-5",
         "-5",
         "-5",
         "265.5541",
         "153.7132",
         "163.9503",
         "158.2162",
         "-5",
         "1",
         "1",
         "1",
         "-5",
         "0",
         "0",
         "0",
         "12",
         "-5",
         "1",
         "1",
         "2",
         "5",
         "5",
         "2004",
         "-3",
         "-5",
         "-5",
         "-5",
         "-5",
         "0",
         "2",
         "-3",
         "-3",
         "-5",
         "-5",
         "-5",
         "-5",
         "-5",
         "-3",
         "-3",
         "-3",
         "-3",
         "-3",
         "-3",
         "-3",
         "-3",
         "-3",
         "-3",
         "-3",
         "-3",
         "-3",
         "-3",
         "-3",
         "-3",
         "-3",
         "-3",
         "-3",
         "-3",
         "1",
         "1",
         "1",
         "0",
         "1",
         "-3",
         "-3",
         "-3",
         "-3",
         "1",
         "-5",
         "-5",
         "-5",
         "-5",
         "-5",
         "1",
         "1",
         "2",
         "1",
         "4",
         "-5",
         "0",
         "0",
         "0",
         "0",
         "3",
         "0",
         "1",
         "0",
         "2",
         "3",
         "1",
         "2",
         "-5",
         "5",
         "10",
         "10",
         "0",
         "0",
         "-5",
         "0",
         "0",
         "0",
         "0",
         "0",
         "0",
         "0",
         "0",
         "2",
         "2",
         "2",
         "2",
         "2",
         "2",
         "2",
         "2",
         "2",
         "2",
         "2",
         "2",
         "2",
         "2",
         "2",
         "2",
         "2",
         "-5",
         "-5",
         "-5",
         "-5",
         "-5",
         "-5",
         "-5",
         "0",
         "1",
         "15",
         "2",
         "5",
         "1",
         "1",
         "3",
         "1",
         "-5",
         "-5",
         "7",
         "4",
         "1",
         "-3",
         "-5",
         "-5",
         "-5",
         "-3",
         "-3",
         "-3",
         "-5",
         "-5",
         "-5",
         "-3",
         "-3",
         "-3",
         "-3",
         "-3",
         "12",
         "7",
         "9",
         "-3",
         "-3",
         "-3",
         "-3",
         "-3",
         "-3",
         "-3",
         "-3",
         "-3",
         "-3",
         "-3",
         "-3",
         "-3",
         "-3",
         "-3",
         "-3",
         "-3",
         "-3",
         "-3",
         "-3",
         "-3",
         "-3",
         "-3",
         "-3",
         "-3",
         "5",
         "-5",
         "-5",
         "-5",
         "-5",
         "-5",
         "-5",
         "-5",
         "-5",
         "-5",
         "-5",
         "-5",
         "-5",
         "-5",
         "-5",
         "-5",
         "-5",
         "-5",
         "-5",
         "-5",
         "-5",
         "-5",
         "-5",
         "-5",
         "-5",
         "-5",
         "-5",
         "-5",
         "-5",
         "-5",
         "-5",
         "-5",
         "-5",
         "-5",
         "-5",
         "-5",
         "-5",
         "-5",
         "-5",
         "-5",
         "-5",
         "-5",
         "-5",
         "-5",
         "-5",
         "-5",
         "-5",
         "-5",
         "-5",
         "-5",
         "-5",
         "-5",
         "-5",
         "-5",
         "-5",
         "-5",
         "-5",
         "-5",
         "-5",
         "-5",
         "1",
         "4",
         "2",
         "1",
         "-5",
         "-5",
         "-5",
         "200601",
         "0",
         "0",
         "0",
         "0",
         "-5",
         "-5",
         "-5",
         "-5",
         "-5",
         "-5",
         "-5",
         "-5",
         "-5",
         "-5",
         "-5",
         "-5",
         "-5",
         "-5",
         "-5",
         "-5",
         "-5",
         "-5",
         "-5",
         "-5",
         "-5",
         "-5",
         "-5",
         "-5",
         "-5",
         "-5",
         "-5",
         "-5",
         "-5",
         "-5",
         "-5",
         "-5",
         "-5",
         "-5",
         "-5",
         "-5",
         "-5",
         "-5",
         "-5",
         "-5",
         "162.4937",
         "160.605",
         "168.6468",
         "171.1466",
         "170.8671",
         "191.2256",
         "0",
         "1",
         "-5",
         "1",
         "2004",
         "0",
         "0",
         "-3",
         "-3",
         "-3",
         "-3",
         "-3",
         "-3",
         "-3",
         "-5",
         "1",
         "1",
         "2",
         "2004",
         "2",
         "1",
         "4",
         "-5",
         "0",
         "3",
         "3",
         "2",
         "1",
         "4",
         "-5",
         "2004",
         "0",
         "-3",
         "3",
         "-3",
         "2",
         "1",
         "1",
         "0",
         "0",
         "1",
         "1",
         "0",
         "0",
         "0",
         "-5",
         "1",
         "1",
         "0",
         "0",
         "1",
         "1",
         "0",
         "0",
         "0",
         "-5",
         "5",
         "4",
         "2008",
         "-5",
         "-5",
         "3",
         "3",
         "2",
         "7",
         "-9",
         "1",
         "2",
         "1",
         "29",
         "-5",
         "15",
         "-5",
         "-5",
         "48000",
         "-5",
         "40000",
         "-5",
         "-5",
         "-5",
         "1",
         "20000",
         "260",
         "0.9749",
         "1.2506",
         "1.1835",
         "29",
         "-5",
         "15",
         "3",
         "3",
         "2",
         "1",
         "0.85",
         "4",
         "3",
         "1",
         "23",
         "-5",
         "24",
         "0",
         "-5",
         "2",
         "1",
         "1",
         "1",
         "1",
         "0",
         "1",
         "-5",
         "0",
         "-5",
         "0",
         "0",
         "0",
         "0",
         "0",
         "0",
         "0",
         "0",
         "0",
         "-5",
         "-5",
         "-5",
         "171.1466",
         "170.8671",
         "191.2256",
         "0",
         "-5",
         "-5",
         "-5",
         "-5",
         "-5",
         "-5",
         "-5",
         "-9",
         "-9",
         "-9",
         "-9",
         "-9",
         "-9",
         "-9",
         "-9",
         "-9",
         "-5",
         "-5",
         "-5",
         "-5",
         "-5",
         "-5",
         "-5",
         "-5",
         "-5",
         "-5",
         "-5",
         "-5",
         "-9",
         "-5",
         "-5",
         "-5",
         "-5",
         "-5",
         "-5",
         "-5",
         "-5",
         "-5",
         "-9",
         "-5",
         "-5",
         "-5",
         "-5",
         "-5",
         "-5",
         "-5",
         "-5",
         "-5",
         "-9",
         "-5",
         "-5",
         "-5",
         "-5",
         "-5",
         "-5",
         "-5",
         "-5",
         "-5",
         "-5",
         "-5",
         "-5",
         "-5",
         "-5",
         "-5",
         "-5",
         "-5",
         "-5",
         "-5",
         "-5",
         "-5",
         "-5",
         "-5",
         "-5",
         "-5",
         "-5",
         "-5",
         "170.7283",
         "182.2799",
         "226.7414",
         "206.4613",
         "247.2678",
         "182.8799",
         "236.5561",
         "201.6901",
         "1",
         "3",
         "2",
         "2",
         "1",
         "-5",
         "35",
         "1",
         "20",
         "-5",
         "-5",
         "4",
         "5",
         "2004",
         "3",
         "2009",
         "0",
         "1",
         "1",
         "-5",
         "0",
         "-3",
         "-3",
         "7",
         "-5",
         "-5",
         "-3",
         "-3",
         "-3",
         "-3",
         "-3",
         "-5",
         "-3",
         "-3",
         "-5",
         "-3",
         "-3",
         "-5",
         "-3",
         "-3",
         "-5",
         "-3",
         "-3",
         "-5",
         "-3",
         "-3",
         "-5",
         "-3",
         "-3",
         "-3",
         "-3",
         "-3",
         "-3",
         "-3",
         "-3",
         "-3",
         "-5",
         "-5",
         "-5",
         "-5",
         "-5",
         "-5",
         "5",
         "5",
         "5",
         "0",
         "0",
         "3",
         "3",
         "50",
         "50",
         "-5",
         "2.75",
         "2.75",
         "-9.0",
         "-3.0",
         "24",
         "16",
         "-5",
         "3.0",
         "3.25",
         "-5",
         "0",
         "-3.0",
         "0",
         "-5",
         "11",
         "2.25",
         "6",
         "-5",
         "11",
         "2.25",
         "6",
         "-5",
         "0",
         "-3.0",
         "0",
         "-5",
         "0",
         "-3.0",
         "0",
         "-5",
         "0",
         "-3.0",
         "0",
         "-5",
         "0",
         "-3.0",
         "0",
         "-5",
         "4",
         "2.0",
         "1",
         "-5",
         "0",
         "-3.0",
         "-5",
         "-5",
         "0",
         "-3.0",
         "1",
         "-5",
         "-5",
         "3.0",
         "14",
         "-5",
         "-5",
         "2.5",
         "13",
         "-5",
         "-5",
         "-3.0",
         "0",
         "-5",
         "-5",
         "2.25",
         "9",
         "-5",
         "-5",
         "2.5",
         "13",
         "29",
         "-5",
         "-9",
         "-5",
         "51",
         "-5",
         "53",
         "-5",
         "4A",
         "-9",
         "00",
         "00",
         "-5",
         "4A",
         "-3",
         "4B",
         "4B",
         "0",
         "1",
         "0",
         "1",
         "-5",
         "-5",
         "-5",
         "-5",
         "-5",
         "2",
         "1",
         "-5",
         "-5",
         "-5",
         "-5",
         "-5",
         "-5",
         "-5",
         "2",
         "2",
         "2",
         "2",
         "3",
         "2",
         "3",
         "3",
         "3",
         "3",
         "2",
         "1",
         "1",
         "1",
         "1",
         "4",
         "3",
         "3",
         "2",
         "1",
         "3",
         "2",
         "1",
         "3",
         "1",
         "3",
         "3",
         "0",
         "0",
         "1",
         "0",
         "0",
         "0",
         "2",
         "1",
         "2",
         "1",
         "1",
         "1",
         "1",
         "2",
         "1",
         "-5",
         "-5",
         "-5",
         "-5",
         "-5",
         "10",
         "3",
         "1",
         "1",
         "1",
         "1",
         "-5",
         "-5",
         "-5",
         "-5",
         "-5",
         "10",
         "3",
         "1",
         "-9",
         "1",
         "1",
         "-5",
         "-5",
         "-5",
         "-5",
         "-5",
         "10",
         "3",
         "0",
         "0",
         "3",
         "1",
         "1",
         "1",
         "1",
         "1",
         "2",
         "1",
         "1",
         "1",
         "3",
         "5",
         "5",
         "5",
         "5",
         "4",
         "2",
         "1",
         "2",
         "4",
         "5",
         "1",
         "1",
         "3",
         "1",
         "3",
         "1",
         "1",
         "1",
         "2",
         "1",
         "1",
         "0",
         "0",
         "1",
         "1",
         "-3",
         "-3",
         "1",
         "1",
         "0",
         "0",
         "1",
         "1",
         "-3",
         "-3",
         "0",
         "0",
         "0",
         "1",
         "1",
         "0",
         "1",
         "0",
         "1",
         "0",
         "0",
         "0",
         "8",
         "2",
         "1",
         "3",
         "1",
         "3",
         "4",
         "4",
         "4",
         "4",
         "3",
         "3",
         "3",
         "3",
         "3",
         "3",
         "3",
         "2",
         "0",
         "1",
         "0",
         "0",
         "0",
         "0",
         "1",
         "0",
         "0",
         "0",
         "0",
         "1",
         "0",
         "0",
         "0",
         "0",
         "1",
         "0",
         "0",
         "0",
         "0",
         "1",
         "0",
         "0",
         "0",
         "0",
         "1",
         "0",
         "0",
         "0",
         "0",
         "1",
         "0",
         "0",
         "0",
         "0",
         "1",
         "0",
         "0",
         "0",
         "0",
         "0",
         "0",
         "0",
         "0",
         "0",
         "0",
         "0",
         "0",
         "0",
         "2",
         "2",
         "2",
         "1",
         "4",
         "1",
         "3",
         "1",
         "-9",
         "5",
         "4",
         "5",
         "3",
         "3",
         "5",
         "3",
         "2",
         "2",
         "2",
         "4",
         "4",
         "0",
         "0",
         "1",
         "1",
         "2",
         "2",
         "2",
         "1",
         "1",
         "1",
         "1",
         "2",
         "2",
         "2",
         "2",
         "2",
         "3",
         "3",
         "2",
         "3",
         "3",
         "3",
         "3",
         "3",
         "3",
         "3",
         "3",
         "3",
         "3",
         "3",
         "4",
         "4",
         "4",
         "3",
         "5",
         "4",
         "1",
         "1",
         "1",
         "0",
         "1",
         "0",
         "1",
         "0",
         "1",
         "0",
         "1",
         "0",
         "1",
         "0",
         "-3",
         "-3",
         "-3",
         "-3",
         "-3",
         "-3",
         "-3",
         "-3",
         "-5",
         "-5",
         "1",
         "1",
         "1",
         "1",
         "1",
         "1",
         "-9",
         "1",
         "-3",
         "0",
         "-5",
         "4",
         "4",
         "4",
         "2",
         "1",
         "1",
         "1",
         "1",
         "1",
         "0",
         "0",
         "0",
         "0",
         "0",
         "0",
         "2",
         "-3",
         "200105",
         "14",
         "15",
         "4",
         "3",
         "2",
         "-5",
         "-5",
         "-5",
         "-5",
         "1",
         "1",
         "1",
         "0",
         "1",
         "1",
         "0",
         "0",
         "1",
         "0",
         "1",
         "0",
         "4",
         "4",
         "4",
         "2",
         "4",
         "2",
         "3",
         "2",
         "2",
         "2",
         "3",
         "2",
         "2",
         "2",
         "2",
         "2",
         "2",
         "2",
         "2",
         "2",
         "2",
         "2",
         "1",
         "2",
         "2",
         "2",
         "2",
         "3",
         "3",
         "3",
         "3",
         "3",
         "3",
         "3",
         "3",
         "3",
         "3",
         "3",
         "3",
         "3",
         "3",
         "3",
         "3",
         "3",
         "3",
         "3",
         "3",
         "3",
         "3",
         "3",
         "3",
         "3",
         "1",
         "3",
         "3",
         "3",
         "2",
         "1",
         "2",
         "1",
         "3",
         "3",
         "3",
         "3",
         "0",
         "1",
         "0",
         "1",
         "0",
         "0",
         "0",
         "3",
         "1",
         "3",
         "1",
         "3",
         "1",
         "1",
         "3",
         "1",
         "1",
         "1",
         "3",
         "1",
         "3",
         "3",
         "3",
         "1",
         "1",
         "1",
         "1",
         "1",
         "3",
         "3",
         "3",
         "4",
         "4",
         "5",
         "3",
         "5",
         "2",
         "2",
         "2",
         "2",
         "1",
         "2",
         "2",
         "2",
         "3",
         "1",
         "3",
         "1",
         "1",
         "2",
         "2",
         "2",
         "1",
         "2",
         "2",
         "0",
         "-3",
         "-3",
         "-3",
         "-3",
         "-3",
         "-3",
         "-3",
         "-3",
         "-3",
         "-3",
         "-3",
         "-3",
         "-3",
         "-3",
         "-3",
         "-3",
         "-3",
         "-3",
         "1",
         "1",
         "1",
         "1",
         "1",
         "1",
         "1",
         "1",
         "1",
         "1",
         "1",
         "1",
         "1",
         "1",
         "1",
         "2",
         "1",
         "2",
         "3",
         "3",
         "3",
         "2",
         "4",
         "3",
         "3",
         "4",
         "1",
         "1",
         "1",
         "1",
         "1",
         "1",
         "1",
         "1",
         "1",
         "4",
         "4",
         "5",
         "5",
         "2",
         "2",
         "2",
         "2",
         "2",
         "3",
         "5",
         "2",
         "2",
         "2",
         "3",
         "2",
         "4",
         "1",
         "2",
         "3",
         "2",
         "2",
         "4",
         "2",
         "1",
         "1",
         "1",
         "1",
         "3",
         "3",
         "3",
         "3",
         "3",
         "3",
         "3",
         "3",
         "1",
         "3",
         "3",
         "3",
         "3",
         "3",
         "3",
         "3",
         "3",
         "3",
         "0",
         "1",
         "0",
         "1",
         "1",
         "0",
         "7",
         "8",
         "8",
         "1",
         "1",
         "6",
         "7",
         "1",
         "1",
         "-3",
         "1",
         "-3",
         "-3",
         "-3",
         "-3",
         "-3",
         "-3",
         "-3",
         "-3",
         "-3",
         "-3",
         "-3",
         "-3",
         "2",
         "1",
         "0",
         "0",
         "1",
         "0",
         "0",
         "0",
         "0",
         "0",
         "0",
         "0",
         "0",
         "1",
         "0",
         "1",
         "3",
         "2",
         "3",
         "3",
         "1",
         "3",
         "3",
         "1",
         "3",
         "3",
         "3",
         "3",
         "3",
         "3",
         "3",
         "3",
         "3",
         "1",
         "3",
         "2",
         "-3",
         "-3",
         "-3",
         "-3",
         "-3",
         "-3",
         "-5",
         "-5",
         "7",
         "1",
         "7",
         "2",
         "1",
         "0",
         "0",
         "0",
         "1",
         "0",
         "1",
         "0",
         "0",
         "3",
         "2",
         "2",
         "3",
         "3",
         "3",
         "2",
         "3",
         "1",
         "3",
         "2",
         "4",
         "4",
         "4",
         "-8",
         "-8",
         "-8",
         "-8",
         "-8",
         "-8",
         "-8",
         "-8",
         "-8",
         "-8",
         "-8",
         "-8",
         "-8",
         "-8",
         "-8",
         "-8",
         "-8",
         "-8",
         "-8",
         "-8",
         "-8",
         "-8",
         "-8",
         "-8",
         "-8",
         "-8",
         "-8",
         "-8",
         "-8",
         "-8",
         "-8",
         "-8",
         "-8",
         "-8",
         "-8",
         "-8",
         "-8",
         "-8",
         "-8",
         "-8",
         "-8",
         "-8",
         "-8",
         "-8",
         "-8",
         "-8",
         "-8",
         "-8",
         "-8",
         "-8",
         "-8",
         "-8",
         "-8",
         "-8",
         "-8",
         "-8",
         "-8",
         "-8",
         "-8",
         "-8",
         "-8",
         "-8",
         "-8",
         "-8",
         "-8",
         "-8",
         "-8",
         "-8",
         "-8",
         "-8",
         "-8",
         "-8",
         "-8",
         "-8",
         "-8",
         "-8",
         "-8",
         "-8",
         "-8",
         "-8",
         "-8",
         "-8",
         "-8",
         "-8",
         "-8",
         "-8",
         "-8",
         "-8",
         "-8",
         "-8",
         "-8",
         "-8",
         "-8",
         "-8",
         "-8",
         "-8",
         "-8",
         "-8",
         "-8",
         "-8",
         "-8",
         "-8",
         "-8",
         "-8",
         "-8",
         "-8",
         "-8",
         "-8",
         "-8",
         "-8",
         "-5",
         "-5",
         "-8",
         "-8",
         "-8",
         "-8",
         "-8",
         "-8",
         "-5",
         "-8",
         "-8",
         "-8",
         "-8",
         "-8",
         "-8",
         "-8",
         "-8",
         "-8",
         "-8",
         "-8",
         "-8",
         "-8",
         "-8",
         "-8",
         "-8",
         "-8",
         "-8",
         "-8",
         "-8",
         "-8",
         "-8",
         "-8",
         "-8",
         "-8",
         "-8",
         "-8",
         "-8",
         "-8",
         "-8",
         "-8",
         "-8",
         "-8",
         "-8",
         "-8",
         "-8",
         "-8",
         "-8",
         "-8",
         "-8",
         "-8",
         "-8",
         "-8",
         "-8",
         "-8",
         "-8",
         "-8",
         "-8",
         "-8",
         "-8",
         "-8",
         "-5",
         "-8",
         "-8",
         "-8",
         "-8",
         "-8",
         "-5",
         "-8",
         "-8",
         "-8",
         "-8",
         "-8",
         "-8",
         "-8",
         "-8",
         "-8",
         "-8",
         "-8",
         "-8",
         "-5",
         "-5",
         "-8",
         "-8",
         "-8",
         "-8",
         "-8",
         "-8",
         "-8",
         "-8",
         "-8",
         "-8",
         "-8",
         "-8",
         "-8",
         "-8",
         "-8",
         "-8",
         "-8",
         "-8",
         "-8",
         "-8",
         "-8",
         "-8",
         "-8",
         "-8",
         "-8",
         "-8",
         "-8",
         "-8",
         "-8",
         "-8",
         "-8",
         "-8",
         "-8",
         "-8",
         "-5",
         "-8",
         "-8",
         "-8",
         "-8",
         "-8",
         "-8",
         "-5",
         "-8",
         "-8",
         "-8",
         "-8",
         "-8",
         "-8",
         "-8",
         "-8",
         "-8",
         "-8",
         "-5",
         "-8",
         "-8",
         "-8",
         "-8",
         "-8",
         "2",
         "1",
         "-5",
         "-5",
         "-5",
         "-5",
         "-5",
         "-5",
         "-5",
         "0",
         "-5",
         "1",
         "1",
         "1",
         "1",
         "-3",
         "-3",
         "-3",
         "-3",
         "-3",
         "-3",
         "-3",
         "-3",
         "-3",
         "-3",
         "-3",
         "-3",
         "-3",
         "-3",
         "-3",
         "-3",
         "-3",
         "-3",
         "-5",
         "-5",
         "-5",
         "-5",
         "1",
         "1",
         "1",
         "0",
         "1",
         "1",
         "0",
         "0",
         "1",
         "0",
         "1",
         "0",
         "-5",
         "-5",
         "-5",
         "-5",
         "-5",
         "-5",
         "-5",
         "-5",
         "-5",
         "-5",
         "-5",
         "-5",
         "-5",
         "-5",
         "-5",
         "-5",
         "-5",
         "-5",
         "-5",
         "-5",
         "-5",
         "-5",
         "-5",
         "-5",
         "-5",
         "-5",
         "-5",
         "-5",
         "-5",
         "-5",
         "-5",
         "-5",
         "-5",
         "-5",
         "-5",
         "1",
         "1",
         "-5",
         "1",
         "1",
         "-3",
         "-3",
         "-3",
         "-3",
         "-3",
         "-3",
         "-3",
         "1",
         "1",
         "-3",
         "-3",
         "-3",
         "-3",
         "-3",
         "-3",
         "-3",
         "-3",
         "-3",
         "-3",
         "-3",
         "-3",
         "-3",
         "-5",
         "-5",
         "-5",
         "1",
         "-3",
         "-3",
         "-3",
         "-3",
         "-3",
         "-3",
         "-3",
         "-3",
         "-3",
         "-3",
         "-3",
         "-3",
         "-3",
         "-5",
         "-5",
         "1",
         "1",
         "1",
         "1",
         "0",
         "0",
         "4",
         "2",
         "1",
         "1",
         "1",
         "3",
         "3",
         "3",
         "3",
         "2",
         "3",
         "3",
         "3",
         "1",
         "1",
         "1",
         "-5",
         "-5",
         "-5",
         "-5",
         "-5",
         "-5",
         "-5",
         "-5",
         "-5",
         "-5",
         "-5",
         "-3",
         "-3",
         "-3",
         "-3",
         "-3",
         "-3",
         "-3",
         "-3",
         "-3",
         "-3",
         "-3",
         "-3",
         "-3",
         "-3",
         "-3",
         "-3",
         "-3",
         "-3",
         "-3",
         "-3",
         "1",
         "-5",
         "-5",
         "1",
         "0",
         "0",
         "0",
         "0",
         "0",
         "0",
         "0",
         "-5",
         "-3",
         "-3",
         "-5",
         "-9",
         "-3",
         "-3",
         "-3",
         "-3",
         "-3",
         "-3",
         "-3",
         "-3",
         "-3",
         "-3",
         "-3",
         "-5",
         "1",
         "-3",
         "-5",
         "-5",
         "-5",
         "-5",
         "-3",
         "-5",
         "-3",
         "-5",
         "-3",
         "-3",
         "-3",
         "-3",
         "-3",
         "-3",
         "-3",
         "-3",
         "-5",
         "-5",
         "-3",
         "-5",
         "-3",
         "-3",
         "-3",
         "-3",
         "-5",
         "-3",
         "-5",
         "-5",
         "-5",
         "-5",
         "-3",
         "-5",
         "-3",
         "-5",
         "-3",
         "-3",
         "-3",
         "-3",
         "-3",
         "-3",
         "-3",
         "-3",
         "-5",
         "1",
         "0",
         "1",
         "1",
         "-5",
         "4",
         "1",
         "0",
         "-5",
         "1",
         "1",
         "0",
         "1",
         "-5",
         "4",
         "1",
         "0",
         "-5",
         "-5",
         "7",
         "0",
         "-5",
         "2",
         "0",
         "1",
         "-5",
         "-5",
         "7",
         "1",
         "-5",
         "-5",
         "-3",
         "0",
         "-5",
         "-3",
         "-5",
         "-5",
         "-3",
         "-5",
         "2",
         "-5",
         "1",
         "-5",
         "1",
         "-5",
         "0",
         "-5",
         "2",
         "0",
         "-5",
         "0",
         "-5",
         "0",
         "-5",
         "0",
         "1",
         "0",
         "0",
         "0",
         "0",
         "1",
         "1",
         "0",
         "0",
         "1",
         "1",
         "1",
         "0",
         "0",
         "0",
         "0",
         "0",
         "0",
         "1",
         "0",
         "1",
         "1",
         "0",
         "1",
         "0",
         "0",
         "1",
         "0",
         "1",
         "1",
         "1",
         "0",
         "1",
         "0",
         "0",
         "1",
         "0",
         "-3",
         "-3",
         "-5",
         "-3",
         "-5",
         "-5",
         "-5",
         "-5",
         "-5",
         "-5",
         "-5",
         "-3",
         "-5",
         "2012",
         "-3",
         "2",
         "0",
         "0",
         "0",
         "-9",
         "0",
         "0",
         "1",
         "1",
         "1",
         "1",
         "-3",
         "-3",
         "-3",
         "-3",
         "-3",
         "-3",
         "-3",
         "-3",
         "-3",
         "-5",
         "1",
         "-5",
         "1",
         "-5",
         "1",
         "0",
         "1",
         "1",
         "1",
         "1",
         "1",
         "0",
         "-3",
         "-3",
         "1",
         "1",
         "1",
         "1",
         "1",
         "1",
         "1",
         "-9",
         "-9",
         "1",
         "1",
         "1",
         "0",
         "-3",
         "-3",
         "-3",
         "-3",
         "-5",
         "-3",
         "-3",
         "-3",
         "-3",
         "-3",
         "-3",
         "1",
         "-3",
         "-3",
         "2",
         "-3",
         "1",
         "1",
         "-5",
         "-5",
         "-9",
         "2",
         "-3",
         "-3",
         "-3",
         "-3",
         "4",
         "1",
         "39",
         "60",
         "2",
         "1",
         "5",
         "5",
         "5",
         "5",
         "5",
         "5",
         "5",
         "7",
         "1",
         "-5",
         "2",
         "0",
         "0",
         "0",
         "1",
         "1",
         "1",
         "0",
         "1",
         "1",
         "1",
         "1",
         "1",
         "1",
         "1",
         "1",
         "1",
         "1",
         "52",
         "28",
         "1",
         "1",
         "1",
         "1",
         "0",
         "-3",
         "-3",
         "-3",
         "0",
         "0",
         "0",
         "0",
         "0",
         "0",
         "0",
         "0",
         "0",
         "0",
         "0",
         "0",
         "-5",
         "-5",
         "7",
         "-5",
         "1",
         "-5",
         "-5",
         "-5",
         "-3",
         "3",
         "1",
         "2",
         "-5",
         "-5",
         "-5",
         "-5",
         "-5",
         "-5",
         "-5",
         "1",
         "1",
         "-3",
         "-3",
         "-5",
         "-5",
         "-5",
         "0",
         "0",
         "-5",
         "-5",
         "-5",
         "-5",
         "1",
         "0",
         "0",
         "2",
         "0",
         "0",
         "1",
         "0",
         "0",
         "-3",
         "-3",
         "1",
         "2",
         "0",
         "-5",
         "11",
         "-5",
         "10",
         "0",
         "0",
         "0",
         "-3",
         "1",
         "0",
         "0",
         "20000",
         "1",
         "165000",
         "165000",
         "180000",
         "2",
         "0",
         "2",
         "1",
         "1",
         "1",
         "1",
         "1",
         "0",
         "0",
         "0",
         "0",
         "1",
         "0",
         "0",
         "0",
         "0",
         "0",
         "0",
         "0",
         "1",
         "3",
         "1",
         "1",
         "1",
         "3",
         "1",
         "1",
         "3",
         "1",
         "-3",
         "-5",
         "-3",
         "-3",
         "-3",
         "-3",
         "-9",
         "-5",
         "-5",
         "-5",
         "-5",
         "-5",
         "-5",
         "-5",
         "-5",
         "-5",
         "3",
         "2",
         "3",
         "3",
         "3",
         "3",
         "3",
         "3",
         "3",
         "3",
         "3",
         "1",
         "-3",
         "1",
         "2",
         "1",
         "3",
         "1",
         "0",
         "0",
         "2",
         "0",
         "0",
         "0",
         "0",
         "0",
         "0",
         "0",
         "0",
         "5",
         "0",
         "1",
         "1964",
         "1955",
         "1",
         "-5",
         "-5",
         "-5",
         "-5",
         "-5",
         "-5",
         "-5",
         "2",
         "30",
         "-5",
         "-5",
         "2",
         "40",
         "-5",
         "-5",
         "1",
         "-3",
         "0",
         "-3",
         "-3",
         "-3",
         "-3",
         "-3",
         "-3",
         "-3",
         "-3",
         "-3",
         "-3",
         "-3",
         "-3",
         "-3",
         "0",
         "-5",
         "4",
         "4",
         "4",
         "4",
         "2",
         "2",
         "2",
         "2",
         "0",
         "0",
         "0",
         "0",
         "0",
         "1",
         "1",
         "1",
         "-1",
         "2",
         "-1",
         "-1",
         "3",
         "2",
         "1",
         "-5",
         "-5",
         "8",
         "1",
         "-3",
         "1",
         "-5",
         "-5",
         "5",
         "0",
         "0",
         "1",
         "1",
         "0",
         "0",
         "-3",
         "-3",
         "-3",
         "-3",
         "-3",
         "-3",
         "-3",
         "-3",
         "-3",
         "-3",
         "-3",
         "-3",
         "-3",
         "-3",
         "0",
         "-3",
         "-3",
         "-3",
         "-3",
         "-3",
         "-3",
         "-3",
         "-3",
         "0",
         "1",
         "1",
         "1",
         "1",
         "1",
         "1",
         "1",
         "1",
         "1",
         "2",
         "1",
         "1",
         "1",
         "1",
         "1",
         "1",
         "1",
         "1",
         "1",
         "1",
         "0",
         "1",
         "0",
         "0",
         "0",
         "4",
         "4",
         "4",
         "4",
         "3",
         "3",
         "3",
         "3",
         "1",
         "1",
         "4",
         "4",
         "4",
         "2",
         "4",
         "4",
         "4",
         "2",
         "4",
         "4",
         "4",
         "4",
         "2",
         "2",
         "0",
         "1",
         "1",
         "1",
         "-3",
         "-3",
         "-3",
         "-3",
         "-3",
         "-3",
         "-3",
         "-3",
         "1",
         "1",
         "3",
         "3",
         "0",
         "-3",
         "-3",
         "-3",
         "-3",
         "-3",
         "-3",
         "23",
         "1",
         "3",
         "3",
         "0",
         "1",
         "1",
         "0",
         "7",
         "1",
         "1",
         "1",
         "1",
         "3",
         "5",
         "3",
         "1",
         "0",
         "-3",
         "2",
         "2",
         "2",
         "2",
         "3",
         "2",
         "2",
         "2",
         "2",
         "3",
         "2",
         "2",
         "2",
         "2",
         "2",
         "2",
         "2",
         "-3",
         "-3",
         "-3",
         "-3",
         "-3",
         "-3",
         "-3",
         "-3",
         "-3",
         "-3",
         "-3",
         "-3",
         "-3",
         "-3",
         "-3",
         "5",
         "0",
         "-3",
         "-3",
         "-3",
         "-3",
         "-3",
         "-3",
         "-3",
         "-3",
         "-3",
         "-3",
         "-3",
         "-3",
         "-3",
         "-3",
         "6",
         "2",
         "0",
         "-3",
         "-3",
         "-3",
         "-3",
         "-3",
         "200207",
         "1",
         "1",
         "1",
         "1",
         "1",
         "0",
         "0",
         "0",
         "0",
         "0",
         "0",
         "1",
         "1",
         "2",
         "0",
         "0",
         "-3",
         "-3",
         "-3",
         "-3",
         "-3",
         "4",
         "2",
         "1",
         "4",
         "2",
         "-3",
         "-9",
         "0",
         "3",
         "3",
         "3",
         "4",
         "4",
         "2",
         "0",
         "-5",
         "-5",
         "-5",
         "-5",
         "-5",
         "1959",
         "0",
         "3",
         "3",
         "3",
         "1",
         "1",
         "0",
         "0",
         "1",
         "0",
         "0",
         "0",
         "0",
         "1",
         "-3",
         "-3",
         "-3",
         "3",
         "-3",
         "1",
         "4",
         "2",
         "2",
         "2",
         "1",
         "1",
         "1",
         "1",
         "1",
         "1",
         "3",
         "3",
         "1",
         "1",
         "40",
         "0",
         "1",
         "1",
         "1",
         "0",
         "1",
         "0",
         "2",
         "0",
         "-3",
         "1",
         "1",
         "2",
         "3",
         "1",
         "1",
         "1",
         "1",
         "200204",
         "1",
         "1",
         "1",
         "1",
         "1",
         "1",
         "0",
         "-3",
         "-3",
         "-3",
         "-3",
         "0",
         "2",
         "2",
         "1",
         "0",
         "-3",
         "-3",
         "-3",
         "-3",
         "-3",
         "5",
         "2",
         "1",
         "5",
         "1",
         "-3",
         "-3",
         "-3",
         "2",
         "2",
         "0",
         "-5",
         "-5",
         "-5",
         "-5",
         "-5",
         "1968",
         "1",
         "4",
         "5",
         "4",
         "1",
         "1",
         "0",
         "0",
         "0",
         "0",
         "1",
         "0",
         "0",
         "10",
         "-3",
         "1",
         "-3",
         "-3",
         "-3",
         "2",
         "5",
         "2",
         "2",
         "2",
         "1",
         "1",
         "1",
         "2",
         "6",
         "1",
         "4",
         "3",
         "3",
         "6",
         "50",
         "0",
         "0",
         "0",
         "0",
         "1",
         "1",
         "0",
         "1",
         "1",
         "0",
         "0",
         "-3",
         "1",
         "2",
         "2",
         "3",
         "3",
         "3",
         "3",
         "2",
         "200204",
         "1",
         "-5",
         "1",
         "6",
         "1",
         "6",
         "5",
         "8",
         "-5",
         "-5",
         "-5",
         "-5",
         "-5",
         "-5",
         "-5",
         "-5",
         "-5",
         "-5",
         "-5",
         "-5",
         "-5",
         "-5",
         "-5",
         "-5",
         "-5",
         "-5",
         "-5",
         "-5",
         "-5",
         "-5",
         "-5",
         "-5",
         "-5",
         "-5",
         "-5",
         "-5",
         "-5",
         "-5",
         "-5",
         "-5",
         "-5",
         "-5",
         "-5",
         "-5",
         "-5",
         "-5",
         "-5",
         "-5",
         "-5",
         "-5",
         "-5",
         "-5",
         "-5",
         "-5",
         "-5",
         "-5",
         "-5",
         "-5",
         "-5",
         "-5",
         "-5",
         "-5",
         "-5",
         "-5",
         "-5",
         "-5",
         "-5",
         "-5",
         "-5",
         "-5",
         "-5",
         "-5",
         "-5",
         "-5",
         "-5",
         "-5",
         "-5",
         "-5",
         "-5",
         "-5",
         "-5",
         "-5",
         "-5",
         "-5",
         "-5",
         "1",
         "2",
         "3",
         "180",
         "9",
         "40",
         "8",
         "1",
         "2",
         "-3",
         "90",
         "-3",
         "-9",
         "-3",
         "-9",
         "-3",
         "-3",
         "3",
         "-9",
         "-9",
         "-9",
         "-9",
         "-9",
         "-9",
         "-9",
         "-9",
         "-9",
         "-9",
         "-9",
         "2",
         "2",
         "1",
         "1",
         "3",
         "1",
         "1",
         "3",
         "3",
         "2",
         "2",
         "2",
         "2",
         "1",
         "1",
         "3",
         "2",
         "3",
         "2",
         "-9",
         "-9",
         "-9",
         "0",
         "0",
         "0",
         "0",
         "0",
         "0",
         "1",
         "0",
         "0",
         "1",
         "1",
         "0",
         "1",
         "0",
         "1",
         "0",
         "1",
         "1",
         "0",
         "0",
         "1",
         "1",
         "0",
         "0",
         "0",
         "0",
         "1",
         "1",
         "1",
         "1",
         "1",
         "0",
         "0",
         "0",
         "0",
         "0",
         "1",
         "0",
         "0",
         "1",
         "0",
         "1",
         "0",
         "0",
         "0",
         "0",
         "2",
         "-5",
         "-5",
         "0",
         "16",
         "12",
         "3",
         "1",
         "16",
         "10",
         "0",
         "14",
         "2",
         "11",
         "10",
         "25",
         "100",
         "-3",
         "100",
         "0",
         "37215",
         "67639",
         "1",
         "1",
         "0",
         "1",
         "0",
         "0",
         "0",
         "0",
         "0",
         "0",
         "1",
         "1",
         "1",
         "1",
         "1",
         "-3",
         "-3",
         "-3",
         "-3",
         "1",
         "-3",
         "-3",
         "-3",
         "-3",
         "2",
         "-3",
         "-3",
         "-3",
         "-3",
         "2",
         "-3",
         "-3",
         "-3",
         "-3",
         "1",
         "-3",
         "-3",
         "-3",
         "-3",
         "1",
         "-3",
         "-3",
         "-3",
         "-3",
         "1",
         "1",
         "0",
         "1",
         "-9",
         "1",
         "1",
         "1",
         "1",
         "1",
         "1",
         "1",
         "1",
         "0",
         "0",
         "0",
         "0",
         "0",
         "1",
         "0",
         "0",
         "0",
         "0",
         "0",
         "0",
         "1",
         "1",
         "1",
         "0",
         "0",
         "1",
         "1",
         "0",
         "0",
         "0",
         "1",
         "1",
         "1",
         "1",
         "1",
         "1",
         "1",
         "1",
         "1",
         "1",
         "1",
         "1",
         "1",
         "1",
         "1",
         "1",
         "1",
         "1",
         "1",
         "0",
         "1",
         "0",
         "1",
         "1",
         "0",
         "1",
         "0",
         "1",
         "1",
         "1",
         "1",
         "1",
         "1",
         "1",
         "1",
         "1",
         "1",
         "3",
         "3",
         "3",
         "3",
         "3",
         "2",
         "3",
         "3",
         "2",
         "2",
         "2",
         "2",
         "3",
         "3",
         "1",
         "1",
         "2",
         "1",
         "1",
         "3",
         "2",
         "4",
         "4",
         "4",
         "4",
         "4",
         "4",
         "4",
         "4",
         "3",
         "3",
         "3",
         "1",
         "1",
         "4",
         "4",
         "1",
         "1",
         "1",
         "1",
         "1",
         "1",
         "1",
         "1",
         "1",
         "1",
         "1",
         "4",
         "4",
         "4",
         "3",
         "3",
         "200205",
         "-5",
         "180",
         "3",
         "0",
         "-3",
         "0",
         "-3",
         "0",
         "-3",
         "1",
         "0",
         "0",
         "0",
         "0",
         "0",
         "2",
         "2",
         "3",
         "1",
         "4",
         "4",
         "3",
         "4",
         "3",
         "4",
         "1",
         "7",
         "6",
         "6",
         "6",
         "2",
         "2",
         "4",
         "7",
         "1",
         "0",
         "0",
         "0",
         "0",
         "0",
         "1",
         "2",
         "4",
         "4",
         "2",
         "1",
         "2",
         "3",
         "3",
         "1",
         "1",
         "3",
         "3",
         "3",
         "3",
         "1",
         "1",
         "1",
         "1",
         "1",
         "1",
         "1",
         "1",
         "0",
         "1",
         "1",
         "0",
         "0",
         "50",
         "3",
         "3",
         "3",
         "2",
         "1",
         "2",
         "45",
         "45",
         "10",
         "4",
         "4",
         "3",
         "1",
         "3",
         "4",
         "1",
         "3",
         "5",
         "2",
         "1",
         "2",
         "1",
         "0",
         "1",
         "1",
         "1",
         "1",
         "-5",
         "7",
         "24",
         "8",
         "0",
         "45",
         "0",
         "0",
         "-3",
         "-3",
         "-3",
         "-3",
         "-3",
         "-3",
         "-3",
         "-3",
         "-3",
         "-3",
         "-3",
         "-3",
         "-3",
         "-3",
         "-3",
         "-3",
         "-5",
         "1",
         "1",
         "-5",
         "2",
         "-5",
         "9",
         "-5",
         "7",
         "-5",
         "1",
         "-5",
         "1",
         "3",
         "0",
         "5",
         "0",
         "92",
         "3",
         "0",
         "0",
         "0",
         "0",
         "90",
         "8",
         "1",
         "1",
         "100",
         "3",
         "20",
         "47",
         "30",
         "4",
         "4",
         "4",
         "4",
         "4",
         "4",
         "4",
         "1",
         "4",
         "5",
         "4",
         "4",
         "1",
         "4",
         "4",
         "1",
         "1",
         "4",
         "4",
         "4",
         "4",
         "4",
         "4",
         "4",
         "4",
         "5",
         "4",
         "4",
         "4",
         "4",
         "4",
         "4",
         "4",
         "200404",
         "1",
         "108",
         "0",
         "1",
         "1",
         "1",
         "0",
         "1",
         "1",
         "1",
         "1",
         "2",
         "0",
         "0",
         "-3",
         "-3",
         "0",
         "-3",
         "-3",
         "1",
         "1",
         "0",
         "0",
         "-3",
         "-3",
         "0",
         "-3",
         "1",
         "3",
         "0",
         "1",
         "1",
         "1",
         "1",
         "0",
         "1",
         "1",
         "1",
         "3",
         "1",
         "1",
         "1",
         "1",
         "3",
         "1",
         "1",
         "1",
         "0",
         "-3",
         "-3",
         "-3",
         "-3",
         "0",
         "-3",
         "-3",
         "-3",
         "-3",
         "0",
         "-3",
         "-3",
         "-3",
         "-3",
         "1",
         "3",
         "1",
         "1",
         "1",
         "1",
         "3",
         "1",
         "1",
         "1",
         "1",
         "3",
         "0",
         "0",
         "1",
         "1",
         "3",
         "1",
         "1",
         "1",
         "1",
         "3",
         "1",
         "1",
         "1",
         "0",
         "-3",
         "-3",
         "-3",
         "-3",
         "1",
         "3",
         "1",
         "1",
         "1",
         "0",
         "-3",
         "-3",
         "-3",
         "-3",
         "1",
         "3",
         "1",
         "1",
         "1",
         "1",
         "1",
         "1",
         "1",
         "1",
         "1",
         "3",
         "1",
         "1",
         "1",
         "0",
         "-3",
         "-3",
         "-3",
         "-3",
         "0",
         "-3",
         "-3",
         "-3",
         "-3",
         "1",
         "0",
         "1",
         "1",
         "0",
         "1",
         "0",
         "1",
         "0",
         "0",
         "0",
         "0",
         "0",
         "0",
         "0",
         "0",
         "0",
         "1",
         "2",
         "2",
         "3",
         "2",
         "0",
         "-3",
         "5",
         "2",
         "-3",
         "-3",
         "-3",
         "-3",
         "-3",
         "5",
         "14",
         "20",
         "2",
         "4",
         "200",
         "3",
         "0",
         "1",
         "1",
         "0",
         "0",
         "0",
         "0",
         "0",
         "1",
         "6",
         "3",
         "1",
         "1",
         "1",
         "0",
         "1",
         "1",
         "200204",
         "0",
         "0",
         "0",
         "0",
         "0",
         "1",
         "0",
         "0",
         "1",
         "1",
         "2",
         "3",
         "4",
         "4",
         "4",
         "0",
         "0",
         "0",
         "0",
         "1",
         "0",
         "0",
         "0",
         "0",
         "0",
         "0",
         "0",
         "0",
         "0",
         "1",
         "1",
         "0",
         "0",
         "0",
         "0",
         "0",
         "1",
         "1",
         "4",
         "0",
         "0",
         "0",
         "1",
         "1",
         "1",
         "1",
         "1",
         "1",
         "0",
         "0",
         "0",
         "1",
         "1",
         "1",
         "1",
         "1",
         "1",
         "1",
         "0",
         "0"
        ]
       ],
       "shape": {
        "columns": 4012,
        "rows": 5
       }
      },
      "text/html": [
       "<div>\n",
       "<style scoped>\n",
       "    .dataframe tbody tr th:only-of-type {\n",
       "        vertical-align: middle;\n",
       "    }\n",
       "\n",
       "    .dataframe tbody tr th {\n",
       "        vertical-align: top;\n",
       "    }\n",
       "\n",
       "    .dataframe thead th {\n",
       "        text-align: right;\n",
       "    }\n",
       "</style>\n",
       "<table border=\"1\" class=\"dataframe\">\n",
       "  <thead>\n",
       "    <tr style=\"text-align: right;\">\n",
       "      <th></th>\n",
       "      <th>STU_ID</th>\n",
       "      <th>SCH_ID</th>\n",
       "      <th>STRAT_ID</th>\n",
       "      <th>PSU</th>\n",
       "      <th>F1SCH_ID</th>\n",
       "      <th>F1UNIV1</th>\n",
       "      <th>F1UNIV2A</th>\n",
       "      <th>F1UNIV2B</th>\n",
       "      <th>F2UNIV1</th>\n",
       "      <th>F2UNIV_P</th>\n",
       "      <th>...</th>\n",
       "      <th>BYF10D</th>\n",
       "      <th>BYF10E</th>\n",
       "      <th>BYF10F</th>\n",
       "      <th>BYF10G</th>\n",
       "      <th>BYF10H</th>\n",
       "      <th>BYF10I</th>\n",
       "      <th>BYF10J</th>\n",
       "      <th>BYF10K</th>\n",
       "      <th>BYF10L</th>\n",
       "      <th>BYF10M</th>\n",
       "    </tr>\n",
       "  </thead>\n",
       "  <tbody>\n",
       "    <tr>\n",
       "      <th>0</th>\n",
       "      <td>101101</td>\n",
       "      <td>-5</td>\n",
       "      <td>101</td>\n",
       "      <td>1</td>\n",
       "      <td>1011</td>\n",
       "      <td>101</td>\n",
       "      <td>1</td>\n",
       "      <td>1</td>\n",
       "      <td>-5</td>\n",
       "      <td>103</td>\n",
       "      <td>...</td>\n",
       "      <td>0</td>\n",
       "      <td>1</td>\n",
       "      <td>1</td>\n",
       "      <td>1</td>\n",
       "      <td>1</td>\n",
       "      <td>1</td>\n",
       "      <td>1</td>\n",
       "      <td>1</td>\n",
       "      <td>0</td>\n",
       "      <td>0</td>\n",
       "    </tr>\n",
       "    <tr>\n",
       "      <th>1</th>\n",
       "      <td>101102</td>\n",
       "      <td>-5</td>\n",
       "      <td>101</td>\n",
       "      <td>1</td>\n",
       "      <td>1011</td>\n",
       "      <td>101</td>\n",
       "      <td>1</td>\n",
       "      <td>1</td>\n",
       "      <td>-5</td>\n",
       "      <td>101</td>\n",
       "      <td>...</td>\n",
       "      <td>0</td>\n",
       "      <td>1</td>\n",
       "      <td>1</td>\n",
       "      <td>1</td>\n",
       "      <td>1</td>\n",
       "      <td>1</td>\n",
       "      <td>1</td>\n",
       "      <td>1</td>\n",
       "      <td>0</td>\n",
       "      <td>0</td>\n",
       "    </tr>\n",
       "    <tr>\n",
       "      <th>2</th>\n",
       "      <td>101104</td>\n",
       "      <td>-5</td>\n",
       "      <td>101</td>\n",
       "      <td>1</td>\n",
       "      <td>1011</td>\n",
       "      <td>101</td>\n",
       "      <td>1</td>\n",
       "      <td>1</td>\n",
       "      <td>-5</td>\n",
       "      <td>101</td>\n",
       "      <td>...</td>\n",
       "      <td>0</td>\n",
       "      <td>1</td>\n",
       "      <td>1</td>\n",
       "      <td>1</td>\n",
       "      <td>1</td>\n",
       "      <td>1</td>\n",
       "      <td>1</td>\n",
       "      <td>1</td>\n",
       "      <td>0</td>\n",
       "      <td>0</td>\n",
       "    </tr>\n",
       "    <tr>\n",
       "      <th>3</th>\n",
       "      <td>101105</td>\n",
       "      <td>-5</td>\n",
       "      <td>101</td>\n",
       "      <td>1</td>\n",
       "      <td>1011</td>\n",
       "      <td>101</td>\n",
       "      <td>1</td>\n",
       "      <td>1</td>\n",
       "      <td>-5</td>\n",
       "      <td>101</td>\n",
       "      <td>...</td>\n",
       "      <td>0</td>\n",
       "      <td>1</td>\n",
       "      <td>1</td>\n",
       "      <td>1</td>\n",
       "      <td>1</td>\n",
       "      <td>1</td>\n",
       "      <td>1</td>\n",
       "      <td>1</td>\n",
       "      <td>0</td>\n",
       "      <td>0</td>\n",
       "    </tr>\n",
       "    <tr>\n",
       "      <th>4</th>\n",
       "      <td>101106</td>\n",
       "      <td>-5</td>\n",
       "      <td>101</td>\n",
       "      <td>1</td>\n",
       "      <td>1011</td>\n",
       "      <td>101</td>\n",
       "      <td>1</td>\n",
       "      <td>1</td>\n",
       "      <td>-5</td>\n",
       "      <td>101</td>\n",
       "      <td>...</td>\n",
       "      <td>0</td>\n",
       "      <td>1</td>\n",
       "      <td>1</td>\n",
       "      <td>1</td>\n",
       "      <td>1</td>\n",
       "      <td>1</td>\n",
       "      <td>1</td>\n",
       "      <td>1</td>\n",
       "      <td>0</td>\n",
       "      <td>0</td>\n",
       "    </tr>\n",
       "  </tbody>\n",
       "</table>\n",
       "<p>5 rows × 4012 columns</p>\n",
       "</div>"
      ],
      "text/plain": [
       "   STU_ID  SCH_ID  STRAT_ID  PSU  F1SCH_ID  F1UNIV1  F1UNIV2A  F1UNIV2B  \\\n",
       "0  101101      -5       101    1      1011      101         1         1   \n",
       "1  101102      -5       101    1      1011      101         1         1   \n",
       "2  101104      -5       101    1      1011      101         1         1   \n",
       "3  101105      -5       101    1      1011      101         1         1   \n",
       "4  101106      -5       101    1      1011      101         1         1   \n",
       "\n",
       "   F2UNIV1  F2UNIV_P  ...  BYF10D  BYF10E  BYF10F  BYF10G  BYF10H  BYF10I  \\\n",
       "0       -5       103  ...       0       1       1       1       1       1   \n",
       "1       -5       101  ...       0       1       1       1       1       1   \n",
       "2       -5       101  ...       0       1       1       1       1       1   \n",
       "3       -5       101  ...       0       1       1       1       1       1   \n",
       "4       -5       101  ...       0       1       1       1       1       1   \n",
       "\n",
       "   BYF10J  BYF10K  BYF10L  BYF10M  \n",
       "0       1       1       0       0  \n",
       "1       1       1       0       0  \n",
       "2       1       1       0       0  \n",
       "3       1       1       0       0  \n",
       "4       1       1       0       0  \n",
       "\n",
       "[5 rows x 4012 columns]"
      ]
     },
     "execution_count": 9,
     "metadata": {},
     "output_type": "execute_result"
    }
   ],
   "source": [
    "df.head()"
   ]
  },
  {
   "cell_type": "markdown",
   "id": "9078df35",
   "metadata": {},
   "source": [
    "At this point, it should be clear why a pre-MySQL cleaning is needed: there are far too many columns (attributes) in the raw data, many of which are not needed by us."
   ]
  },
  {
   "cell_type": "markdown",
   "id": "718244e7",
   "metadata": {},
   "source": [
    "## Column + Row Removal"
   ]
  },
  {
   "cell_type": "markdown",
   "id": "6302ee1e",
   "metadata": {},
   "source": [
    "As a note, there are actually a lot of missing values in the data - for most columns, any non-responses per student will be recorded as a negative value (e.g.: -9 for \"Not Applicable\", -8 for \"Refused to answer\", -7 for \"Item legitimate skip\"), and there are many rows with these. However, we should decide what to do with these \"missings\" when needed - this can still be valuable information too. EDA, for example, may benefit from including these missings as part of the process of describing the dataset.\n",
    "\n",
    "Meanwhile, irrelevant data (anything not from the baseline year or first follow-up) make up almost half of the dataset. Let's see how much of our dataset is truly needed with this in mind."
   ]
  },
  {
   "cell_type": "code",
   "execution_count": 13,
   "id": "6a692f26",
   "metadata": {},
   "outputs": [
    {
     "data": {
      "text/plain": [
       "(16197, 2727)"
      ]
     },
     "execution_count": 13,
     "metadata": {},
     "output_type": "execute_result"
    }
   ],
   "source": [
    "df = df.filter(regex='^(?!F2|F1T|F3)')\n",
    "df.shape"
   ]
  },
  {
   "cell_type": "markdown",
   "id": "c30fe67b",
   "metadata": {},
   "source": [
    "Even more helpful is the removal of student records that weren't present at the start of the study (participants who joined the study after 2002/at one of the subsequent follow-ups). The column `F1PNLFLG` indicates whether a study participant was a respondent at base year (2002) and first follow-up (2004) surveys or not."
   ]
  },
  {
   "cell_type": "code",
   "execution_count": null,
   "id": "c0a1a44f",
   "metadata": {},
   "outputs": [
    {
     "data": {
      "text/plain": [
       "(14654, 2727)"
      ]
     },
     "execution_count": 14,
     "metadata": {},
     "output_type": "execute_result"
    }
   ],
   "source": [
    "df = df[df['F1PNLFLG'] == 1] # Keep only sample members who were present at the start of the study, AKA have a F1PNLFLG of 1\n",
    "df.shape"
   ]
  },
  {
   "cell_type": "markdown",
   "id": "b72574ff",
   "metadata": {},
   "source": [
    "Still, a lot of the remaining variables include non-informative columns (e.g.: ID variables, estimated variables like BYTXMIRR or BYNELS2M, comparative variables like BYPISAME or BYPISARE).\n",
    "\n",
    "The goal of this pre-table clean is to establish a solid collection of academic and non-academic attributes on all students, so I, the author, will now manually extract a number of columns that I deem useful for our project based on found literature."
   ]
  },
  {
   "cell_type": "code",
   "execution_count": null,
   "id": "75e047f2",
   "metadata": {},
   "outputs": [
    {
     "data": {
      "text/plain": [
       "(14654, 42)"
      ]
     },
     "execution_count": 15,
     "metadata": {},
     "output_type": "execute_result"
    }
   ],
   "source": [
    "df_selected = pd.DataFrame()\n",
    "\n",
    "selected_columns = [\n",
    "    # === Core Identifiers & Target Variable ===\n",
    "    \"STU_ID\",          # Unique student identifier, essential for merging data\n",
    "    \"F1EVERDO\",        # Target Variable: 1st follow-up, student ever dropped out (0=No, 1=Yes)\n",
    "\n",
    "    # === Weight Variable ===\n",
    "    \"F1PNLWT\", # 1st follow-up panel weight; essentially designed to adjust data to be nationally representative\n",
    "\n",
    "    # === Academic Background & Performance ===\n",
    "    \"BYTXRSTD\",        # Standardized test score, reading (continuous)\n",
    "    \"BYTXMSTD\",        # Standardized test score, math (continuous)\n",
    "    \"BYSCHPRG\",        # Student's high school program (e.g., academic, general, vocational)\n",
    "    \"BYGRDRPT\",        # Ever repeated a grade from 1st to 9th\n",
    "    \"BYS33A\",          # Ever in an Advanced Placement (AP) program\n",
    "    \"BYS33D\",          # Ever in a remedial English class\n",
    "    \"BYS33E\",          # Ever in a remedial Math class\n",
    "    \"BYS33H\",          # Ever in a dropout prevention program\n",
    "\n",
    "    # === Student Behaviors & Engagement ===\n",
    "    \"BYHMWRK\",         # Hours spent on homework per week, base year\n",
    "    \"BYXTRACU\",        # Participation in extracurricular activities\n",
    "    \"BYS24A\",          # How many times late for school, base year\n",
    "    \"BYS24B\",          # How many times cut/skipped class, base year\n",
    "    \"BYS24C\",          # How many times absent from school, base year\n",
    "    \"BYS38C\",          # Goes to class without homework done, base year\n",
    "    \"F1S31\",           # In-school student: hours/week on homework, 1st follow-up\n",
    "\n",
    "    # === Psychosocial & Attitudinal Factors ===\n",
    "    \"BYSTEXP\",         # Student's educational expectations, base year\n",
    "    \"F1STEXP\",         # Student's educational expectations, 1st follow-up\n",
    "    \"BYSES1\",          # Socioeconomic status (SES) composite 1, base year (continuous)\n",
    "    \"BYS89A\",          # Self-concept: confident can do excellent on math tests\n",
    "    \"BYS89I\",          # Self-concept: confident can do excellent on English assignments\n",
    "    \"BYS89E\",          # Locus of control: 'When I learn something hard, I can learn it'\n",
    "    \"BYS89N\",          # Locus of control: 'If I decide not to get bad grades, I can do it'\n",
    "    \"BYS20A\",          # School climate: students get along with teachers\n",
    "    \"BYS20B\",          # School climate: there is real school spirit\n",
    "    \"BYS20J\",          # School climate: student doesn't feel safe at this school\n",
    "    \"BYS20K\",          # School climate: disruptions get in way of learning\n",
    "\n",
    "    # === Peer Group Influence ===\n",
    "    \"BYS90B\",          # Peer group attitudes: importance of studying\n",
    "    \"BYS90D\",          # Peer group attitudes: importance of getting good grades\n",
    "    \"BYS90F\",          # Peer group attitudes: importance of finishing high school\n",
    "    \"BYS90L\",          # Peer group attitudes: importance of getting together on weekends\n",
    "    \"BYS91\",           # Number of close friends who dropped out\n",
    "\n",
    "    # === Family, Home & Financial Factors ===\n",
    "    \"BYINCOME\",        # Total family income for 2001\n",
    "    \"F1MOTHED\",        # Mother's highest level of education, 1st follow-up\n",
    "    \"F1FATHED\",        # Father's highest level of education, 1st follow-up\n",
    "    \"F1OCCUM\",         # Mother's occupation, 1st follow-up\n",
    "    \"F1OCCUF\",         # Father's occupation, 1st follow-up\n",
    "    \"BYFCOMP\",         # Family composition, base year\n",
    "    \"F1FCOMP\",         # Family composition, 1st follow-up\n",
    "    \"BYHOMLNG\",        # Language spoken at home other than English\n",
    "]\n",
    "\n",
    "for col in selected_columns:\n",
    "    df_selected[col] = df[col]\n",
    "\n",
    "df_selected.shape"
   ]
  },
  {
   "cell_type": "code",
   "execution_count": 16,
   "id": "317a6f46",
   "metadata": {},
   "outputs": [
    {
     "data": {
      "image/png": "[encoded data removed]",
      "text/plain": [
       "<Figure size 640x480 with 1 Axes>"
      ]
     },
     "metadata": {},
     "output_type": "display_data"
    }
   ],
   "source": [
    "import seaborn as sns\n",
    "import matplotlib.pyplot as plt\n",
    "\n",
    "bars = sns.histplot(data=df_selected, x=\"F1EVERDO\", discrete=True)\n",
    "bars.set_xticks([0, 1])\n",
    "plt.xlabel(\"Ever Dropped Out By End of High School (0=No, 1=Yes)\")\n",
    "plt.ylabel(\"Number of Students\")\n",
    "plt.title(\"Distribution of Student Dropout Status\")\n",
    "\n",
    "for container in bars.containers:\n",
    "    bars.bar_label(container)\n",
    "\n",
    "plt.show()"
   ]
  },
  {
   "cell_type": "markdown",
   "id": "05d5472b",
   "metadata": {},
   "source": [
    "## Table Creation\n",
    "\n",
    "This portion of the notebook assumes MySQL is installed and a local instance of the server is prepared, plus that all of the required dependencies in the following cell are available.\n",
    "\n",
    "MySQL has an installer that can be downloaded here: https://dev.mysql.com/downloads/installer/. Once you have *Workbench* and *Server* installed locally, **enter your own admin password into *db_config*.** The input host value allows create_engine to loop back to your computer when searching for the MySQL server to connect to - and your computer will have a local MySQL instance at this point if *Server* was installed."
   ]
  },
  {
   "cell_type": "code",
   "execution_count": null,
   "id": "048f22dc",
   "metadata": {},
   "outputs": [
    {
     "name": "stdout",
     "output_type": "stream",
     "text": [
      "Failed to create database: 1007: Can't create database 'els2002_selected_columns'; database exists\n",
      "DataFrame successfully loaded into or replaced table 'els_2002_data'.\n"
     ]
    }
   ],
   "source": [
    "import pandas as pd\n",
    "import mysql.connector\n",
    "from sqlalchemy import create_engine\n",
    "\n",
    "\n",
    "# --- 1. Database Connection Details ---\n",
    "db_config = {\n",
    "    'user': 'root',\n",
    "    'password': 'YOUR_ROOT_PASSWORD_HERE', # Replace with your password\n",
    "    'host': '127.0.0.1',\n",
    "    'raise_on_warnings': True\n",
    "}\n",
    "\n",
    "db_name = 'els2002_selected_columns' # The name of the database you want to use\n",
    "\n",
    "\n",
    "# --- 2. Create the Database (if it doesn't exist) ---\n",
    "try:\n",
    "    # Connect to the MySQL server\n",
    "    cnx = mysql.connector.connect(**db_config)\n",
    "    cursor = cnx.cursor()\n",
    "    \n",
    "    # Create the database\n",
    "    cursor.execute(f\"CREATE DATABASE IF NOT EXISTS {db_name}\")\n",
    "    print(f\"Database '{db_name}' is ready.\")\n",
    "    \n",
    "    cursor.close()\n",
    "    cnx.close()\n",
    "\n",
    "except mysql.connector.Error as err:\n",
    "    print(f\"Failed to create database: {err}\")\n",
    "\n",
    "\n",
    "# --- 3. Load DataFrame into a SQL Table ---\n",
    "try:\n",
    "    # Create a SQLAlchemy engine to talk to the database\n",
    "    engine = create_engine(f\"mysql+mysqlconnector://{db_config['user']}:{db_config['password']}@{db_config['host']}/{db_name}\")\n",
    "    \n",
    "    table_name = 'els_2002_data' # Choose a name for your table\n",
    "    \n",
    "    # Use pandas to_sql to load the data\n",
    "    # 'if_exists='replace'' will overwrite the table if it already exists.\n",
    "    # Use 'append' if you want to add data, or 'fail' to prevent overwriting.\n",
    "    df_selected.to_sql(table_name, engine, if_exists='replace', index=False)\n",
    "    \n",
    "    print(f\"DataFrame successfully loaded into or replaced table '{table_name}'.\")\n",
    "\n",
    "except Exception as e:\n",
    "    print(f\"Failed to load data into MySQL: {e}\")"
   ]
  }
 ],
 "metadata": {
  "kernelspec": {
   "display_name": "FOR CAP4770 FINAL",
   "language": "python",
   "name": "proj_env"
  },
  "language_info": {
   "codemirror_mode": {
    "name": "ipython",
    "version": 3
   },
   "file_extension": ".py",
   "mimetype": "text/x-python",
   "name": "python",
   "nbconvert_exporter": "python",
   "pygments_lexer": "ipython3",
   "version": "3.9.13"
  }
 },
 "nbformat": 4,
 "nbformat_minor": 5
}
