{
 "cells": [
  {
   "cell_type": "code",
   "execution_count": 2,
   "id": "ea85f5c4-db58-4f78-b427-8fb09d73c1ff",
   "metadata": {},
   "outputs": [
    {
     "name": "stdout",
     "output_type": "stream",
     "text": [
      "✅ Connection engine created successfully.\n",
      "✅ Data successfully loaded from 'els_2002_data' into a DataFrame.\n",
      "DataFrame shape: (14654, 42)\n"
     ]
    }
   ],
   "source": [
    "import pandas as pd\n",
    "from sqlalchemy import create_engine\n",
    "\n",
    "# --- 1. Database Connection Details ---\n",
    "# These should be the same as in your cleaning notebook.\n",
    "db_config = {\n",
    "    'user': 'root',\n",
    "    'password': 'password', # Replace with your password\n",
    "    'host': '127.0.0.1', # This means your local machine\n",
    "}\n",
    "\n",
    "db_name = 'els2002_selected_columns'\n",
    "table_name = 'els_2002_data'\n",
    "\n",
    "# --- 2. Create the Connection Engine ---\n",
    "# This engine is what allows pandas to communicate with your database.\n",
    "try:\n",
    "    engine_string = f\"mysql+mysqlconnector://{db_config['user']}:{db_config['password']}@{db_config['host']}/{db_name}\"\n",
    "    engine = create_engine(engine_string)\n",
    "    print(\"✅ Connection engine created successfully.\")\n",
    "\n",
    "except Exception as e:\n",
    "    print(f\"❌ Failed to create engine: {e}\")\n",
    "\n",
    "# --- 3. Write and Execute the SQL Query ---\n",
    "# This is a simple query to select everything from your table.\n",
    "query = f\"SELECT * FROM {table_name}\"\n",
    "\n",
    "try:\n",
    "    # Use pandas to execute the query and load the result into a DataFrame\n",
    "    df = pd.read_sql_query(query, engine)\n",
    "    \n",
    "    print(f\"✅ Data successfully loaded from '{table_name}' into a DataFrame.\")\n",
    "    print(\"DataFrame shape:\", df.shape)\n",
    "    \n",
    "except Exception as e:\n",
    "    print(f\"❌ Failed to load data from SQL: {e}\")\n",
    "\n",
    "engine.dispose()  # Close the connection to the database\n",
    "\n",
    "del db_config, query, table_name, db_name, engine_string"
   ]
  },
  {
   "cell_type": "code",
   "execution_count": null,
   "id": "71b2e258-16d2-4e90-9d33-342060c38a94",
   "metadata": {},
   "outputs": [],
   "source": []
  }
 ],
 "metadata": {
  "kernelspec": {
   "display_name": "Python 3 (ipykernel)",
   "language": "python",
   "name": "python3"
  },
  "language_info": {
   "codemirror_mode": {
    "name": "ipython",
    "version": 3
   },
   "file_extension": ".py",
   "mimetype": "text/x-python",
   "name": "python",
   "nbconvert_exporter": "python",
   "pygments_lexer": "ipython3",
   "version": "3.13.5"
  }
 },
 "nbformat": 4,
 "nbformat_minor": 5
}
