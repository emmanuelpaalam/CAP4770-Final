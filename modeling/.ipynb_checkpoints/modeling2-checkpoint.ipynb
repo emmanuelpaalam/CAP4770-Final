{
 "cells": [
  {
   "cell_type": "markdown",
   "id": "1fd106da",
   "metadata": {},
   "source": [
    "# New Cluster Model Dev + Analysis\n",
    "### Author: Emmanuel Paalam\n",
    "### Date: 7/25/2025"
   ]
  },
  {
   "cell_type": "markdown",
   "id": "5a4cc332",
   "metadata": {},
   "source": [
    "This notebook documents a renewed process of clustering and analyzing student data from the ELS:2002 study for a CAP4770 group project. It covers data extraction, cleaning, imputation, encoding, dimensionality reduction (PCA), clustering (DBSCAN), and evaluation of cluster performance in relation to student dropout status. The goal is to explore whether selected variables can effectively distinguish between dropouts and non-dropouts using unsupervised learning techniques. This new notebook was made after change of mind of the author in how to cluster the data in light of class imbalance in F1EVERDO."
   ]
  },
  {
   "cell_type": "markdown",
   "id": "85d576e8",
   "metadata": {},
   "source": [
    "The following reserve codes are used throughout the ECB. This description is added to the first variable of each section to helpusers understand the meaning of each reserve code.\n",
    "\n",
    "- -1: \"Don't know\" represents respondents who indicated that they didn't know the answer to the question.\n",
    "\n",
    "- -2: \"Refused\" represents respondents who indicated that they refused to answer the question\n",
    "\n",
    "- -3: \"Item legitimate skip/NA\" is filled for questions that are not administered based on routing logic; i.e., the items are not applicable based on responses to prior questions.\n",
    "\n",
    "- -4: \"Nonrespondent\" is filled for all variables across the entire questionnaire when a sample member did not respond to the questionnaire.\n",
    "\n",
    "- -5: \"Out of range\" represents questionnaire respondents who reported values that are out of range.\n",
    "\n",
    "- -6: \"Multiple response\" represents hard copy questionnaire respondents who reported more than one response for an item that requires only one response.\n",
    "\n",
    "- -7: \"Partial interview-breakoff\" is filled for questions that are not answered because the respondent does not wish to continue the interview or they have run out of time. This also includes particular items that are not included on an abbreviated version questionnaire.\n",
    "\n",
    "- -8: \"Survey component legitimate skip/NA\" is filled for all items within a survey component for sample members who were not administered that component by design for one of the following reasons: 1) the component was not administered based on their status (e.g., transfer students did not receive certain items on the in-school survey), 2) the sample member was not a part of the study at the time of administration (e.g., first follow-up freshened sample members were by definition not eligible for the base-year survey), or 3) the sample member was not capable of completing the survey component (e.g., students who were questionnaire-ineligible due to a language barrier or disability at the time of the survey).\n",
    "\n",
    "- -9: \"Missing\" is filled for questions that are not answered when the routing suggests that a response should have been provided."
   ]
  },
  {
   "cell_type": "markdown",
   "id": "b647749f",
   "metadata": {},
   "source": [
    "## Call MySQL table into environment"
   ]
  },
  {
   "cell_type": "code",
   "execution_count": 1,
   "id": "4681fc91",
   "metadata": {},
   "outputs": [
    {
     "name": "stdout",
     "output_type": "stream",
     "text": [
      "✅ Connection engine created successfully.\n",
      "✅ Data successfully loaded from 'els_2002_data' into a DataFrame.\n",
      "DataFrame shape: (14654, 42)\n"
     ]
    }
   ],
   "source": [
    "import pandas as pd\n",
    "from sqlalchemy import create_engine\n",
    "\n",
    "# --- 1. Database Connection Details ---\n",
    "# These should be the same as in your cleaning notebook.\n",
    "db_config = {\n",
    "    'user': 'root',\n",
    "    'password': 'orbit4*papers', # Replace with your password\n",
    "    'host': '127.0.0.1', # This means your local machine\n",
    "}\n",
    "\n",
    "db_name = 'els2002_selected_columns'\n",
    "table_name = 'els_2002_data'\n",
    "\n",
    "# --- 2. Create the Connection Engine ---\n",
    "# This engine is what allows pandas to communicate with your database.\n",
    "try:\n",
    "    engine_string = f\"mysql+mysqlconnector://{db_config['user']}:{db_config['password']}@{db_config['host']}/{db_name}\"\n",
    "    engine = create_engine(engine_string)\n",
    "    print(\"✅ Connection engine created successfully.\")\n",
    "\n",
    "except Exception as e:\n",
    "    print(f\"❌ Failed to create engine: {e}\")\n",
    "\n",
    "# --- 3. Write and Execute the SQL Query ---\n",
    "# This is a simple query to select everything from your table.\n",
    "query = f\"SELECT * FROM {table_name}\"\n",
    "\n",
    "try:\n",
    "    # Use pandas to execute the query and load the result into a DataFrame\n",
    "    df = pd.read_sql_query(query, engine)\n",
    "    \n",
    "    print(f\"✅ Data successfully loaded from '{table_name}' into a DataFrame.\")\n",
    "    print(\"DataFrame shape:\", df.shape)\n",
    "    \n",
    "except Exception as e:\n",
    "    print(f\"❌ Failed to load data from SQL: {e}\")\n",
    "\n",
    "engine.dispose()  # Close the connection to the database\n",
    "\n",
    "del db_config, query, table_name, db_name, engine_string"
   ]
  },
  {
   "cell_type": "markdown",
   "id": "6f691474",
   "metadata": {},
   "source": [
    "Alright, so at this point we've brought the table made off of the 42 selected variables from the raw ELS:2002 study (`pretable_clean.ipynv`) back in. Let's now work on the missing values that are present on them, in order to more successfully perform cluster analysis, and more generally prep the data for clustering."
   ]
  },
  {
   "cell_type": "markdown",
   "id": "4cfb5f97",
   "metadata": {},
   "source": [
    "## Post-subset + pre-PCA processing\n",
    "\n",
    "DBSCAN is generally not recommended for mixed data, which is the style of dataset that we're working with here, and is intended to be used with numerical data only. To account for this, I opt to perform encoding on the categorical data in our \"raw\" subset to convert all categorical columns to a numerical, algorithm-friendly format.\n",
    "\n",
    "However, this ends up boosting the number of columns by a significant amount due to the types of encoding performed (e.g. one-hot encoding, which divvys up nominal columns to make binary vectors out of them), so I also engage with PCA to reduce dimensional complexity for clustering."
   ]
  },
  {
   "cell_type": "markdown",
   "id": "40445223",
   "metadata": {},
   "source": [
    "### Explicit NA search & replacement"
   ]
  },
  {
   "cell_type": "code",
   "execution_count": 2,
   "id": "bca19232",
   "metadata": {},
   "outputs": [
    {
     "name": "stderr",
     "output_type": "stream",
     "text": [
      "C:\\Users\\epaal\\AppData\\Local\\Temp\\ipykernel_23104\\2864311089.py:2: FutureWarning: DataFrame.applymap has been deprecated. Use DataFrame.map instead.\n",
      "  df_withnan = df.applymap(lambda x: np.nan if x in [-1, -2, -3, -4, -5, -6, -7, -8, -9] else x)\n"
     ]
    },
    {
     "data": {
      "application/vnd.microsoft.datawrangler.viewer.v0+json": {
       "columns": [
        {
         "name": "index",
         "rawType": "object",
         "type": "string"
        },
        {
         "name": "0",
         "rawType": "int64",
         "type": "integer"
        }
       ],
       "ref": "5d1b75f5-3634-472f-bd85-a2d4eb776d7b",
       "rows": [
        [
         "STU_ID",
         "0"
        ],
        [
         "F1EVERDO",
         "0"
        ],
        [
         "F1PNLWT",
         "0"
        ],
        [
         "BYTXRSTD",
         "0"
        ],
        [
         "BYTXMSTD",
         "0"
        ],
        [
         "BYSCHPRG",
         "0"
        ],
        [
         "BYGRDRPT",
         "2411"
        ],
        [
         "BYS33A",
         "1422"
        ],
        [
         "BYS33D",
         "1663"
        ],
        [
         "BYS33E",
         "1694"
        ],
        [
         "BYS33H",
         "1453"
        ],
        [
         "BYHMWRK",
         "1182"
        ],
        [
         "BYXTRACU",
         "894"
        ],
        [
         "BYS24A",
         "1273"
        ],
        [
         "BYS24B",
         "1354"
        ],
        [
         "BYS24C",
         "1424"
        ],
        [
         "BYS38C",
         "1461"
        ],
        [
         "F1S31",
         "1271"
        ],
        [
         "BYSTEXP",
         "1948"
        ],
        [
         "F1STEXP",
         "0"
        ],
        [
         "BYSES1",
         "700"
        ],
        [
         "BYS89A",
         "4127"
        ],
        [
         "BYS89I",
         "4489"
        ],
        [
         "BYS89E",
         "4350"
        ],
        [
         "BYS89N",
         "4487"
        ],
        [
         "BYS20A",
         "1264"
        ],
        [
         "BYS20B",
         "1323"
        ],
        [
         "BYS20J",
         "1406"
        ],
        [
         "BYS20K",
         "1348"
        ],
        [
         "BYS90B",
         "4760"
        ],
        [
         "BYS90D",
         "4843"
        ],
        [
         "BYS90F",
         "4853"
        ],
        [
         "BYS90L",
         "4954"
        ],
        [
         "BYS91",
         "5328"
        ],
        [
         "BYINCOME",
         "0"
        ],
        [
         "F1MOTHED",
         "0"
        ],
        [
         "F1FATHED",
         "0"
        ],
        [
         "F1OCCUM",
         "0"
        ],
        [
         "F1OCCUF",
         "0"
        ],
        [
         "BYFCOMP",
         "648"
        ],
        [
         "F1FCOMP",
         "0"
        ],
        [
         "BYHOMLNG",
         "980"
        ]
       ],
       "shape": {
        "columns": 1,
        "rows": 42
       }
      },
      "text/plain": [
       "STU_ID         0\n",
       "F1EVERDO       0\n",
       "F1PNLWT        0\n",
       "BYTXRSTD       0\n",
       "BYTXMSTD       0\n",
       "BYSCHPRG       0\n",
       "BYGRDRPT    2411\n",
       "BYS33A      1422\n",
       "BYS33D      1663\n",
       "BYS33E      1694\n",
       "BYS33H      1453\n",
       "BYHMWRK     1182\n",
       "BYXTRACU     894\n",
       "BYS24A      1273\n",
       "BYS24B      1354\n",
       "BYS24C      1424\n",
       "BYS38C      1461\n",
       "F1S31       1271\n",
       "BYSTEXP     1948\n",
       "F1STEXP        0\n",
       "BYSES1       700\n",
       "BYS89A      4127\n",
       "BYS89I      4489\n",
       "BYS89E      4350\n",
       "BYS89N      4487\n",
       "BYS20A      1264\n",
       "BYS20B      1323\n",
       "BYS20J      1406\n",
       "BYS20K      1348\n",
       "BYS90B      4760\n",
       "BYS90D      4843\n",
       "BYS90F      4853\n",
       "BYS90L      4954\n",
       "BYS91       5328\n",
       "BYINCOME       0\n",
       "F1MOTHED       0\n",
       "F1FATHED       0\n",
       "F1OCCUM        0\n",
       "F1OCCUF        0\n",
       "BYFCOMP      648\n",
       "F1FCOMP        0\n",
       "BYHOMLNG     980\n",
       "dtype: int64"
      ]
     },
     "execution_count": 2,
     "metadata": {},
     "output_type": "execute_result"
    }
   ],
   "source": [
    "import numpy as np\n",
    "df_withnan = df.applymap(lambda x: np.nan if x in [-1, -2, -3, -4, -5, -6, -7, -8, -9] else x)\n",
    "\n",
    "for row in df_withnan['BYGRDRPT']: # this column expresses missings differently from the others\n",
    "    if row in [98, 99]:\n",
    "        df_withnan['BYGRDRPT'] = df_withnan['BYGRDRPT'].replace(row, np.nan)\n",
    "del row\n",
    "\n",
    "df_withnan.isna().sum()"
   ]
  },
  {
   "cell_type": "code",
   "execution_count": 3,
   "id": "7ee3802e",
   "metadata": {},
   "outputs": [],
   "source": [
    "from sklearn.experimental import enable_iterative_imputer  # noqa\n",
    "from sklearn.impute import IterativeImputer\n",
    "\n",
    "df_imputed = pd.DataFrame(IterativeImputer(max_iter=10, random_state=0).fit_transform(df_withnan), columns=df_withnan.columns)\n",
    "\n",
    "del df, df_withnan"
   ]
  },
  {
   "cell_type": "code",
   "execution_count": 4,
   "id": "3694e376",
   "metadata": {},
   "outputs": [
    {
     "data": {
      "application/vnd.microsoft.datawrangler.viewer.v0+json": {
       "columns": [
        {
         "name": "index",
         "rawType": "object",
         "type": "string"
        },
        {
         "name": "0",
         "rawType": "int64",
         "type": "integer"
        }
       ],
       "ref": "c81151ee-44c2-4309-9549-ec523bab2d18",
       "rows": [
        [
         "STU_ID",
         "0"
        ],
        [
         "F1EVERDO",
         "0"
        ],
        [
         "F1PNLWT",
         "0"
        ],
        [
         "BYTXRSTD",
         "0"
        ],
        [
         "BYTXMSTD",
         "0"
        ],
        [
         "BYSCHPRG",
         "0"
        ],
        [
         "BYGRDRPT",
         "0"
        ],
        [
         "BYS33A",
         "0"
        ],
        [
         "BYS33D",
         "0"
        ],
        [
         "BYS33E",
         "0"
        ],
        [
         "BYS33H",
         "0"
        ],
        [
         "BYHMWRK",
         "0"
        ],
        [
         "BYXTRACU",
         "0"
        ],
        [
         "BYS24A",
         "0"
        ],
        [
         "BYS24B",
         "0"
        ],
        [
         "BYS24C",
         "0"
        ],
        [
         "BYS38C",
         "0"
        ],
        [
         "F1S31",
         "0"
        ],
        [
         "BYSTEXP",
         "0"
        ],
        [
         "F1STEXP",
         "0"
        ],
        [
         "BYSES1",
         "0"
        ],
        [
         "BYS89A",
         "0"
        ],
        [
         "BYS89I",
         "0"
        ],
        [
         "BYS89E",
         "0"
        ],
        [
         "BYS89N",
         "0"
        ],
        [
         "BYS20A",
         "0"
        ],
        [
         "BYS20B",
         "0"
        ],
        [
         "BYS20J",
         "0"
        ],
        [
         "BYS20K",
         "0"
        ],
        [
         "BYS90B",
         "0"
        ],
        [
         "BYS90D",
         "0"
        ],
        [
         "BYS90F",
         "0"
        ],
        [
         "BYS90L",
         "0"
        ],
        [
         "BYS91",
         "0"
        ],
        [
         "BYINCOME",
         "0"
        ],
        [
         "F1MOTHED",
         "0"
        ],
        [
         "F1FATHED",
         "0"
        ],
        [
         "F1OCCUM",
         "0"
        ],
        [
         "F1OCCUF",
         "0"
        ],
        [
         "BYFCOMP",
         "0"
        ],
        [
         "F1FCOMP",
         "0"
        ],
        [
         "BYHOMLNG",
         "0"
        ]
       ],
       "shape": {
        "columns": 1,
        "rows": 42
       }
      },
      "text/plain": [
       "STU_ID      0\n",
       "F1EVERDO    0\n",
       "F1PNLWT     0\n",
       "BYTXRSTD    0\n",
       "BYTXMSTD    0\n",
       "BYSCHPRG    0\n",
       "BYGRDRPT    0\n",
       "BYS33A      0\n",
       "BYS33D      0\n",
       "BYS33E      0\n",
       "BYS33H      0\n",
       "BYHMWRK     0\n",
       "BYXTRACU    0\n",
       "BYS24A      0\n",
       "BYS24B      0\n",
       "BYS24C      0\n",
       "BYS38C      0\n",
       "F1S31       0\n",
       "BYSTEXP     0\n",
       "F1STEXP     0\n",
       "BYSES1      0\n",
       "BYS89A      0\n",
       "BYS89I      0\n",
       "BYS89E      0\n",
       "BYS89N      0\n",
       "BYS20A      0\n",
       "BYS20B      0\n",
       "BYS20J      0\n",
       "BYS20K      0\n",
       "BYS90B      0\n",
       "BYS90D      0\n",
       "BYS90F      0\n",
       "BYS90L      0\n",
       "BYS91       0\n",
       "BYINCOME    0\n",
       "F1MOTHED    0\n",
       "F1FATHED    0\n",
       "F1OCCUM     0\n",
       "F1OCCUF     0\n",
       "BYFCOMP     0\n",
       "F1FCOMP     0\n",
       "BYHOMLNG    0\n",
       "dtype: int64"
      ]
     },
     "execution_count": 4,
     "metadata": {},
     "output_type": "execute_result"
    }
   ],
   "source": [
    "df_imputed.isna().sum()"
   ]
  },
  {
   "cell_type": "markdown",
   "id": "4ba3a898",
   "metadata": {},
   "source": [
    "### Preparatory work\n",
    "Let's first group columns together for encoding."
   ]
  },
  {
   "cell_type": "code",
   "execution_count": 5,
   "id": "63d4bb5c",
   "metadata": {},
   "outputs": [],
   "source": [
    "no_scale = ['F1EVERDO', 'STU_ID', 'F1PNLWT']\n",
    "\n",
    "num_cols = ['BYTXRSTD', 'BYTXMSTD', 'BYSES1', 'BYHMWRK', 'BYXTRACU']\n",
    "\n",
    "ord_cols = ['BYGRDRPT', 'BYS24A', 'BYS24B', 'BYS24C', 'BYS38C', 'F1S31', 'BYSTEXP', 'F1STEXP', 'BYS89A', 'BYS89I', 'BYS89E',\n",
    "            'BYS89N', 'BYS20A', 'BYS20B', 'BYS20J', 'BYS20K', 'BYS90B', 'BYS90D', 'BYS90F', 'BYS90L', 'BYS91', 'BYINCOME', 'F1MOTHED',\n",
    "            'F1FATHED', 'BYS33A', 'BYS33D', 'BYS33E', 'BYS33H']\n",
    "# NOTE: 'BYS33A', 'BYS33D', 'BYS33E', 'BYS33H' are binary but will ordinal encode for simplicity\n",
    "\n",
    "nom_cols = ['BYSCHPRG', 'F1OCCUM', 'F1OCCUF', 'BYFCOMP', 'F1FCOMP', 'BYHOMLNG']"
   ]
  },
  {
   "cell_type": "markdown",
   "id": "c050ac08",
   "metadata": {},
   "source": [
    "### Type recasting..."
   ]
  },
  {
   "cell_type": "markdown",
   "id": "713dc40b",
   "metadata": {},
   "source": [
    "Iterative Imputer is okay with inserting irrational floats into some of our categorical columns that have missings, so let's first round those to better reflect the original column nature, which will otherwise confuse the encoders."
   ]
  },
  {
   "cell_type": "code",
   "execution_count": 6,
   "id": "db9c8248",
   "metadata": {},
   "outputs": [],
   "source": [
    "for col in nom_cols + ord_cols:\n",
    "    df_imputed[col] = df_imputed[col].round(0).astype('int64')\n",
    "del col"
   ]
  },
  {
   "cell_type": "markdown",
   "id": "aea936ea",
   "metadata": {},
   "source": [
    "And F1EVERDO is a binary variable."
   ]
  },
  {
   "cell_type": "code",
   "execution_count": 7,
   "id": "f3e6f811",
   "metadata": {},
   "outputs": [],
   "source": [
    "df_imputed['F1EVERDO'] = df_imputed['F1EVERDO'].astype('int64')  # Ensure binary column is int64"
   ]
  },
  {
   "cell_type": "markdown",
   "id": "30c99df7",
   "metadata": {},
   "source": [
    "### Early variable exclusion to ensure proper clustering\n",
    "\n",
    "Remove variables we don't want to process (e.g. F1EVERDO, which is meant for post-cluster labelling - real glad we recast this one as well beforehand). What isn't popped is each study participant's exploratory data for clustering to be based off of.\n",
    "\n",
    "Due to the format of this dataset, we can easily recombine ID and target variables with any reformatted versions of the dataset left after popping them due to row-order preservation throughout the remaining parts of this clustering process."
   ]
  },
  {
   "cell_type": "code",
   "execution_count": 8,
   "id": "ebb8da92",
   "metadata": {},
   "outputs": [],
   "source": [
    "weight_var = df_imputed.pop('F1PNLWT')\n",
    "id_var = df_imputed.pop('STU_ID')\n",
    "target_var = df_imputed.pop('F1EVERDO')"
   ]
  },
  {
   "cell_type": "markdown",
   "id": "30d53076",
   "metadata": {},
   "source": [
    "### Time to encode!\n",
    "And then we'll actually do PCA."
   ]
  },
  {
   "cell_type": "code",
   "execution_count": 9,
   "id": "9461da0b",
   "metadata": {},
   "outputs": [],
   "source": [
    "from sklearn.preprocessing import OneHotEncoder, OrdinalEncoder, StandardScaler\n",
    "from sklearn.compose import ColumnTransformer\n",
    "\n",
    "preprocessor = ColumnTransformer(\n",
    "    transformers=[\n",
    "        ('ord', OrdinalEncoder(), ord_cols),\n",
    "        ('nom', OneHotEncoder(sparse_output=False), nom_cols),\n",
    "        ('num_cols', StandardScaler(), num_cols)\n",
    "    ], remainder='passthrough') # leave the no_scale columns as is\n",
    "\n",
    "df_processed = preprocessor.fit_transform(df_imputed)\n",
    "\n",
    "del ord_cols,nom_cols, num_cols, no_scale"
   ]
  },
  {
   "cell_type": "markdown",
   "id": "0fd3f8c3",
   "metadata": {},
   "source": [
    "## PCA\n",
    "\n",
    "Simple as that. This results in a 36-column ndarray, much shorter than the 96-column array of `df_processed`."
   ]
  },
  {
   "cell_type": "code",
   "execution_count": 10,
   "id": "46b0cd5b",
   "metadata": {},
   "outputs": [],
   "source": [
    "from sklearn.decomposition import PCA\n",
    "\n",
    "pca = PCA(n_components=0.95)  # Retain 95% of variance\n",
    "df_pca = pca.fit_transform(df_processed)"
   ]
  },
  {
   "cell_type": "markdown",
   "id": "f56f3bd7",
   "metadata": {},
   "source": [
    "## Clustering\n",
    "\n",
    "Having reduced our encoded data to its primary components, we can now go ahead with attempting clustering students into groups. Since we aren't using K-means, instead of looking for the proper *k*-value, I'll look for *eps* as used in DBSCAN."
   ]
  },
  {
   "cell_type": "code",
   "execution_count": null,
   "id": "edc96f0e",
   "metadata": {},
   "outputs": [],
   "source": [
    "from sklearn.neighbors import NearestNeighbors\n",
    "import matplotlib.pyplot as plt\n",
    "\n",
    "k = df_imputed.shape[1] * 2 # best practice is to set k to 2x the number of features.\n",
    "                            # For the sake of observing the original number of features, we will use 2x the number of features\n",
    "                            # in the imputed but not processed data."
   ]
  },
  {
   "cell_type": "markdown",
   "id": "b1a354b3",
   "metadata": {},
   "source": [
    "### Define eps"
   ]
  },
  {
   "cell_type": "markdown",
   "id": "6dbb0e78",
   "metadata": {},
   "source": [
    "One of the ways to determine a reasonable *eps* value (maximum distance between two points for one to be considered as in the neighborhood of the other) when you don't have any domain knowledge of what to set it as is through the use of a *k*-distance graph. This graph visualizes the overall density distribution of our raw data, communicating where the \"core\", \"border\", and \"noise\" points are. By locating the \"border\" points, we can approximate a good *eps*."
   ]
  },
  {
   "cell_type": "code",
   "execution_count": 28,
   "id": "9e95a622",
   "metadata": {},
   "outputs": [
    {
     "data": {
      "image/png": "[encoded data removed]",
      "text/plain": [
       "<Figure size 1000x600 with 1 Axes>"
      ]
     },
     "metadata": {},
     "output_type": "display_data"
    }
   ],
   "source": [
    "knn = NearestNeighbors(n_neighbors=k)\n",
    "knn.fit(df_pca)\n",
    "distances, _ = knn.kneighbors(df_pca)\n",
    "distances = np.sort(distances[:, 1])  # Sort the distances of the k-nearest neighbors\n",
    "plt.figure(figsize=(10, 6))\n",
    "plt.plot(distances)\n",
    "plt.xlabel('Points')\n",
    "plt.ylabel(f'{k}-th nearest neighbor distance')\n",
    "plt.title('K-distance Graph')\n",
    "plt.show()"
   ]
  },
  {
   "cell_type": "markdown",
   "id": "69166fbe",
   "metadata": {},
   "source": [
    "Looks like almost all of the points in our processed data seem to be \"core\", or close enough to each other that most of them fail to act as good indicators for where a cluster border would be. This is actually a hopeful sign, as the data was mostly comprised of non-dropouts: with a big primary cluster, we may be able to distinguish between non-dropouts and dropouts by allowing the dropouts to act as outliers to it.\n",
    "\n",
    "Let's zoom in to get our *eps*."
   ]
  },
  {
   "cell_type": "code",
   "execution_count": 40,
   "id": "7b9cf792",
   "metadata": {},
   "outputs": [
    {
     "data": {
      "image/png": "[encoded data removed]",
      "text/plain": [
       "<Figure size 1000x600 with 1 Axes>"
      ]
     },
     "metadata": {},
     "output_type": "display_data"
    }
   ],
   "source": [
    "plt.figure(figsize=(10, 6))\n",
    "plt.plot(distances)\n",
    "plt.xlabel('Points')\n",
    "plt.ylabel(f'{k}-th nearest neighbor distance')\n",
    "plt.title('K-distance Graph')\n",
    "plt.xlim(14450, 14700)  # Zoom in to points 1000 to 1500\n",
    "plt.ylim(5, 7)\n",
    "plt.show()"
   ]
  },
  {
   "cell_type": "markdown",
   "id": "6b3a495b",
   "metadata": {},
   "source": [
    "In respect to the dataset's original size, a more generous bordering distance of `eps = 5.75` will be used."
   ]
  },
  {
   "cell_type": "markdown",
   "id": "f1edf035",
   "metadata": {},
   "source": [
    "### DBSCAN w/found eps value\n",
    "\n",
    "Nothing much to this - with our found `eps` value, we can now obtain cluster labels and see how many non/dropouts are grouped in both."
   ]
  },
  {
   "cell_type": "code",
   "execution_count": 53,
   "id": "4050416e",
   "metadata": {},
   "outputs": [],
   "source": [
    "from sklearn.cluster import DBSCAN\n",
    "\n",
    "# Let's assume your elbow plot suggested an eps of around 4.5 (you will need to adjust this)\n",
    "dbscan = DBSCAN(eps=5.75, min_samples=k)\n",
    "cluster_labels = dbscan.fit_predict(df_pca)"
   ]
  },
  {
   "cell_type": "markdown",
   "id": "53be6144",
   "metadata": {},
   "source": [
    "## Evaluation\n",
    "\n",
    "Hooray, we're done with DBSCAN! Now let's evaluate the cluster(s) generated by the algorithm."
   ]
  },
  {
   "cell_type": "code",
   "execution_count": 54,
   "id": "bf230424",
   "metadata": {},
   "outputs": [],
   "source": [
    "df_results = pd.DataFrame({\n",
    "    'STU_ID': id_var,\n",
    "    'F1EVERDO': target_var,\n",
    "    'Cluster Labels': cluster_labels,\n",
    "    'Weight': weight_var\n",
    "})"
   ]
  },
  {
   "cell_type": "code",
   "execution_count": 55,
   "id": "1ea893cb",
   "metadata": {},
   "outputs": [
    {
     "data": {
      "image/png": "[encoded data removed]",
      "text/plain": [
       "<Figure size 800x600 with 2 Axes>"
      ]
     },
     "metadata": {},
     "output_type": "display_data"
    }
   ],
   "source": [
    "import seaborn as sns\n",
    "\n",
    "basic_crosstab = pd.crosstab(df_results['Cluster Labels'], df_results['F1EVERDO'])\n",
    "\n",
    "plt.figure(figsize=(8, 6))\n",
    "sns.heatmap(\n",
    "    basic_crosstab,\n",
    "    annot=True,          # Display the numbers in the cells\n",
    "    fmt='.0f',           # Format numbers as integers (no decimals)\n",
    "    cmap='viridis',      # A color-blind friendly colormap\n",
    "    linewidths=.5,\n",
    "    xticklabels = ['0 - Not Dropped Out', '1 - Dropped Out']#,\n",
    "    # yticklabels = ['Cluster 1', 'Cluster 2']\n",
    ")\n",
    "plt.title('Crosstab: Cluster vs. Dropout Status')\n",
    "# plt.ylabel('Cluster')\n",
    "plt.xlabel('F1EVERDO (Ever Dropped Out)')\n",
    "plt.show()"
   ]
  },
  {
   "cell_type": "code",
   "execution_count": 56,
   "id": "cd8548c8",
   "metadata": {},
   "outputs": [
    {
     "data": {
      "image/png": "[encoded data removed]",
      "text/plain": [
       "<Figure size 800x600 with 2 Axes>"
      ]
     },
     "metadata": {},
     "output_type": "display_data"
    }
   ],
   "source": [
    "weighted_crosstab = pd.crosstab(df_results['Cluster Labels'], df_results['F1EVERDO'], values=df_results['Weight'], aggfunc='sum')\n",
    "\n",
    "plt.figure(figsize=(8, 6))\n",
    "sns.heatmap(\n",
    "    weighted_crosstab,\n",
    "    annot=True,          # Display the numbers in the cells\n",
    "    fmt='.0f',           # Format numbers as integers (no decimals)\n",
    "    cmap='viridis',      # A color-blind friendly colormap\n",
    "    linewidths=.5,\n",
    "    xticklabels = ['0 - Not Dropped Out', '1 - Dropped Out']#,\n",
    "    # yticklabels = ['Cluster 1', 'Cluster 2']\n",
    ")\n",
    "plt.title('Weighted Crosstab: Cluster vs. Dropout Status')\n",
    "# plt.ylabel('Cluster')\n",
    "plt.xlabel('F1EVERDO (Ever Dropped Out)')\n",
    "plt.show()"
   ]
  },
  {
   "cell_type": "markdown",
   "id": "3677c399",
   "metadata": {},
   "source": [
    "Observing the weights per student participant in the original study, rather than row count as depicted in the first heatmap:\n",
    "- One gigantic cluster was generated, with outliers to it represented with the cluster label of `-1`.\n",
    "- Non-Dropouts (Column 0): The vast majority (3,023,941) of the U.S. sophomore student population from 2002 were placed inside the cluster, with a tiny fraction (48,958) registered as outliers.\n",
    "- Dropouts (Column 1): The vast majority of these students (300,187) were also placed in Cluster 1, with a smaller but still significant group (15,376) registered as outliers.\n",
    "\n",
    "This is relatively proportional to the number of sample non/dropout sample subjects in each cluster as depicted in the first heatmap.\n",
    "\n",
    "The key takeaway is that the DBSCAN algorithm, based on our selected exploratory variables, could not find a pattern to effectively isolate dropouts. It placed most students, regardless of dropout status, into one massive cluster, with more balance between dropouts and non-dropouts actually found outside of the cluster. This result strongly suggests that the exploratory variables used, while logical, do not contain strong enough signals to naturally separate students into groups that align with their dropout status. "
   ]
  }
 ],
 "metadata": {
  "kernelspec": {
   "display_name": "FOR CAP4770 FINAL",
   "language": "python",
   "name": "proj_env"
  },
  "language_info": {
   "codemirror_mode": {
    "name": "ipython",
    "version": 3
   },
   "file_extension": ".py",
   "mimetype": "text/x-python",
   "name": "python",
   "nbconvert_exporter": "python",
   "pygments_lexer": "ipython3",
   "version": "3.9.13"
  }
 },
 "nbformat": 4,
 "nbformat_minor": 5
}
