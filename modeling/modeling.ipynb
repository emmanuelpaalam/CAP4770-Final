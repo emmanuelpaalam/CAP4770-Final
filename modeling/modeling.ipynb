{
 "cells": [
  {
   "cell_type": "markdown",
   "id": "1fd106da",
   "metadata": {},
   "source": [
    "# Cluster Model Dev + Analysis\n",
    "### Author: Emmanuel Paalam\n",
    "### Date: 7/21/2025"
   ]
  },
  {
   "cell_type": "markdown",
   "id": "5a4cc332",
   "metadata": {},
   "source": [
    "This notebook documents the process of clustering and analyzing student data from the ELS:2002 study for a CAP4770 group project. It covers data extraction, cleaning, imputation, encoding, dimensionality reduction (PCA), clustering (K-Means), and evaluation of cluster performance in relation to student dropout status. The goal is to explore whether selected variables can effectively distinguish between dropouts and non-dropouts using unsupervised learning techniques."
   ]
  },
  {
   "cell_type": "markdown",
   "id": "85d576e8",
   "metadata": {},
   "source": [
    "The following reserve codes are used throughout the ECB. This description is added to the first variable of each section to helpusers understand the meaning of each reserve code.\n",
    "\n",
    "- -1: \"Don't know\" represents respondents who indicated that they didn't know the answer to the question.\n",
    "\n",
    "- -2: \"Refused\" represents respondents who indicated that they refused to answer the question\n",
    "\n",
    "- -3: \"Item legitimate skip/NA\" is filled for questions that are not administered based on routing logic; i.e., the items are not applicable based on responses to prior questions.\n",
    "\n",
    "- -4: \"Nonrespondent\" is filled for all variables across the entire questionnaire when a sample member did not respond to the questionnaire.\n",
    "\n",
    "- -5: \"Out of range\" represents questionnaire respondents who reported values that are out of range.\n",
    "\n",
    "- -6: \"Multiple response\" represents hard copy questionnaire respondents who reported more than one response for an item that requires only one response.\n",
    "\n",
    "- -7: \"Partial interview-breakoff\" is filled for questions that are not answered because the respondent does not wish to continue the interview or they have run out of time. This also includes particular items that are not included on an abbreviated version questionnaire.\n",
    "\n",
    "- -8: \"Survey component legitimate skip/NA\" is filled for all items within a survey component for sample members who were not administered that component by design for one of the following reasons: 1) the component was not administered based on their status (e.g., transfer students did not receive certain items on the in-school survey), 2) the sample member was not a part of the study at the time of administration (e.g., first follow-up freshened sample members were by definition not eligible for the base-year survey), or 3) the sample member was not capable of completing the survey component (e.g., students who were questionnaire-ineligible due to a language barrier or disability at the time of the survey).\n",
    "\n",
    "- -9: \"Missing\" is filled for questions that are not answered when the routing suggests that a response should have been provided."
   ]
  },
  {
   "cell_type": "markdown",
   "id": "b647749f",
   "metadata": {},
   "source": [
    "## Call MySQL table into environment"
   ]
  },
  {
   "cell_type": "code",
   "execution_count": 1,
   "id": "4681fc91",
   "metadata": {},
   "outputs": [
    {
     "name": "stdout",
     "output_type": "stream",
     "text": [
      "✅ Connection engine created successfully.\n",
      "✅ Data successfully loaded from 'els_2002_data' into a DataFrame.\n",
      "DataFrame shape: (14654, 42)\n"
     ]
    }
   ],
   "source": [
    "import pandas as pd\n",
    "from sqlalchemy import create_engine\n",
    "\n",
    "# --- 1. Database Connection Details ---\n",
    "# These should be the same as in your cleaning notebook.\n",
    "db_config = {\n",
    "    'user': 'root',\n",
    "    'password': 'orbit4*papers', # Replace with your password\n",
    "    'host': '127.0.0.1', # This means your local machine\n",
    "}\n",
    "\n",
    "db_name = 'els2002_selected_columns'\n",
    "table_name = 'els_2002_data'\n",
    "\n",
    "# --- 2. Create the Connection Engine ---\n",
    "# This engine is what allows pandas to communicate with your database.\n",
    "try:\n",
    "    engine_string = f\"mysql+mysqlconnector://{db_config['user']}:{db_config['password']}@{db_config['host']}/{db_name}\"\n",
    "    engine = create_engine(engine_string)\n",
    "    print(\"✅ Connection engine created successfully.\")\n",
    "\n",
    "except Exception as e:\n",
    "    print(f\"❌ Failed to create engine: {e}\")\n",
    "\n",
    "# --- 3. Write and Execute the SQL Query ---\n",
    "# This is a simple query to select everything from your table.\n",
    "query = f\"SELECT * FROM {table_name}\"\n",
    "\n",
    "try:\n",
    "    # Use pandas to execute the query and load the result into a DataFrame\n",
    "    df = pd.read_sql_query(query, engine)\n",
    "    \n",
    "    print(f\"✅ Data successfully loaded from '{table_name}' into a DataFrame.\")\n",
    "    print(\"DataFrame shape:\", df.shape)\n",
    "    \n",
    "except Exception as e:\n",
    "    print(f\"❌ Failed to load data from SQL: {e}\")\n",
    "\n",
    "engine.dispose()  # Close the connection to the database\n",
    "\n",
    "del db_config, query, table_name, db_name, engine_string"
   ]
  },
  {
   "cell_type": "markdown",
   "id": "6f691474",
   "metadata": {},
   "source": [
    "Alright, so at this point we've brought the table made off of the 42 selected variables from the raw ELS:2002 study (`pretable_clean.ipynv`) back in. Let's now work on the missing values that are present on them, in order to more successfully perform cluster analysis, and more generally prep the data for clustering."
   ]
  },
  {
   "cell_type": "markdown",
   "id": "4cfb5f97",
   "metadata": {},
   "source": [
    "## Post-subset + pre-PCA processing"
   ]
  },
  {
   "cell_type": "markdown",
   "id": "b151abed",
   "metadata": {},
   "source": [
    "K-means clustered is generally not recommended for mixed data, which is the style of dataset that we're working with here, and is intended to be used with numerical data only. To account for this, I opt to perform encoding on the categorical data in our \"raw\" subset to convert all categorical columns to a numerical, algorithm-friendly format.\n",
    "\n",
    "However, this ends up boosting the number of columns by a significant amount due to the types of encoding performed (e.g. one-hot encoding, which divvys up nominal columns to make binary vectors out of them), so I also engage with PCA to reduce dimensional complexity for clustering."
   ]
  },
  {
   "cell_type": "markdown",
   "id": "40445223",
   "metadata": {},
   "source": [
    "### Explicit NA search & replacement"
   ]
  },
  {
   "cell_type": "code",
   "execution_count": 2,
   "id": "bca19232",
   "metadata": {},
   "outputs": [
    {
     "name": "stderr",
     "output_type": "stream",
     "text": [
      "C:\\Users\\epaal\\AppData\\Local\\Temp\\ipykernel_20644\\2864311089.py:2: FutureWarning: DataFrame.applymap has been deprecated. Use DataFrame.map instead.\n",
      "  df_withnan = df.applymap(lambda x: np.nan if x in [-1, -2, -3, -4, -5, -6, -7, -8, -9] else x)\n"
     ]
    },
    {
     "data": {
      "application/vnd.microsoft.datawrangler.viewer.v0+json": {
       "columns": [
        {
         "name": "index",
         "rawType": "object",
         "type": "string"
        },
        {
         "name": "0",
         "rawType": "int64",
         "type": "integer"
        }
       ],
       "ref": "e792bcee-c658-4aec-9083-a00d4c7862d7",
       "rows": [
        [
         "STU_ID",
         "0"
        ],
        [
         "F1EVERDO",
         "0"
        ],
        [
         "F1PNLWT",
         "0"
        ],
        [
         "BYTXRSTD",
         "0"
        ],
        [
         "BYTXMSTD",
         "0"
        ],
        [
         "BYSCHPRG",
         "0"
        ],
        [
         "BYGRDRPT",
         "2411"
        ],
        [
         "BYS33A",
         "1422"
        ],
        [
         "BYS33D",
         "1663"
        ],
        [
         "BYS33E",
         "1694"
        ],
        [
         "BYS33H",
         "1453"
        ],
        [
         "BYHMWRK",
         "1182"
        ],
        [
         "BYXTRACU",
         "894"
        ],
        [
         "BYS24A",
         "1273"
        ],
        [
         "BYS24B",
         "1354"
        ],
        [
         "BYS24C",
         "1424"
        ],
        [
         "BYS38C",
         "1461"
        ],
        [
         "F1S31",
         "1271"
        ],
        [
         "BYSTEXP",
         "1948"
        ],
        [
         "F1STEXP",
         "0"
        ],
        [
         "BYSES1",
         "700"
        ],
        [
         "BYS89A",
         "4127"
        ],
        [
         "BYS89I",
         "4489"
        ],
        [
         "BYS89E",
         "4350"
        ],
        [
         "BYS89N",
         "4487"
        ],
        [
         "BYS20A",
         "1264"
        ],
        [
         "BYS20B",
         "1323"
        ],
        [
         "BYS20J",
         "1406"
        ],
        [
         "BYS20K",
         "1348"
        ],
        [
         "BYS90B",
         "4760"
        ],
        [
         "BYS90D",
         "4843"
        ],
        [
         "BYS90F",
         "4853"
        ],
        [
         "BYS90L",
         "4954"
        ],
        [
         "BYS91",
         "5328"
        ],
        [
         "BYINCOME",
         "0"
        ],
        [
         "F1MOTHED",
         "0"
        ],
        [
         "F1FATHED",
         "0"
        ],
        [
         "F1OCCUM",
         "0"
        ],
        [
         "F1OCCUF",
         "0"
        ],
        [
         "BYFCOMP",
         "648"
        ],
        [
         "F1FCOMP",
         "0"
        ],
        [
         "BYHOMLNG",
         "980"
        ]
       ],
       "shape": {
        "columns": 1,
        "rows": 42
       }
      },
      "text/plain": [
       "STU_ID         0\n",
       "F1EVERDO       0\n",
       "F1PNLWT        0\n",
       "BYTXRSTD       0\n",
       "BYTXMSTD       0\n",
       "BYSCHPRG       0\n",
       "BYGRDRPT    2411\n",
       "BYS33A      1422\n",
       "BYS33D      1663\n",
       "BYS33E      1694\n",
       "BYS33H      1453\n",
       "BYHMWRK     1182\n",
       "BYXTRACU     894\n",
       "BYS24A      1273\n",
       "BYS24B      1354\n",
       "BYS24C      1424\n",
       "BYS38C      1461\n",
       "F1S31       1271\n",
       "BYSTEXP     1948\n",
       "F1STEXP        0\n",
       "BYSES1       700\n",
       "BYS89A      4127\n",
       "BYS89I      4489\n",
       "BYS89E      4350\n",
       "BYS89N      4487\n",
       "BYS20A      1264\n",
       "BYS20B      1323\n",
       "BYS20J      1406\n",
       "BYS20K      1348\n",
       "BYS90B      4760\n",
       "BYS90D      4843\n",
       "BYS90F      4853\n",
       "BYS90L      4954\n",
       "BYS91       5328\n",
       "BYINCOME       0\n",
       "F1MOTHED       0\n",
       "F1FATHED       0\n",
       "F1OCCUM        0\n",
       "F1OCCUF        0\n",
       "BYFCOMP      648\n",
       "F1FCOMP        0\n",
       "BYHOMLNG     980\n",
       "dtype: int64"
      ]
     },
     "execution_count": 2,
     "metadata": {},
     "output_type": "execute_result"
    }
   ],
   "source": [
    "import numpy as np\n",
    "df_withnan = df.applymap(lambda x: np.nan if x in [-1, -2, -3, -4, -5, -6, -7, -8, -9] else x)\n",
    "\n",
    "for row in df_withnan['BYGRDRPT']: # this column expresses missings differently from the others\n",
    "    if row in [98, 99]:\n",
    "        df_withnan['BYGRDRPT'] = df_withnan['BYGRDRPT'].replace(row, np.nan)\n",
    "del row\n",
    "\n",
    "df_withnan.isna().sum()"
   ]
  },
  {
   "cell_type": "code",
   "execution_count": 3,
   "id": "7ee3802e",
   "metadata": {},
   "outputs": [],
   "source": [
    "from sklearn.experimental import enable_iterative_imputer  # noqa\n",
    "from sklearn.impute import IterativeImputer\n",
    "\n",
    "df_imputed = pd.DataFrame(IterativeImputer(max_iter=10, random_state=0).fit_transform(df_withnan), columns=df_withnan.columns)\n",
    "\n",
    "del df, df_withnan"
   ]
  },
  {
   "cell_type": "code",
   "execution_count": 4,
   "id": "3694e376",
   "metadata": {},
   "outputs": [
    {
     "data": {
      "application/vnd.microsoft.datawrangler.viewer.v0+json": {
       "columns": [
        {
         "name": "index",
         "rawType": "object",
         "type": "string"
        },
        {
         "name": "0",
         "rawType": "int64",
         "type": "integer"
        }
       ],
       "ref": "6ff33383-142a-4b91-86ed-3ab0aa9ed926",
       "rows": [
        [
         "STU_ID",
         "0"
        ],
        [
         "F1EVERDO",
         "0"
        ],
        [
         "F1PNLWT",
         "0"
        ],
        [
         "BYTXRSTD",
         "0"
        ],
        [
         "BYTXMSTD",
         "0"
        ],
        [
         "BYSCHPRG",
         "0"
        ],
        [
         "BYGRDRPT",
         "0"
        ],
        [
         "BYS33A",
         "0"
        ],
        [
         "BYS33D",
         "0"
        ],
        [
         "BYS33E",
         "0"
        ],
        [
         "BYS33H",
         "0"
        ],
        [
         "BYHMWRK",
         "0"
        ],
        [
         "BYXTRACU",
         "0"
        ],
        [
         "BYS24A",
         "0"
        ],
        [
         "BYS24B",
         "0"
        ],
        [
         "BYS24C",
         "0"
        ],
        [
         "BYS38C",
         "0"
        ],
        [
         "F1S31",
         "0"
        ],
        [
         "BYSTEXP",
         "0"
        ],
        [
         "F1STEXP",
         "0"
        ],
        [
         "BYSES1",
         "0"
        ],
        [
         "BYS89A",
         "0"
        ],
        [
         "BYS89I",
         "0"
        ],
        [
         "BYS89E",
         "0"
        ],
        [
         "BYS89N",
         "0"
        ],
        [
         "BYS20A",
         "0"
        ],
        [
         "BYS20B",
         "0"
        ],
        [
         "BYS20J",
         "0"
        ],
        [
         "BYS20K",
         "0"
        ],
        [
         "BYS90B",
         "0"
        ],
        [
         "BYS90D",
         "0"
        ],
        [
         "BYS90F",
         "0"
        ],
        [
         "BYS90L",
         "0"
        ],
        [
         "BYS91",
         "0"
        ],
        [
         "BYINCOME",
         "0"
        ],
        [
         "F1MOTHED",
         "0"
        ],
        [
         "F1FATHED",
         "0"
        ],
        [
         "F1OCCUM",
         "0"
        ],
        [
         "F1OCCUF",
         "0"
        ],
        [
         "BYFCOMP",
         "0"
        ],
        [
         "F1FCOMP",
         "0"
        ],
        [
         "BYHOMLNG",
         "0"
        ]
       ],
       "shape": {
        "columns": 1,
        "rows": 42
       }
      },
      "text/plain": [
       "STU_ID      0\n",
       "F1EVERDO    0\n",
       "F1PNLWT     0\n",
       "BYTXRSTD    0\n",
       "BYTXMSTD    0\n",
       "BYSCHPRG    0\n",
       "BYGRDRPT    0\n",
       "BYS33A      0\n",
       "BYS33D      0\n",
       "BYS33E      0\n",
       "BYS33H      0\n",
       "BYHMWRK     0\n",
       "BYXTRACU    0\n",
       "BYS24A      0\n",
       "BYS24B      0\n",
       "BYS24C      0\n",
       "BYS38C      0\n",
       "F1S31       0\n",
       "BYSTEXP     0\n",
       "F1STEXP     0\n",
       "BYSES1      0\n",
       "BYS89A      0\n",
       "BYS89I      0\n",
       "BYS89E      0\n",
       "BYS89N      0\n",
       "BYS20A      0\n",
       "BYS20B      0\n",
       "BYS20J      0\n",
       "BYS20K      0\n",
       "BYS90B      0\n",
       "BYS90D      0\n",
       "BYS90F      0\n",
       "BYS90L      0\n",
       "BYS91       0\n",
       "BYINCOME    0\n",
       "F1MOTHED    0\n",
       "F1FATHED    0\n",
       "F1OCCUM     0\n",
       "F1OCCUF     0\n",
       "BYFCOMP     0\n",
       "F1FCOMP     0\n",
       "BYHOMLNG    0\n",
       "dtype: int64"
      ]
     },
     "execution_count": 4,
     "metadata": {},
     "output_type": "execute_result"
    }
   ],
   "source": [
    "df_imputed.isna().sum()"
   ]
  },
  {
   "cell_type": "markdown",
   "id": "4ba3a898",
   "metadata": {},
   "source": [
    "### Preparatory work\n",
    "Let's first group columns together for encoding."
   ]
  },
  {
   "cell_type": "code",
   "execution_count": 5,
   "id": "63d4bb5c",
   "metadata": {},
   "outputs": [],
   "source": [
    "no_scale = ['F1EVERDO', 'STU_ID', 'F1PNLWT']\n",
    "\n",
    "num_cols = ['BYTXRSTD', 'BYTXMSTD', 'BYSES1', 'BYHMWRK', 'BYXTRACU']\n",
    "\n",
    "ord_cols = ['BYGRDRPT', 'BYS24A', 'BYS24B', 'BYS24C', 'BYS38C', 'F1S31', 'BYSTEXP', 'F1STEXP', 'BYS89A', 'BYS89I', 'BYS89E',\n",
    "            'BYS89N', 'BYS20A', 'BYS20B', 'BYS20J', 'BYS20K', 'BYS90B', 'BYS90D', 'BYS90F', 'BYS90L', 'BYS91', 'BYINCOME', 'F1MOTHED',\n",
    "            'F1FATHED', 'BYS33A', 'BYS33D', 'BYS33E', 'BYS33H']\n",
    "# NOTE: 'BYS33A', 'BYS33D', 'BYS33E', 'BYS33H' are binary but will ordinal encode for simplicity\n",
    "\n",
    "nom_cols = ['BYSCHPRG', 'F1OCCUM', 'F1OCCUF', 'BYFCOMP', 'F1FCOMP', 'BYHOMLNG']"
   ]
  },
  {
   "cell_type": "markdown",
   "id": "c050ac08",
   "metadata": {},
   "source": [
    "### Type recasting..."
   ]
  },
  {
   "cell_type": "markdown",
   "id": "713dc40b",
   "metadata": {},
   "source": [
    "Iterative Imputer is okay with inserting irrational floats into some of our categorical columns that have missings, so let's first round those to better reflect the original column nature, which will otherwise confuse the encoders."
   ]
  },
  {
   "cell_type": "code",
   "execution_count": 6,
   "id": "db9c8248",
   "metadata": {},
   "outputs": [],
   "source": [
    "for col in nom_cols + ord_cols:\n",
    "    df_imputed[col] = df_imputed[col].round(0).astype('int64')\n",
    "del col"
   ]
  },
  {
   "cell_type": "markdown",
   "id": "aea936ea",
   "metadata": {},
   "source": [
    "And F1EVERDO is a binary variable."
   ]
  },
  {
   "cell_type": "code",
   "execution_count": 7,
   "id": "f3e6f811",
   "metadata": {},
   "outputs": [],
   "source": [
    "df_imputed['F1EVERDO'] = df_imputed['F1EVERDO'].astype('int64')  # Ensure binary column is int64"
   ]
  },
  {
   "cell_type": "markdown",
   "id": "30c99df7",
   "metadata": {},
   "source": [
    "### Early variable exclusion to ensure proper clustering\n",
    "\n",
    "Remove variables we don't want to process (e.g. F1EVERDO, which is meant for post-cluster labelling - real glad we recast this one as well beforehand). What isn't popped is each study participant's exploratory data for clustering to be based off of.\n",
    "\n",
    "Due to the format of this dataset, we can easily recombine ID and target variables with any reformatted versions of the dataset left after popping them due to row-order preservation throughout the remaining parts of this clustering process."
   ]
  },
  {
   "cell_type": "code",
   "execution_count": 8,
   "id": "ebb8da92",
   "metadata": {},
   "outputs": [],
   "source": [
    "weight_var = df_imputed.pop('F1PNLWT')\n",
    "id_var = df_imputed.pop('STU_ID')\n",
    "target_var = df_imputed.pop('F1EVERDO')"
   ]
  },
  {
   "cell_type": "markdown",
   "id": "30d53076",
   "metadata": {},
   "source": [
    "### Time to encode!\n",
    "And then we'll actually do PCA."
   ]
  },
  {
   "cell_type": "code",
   "execution_count": 9,
   "id": "9461da0b",
   "metadata": {},
   "outputs": [],
   "source": [
    "from sklearn.preprocessing import OneHotEncoder, OrdinalEncoder, StandardScaler\n",
    "from sklearn.compose import ColumnTransformer\n",
    "\n",
    "preprocessor = ColumnTransformer(\n",
    "    transformers=[\n",
    "        ('ord', OrdinalEncoder(), ord_cols),\n",
    "        ('nom', OneHotEncoder(sparse_output=False), nom_cols),\n",
    "        ('num_cols', StandardScaler(), num_cols)\n",
    "    ], remainder='passthrough') # leave the no_scale columns as is\n",
    "\n",
    "df_processed = preprocessor.fit_transform(df_imputed)\n",
    "\n",
    "del ord_cols,nom_cols, num_cols, no_scale"
   ]
  },
  {
   "cell_type": "markdown",
   "id": "0fd3f8c3",
   "metadata": {},
   "source": [
    "## PCA\n",
    "\n",
    "Simple as that. This results in a 36-column ndarray, much shorter than the 96-column array of `df_processed`."
   ]
  },
  {
   "cell_type": "code",
   "execution_count": 10,
   "id": "46b0cd5b",
   "metadata": {},
   "outputs": [],
   "source": [
    "from sklearn.decomposition import PCA\n",
    "\n",
    "pca = PCA(n_components=0.95)  # Retain 95% of variance\n",
    "df_pca = pca.fit_transform(df_processed)"
   ]
  },
  {
   "cell_type": "markdown",
   "id": "f56f3bd7",
   "metadata": {},
   "source": [
    "## Clustering\n",
    "\n",
    "Having reduced our encoded data to its primary components, we can now go ahead with attempting clustering students into groups. We'll first, however, find the actual number of groups that we should attempt to cluster our de-identified (ID variables removed) data points into. Then we'll go with that number and cluster."
   ]
  },
  {
   "cell_type": "markdown",
   "id": "4eb800b8",
   "metadata": {},
   "source": [
    "### Find the best k-value: elbow method, silhouette score\n",
    "\n",
    "The next two cells use two popular methods to identify the best number of clusters (`k`) for K-means clustering:\n",
    "\n",
    "1. **Elbow Method**: Calculates the within-cluster sum of squares (inertia) for different values of `k` and plots them. The \"elbow\" point in the plot suggests an optimal `k` where adding more clusters yields diminishing returns in reducing inertia.\n",
    "\n",
    "2. **Silhouette Score**: Computes the silhouette score for each `k`, which measures how well each data point fits within its cluster. A higher silhouette score indicates better-defined clusters. The plot helps select the `k` that maximizes this score."
   ]
  },
  {
   "cell_type": "code",
   "execution_count": 11,
   "id": "32236881",
   "metadata": {},
   "outputs": [],
   "source": [
    "from sklearn.cluster import KMeans\n",
    "from matplotlib import pyplot as plt\n",
    "\n",
    "K = range(2, 13)"
   ]
  },
  {
   "cell_type": "code",
   "execution_count": 12,
   "id": "0259f32f",
   "metadata": {},
   "outputs": [
    {
     "data": {
      "image/png": "[encoded data removed]",
      "text/plain": [
       "<Figure size 800x500 with 1 Axes>"
      ]
     },
     "metadata": {},
     "output_type": "display_data"
    }
   ],
   "source": [
    "inertias = []\n",
    "\n",
    "for k in K:\n",
    "    kmeans = KMeans(n_clusters=k, n_init='auto', random_state=0)\n",
    "    kmeans.fit(df_pca)\n",
    "    inertias.append(kmeans.inertia_)\n",
    "\n",
    "plt.figure(figsize=(8, 5))\n",
    "plt.plot(K, inertias, 'bo-')\n",
    "plt.xlabel('Number of Clusters (k)')\n",
    "plt.ylabel('Inertia (WCSS)')\n",
    "plt.title('Elbow Method For Optimal k')\n",
    "plt.xticks(K)\n",
    "plt.grid(True)\n",
    "plt.show()"
   ]
  },
  {
   "cell_type": "markdown",
   "id": "01490007",
   "metadata": {},
   "source": [
    "Interesting...the elbow method isn't too great, seeing as the inertia of each cluster *steadily* decreases per increment of the number of clusters - we can't find a good optimal k-value without a sharp change in decline of this. Let's try something else...maybe silhouette scores?"
   ]
  },
  {
   "cell_type": "code",
   "execution_count": 13,
   "id": "48a2bcfe",
   "metadata": {},
   "outputs": [
    {
     "data": {
      "image/png": "[encoded data removed]",
      "text/plain": [
       "<Figure size 800x500 with 1 Axes>"
      ]
     },
     "metadata": {},
     "output_type": "display_data"
    }
   ],
   "source": [
    "from sklearn.metrics import silhouette_score\n",
    "\n",
    "scores = []\n",
    "\n",
    "for k in K:\n",
    "    kmeans = KMeans(n_clusters=k, n_init='auto', random_state=0)\n",
    "    kmeans.fit(df_pca)\n",
    "    score = silhouette_score(df_pca, kmeans.labels_)\n",
    "    scores.append(score)\n",
    "\n",
    "plt.figure(figsize=(8, 5))\n",
    "plt.plot(K, scores, 'bo-')\n",
    "plt.xlabel('Number of Clusters (k)')\n",
    "plt.ylabel('Silhouette Score')\n",
    "plt.title('Silhouette Scores for Each k')\n",
    "plt.xticks(K)\n",
    "plt.grid(True)\n",
    "plt.show()"
   ]
  },
  {
   "cell_type": "markdown",
   "id": "511e7090",
   "metadata": {},
   "source": [
    "This is also pretty questionable, but this does tell us that `k = 2` is the best option for *k* (if not by a lot) as a higher silhouette score indicates how well clusters' data points fit into their clusters. This, interestingly, descreases with an increase in intra-cluster distance minimization: as the silhouette score decreases per k-value increase, so does inertia."
   ]
  },
  {
   "cell_type": "markdown",
   "id": "8c21f4aa",
   "metadata": {},
   "source": [
    "### Final k-value label retrieval and cluster performance.\n",
    "\n",
    "We found that `k = 2` is the most preferrable option for our data, so let's now perform K-means clustering with that k-value."
   ]
  },
  {
   "cell_type": "code",
   "execution_count": 14,
   "id": "9500bc29",
   "metadata": {},
   "outputs": [
    {
     "data": {
      "text/plain": [
       "array([1, 0, 1, ..., 1, 1, 1], dtype=int32)"
      ]
     },
     "execution_count": 14,
     "metadata": {},
     "output_type": "execute_result"
    }
   ],
   "source": [
    "final_kmeans_model = KMeans(n_clusters=2, n_init='auto', random_state=0)  \n",
    "final_kmeans_model.fit_predict(df_pca)"
   ]
  },
  {
   "cell_type": "code",
   "execution_count": 15,
   "id": "f8931d2b",
   "metadata": {},
   "outputs": [],
   "source": [
    "df_results = pd.DataFrame({\n",
    "    'STU_ID': id_var,\n",
    "    'F1EVERDO': target_var,\n",
    "    'Prediction F1EVERDO': final_kmeans_model.labels_,\n",
    "    'Weight': weight_var\n",
    "})"
   ]
  },
  {
   "cell_type": "markdown",
   "id": "76387771",
   "metadata": {},
   "source": [
    "## Cross-tabulation\n",
    "\n",
    "Let's wrap this up and finally generate a cross tabulation table to see how well our exploratory variables work as detectors for a distinction between dropouts and non-dropouts."
   ]
  },
  {
   "cell_type": "code",
   "execution_count": 16,
   "id": "8e7023a4",
   "metadata": {},
   "outputs": [],
   "source": [
    "import seaborn as sns"
   ]
  },
  {
   "cell_type": "code",
   "execution_count": 17,
   "id": "10dd6ec9",
   "metadata": {},
   "outputs": [
    {
     "data": {
      "image/png": "[encoded data removed]",
      "text/plain": [
       "<Figure size 800x600 with 2 Axes>"
      ]
     },
     "metadata": {},
     "output_type": "display_data"
    }
   ],
   "source": [
    "basic_crosstab = pd.crosstab(df_results['F1EVERDO'], df_results['Prediction F1EVERDO'])\n",
    "\n",
    "plt.figure(figsize=(8, 6))\n",
    "sns.heatmap(\n",
    "    basic_crosstab,\n",
    "    annot=True,          # Display the numbers in the cells\n",
    "    fmt='.0f',           # Format numbers as integers (no decimals)\n",
    "    cmap='viridis',      # A color-blind friendly colormap\n",
    "    linewidths=.5,\n",
    "    xticklabels = ['0 - Not Dropped Out', '1 - Dropped Out'],\n",
    "    yticklabels = ['Cluster 1', 'Cluster 2']\n",
    ")\n",
    "plt.title('Crosstab: Cluster vs. Dropout Status')\n",
    "plt.ylabel('Cluster')\n",
    "plt.xlabel('F1EVERDO (Dropped Out)')\n",
    "plt.show()"
   ]
  },
  {
   "cell_type": "code",
   "execution_count": 18,
   "id": "f0982b61",
   "metadata": {},
   "outputs": [
    {
     "data": {
      "image/png": "[encoded data removed]",
      "text/plain": [
       "<Figure size 800x600 with 2 Axes>"
      ]
     },
     "metadata": {},
     "output_type": "display_data"
    }
   ],
   "source": [
    "weighted_crosstab = heatmap_data = pd.crosstab(df_results['F1EVERDO'], df_results['Prediction F1EVERDO'], values=df_results['Weight'], aggfunc='sum')\n",
    "\n",
    "plt.figure(figsize=(8, 6))\n",
    "sns.heatmap(\n",
    "    heatmap_data,\n",
    "    annot=True,          # Display the numbers in the cells\n",
    "    fmt='.0f',           # Format numbers as integers (no decimals)\n",
    "    cmap='viridis',      # A color-blind friendly colormap\n",
    "    linewidths=.5,\n",
    "    xticklabels = ['0 - Not Dropped Out', '1 - Dropped Out'],\n",
    "    yticklabels = ['Cluster 1', 'Cluster 2']\n",
    ")\n",
    "plt.title('Weighted Crosstab: Cluster vs. Dropout Status (Population Estimate)', fontsize=10)\n",
    "plt.ylabel('Cluster')\n",
    "plt.xlabel('F1EVERDO (Dropped Out)')\n",
    "plt.show()"
   ]
  },
  {
   "cell_type": "markdown",
   "id": "e22f9870",
   "metadata": {},
   "source": [
    "Observing the weights per student participant in the original study, rather than row count as depicted in the first heatmap:\n",
    "- Non-Dropouts (Column 0): The vast majority (1,345,751) of the U.S. sophomore student population from 2002 were placed in Cluster 1, with a tiny fraction (42,241) in Cluster 2.\n",
    "- Dropouts (Column 1): The vast majority of these students (1,727,148) were also placed in Cluster 1, with a smaller but still significant group (273,323) in Cluster 2.\n",
    "\n",
    "This is relatively proportional to the number of sample non/dropout sample subjects in each cluster as depicted in the first heatmap.\n",
    "\n",
    "The key takeaway is that the K-Means algorithm, based on our selected exploratory variables, could not find a pattern to effectively isolate dropouts. It placed most students, regardless of dropout status, into one massive \"Cluster 1\" and carved out a second, much smaller \"Cluster 2\" that contained a mix of both groups. This result strongly suggests that the exploratory variables used, while logical, do not contain strong enough signals to naturally separate students into groups that align with their dropout status. "
   ]
  }
 ],
 "metadata": {
  "kernelspec": {
   "display_name": "FOR CAP4770 FINAL",
   "language": "python",
   "name": "proj_env"
  },
  "language_info": {
   "codemirror_mode": {
    "name": "ipython",
    "version": 3
   },
   "file_extension": ".py",
   "mimetype": "text/x-python",
   "name": "python",
   "nbconvert_exporter": "python",
   "pygments_lexer": "ipython3",
   "version": "3.9.13"
  }
 },
 "nbformat": 4,
 "nbformat_minor": 5
}
