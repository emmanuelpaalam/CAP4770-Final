{
 "cells": [
  {
   "cell_type": "markdown",
   "id": "1fd106da",
   "metadata": {},
   "source": [
    "# Title?\n",
    "### Author: Emmanuel Paalam\n",
    "### Date: 7/21/2025"
   ]
  },
  {
   "cell_type": "markdown",
   "id": "85d576e8",
   "metadata": {},
   "source": [
    "Note: The following reserve codes are used throughout the ECB. This\n",
    "description is added to the first variable of each section to help\n",
    "users understand the meaning of each reserve code.\n",
    "\n",
    "- -1: \"Don't know\" represents respondents who indicated that they didn't\n",
    "know the answer to the question.\n",
    "\n",
    "- -2: \"Refused\" represents respondents who indicated that they refused\n",
    "to answer the question\n",
    "\n",
    "- -3: \"Item legitimate skip/NA\" is filled for questions that are not\n",
    "administered based on routing logic; i.e., the items are not\n",
    "applicable based on responses to prior questions.\n",
    "\n",
    "- -4: \"Nonrespondent\" is filled for all variables across the entire\n",
    "questionnaire when a sample member did not respond to the\n",
    "questionnaire.\n",
    "\n",
    "- -5: \"Out of range\" represents questionnaire respondents who\n",
    "reported values that are out of range.\n",
    "\n",
    "- -6: \"Multiple response\" represents hard copy questionnaire respondents\n",
    "who reported more than one response for an item that requires\n",
    "only one response.\n",
    "\n",
    "- -7: \"Partial interview-breakoff\" is filled for questions that are not\n",
    "answered because the respondent does not wish to continue the\n",
    "interview or they have run out of time. This also includes particular\n",
    "items that are not included on an abbreviated version questionnaire.\n",
    "\n",
    "- -8: \"Survey component legitimate skip/NA\" is filled for all items\n",
    "within a survey component for sample members who were not administered\n",
    "that component by design for one of the following reasons: 1) the\n",
    "component was not administered based on their status (e.g., transfer\n",
    "students did not receive certain items on the in-school survey), 2)\n",
    "the sample member was not a part of the study at the time of\n",
    "administration (e.g., first follow-up freshened sample members were by\n",
    "definition not eligible for the base-year survey), or 3) the sample\n",
    "member was not capable of completing the survey component (e.g.,\n",
    "students who were questionnaire-ineligible due to a language barrier\n",
    "or disability at the time of the survey).\n",
    "\n",
    "- -9: \"Missing\" is filled for questions that are not answered when the\n",
    "routing suggests that a response should have been provided."
   ]
  },
  {
   "cell_type": "markdown",
   "id": "b647749f",
   "metadata": {},
   "source": [
    "## Call MySQL table into environment"
   ]
  },
  {
   "cell_type": "code",
   "execution_count": null,
   "id": "4681fc91",
   "metadata": {},
   "outputs": [],
   "source": [
    "import pandas as pd\n",
    "from sqlalchemy import create_engine\n",
    "\n",
    "# --- 1. Database Connection Details ---\n",
    "# These should be the same as in your cleaning notebook.\n",
    "db_config = {\n",
    "    'user': 'root',\n",
    "    'password': 'orbit4*papers', # Replace with your password\n",
    "    'host': '127.0.0.1', # This means your local machine\n",
    "}\n",
    "\n",
    "db_name = 'els2002_selected_columns'\n",
    "table_name = 'els_2002_data'\n",
    "\n",
    "# --- 2. Create the Connection Engine ---\n",
    "# This engine is what allows pandas to communicate with your database.\n",
    "try:\n",
    "    engine_string = f\"mysql+mysqlconnector://{db_config['user']}:{db_config['password']}@{db_config['host']}/{db_name}\"\n",
    "    engine = create_engine(engine_string)\n",
    "    print(\"✅ Connection engine created successfully.\")\n",
    "\n",
    "except Exception as e:\n",
    "    print(f\"❌ Failed to create engine: {e}\")\n",
    "\n",
    "# --- 3. Write and Execute the SQL Query ---\n",
    "# This is a simple query to select everything from your table.\n",
    "query = f\"SELECT * FROM {table_name}\"\n",
    "\n",
    "try:\n",
    "    # Use pandas to execute the query and load the result into a DataFrame\n",
    "    df = pd.read_sql_query(query, engine)\n",
    "    \n",
    "    print(f\"✅ Data successfully loaded from '{table_name}' into a DataFrame.\")\n",
    "    print(\"DataFrame shape:\", df.shape)\n",
    "    \n",
    "except Exception as e:\n",
    "    print(f\"❌ Failed to load data from SQL: {e}\")\n",
    "\n",
    "# --- 4. You're Ready to Analyze! ---\n",
    "# You can now work with your new DataFrame.\n",
    "# For example, display the first few rows:\n",
    "df.head()"
   ]
  },
  {
   "cell_type": "markdown",
   "id": "4cfb5f97",
   "metadata": {},
   "source": [
    "## Post-subset + pre-analysis processing\n",
    "\n",
    "Alright, so at this point we've brought the table made off of the 42 selected variables from the raw ELS:2002 study (`pretable_clean.ipynv`) back in. "
   ]
  },
  {
   "cell_type": "code",
   "execution_count": null,
   "id": "bca19232",
   "metadata": {},
   "outputs": [],
   "source": [
    "import numpy as np\n",
    "df_withnan = df.applymap(lambda x: np.nan if x in [-1, -2, -3, -4, -5, -6, -7, -8, -9] else x)\n",
    "df_withnan.isna().sum()"
   ]
  }
 ],
 "metadata": {
  "kernelspec": {
   "display_name": "FOR CAP4770 FINAL",
   "language": "python",
   "name": "proj_env"
  },
  "language_info": {
   "codemirror_mode": {
    "name": "ipython",
    "version": 3
   },
   "file_extension": ".py",
   "mimetype": "text/x-python",
   "name": "python",
   "nbconvert_exporter": "python",
   "pygments_lexer": "ipython3",
   "version": "3.9.13"
  }
 },
 "nbformat": 4,
 "nbformat_minor": 5
}
