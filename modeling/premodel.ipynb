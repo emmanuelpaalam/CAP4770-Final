{
 "cells": [
  {
   "cell_type": "markdown",
   "id": "1fd106da",
   "metadata": {},
   "source": [
    "# Title?\n",
    "### Author: Emmanuel Paalam\n",
    "### Date: 7/21/2025"
   ]
  },
  {
   "cell_type": "markdown",
   "id": "85d576e8",
   "metadata": {},
   "source": [
    "Note: The following reserve codes are used throughout the ECB. This\n",
    "description is added to the first variable of each section to help\n",
    "users understand the meaning of each reserve code.\n",
    "\n",
    "- -1: \"Don't know\" represents respondents who indicated that they didn't\n",
    "know the answer to the question.\n",
    "\n",
    "- -2: \"Refused\" represents respondents who indicated that they refused\n",
    "to answer the question\n",
    "\n",
    "- -3: \"Item legitimate skip/NA\" is filled for questions that are not\n",
    "administered based on routing logic; i.e., the items are not\n",
    "applicable based on responses to prior questions.\n",
    "\n",
    "- -4: \"Nonrespondent\" is filled for all variables across the entire\n",
    "questionnaire when a sample member did not respond to the\n",
    "questionnaire.\n",
    "\n",
    "- -5: \"Out of range\" represents questionnaire respondents who\n",
    "reported values that are out of range.\n",
    "\n",
    "- -6: \"Multiple response\" represents hard copy questionnaire respondents\n",
    "who reported more than one response for an item that requires\n",
    "only one response.\n",
    "\n",
    "- -7: \"Partial interview-breakoff\" is filled for questions that are not\n",
    "answered because the respondent does not wish to continue the\n",
    "interview or they have run out of time. This also includes particular\n",
    "items that are not included on an abbreviated version questionnaire.\n",
    "\n",
    "- -8: \"Survey component legitimate skip/NA\" is filled for all items\n",
    "within a survey component for sample members who were not administered\n",
    "that component by design for one of the following reasons: 1) the\n",
    "component was not administered based on their status (e.g., transfer\n",
    "students did not receive certain items on the in-school survey), 2)\n",
    "the sample member was not a part of the study at the time of\n",
    "administration (e.g., first follow-up freshened sample members were by\n",
    "definition not eligible for the base-year survey), or 3) the sample\n",
    "member was not capable of completing the survey component (e.g.,\n",
    "students who were questionnaire-ineligible due to a language barrier\n",
    "or disability at the time of the survey).\n",
    "\n",
    "- -9: \"Missing\" is filled for questions that are not answered when the\n",
    "routing suggests that a response should have been provided."
   ]
  },
  {
   "cell_type": "markdown",
   "id": "b647749f",
   "metadata": {},
   "source": [
    "## Call MySQL table into environment"
   ]
  },
  {
   "cell_type": "code",
   "execution_count": 2,
   "id": "4681fc91",
   "metadata": {},
   "outputs": [
    {
     "name": "stdout",
     "output_type": "stream",
     "text": [
      "✅ Connection engine created successfully.\n",
      "✅ Data successfully loaded from 'els_2002_data' into a DataFrame.\n",
      "DataFrame shape: (14654, 42)\n"
     ]
    },
    {
     "data": {
      "application/vnd.microsoft.datawrangler.viewer.v0+json": {
       "columns": [
        {
         "name": "index",
         "rawType": "int64",
         "type": "integer"
        },
        {
         "name": "STU_ID",
         "rawType": "int64",
         "type": "integer"
        },
        {
         "name": "F1EVERDO",
         "rawType": "int64",
         "type": "integer"
        },
        {
         "name": "F1PNLWT",
         "rawType": "float64",
         "type": "float"
        },
        {
         "name": "BYTXRSTD",
         "rawType": "float64",
         "type": "float"
        },
        {
         "name": "BYTXMSTD",
         "rawType": "float64",
         "type": "float"
        },
        {
         "name": "BYSCHPRG",
         "rawType": "int64",
         "type": "integer"
        },
        {
         "name": "BYGRDRPT",
         "rawType": "int64",
         "type": "integer"
        },
        {
         "name": "BYS33A",
         "rawType": "int64",
         "type": "integer"
        },
        {
         "name": "BYS33D",
         "rawType": "int64",
         "type": "integer"
        },
        {
         "name": "BYS33E",
         "rawType": "int64",
         "type": "integer"
        },
        {
         "name": "BYS33H",
         "rawType": "int64",
         "type": "integer"
        },
        {
         "name": "BYHMWRK",
         "rawType": "int64",
         "type": "integer"
        },
        {
         "name": "BYXTRACU",
         "rawType": "int64",
         "type": "integer"
        },
        {
         "name": "BYS24A",
         "rawType": "int64",
         "type": "integer"
        },
        {
         "name": "BYS24B",
         "rawType": "int64",
         "type": "integer"
        },
        {
         "name": "BYS24C",
         "rawType": "int64",
         "type": "integer"
        },
        {
         "name": "BYS38C",
         "rawType": "int64",
         "type": "integer"
        },
        {
         "name": "F1S31",
         "rawType": "int64",
         "type": "integer"
        },
        {
         "name": "BYSTEXP",
         "rawType": "int64",
         "type": "integer"
        },
        {
         "name": "F1STEXP",
         "rawType": "int64",
         "type": "integer"
        },
        {
         "name": "BYSES1",
         "rawType": "float64",
         "type": "float"
        },
        {
         "name": "BYS89A",
         "rawType": "int64",
         "type": "integer"
        },
        {
         "name": "BYS89I",
         "rawType": "int64",
         "type": "integer"
        },
        {
         "name": "BYS89E",
         "rawType": "int64",
         "type": "integer"
        },
        {
         "name": "BYS89N",
         "rawType": "int64",
         "type": "integer"
        },
        {
         "name": "BYS20A",
         "rawType": "int64",
         "type": "integer"
        },
        {
         "name": "BYS20B",
         "rawType": "int64",
         "type": "integer"
        },
        {
         "name": "BYS20J",
         "rawType": "int64",
         "type": "integer"
        },
        {
         "name": "BYS20K",
         "rawType": "int64",
         "type": "integer"
        },
        {
         "name": "BYS90B",
         "rawType": "int64",
         "type": "integer"
        },
        {
         "name": "BYS90D",
         "rawType": "int64",
         "type": "integer"
        },
        {
         "name": "BYS90F",
         "rawType": "int64",
         "type": "integer"
        },
        {
         "name": "BYS90L",
         "rawType": "int64",
         "type": "integer"
        },
        {
         "name": "BYS91",
         "rawType": "int64",
         "type": "integer"
        },
        {
         "name": "BYINCOME",
         "rawType": "int64",
         "type": "integer"
        },
        {
         "name": "F1MOTHED",
         "rawType": "int64",
         "type": "integer"
        },
        {
         "name": "F1FATHED",
         "rawType": "int64",
         "type": "integer"
        },
        {
         "name": "F1OCCUM",
         "rawType": "int64",
         "type": "integer"
        },
        {
         "name": "F1OCCUF",
         "rawType": "int64",
         "type": "integer"
        },
        {
         "name": "BYFCOMP",
         "rawType": "int64",
         "type": "integer"
        },
        {
         "name": "F1FCOMP",
         "rawType": "int64",
         "type": "integer"
        },
        {
         "name": "BYHOMLNG",
         "rawType": "int64",
         "type": "integer"
        }
       ],
       "ref": "d20025ed-5b9f-423f-80f6-e3b69f91151f",
       "rows": [
        [
         "0",
         "101101",
         "0",
         "155.6312",
         "59.53",
         "52.11",
         "2",
         "0",
         "0",
         "0",
         "0",
         "0",
         "7",
         "1",
         "3",
         "3",
         "3",
         "2",
         "3",
         "3",
         "3",
         "-0.25",
         "2",
         "3",
         "1",
         "3",
         "2",
         "3",
         "3",
         "3",
         "2",
         "2",
         "3",
         "3",
         "2",
         "10",
         "1",
         "5",
         "8",
         "6",
         "3",
         "3",
         "1"
        ],
        [
         "1",
         "101102",
         "0",
         "25.4906",
         "56.7",
         "57.65",
         "2",
         "0",
         "0",
         "0",
         "0",
         "0",
         "5",
         "3",
         "3",
         "2",
         "2",
         "1",
         "6",
         "7",
         "8",
         "0.58",
         "4",
         "3",
         "3",
         "3",
         "2",
         "3",
         "3",
         "3",
         "3",
         "2",
         "3",
         "3",
         "2",
         "11",
         "5",
         "5",
         "0",
         "9",
         "1",
         "1",
         "4"
        ],
        [
         "2",
         "101104",
         "0",
         "725.6926",
         "64.46",
         "66.44",
         "2",
         "0",
         "0",
         "0",
         "0",
         "0",
         "-9",
         "2",
         "2",
         "1",
         "2",
         "2",
         "6",
         "-1",
         "6",
         "-0.85",
         "3",
         "2",
         "3",
         "3",
         "3",
         "3",
         "-9",
         "2",
         "2",
         "2",
         "3",
         "2",
         "1",
         "10",
         "2",
         "2",
         "5",
         "5",
         "1",
         "1",
         "1"
        ],
        [
         "3",
         "101105",
         "0",
         "205.1919",
         "48.69",
         "44.68",
         "2",
         "98",
         "0",
         "1",
         "1",
         "0",
         "11",
         "0",
         "2",
         "1",
         "3",
         "2",
         "4",
         "5",
         "6",
         "-0.8",
         "4",
         "4",
         "4",
         "4",
         "-9",
         "2",
         "-9",
         "2",
         "3",
         "3",
         "3",
         "3",
         "1",
         "2",
         "2",
         "2",
         "4",
         "6",
         "5",
         "5",
         "1"
        ],
        [
         "4",
         "101106",
         "0",
         "155.6312",
         "33.53",
         "40.57",
         "3",
         "0",
         "0",
         "1",
         "1",
         "0",
         "10",
         "0",
         "2",
         "1",
         "2",
         "4",
         "4",
         "5",
         "7",
         "-1.41",
         "2",
         "3",
         "3",
         "3",
         "2",
         "2",
         "3",
         "2",
         "3",
         "3",
         "3",
         "2",
         "1",
         "6",
         "1",
         "1",
         "8",
         "5",
         "1",
         "1",
         "2"
        ]
       ],
       "shape": {
        "columns": 42,
        "rows": 5
       }
      },
      "text/html": [
       "<div>\n",
       "<style scoped>\n",
       "    .dataframe tbody tr th:only-of-type {\n",
       "        vertical-align: middle;\n",
       "    }\n",
       "\n",
       "    .dataframe tbody tr th {\n",
       "        vertical-align: top;\n",
       "    }\n",
       "\n",
       "    .dataframe thead th {\n",
       "        text-align: right;\n",
       "    }\n",
       "</style>\n",
       "<table border=\"1\" class=\"dataframe\">\n",
       "  <thead>\n",
       "    <tr style=\"text-align: right;\">\n",
       "      <th></th>\n",
       "      <th>STU_ID</th>\n",
       "      <th>F1EVERDO</th>\n",
       "      <th>F1PNLWT</th>\n",
       "      <th>BYTXRSTD</th>\n",
       "      <th>BYTXMSTD</th>\n",
       "      <th>BYSCHPRG</th>\n",
       "      <th>BYGRDRPT</th>\n",
       "      <th>BYS33A</th>\n",
       "      <th>BYS33D</th>\n",
       "      <th>BYS33E</th>\n",
       "      <th>...</th>\n",
       "      <th>BYS90L</th>\n",
       "      <th>BYS91</th>\n",
       "      <th>BYINCOME</th>\n",
       "      <th>F1MOTHED</th>\n",
       "      <th>F1FATHED</th>\n",
       "      <th>F1OCCUM</th>\n",
       "      <th>F1OCCUF</th>\n",
       "      <th>BYFCOMP</th>\n",
       "      <th>F1FCOMP</th>\n",
       "      <th>BYHOMLNG</th>\n",
       "    </tr>\n",
       "  </thead>\n",
       "  <tbody>\n",
       "    <tr>\n",
       "      <th>0</th>\n",
       "      <td>101101</td>\n",
       "      <td>0</td>\n",
       "      <td>155.6312</td>\n",
       "      <td>59.53</td>\n",
       "      <td>52.11</td>\n",
       "      <td>2</td>\n",
       "      <td>0</td>\n",
       "      <td>0</td>\n",
       "      <td>0</td>\n",
       "      <td>0</td>\n",
       "      <td>...</td>\n",
       "      <td>3</td>\n",
       "      <td>2</td>\n",
       "      <td>10</td>\n",
       "      <td>1</td>\n",
       "      <td>5</td>\n",
       "      <td>8</td>\n",
       "      <td>6</td>\n",
       "      <td>3</td>\n",
       "      <td>3</td>\n",
       "      <td>1</td>\n",
       "    </tr>\n",
       "    <tr>\n",
       "      <th>1</th>\n",
       "      <td>101102</td>\n",
       "      <td>0</td>\n",
       "      <td>25.4906</td>\n",
       "      <td>56.70</td>\n",
       "      <td>57.65</td>\n",
       "      <td>2</td>\n",
       "      <td>0</td>\n",
       "      <td>0</td>\n",
       "      <td>0</td>\n",
       "      <td>0</td>\n",
       "      <td>...</td>\n",
       "      <td>3</td>\n",
       "      <td>2</td>\n",
       "      <td>11</td>\n",
       "      <td>5</td>\n",
       "      <td>5</td>\n",
       "      <td>0</td>\n",
       "      <td>9</td>\n",
       "      <td>1</td>\n",
       "      <td>1</td>\n",
       "      <td>4</td>\n",
       "    </tr>\n",
       "    <tr>\n",
       "      <th>2</th>\n",
       "      <td>101104</td>\n",
       "      <td>0</td>\n",
       "      <td>725.6926</td>\n",
       "      <td>64.46</td>\n",
       "      <td>66.44</td>\n",
       "      <td>2</td>\n",
       "      <td>0</td>\n",
       "      <td>0</td>\n",
       "      <td>0</td>\n",
       "      <td>0</td>\n",
       "      <td>...</td>\n",
       "      <td>2</td>\n",
       "      <td>1</td>\n",
       "      <td>10</td>\n",
       "      <td>2</td>\n",
       "      <td>2</td>\n",
       "      <td>5</td>\n",
       "      <td>5</td>\n",
       "      <td>1</td>\n",
       "      <td>1</td>\n",
       "      <td>1</td>\n",
       "    </tr>\n",
       "    <tr>\n",
       "      <th>3</th>\n",
       "      <td>101105</td>\n",
       "      <td>0</td>\n",
       "      <td>205.1919</td>\n",
       "      <td>48.69</td>\n",
       "      <td>44.68</td>\n",
       "      <td>2</td>\n",
       "      <td>98</td>\n",
       "      <td>0</td>\n",
       "      <td>1</td>\n",
       "      <td>1</td>\n",
       "      <td>...</td>\n",
       "      <td>3</td>\n",
       "      <td>1</td>\n",
       "      <td>2</td>\n",
       "      <td>2</td>\n",
       "      <td>2</td>\n",
       "      <td>4</td>\n",
       "      <td>6</td>\n",
       "      <td>5</td>\n",
       "      <td>5</td>\n",
       "      <td>1</td>\n",
       "    </tr>\n",
       "    <tr>\n",
       "      <th>4</th>\n",
       "      <td>101106</td>\n",
       "      <td>0</td>\n",
       "      <td>155.6312</td>\n",
       "      <td>33.53</td>\n",
       "      <td>40.57</td>\n",
       "      <td>3</td>\n",
       "      <td>0</td>\n",
       "      <td>0</td>\n",
       "      <td>1</td>\n",
       "      <td>1</td>\n",
       "      <td>...</td>\n",
       "      <td>2</td>\n",
       "      <td>1</td>\n",
       "      <td>6</td>\n",
       "      <td>1</td>\n",
       "      <td>1</td>\n",
       "      <td>8</td>\n",
       "      <td>5</td>\n",
       "      <td>1</td>\n",
       "      <td>1</td>\n",
       "      <td>2</td>\n",
       "    </tr>\n",
       "  </tbody>\n",
       "</table>\n",
       "<p>5 rows × 42 columns</p>\n",
       "</div>"
      ],
      "text/plain": [
       "   STU_ID  F1EVERDO   F1PNLWT  BYTXRSTD  BYTXMSTD  BYSCHPRG  BYGRDRPT  BYS33A  \\\n",
       "0  101101         0  155.6312     59.53     52.11         2         0       0   \n",
       "1  101102         0   25.4906     56.70     57.65         2         0       0   \n",
       "2  101104         0  725.6926     64.46     66.44         2         0       0   \n",
       "3  101105         0  205.1919     48.69     44.68         2        98       0   \n",
       "4  101106         0  155.6312     33.53     40.57         3         0       0   \n",
       "\n",
       "   BYS33D  BYS33E  ...  BYS90L  BYS91  BYINCOME  F1MOTHED  F1FATHED  F1OCCUM  \\\n",
       "0       0       0  ...       3      2        10         1         5        8   \n",
       "1       0       0  ...       3      2        11         5         5        0   \n",
       "2       0       0  ...       2      1        10         2         2        5   \n",
       "3       1       1  ...       3      1         2         2         2        4   \n",
       "4       1       1  ...       2      1         6         1         1        8   \n",
       "\n",
       "   F1OCCUF  BYFCOMP  F1FCOMP  BYHOMLNG  \n",
       "0        6        3        3         1  \n",
       "1        9        1        1         4  \n",
       "2        5        1        1         1  \n",
       "3        6        5        5         1  \n",
       "4        5        1        1         2  \n",
       "\n",
       "[5 rows x 42 columns]"
      ]
     },
     "execution_count": 2,
     "metadata": {},
     "output_type": "execute_result"
    }
   ],
   "source": [
    "import pandas as pd\n",
    "from sqlalchemy import create_engine\n",
    "\n",
    "# --- 1. Database Connection Details ---\n",
    "# These should be the same as in your cleaning notebook.\n",
    "db_config = {\n",
    "    'user': 'root',\n",
    "    'password': 'orbit4*papers', # Replace with your password\n",
    "    'host': '127.0.0.1', # This means your local machine\n",
    "}\n",
    "\n",
    "db_name = 'els2002_selected_columns'\n",
    "table_name = 'els_2002_data'\n",
    "\n",
    "# --- 2. Create the Connection Engine ---\n",
    "# This engine is what allows pandas to communicate with your database.\n",
    "try:\n",
    "    engine_string = f\"mysql+mysqlconnector://{db_config['user']}:{db_config['password']}@{db_config['host']}/{db_name}\"\n",
    "    engine = create_engine(engine_string)\n",
    "    print(\"✅ Connection engine created successfully.\")\n",
    "\n",
    "except Exception as e:\n",
    "    print(f\"❌ Failed to create engine: {e}\")\n",
    "\n",
    "# --- 3. Write and Execute the SQL Query ---\n",
    "# This is a simple query to select everything from your table.\n",
    "query = f\"SELECT * FROM {table_name}\"\n",
    "\n",
    "try:\n",
    "    # Use pandas to execute the query and load the result into a DataFrame\n",
    "    df = pd.read_sql_query(query, engine)\n",
    "    \n",
    "    print(f\"✅ Data successfully loaded from '{table_name}' into a DataFrame.\")\n",
    "    print(\"DataFrame shape:\", df.shape)\n",
    "    \n",
    "except Exception as e:\n",
    "    print(f\"❌ Failed to load data from SQL: {e}\")\n",
    "\n",
    "# --- 4. You're Ready to Analyze! ---\n",
    "# You can now work with your new DataFrame.\n",
    "# For example, display the first few rows:\n",
    "df.head()"
   ]
  },
  {
   "cell_type": "markdown",
   "id": "4cfb5f97",
   "metadata": {},
   "source": [
    "## Post-subset + pre-analysis processing\n",
    "\n",
    "Alright, so at this point we've brought the table made off of the 42 selected variables from the raw ELS:2002 study (`pretable_clean.ipynv`) back in. "
   ]
  },
  {
   "cell_type": "code",
   "execution_count": 3,
   "id": "bca19232",
   "metadata": {},
   "outputs": [
    {
     "name": "stderr",
     "output_type": "stream",
     "text": [
      "C:\\Users\\epaal\\AppData\\Local\\Temp\\ipykernel_7552\\2871671137.py:2: FutureWarning: DataFrame.applymap has been deprecated. Use DataFrame.map instead.\n",
      "  df_withnan = df.applymap(lambda x: np.nan if x in [-1, -2, -3, -4, -5, -6, -7, -8, -9] else x)\n"
     ]
    },
    {
     "data": {
      "application/vnd.microsoft.datawrangler.viewer.v0+json": {
       "columns": [
        {
         "name": "index",
         "rawType": "object",
         "type": "string"
        },
        {
         "name": "0",
         "rawType": "int64",
         "type": "integer"
        }
       ],
       "ref": "42860190-2878-4627-a5dd-9f3be7bf5078",
       "rows": [
        [
         "STU_ID",
         "0"
        ],
        [
         "F1EVERDO",
         "0"
        ],
        [
         "F1PNLWT",
         "0"
        ],
        [
         "BYTXRSTD",
         "0"
        ],
        [
         "BYTXMSTD",
         "0"
        ],
        [
         "BYSCHPRG",
         "0"
        ],
        [
         "BYGRDRPT",
         "0"
        ],
        [
         "BYS33A",
         "1422"
        ],
        [
         "BYS33D",
         "1663"
        ],
        [
         "BYS33E",
         "1694"
        ],
        [
         "BYS33H",
         "1453"
        ],
        [
         "BYHMWRK",
         "1182"
        ],
        [
         "BYXTRACU",
         "894"
        ],
        [
         "BYS24A",
         "1273"
        ],
        [
         "BYS24B",
         "1354"
        ],
        [
         "BYS24C",
         "1424"
        ],
        [
         "BYS38C",
         "1461"
        ],
        [
         "F1S31",
         "1271"
        ],
        [
         "BYSTEXP",
         "1948"
        ],
        [
         "F1STEXP",
         "0"
        ],
        [
         "BYSES1",
         "700"
        ],
        [
         "BYS89A",
         "4127"
        ],
        [
         "BYS89I",
         "4489"
        ],
        [
         "BYS89E",
         "4350"
        ],
        [
         "BYS89N",
         "4487"
        ],
        [
         "BYS20A",
         "1264"
        ],
        [
         "BYS20B",
         "1323"
        ],
        [
         "BYS20J",
         "1406"
        ],
        [
         "BYS20K",
         "1348"
        ],
        [
         "BYS90B",
         "4760"
        ],
        [
         "BYS90D",
         "4843"
        ],
        [
         "BYS90F",
         "4853"
        ],
        [
         "BYS90L",
         "4954"
        ],
        [
         "BYS91",
         "5328"
        ],
        [
         "BYINCOME",
         "0"
        ],
        [
         "F1MOTHED",
         "0"
        ],
        [
         "F1FATHED",
         "0"
        ],
        [
         "F1OCCUM",
         "0"
        ],
        [
         "F1OCCUF",
         "0"
        ],
        [
         "BYFCOMP",
         "648"
        ],
        [
         "F1FCOMP",
         "0"
        ],
        [
         "BYHOMLNG",
         "980"
        ]
       ],
       "shape": {
        "columns": 1,
        "rows": 42
       }
      },
      "text/plain": [
       "STU_ID         0\n",
       "F1EVERDO       0\n",
       "F1PNLWT        0\n",
       "BYTXRSTD       0\n",
       "BYTXMSTD       0\n",
       "BYSCHPRG       0\n",
       "BYGRDRPT       0\n",
       "BYS33A      1422\n",
       "BYS33D      1663\n",
       "BYS33E      1694\n",
       "BYS33H      1453\n",
       "BYHMWRK     1182\n",
       "BYXTRACU     894\n",
       "BYS24A      1273\n",
       "BYS24B      1354\n",
       "BYS24C      1424\n",
       "BYS38C      1461\n",
       "F1S31       1271\n",
       "BYSTEXP     1948\n",
       "F1STEXP        0\n",
       "BYSES1       700\n",
       "BYS89A      4127\n",
       "BYS89I      4489\n",
       "BYS89E      4350\n",
       "BYS89N      4487\n",
       "BYS20A      1264\n",
       "BYS20B      1323\n",
       "BYS20J      1406\n",
       "BYS20K      1348\n",
       "BYS90B      4760\n",
       "BYS90D      4843\n",
       "BYS90F      4853\n",
       "BYS90L      4954\n",
       "BYS91       5328\n",
       "BYINCOME       0\n",
       "F1MOTHED       0\n",
       "F1FATHED       0\n",
       "F1OCCUM        0\n",
       "F1OCCUF        0\n",
       "BYFCOMP      648\n",
       "F1FCOMP        0\n",
       "BYHOMLNG     980\n",
       "dtype: int64"
      ]
     },
     "execution_count": 3,
     "metadata": {},
     "output_type": "execute_result"
    }
   ],
   "source": [
    "import numpy as np\n",
    "df_withnan = df.applymap(lambda x: np.nan if x in [-1, -2, -3, -4, -5, -6, -7, -8, -9] else x)\n",
    "df_withnan.isna().sum()"
   ]
  }
 ],
 "metadata": {
  "kernelspec": {
   "display_name": "FOR CAP4770 FINAL",
   "language": "python",
   "name": "proj_env"
  },
  "language_info": {
   "codemirror_mode": {
    "name": "ipython",
    "version": 3
   },
   "file_extension": ".py",
   "mimetype": "text/x-python",
   "name": "python",
   "nbconvert_exporter": "python",
   "pygments_lexer": "ipython3",
   "version": "3.9.13"
  }
 },
 "nbformat": 4,
 "nbformat_minor": 5
}
